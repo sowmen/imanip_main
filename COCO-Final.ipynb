{
 "cells": [
  {
   "cell_type": "code",
   "execution_count": 1,
   "metadata": {},
   "outputs": [],
   "source": [
    "%load_ext autoreload\n",
    "%autoreload 2\n",
    "\n",
    "from pycocotools.coco import COCO\n",
    "import numpy as np\n",
    "import matplotlib.pyplot as plt\n",
    "#import Image\n",
    "from PIL import Image\n",
    "import cv2\n",
    "import random\n",
    "import collections\n",
    "from tqdm import tqdm\n",
    "import poisson_image_editing as poisson"
   ]
  },
  {
   "cell_type": "code",
   "execution_count": 2,
   "metadata": {},
   "outputs": [],
   "source": [
    "# dataDir='D:/IMANIP Datasets/COCO2017'\n",
    "# dataType='val2017'\n",
    "annFile='H:/Datasets/COCO/annotations/instances_train2014.json'"
   ]
  },
  {
   "cell_type": "code",
   "execution_count": 3,
   "metadata": {
    "scrolled": true
   },
   "outputs": [
    {
     "output_type": "stream",
     "name": "stdout",
     "text": [
      "loading annotations into memory...\n",
      "Done (t=26.31s)\n",
      "creating index...\n",
      "index created!\n",
      "82783\n"
     ]
    }
   ],
   "source": [
    "# initialize COCO api for instance annotations\n",
    "coco = COCO(annFile)\n",
    "print(len(coco.getImgIds()))"
   ]
  },
  {
   "cell_type": "code",
   "execution_count": 4,
   "metadata": {},
   "outputs": [
    {
     "output_type": "stream",
     "name": "stdout",
     "text": [
      "[('person', 1), ('bicycle', 2), ('car', 3), ('motorcycle', 4), ('airplane', 5), ('bus', 6), ('train', 7), ('truck', 8), ('boat', 9), ('traffic light', 10), ('fire hydrant', 11), ('stop sign', 13), ('parking meter', 14), ('bench', 15), ('bird', 16), ('cat', 17), ('dog', 18), ('horse', 19), ('sheep', 20), ('cow', 21), ('elephant', 22), ('bear', 23), ('zebra', 24), ('giraffe', 25), ('backpack', 27), ('umbrella', 28), ('handbag', 31), ('tie', 32), ('suitcase', 33), ('frisbee', 34), ('skis', 35), ('snowboard', 36), ('sports ball', 37), ('kite', 38), ('baseball bat', 39), ('baseball glove', 40), ('skateboard', 41), ('surfboard', 42), ('tennis racket', 43), ('bottle', 44), ('wine glass', 46), ('cup', 47), ('fork', 48), ('knife', 49), ('spoon', 50), ('bowl', 51), ('banana', 52), ('apple', 53), ('sandwich', 54), ('orange', 55), ('broccoli', 56), ('carrot', 57), ('hot dog', 58), ('pizza', 59), ('donut', 60), ('cake', 61), ('chair', 62), ('couch', 63), ('potted plant', 64), ('bed', 65), ('dining table', 67), ('toilet', 70), ('tv', 72), ('laptop', 73), ('mouse', 74), ('remote', 75), ('keyboard', 76), ('cell phone', 77), ('microwave', 78), ('oven', 79), ('toaster', 80), ('sink', 81), ('refrigerator', 82), ('book', 84), ('clock', 85), ('vase', 86), ('scissors', 87), ('teddy bear', 88), ('hair drier', 89), ('toothbrush', 90)]\n"
     ]
    }
   ],
   "source": [
    "cats = coco.loadCats(coco.getCatIds())\n",
    "nms=[(cat['name'],cat['id']) for cat in cats]\n",
    "print(nms)"
   ]
  },
  {
   "cell_type": "code",
   "execution_count": 5,
   "metadata": {},
   "outputs": [],
   "source": [
    "def findAnnotationMatchingCriteria(anns, imgdata, lowerCutoff=0.01, upperCutoff=0.35):\n",
    "    annotation_count = len(anns)    \n",
    "    toReturn = []\n",
    "    indexes = random.sample(range(annotation_count), annotation_count)\n",
    "    while len(indexes) > 0:\n",
    "        h,w,c = imgdata.shape\n",
    "        mask=coco.annToMask(anns[indexes.pop()])\n",
    "        forgedPixelsCount=collections.Counter(mask.flatten())[1]  \n",
    "        if forgedPixelsCount>=(h*w*lowerCutoff) and forgedPixelsCount<=(h*w*upperCutoff):\n",
    "            toReturn = mask\n",
    "            break\n",
    "        \n",
    "    return toReturn"
   ]
  },
  {
   "cell_type": "code",
   "execution_count": 6,
   "metadata": {},
   "outputs": [],
   "source": [
    "def getAffineTransformedMask(foreground, binarymask):\n",
    "    indices = np.where(binarymask == 1)\n",
    "    upper = np.min(indices[0])\n",
    "    lower = np.max(indices[0])\n",
    "    left = np.min(indices[1])\n",
    "    right = np.max(indices[1])\n",
    "    \n",
    "    width = right - left\n",
    "    height= lower - upper\n",
    "    n = random.randint(10,30)\n",
    "    hor_right = False if (binarymask.shape[1] - (right+ n +width)) <= 0 else True\n",
    "    hor_left = False if (left - (n+width)) <= 0 else True \n",
    "\n",
    "    side = \"\"\n",
    "    if hor_right == True and hor_left == True:\n",
    "        side=random.sample([\"R\",\"L\"],1)[0]\n",
    "        \n",
    "    elif hor_right == True and hor_left == False:\n",
    "        side = \"R\"\n",
    "\n",
    "    elif hor_right == False and hor_left == True:\n",
    "        side = \"L\"\n",
    "    else:\n",
    "        return([],[])\n",
    "\n",
    "    if side == \"L\":\n",
    "        S = -(width+n)\n",
    "    else:\n",
    "        S = width+n\n",
    "\n",
    "    v = 0    \n",
    "    lu = random.randint(0,1)\n",
    "    if((upper-10)>1 and (binarymask.shape[0]-lower-10) >1):\n",
    "        if lu == 1:\n",
    "            v = -random.randint(1,upper-10)\n",
    "        else:\n",
    "            v = random.randint(1,binarymask.shape[0]-lower-10)\n",
    "    elif (upper-10)>1 :\n",
    "        v = -random.randint(1,upper-10)\n",
    "    elif (binarymask.shape[0]-lower-10) >1:\n",
    "        v = random.randint(1,binarymask.shape[0]-lower-10)\n",
    "    else:\n",
    "        return([],[])\n",
    "        \n",
    "    rows,cols = binarymask.shape\n",
    "    new_binary_mask=[]\n",
    "    new_foreground=[]\n",
    "    M = np.float32([[1,0,S],[0,1,v]])\n",
    "    transformedForeground = cv2.warpAffine(foreground,M,(cols,rows))\n",
    "    transformedBinaryMask= cv2.warpAffine(binarymask,M,(cols,rows))\n",
    "    return(transformedForeground,transformedBinaryMask)\n",
    "        "
   ]
  },
  {
   "cell_type": "code",
   "execution_count": 7,
   "metadata": {},
   "outputs": [],
   "source": [
    "import imgaug.augmenters as iaa\n",
    "from PIL import ImageEnhance\n",
    "import random\n",
    "\n",
    "def change_brightness_cv(image):\n",
    "    aug = iaa.AddToBrightness((-50, 50))\n",
    "    image = aug.augment_image(image)\n",
    "    return image\n",
    "\n",
    "def change_brightness_PIL(image):\n",
    "    enhancer = ImageEnhance.Brightness(image)\n",
    "    im_output = enhancer.enhance(random.choice([0.5,0.6,0.7,0.8,0.9,1.1,1.2,1.3,1.4,1.5]))\n",
    "    return im_output"
   ]
  },
  {
   "cell_type": "code",
   "execution_count": 12,
   "metadata": {},
   "outputs": [
    {
     "output_type": "stream",
     "name": "stderr",
     "text": [
      "  0%|          | 33/82783 [00:25<18:01:11,  1.28it/s]\n"
     ]
    },
    {
     "output_type": "error",
     "ename": "KeyboardInterrupt",
     "evalue": "",
     "traceback": [
      "\u001b[1;31m---------------------------------------------------------------------------\u001b[0m",
      "\u001b[1;31mKeyboardInterrupt\u001b[0m                         Traceback (most recent call last)",
      "\u001b[1;32m<ipython-input-12-09771806cf03>\u001b[0m in \u001b[0;36m<module>\u001b[1;34m\u001b[0m\n\u001b[0;32m     53\u001b[0m             \u001b[0mtarget_img\u001b[0m \u001b[1;33m=\u001b[0m \u001b[0mnp\u001b[0m\u001b[1;33m.\u001b[0m\u001b[0marray\u001b[0m\u001b[1;33m(\u001b[0m\u001b[0mbackground\u001b[0m\u001b[1;33m)\u001b[0m\u001b[1;33m\u001b[0m\u001b[1;33m\u001b[0m\u001b[0m\n\u001b[0;32m     54\u001b[0m             \u001b[0mmask_img\u001b[0m \u001b[1;33m=\u001b[0m \u001b[0mnp\u001b[0m\u001b[1;33m.\u001b[0m\u001b[0marray\u001b[0m\u001b[1;33m(\u001b[0m\u001b[0mnew_binarymask\u001b[0m\u001b[1;33m)\u001b[0m\u001b[1;33m\u001b[0m\u001b[1;33m\u001b[0m\u001b[0m\n\u001b[1;32m---> 55\u001b[1;33m             \u001b[0mbackground\u001b[0m \u001b[1;33m=\u001b[0m \u001b[0mpoisson\u001b[0m\u001b[1;33m.\u001b[0m\u001b[0mpoisson_edit\u001b[0m\u001b[1;33m(\u001b[0m\u001b[0msource_img\u001b[0m\u001b[1;33m,\u001b[0m \u001b[0mnp\u001b[0m\u001b[1;33m.\u001b[0m\u001b[0mcopy\u001b[0m\u001b[1;33m(\u001b[0m\u001b[0mtarget_img\u001b[0m\u001b[1;33m)\u001b[0m\u001b[1;33m,\u001b[0m \u001b[0mmask_img\u001b[0m\u001b[1;33m)\u001b[0m\u001b[1;33m\u001b[0m\u001b[1;33m\u001b[0m\u001b[0m\n\u001b[0m\u001b[0;32m     56\u001b[0m             \u001b[0mbackground\u001b[0m \u001b[1;33m=\u001b[0m \u001b[0mImage\u001b[0m\u001b[1;33m.\u001b[0m\u001b[0mfromarray\u001b[0m\u001b[1;33m(\u001b[0m\u001b[0mbackground\u001b[0m\u001b[1;33m)\u001b[0m\u001b[1;33m\u001b[0m\u001b[1;33m\u001b[0m\u001b[0m\n\u001b[0;32m     57\u001b[0m         \u001b[1;32melse\u001b[0m\u001b[1;33m:\u001b[0m\u001b[1;33m\u001b[0m\u001b[1;33m\u001b[0m\u001b[0m\n",
      "\u001b[1;32md:\\image_manipulation\\poisson_image_editing.py\u001b[0m in \u001b[0;36mpoisson_edit\u001b[1;34m(source, target, mask, offset)\u001b[0m\n\u001b[0;32m     61\u001b[0m                 \u001b[0mk\u001b[0m \u001b[1;33m=\u001b[0m \u001b[0mx\u001b[0m \u001b[1;33m+\u001b[0m \u001b[0my\u001b[0m \u001b[1;33m*\u001b[0m \u001b[0mx_range\u001b[0m\u001b[1;33m\u001b[0m\u001b[1;33m\u001b[0m\u001b[0m\n\u001b[0;32m     62\u001b[0m                 \u001b[0mmat_A\u001b[0m\u001b[1;33m[\u001b[0m\u001b[0mk\u001b[0m\u001b[1;33m,\u001b[0m \u001b[0mk\u001b[0m\u001b[1;33m]\u001b[0m \u001b[1;33m=\u001b[0m \u001b[1;36m1\u001b[0m\u001b[1;33m\u001b[0m\u001b[1;33m\u001b[0m\u001b[0m\n\u001b[1;32m---> 63\u001b[1;33m                 \u001b[0mmat_A\u001b[0m\u001b[1;33m[\u001b[0m\u001b[0mk\u001b[0m\u001b[1;33m,\u001b[0m \u001b[0mk\u001b[0m \u001b[1;33m+\u001b[0m \u001b[1;36m1\u001b[0m\u001b[1;33m]\u001b[0m \u001b[1;33m=\u001b[0m \u001b[1;36m0\u001b[0m\u001b[1;33m\u001b[0m\u001b[1;33m\u001b[0m\u001b[0m\n\u001b[0m\u001b[0;32m     64\u001b[0m                 \u001b[0mmat_A\u001b[0m\u001b[1;33m[\u001b[0m\u001b[0mk\u001b[0m\u001b[1;33m,\u001b[0m \u001b[0mk\u001b[0m \u001b[1;33m-\u001b[0m \u001b[1;36m1\u001b[0m\u001b[1;33m]\u001b[0m \u001b[1;33m=\u001b[0m \u001b[1;36m0\u001b[0m\u001b[1;33m\u001b[0m\u001b[1;33m\u001b[0m\u001b[0m\n\u001b[0;32m     65\u001b[0m                 \u001b[0mmat_A\u001b[0m\u001b[1;33m[\u001b[0m\u001b[0mk\u001b[0m\u001b[1;33m,\u001b[0m \u001b[0mk\u001b[0m \u001b[1;33m+\u001b[0m \u001b[0mx_range\u001b[0m\u001b[1;33m]\u001b[0m \u001b[1;33m=\u001b[0m \u001b[1;36m0\u001b[0m\u001b[1;33m\u001b[0m\u001b[1;33m\u001b[0m\u001b[0m\n",
      "\u001b[1;32m~\\anaconda3\\envs\\dl-env\\lib\\site-packages\\scipy\\sparse\\lil.py\u001b[0m in \u001b[0;36m__setitem__\u001b[1;34m(self, key, x)\u001b[0m\n\u001b[0;32m    329\u001b[0m             \u001b[1;32mif\u001b[0m \u001b[0mx\u001b[0m\u001b[1;33m.\u001b[0m\u001b[0msize\u001b[0m \u001b[1;33m>\u001b[0m \u001b[1;36m1\u001b[0m\u001b[1;33m:\u001b[0m\u001b[1;33m\u001b[0m\u001b[1;33m\u001b[0m\u001b[0m\n\u001b[0;32m    330\u001b[0m                 \u001b[1;32mraise\u001b[0m \u001b[0mValueError\u001b[0m\u001b[1;33m(\u001b[0m\u001b[1;34m\"Trying to assign a sequence to an item\"\u001b[0m\u001b[1;33m)\u001b[0m\u001b[1;33m\u001b[0m\u001b[1;33m\u001b[0m\u001b[0m\n\u001b[1;32m--> 331\u001b[1;33m             \u001b[1;32mreturn\u001b[0m \u001b[0mself\u001b[0m\u001b[1;33m.\u001b[0m\u001b[0m_set_intXint\u001b[0m\u001b[1;33m(\u001b[0m\u001b[0mkey\u001b[0m\u001b[1;33m[\u001b[0m\u001b[1;36m0\u001b[0m\u001b[1;33m]\u001b[0m\u001b[1;33m,\u001b[0m \u001b[0mkey\u001b[0m\u001b[1;33m[\u001b[0m\u001b[1;36m1\u001b[0m\u001b[1;33m]\u001b[0m\u001b[1;33m,\u001b[0m \u001b[0mx\u001b[0m\u001b[1;33m)\u001b[0m\u001b[1;33m\u001b[0m\u001b[1;33m\u001b[0m\u001b[0m\n\u001b[0m\u001b[0;32m    332\u001b[0m         \u001b[1;31m# Everything else takes the normal path.\u001b[0m\u001b[1;33m\u001b[0m\u001b[1;33m\u001b[0m\u001b[1;33m\u001b[0m\u001b[0m\n\u001b[0;32m    333\u001b[0m         \u001b[0mIndexMixin\u001b[0m\u001b[1;33m.\u001b[0m\u001b[0m__setitem__\u001b[0m\u001b[1;33m(\u001b[0m\u001b[0mself\u001b[0m\u001b[1;33m,\u001b[0m \u001b[0mkey\u001b[0m\u001b[1;33m,\u001b[0m \u001b[0mx\u001b[0m\u001b[1;33m)\u001b[0m\u001b[1;33m\u001b[0m\u001b[1;33m\u001b[0m\u001b[0m\n",
      "\u001b[1;31mKeyboardInterrupt\u001b[0m: "
     ]
    }
   ],
   "source": [
    "data = []\n",
    "\n",
    "catIds = coco.getCatIds()\n",
    "imgIds = coco.getImgIds()\n",
    "file_name_list=[((coco.loadImgs(imid)[0])['file_name']) for imid in imgIds]\n",
    "fake_path='H:/Datasets/COCO/COCO2014_CMFD/fake/'\n",
    "mask_path='H:/Datasets/COCO/COCO2014_CMFD/mask/'\n",
    "\n",
    "for imgId, file_name in tqdm(zip(imgIds, file_name_list), total=len(file_name_list)):\n",
    "    if not os.path.exists(fake_path+file_name[:-4]+'_fake.jpg') and not os.path.exists(mask_path+file_name[:-4]+'_gt.jpg'):\n",
    "        imgdata = cv2.imread('H:/Datasets/COCO/train2014/'+file_name)\n",
    "        #Convert to RGB\n",
    "        b,g,r = cv2.split(imgdata)\n",
    "        if(np.array_equal(np.array(r),np.array(g)) and np.array_equal(np.array(r),np.array(b))):\n",
    "            continue #Exclude gray scale images\n",
    "        imgdata = cv2.merge([r,g,b])\n",
    "\n",
    "        annIds = coco.getAnnIds(imgIds=imgId, catIds=catIds, iscrowd=None)\n",
    "        anns = coco.loadAnns(annIds)\n",
    "        binarymask = findAnnotationMatchingCriteria(anns, imgdata)\n",
    "        \n",
    "        if len(binarymask)==0:\n",
    "            continue\n",
    "\n",
    "        foreground=imgdata.copy()        \n",
    "        foreground[:,:,0]=np.array(imgdata[:,:,0] * binarymask )\n",
    "        foreground[:,:,1]=np.array(imgdata[:,:,1] * binarymask )\n",
    "        foreground[:,:,2]=np.array(imgdata[:,:,2] * binarymask )\n",
    "\n",
    "        new_foreground , new_binarymask = getAffineTransformedMask(foreground, binarymask)\n",
    "        if(len(new_foreground)==0):\n",
    "            continue\n",
    "\n",
    "        background = Image.fromarray(imgdata,'RGB')\n",
    "        new_binarymask = Image.fromarray(new_binarymask*255)\n",
    "        \n",
    "        \n",
    "        if np.random.rand() < 0.35:\n",
    "            new_foreground_cv = Image.fromarray(new_foreground,'RGB')\n",
    "            datas = new_foreground_cv.getdata()\n",
    "            newData = []\n",
    "            for item in datas:\n",
    "                if item[0] == 0 and item[1] == 0 and item[2] == 0:\n",
    "                    newData.append((0, 0, 0, 0))\n",
    "                else:\n",
    "                    newData.append(item)\n",
    "            new_foreground_cv.putdata(newData)\n",
    "\n",
    "            source_img = np.array(new_foreground_cv)\n",
    "            target_img = np.array(background)\n",
    "            mask_img = np.array(new_binarymask)\n",
    "            background = poisson.poisson_edit(source_img, np.copy(target_img), mask_img)\n",
    "            background = Image.fromarray(background)\n",
    "        else:\n",
    "            new_foreground_PIL = Image.fromarray(new_foreground,'RGB').convert('RGBA')\n",
    "            datas = new_foreground_PIL.getdata()\n",
    "            newData = []\n",
    "            for item in datas:\n",
    "                if item[0] == 0 and item[1] == 0 and item[2] == 0:\n",
    "                    newData.append((0, 0, 0, 0))\n",
    "                else:\n",
    "                    newData.append(item)\n",
    "            new_foreground_PIL.putdata(newData)\n",
    "\n",
    "            if np.random.rand() < 0.35:\n",
    "                new_foreground_PIL = change_brightness_PIL(new_foreground_PIL)       \n",
    "            background.paste(new_foreground_PIL,(0,0),mask=new_foreground_PIL.split()[3])\n",
    "\n",
    "        # print(source_img.shape, target_img.shape, mask_img.shape)\n",
    "        # print(type(source_img))\n",
    "        # plt.figure()\n",
    "        # plt.imshow(source_img)\n",
    "        # plt.show()\n",
    "        # print(type(mask_img))\n",
    "        # plt.figure()\n",
    "        # plt.imshow(mask_img)\n",
    "        # plt.show()\n",
    "        # print(type(target_img))\n",
    "        # plt.figure()\n",
    "        # plt.imshow(target_img)\n",
    "        # plt.show()\n",
    "    \n",
    "\n",
    "        #foreground=foreground.resize((background.size[0],background.size[1]),Image.ANTIALIAS)\n",
    "        \n",
    "\n",
    "        # background=background.resize(size=(256,256))\n",
    "        # new_binarymask=new_binarymask.resize(size=(256,256))\n",
    "        if os.path.exists(fake_path+file_name[:-4]+'_fake.jpg'):\n",
    "            print(fake_path+file_name[:-4]+'_fake.jpg')\n",
    "            continue\n",
    "        \n",
    "        background.save(fake_path+file_name[:-4]+'_fake.jpg')\n",
    "        new_binarymask.save(mask_path+file_name[:-4]+'_gt.jpg')\n",
    "        data.append({\n",
    "            \"image_path\" : fake_path+file_name[:-4]+'_fake.jpg',\n",
    "            \"mask_path\" : mask_path+file_name[:-4]+'_gt.jpg'\n",
    "        })\n",
    "\n",
    "        # print(type(new_binarymask))\n",
    "        # plt.figure()\n",
    "        # plt.imshow(new_binarymask)\n",
    "        # plt.show()\n",
    "        # print(type(background))\n",
    "        # plt.figure()\n",
    "        # plt.imshow(background)\n",
    "        # plt.show()\n",
    "        # break"
   ]
  },
  {
   "cell_type": "code",
   "execution_count": 9,
   "metadata": {},
   "outputs": [],
   "source": [
    "files = os.listdir('Image_Manipulation_Dataset/COCO2017/val2017')"
   ]
  },
  {
   "cell_type": "code",
   "execution_count": 10,
   "metadata": {},
   "outputs": [
    {
     "output_type": "stream",
     "name": "stderr",
     "text": [
      "100%|██████████| 5000/5000 [00:00<00:00, 9385.00it/s]\n"
     ]
    }
   ],
   "source": [
    "fake_path='Image_Manipulation_Dataset/COCO2017/COCO_FORGED/fake'\n",
    "mask_path='Image_Manipulation_Dataset/COCO2017/COCO_FORGED/mask'\n",
    "not_done = []\n",
    "for x in tqdm.tqdm(files):\n",
    "    if not os.path.exists(os.path.join(fake_path, x[:-4]+'_fake.jpg')) and not os.path.exists(os.path.join(mask_path, x[:-4]+'_gt.jpg')):\n",
    "        not_done.append(x)"
   ]
  },
  {
   "cell_type": "code",
   "execution_count": 11,
   "metadata": {},
   "outputs": [
    {
     "output_type": "execute_result",
     "data": {
      "text/plain": [
       "1451"
      ]
     },
     "metadata": {},
     "execution_count": 11
    }
   ],
   "source": [
    "len(not_done)"
   ]
  }
 ],
 "metadata": {
  "kernelspec": {
   "name": "python385jvsc74a57bd03156587e146cf71b76c0cc333f04db32b8fefb824933b5d328e9d48ef74a064f",
   "display_name": "Python 3.8.5 64-bit ('dl-env': conda)"
  },
  "language_info": {
   "codemirror_mode": {
    "name": "ipython",
    "version": 3
   },
   "file_extension": ".py",
   "mimetype": "text/x-python",
   "name": "python",
   "nbconvert_exporter": "python",
   "pygments_lexer": "ipython3",
   "version": "3.8.5"
  }
 },
 "nbformat": 4,
 "nbformat_minor": 2
}