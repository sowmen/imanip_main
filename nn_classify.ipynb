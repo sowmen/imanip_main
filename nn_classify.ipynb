{
 "metadata": {
  "language_info": {
   "codemirror_mode": {
    "name": "ipython",
    "version": 3
   },
   "file_extension": ".py",
   "mimetype": "text/x-python",
   "name": "python",
   "nbconvert_exporter": "python",
   "pygments_lexer": "ipython3",
   "version": "3.7.6-final"
  },
  "orig_nbformat": 2,
  "kernelspec": {
   "name": "python3",
   "display_name": "Python 3.7.6 64-bit ('dfdcpy37env': conda)",
   "metadata": {
    "interpreter": {
     "hash": "ed42f63bef822c8320ac08590f49c46eb48ce4dfa30453265a23ce003f333a3b"
    }
   }
  }
 },
 "nbformat": 4,
 "nbformat_minor": 2,
 "cells": [
  {
   "cell_type": "code",
   "execution_count": 1,
   "metadata": {},
   "outputs": [],
   "source": [
    "import torch\n",
    "from torch import nn\n",
    "from torch.utils.data import Dataset, DataLoader\n",
    "from importlib import reload\n",
    "import cv2\n",
    "import numpy as np \n",
    "import matplotlib.pyplot as plt\n",
    "import pandas as pd\n",
    "from tqdm import tqdm\n",
    "\n",
    "import albumentations\n",
    "from albumentations import augmentations\n",
    "import albumentations.pytorch"
   ]
  },
  {
   "cell_type": "code",
   "execution_count": 2,
   "metadata": {},
   "outputs": [],
   "source": [
    "def feat_pool(feat: torch.tensor, operation: str):\n",
    "    \"\"\"\n",
    "    Fuses the image's patches feature representation\n",
    "    :param feat: The network object\n",
    "    :param operation: Either max or mean for the pooling operation\n",
    "    :returns: The final 256-D feature representation of the entire image\n",
    "    \"\"\"\n",
    "    if operation == \"max\":\n",
    "        return feat.max(axis=0)\n",
    "    elif operation == \"mean\":\n",
    "        return feat.mean(axis=0)\n",
    "    else:\n",
    "        raise Exception(\"The operation can be either mean or max\")"
   ]
  },
  {
   "cell_type": "code",
   "execution_count": 2,
   "metadata": {},
   "outputs": [],
   "source": [
    "df = pd.read_csv('all_features.csv')"
   ]
  },
  {
   "cell_type": "code",
   "execution_count": 4,
   "metadata": {},
   "outputs": [],
   "source": [
    "class FeatSet(Dataset):\n",
    "    def __init__(self, dataframe, mode, val_fold, test_fold):\n",
    "        super().__init__()\n",
    "\n",
    "        self.dataframe = dataframe\n",
    "        self.mode = mode\n",
    "        self.val_fold = val_fold\n",
    "        self.test_fold = test_fold\n",
    "\n",
    "        if self.mode == \"train\":\n",
    "            rows = self.dataframe[~self.dataframe[\"fold\"].isin([self.val_fold, self.test_fold])]\n",
    "        elif self.mode == \"val\":\n",
    "            rows = self.dataframe[self.dataframe[\"fold\"] == self.val_fold]\n",
    "        else:\n",
    "            rows = self.dataframe[self.dataframe[\"fold\"] == self.test_fold]\n",
    "\n",
    "        self.data = []\n",
    "\n",
    "        for row in tqdm(rows.values):\n",
    "            _, label, _, _, _, feature = row\n",
    "\n",
    "            feature_array = torch.load(feature)\n",
    "            self.data.append((feature_array, label))\n",
    "\n",
    "        np.random.shuffle(self.data)\n",
    "\n",
    "        print(\n",
    "            \"\\n\\nreal:{}, fakes:{}, mode = {}\".format(\n",
    "                len(rows[rows[\"label\"] == 0]), len(rows[rows[\"label\"] == 1]), self.mode\n",
    "            )\n",
    "        )\n",
    "\n",
    "    def __len__(self):\n",
    "        return len(self.data)\n",
    "\n",
    "    def __getitem__(self, index: int):\n",
    "\n",
    "        return {\n",
    "            \"feat\" : self.data[index][0],\n",
    "            \"label\" : self.data[index][1]\n",
    "        }"
   ]
  },
  {
   "cell_type": "code",
   "execution_count": 5,
   "metadata": {},
   "outputs": [
    {
     "output_type": "stream",
     "name": "stderr",
     "text": [
      "100%|██████████| 18684/18684 [00:06<00:00, 2909.54it/s]\n",
      "\n",
      "real:10511, fakes:8173, mode = train\n",
      "\n"
     ]
    }
   ],
   "source": [
    "train_dataset = FeatSet(df, \"train\", 0, 1)\n",
    "test_loader = DataLoader(test_dataset, batch_size=config.valid_batch_size, shuffle=True, num_workers=16, pin_memory=True, drop_last=False)"
   ]
  },
  {
   "cell_type": "code",
   "execution_count": 5,
   "metadata": {},
   "outputs": [
    {
     "output_type": "stream",
     "name": "stderr",
     "text": [
      "100%|██████████| 18684/18684 [00:05<00:00, 3148.58it/s]\n",
      "\n",
      "real:10511, fakes:8173, mode = train\n",
      "\n",
      "torch.Size([16, 5376])\n",
      "torch.Size([16])\n",
      "torch.Size([16, 1])\n"
     ]
    }
   ],
   "source": [
    "from classifier_dataset import Classifier_Dataset\n",
    "import classifier\n",
    "reload(classifier)\n",
    "from classifier import Classifier_Linear\n",
    "\n",
    "model = Classifier_Linear().cuda()\n",
    "\n",
    "train_dataset = Classifier_Dataset(\n",
    "    dataframe=df,\n",
    "    mode=\"train\",\n",
    "    val_fold=0,\n",
    "    test_fold=1\n",
    ")\n",
    "train_loader = DataLoader(train_dataset, batch_size=16, shuffle=True, num_workers=8, pin_memory=True)\n",
    "\n",
    "for batch in train_loader:\n",
    "    tensors = batch[\"tensor\"].cuda()\n",
    "    target_labels = batch[\"label\"].cuda()\n",
    "\n",
    "    print(tensors.shape)\n",
    "    print(target_labels.shape)\n",
    "\n",
    "    output = model(tensors)\n",
    "    print(output.shape)\n",
    "\n",
    "    break"
   ]
  }
 ]
}