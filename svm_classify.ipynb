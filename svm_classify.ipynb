{
 "metadata": {
  "language_info": {
   "codemirror_mode": {
    "name": "ipython",
    "version": 3
   },
   "file_extension": ".py",
   "mimetype": "text/x-python",
   "name": "python",
   "nbconvert_exporter": "python",
   "pygments_lexer": "ipython3",
   "version": "3.7.6-final"
  },
  "orig_nbformat": 2,
  "kernelspec": {
   "name": "python3",
   "display_name": "Python 3.7.6 64-bit ('dfdcpy37env': conda)",
   "metadata": {
    "interpreter": {
     "hash": "ed42f63bef822c8320ac08590f49c46eb48ce4dfa30453265a23ce003f333a3b"
    }
   }
  }
 },
 "nbformat": 4,
 "nbformat_minor": 2,
 "cells": [
  {
   "cell_type": "code",
   "execution_count": 1,
   "metadata": {},
   "outputs": [],
   "source": [
    "import torch\n",
    "from torch import nn\n",
    "from importlib import reload\n",
    "import cv2\n",
    "import numpy as np \n",
    "import matplotlib.pyplot as plt\n",
    "import pandas as pd\n",
    "from tqdm import tqdm\n",
    "\n",
    "import albumentations\n",
    "from albumentations import augmentations\n",
    "import albumentations.pytorch"
   ]
  },
  {
   "cell_type": "code",
   "execution_count": 8,
   "metadata": {},
   "outputs": [],
   "source": [
    "def feat_pool(feat: torch.tensor, operation: str):\n",
    "    \"\"\"\n",
    "    Fuses the image's patches feature representation\n",
    "    :param feat: The network object\n",
    "    :param operation: Either max or mean for the pooling operation\n",
    "    :returns: The final 256-D feature representation of the entire image\n",
    "    \"\"\"\n",
    "    if operation == \"max\":\n",
    "        return feat.max(axis=0)\n",
    "    elif operation == \"mean\":\n",
    "        return feat.mean(axis=0)\n",
    "    else:\n",
    "        raise Exception(\"The operation can be either mean or max\")"
   ]
  },
  {
   "cell_type": "code",
   "execution_count": 4,
   "metadata": {},
   "outputs": [],
   "source": [
    "df = pd.read_csv('all_features.csv')\n",
    "train_df = df[~df[\"fold\"].isin([1])]\n",
    "test_df = df[df[\"fold\"].isin([1])]"
   ]
  },
  {
   "cell_type": "code",
   "execution_count": 24,
   "metadata": {},
   "outputs": [],
   "source": [
    "trainX = []\n",
    "trainY = []\n",
    "testX = []\n",
    "testY = []"
   ]
  },
  {
   "cell_type": "code",
   "execution_count": 25,
   "metadata": {},
   "outputs": [
    {
     "output_type": "stream",
     "name": "stderr",
     "text": [
      "100%|██████████| 21096/21096 [00:09<00:00, 2301.29it/s]\n",
      "100%|██████████| 2412/2412 [00:01<00:00, 2065.20it/s]\n"
     ]
    }
   ],
   "source": [
    "for row in tqdm(train_df.values):\n",
    "    _, label, _, _, _, feature = row\n",
    "\n",
    "    feature_array = torch.load(feature)\n",
    "    condensed_feature = feat_pool(feature_array, \"mean\").numpy().reshape(1, -1)\n",
    "    trainX.append(condensed_feature)\n",
    "    trainY.append(label)\n",
    "\n",
    "for row in tqdm(test_df.values):\n",
    "    _, label, _, _, _, feature = row\n",
    "\n",
    "    feature_array = torch.load(feature)\n",
    "    condensed_feature = feat_pool(feature_array, \"mean\").numpy().reshape(1, -1)\n",
    "    testX.append(condensed_feature)\n",
    "    testY.append(label)"
   ]
  },
  {
   "cell_type": "code",
   "execution_count": 26,
   "metadata": {},
   "outputs": [
    {
     "output_type": "stream",
     "name": "stdout",
     "text": [
      "(21096, 256) (21096,)\n(2412, 256) (2412,)\n"
     ]
    }
   ],
   "source": [
    "XTrain = np.vstack(trainX)\n",
    "YTrain = np.array(trainY)\n",
    "print(XTrain.shape, YTrain.shape)\n",
    "\n",
    "XTest = np.vstack(testX)\n",
    "YTest = np.array(testY)\n",
    "print(XTest.shape, YTest.shape)"
   ]
  },
  {
   "cell_type": "code",
   "execution_count": 44,
   "metadata": {},
   "outputs": [
    {
     "output_type": "stream",
     "name": "stdout",
     "text": [
      "Fitting 10 folds for each of 312 candidates, totalling 3120 fits\n",
      "[Parallel(n_jobs=-1)]: Using backend LokyBackend with 32 concurrent workers.\n",
      "[Parallel(n_jobs=-1)]: Done   8 tasks      | elapsed:    1.6s\n",
      "[Parallel(n_jobs=-1)]: Done  21 tasks      | elapsed: 12.5min\n",
      "[Parallel(n_jobs=-1)]: Done  34 tasks      | elapsed: 12.8min\n",
      "[Parallel(n_jobs=-1)]: Done  49 tasks      | elapsed: 13.7min\n",
      "[Parallel(n_jobs=-1)]: Done  64 tasks      | elapsed: 24.1min\n",
      "[Parallel(n_jobs=-1)]: Done  81 tasks      | elapsed: 25.8min\n",
      "[Parallel(n_jobs=-1)]: Done  98 tasks      | elapsed: 26.4min\n",
      "[Parallel(n_jobs=-1)]: Done 117 tasks      | elapsed: 36.8min\n",
      "[Parallel(n_jobs=-1)]: Done 136 tasks      | elapsed: 38.3min\n",
      "[Parallel(n_jobs=-1)]: Done 157 tasks      | elapsed: 47.3min\n",
      "[Parallel(n_jobs=-1)]: Done 178 tasks      | elapsed: 48.9min\n",
      "[Parallel(n_jobs=-1)]: Done 201 tasks      | elapsed: 59.1min\n",
      "[Parallel(n_jobs=-1)]: Done 224 tasks      | elapsed: 62.3min\n",
      "[Parallel(n_jobs=-1)]: Done 249 tasks      | elapsed: 64.0min\n",
      "[Parallel(n_jobs=-1)]: Done 274 tasks      | elapsed: 71.7min\n",
      "[Parallel(n_jobs=-1)]: Done 301 tasks      | elapsed: 76.9min\n",
      "[Parallel(n_jobs=-1)]: Done 328 tasks      | elapsed: 85.0min\n",
      "[Parallel(n_jobs=-1)]: Done 357 tasks      | elapsed: 94.3min\n",
      "[Parallel(n_jobs=-1)]: Done 386 tasks      | elapsed: 100.1min\n",
      "[Parallel(n_jobs=-1)]: Done 417 tasks      | elapsed: 108.2min\n",
      "[Parallel(n_jobs=-1)]: Done 448 tasks      | elapsed: 112.9min\n",
      "[Parallel(n_jobs=-1)]: Done 481 tasks      | elapsed: 119.4min\n",
      "[Parallel(n_jobs=-1)]: Done 514 tasks      | elapsed: 122.9min\n",
      "[Parallel(n_jobs=-1)]: Done 549 tasks      | elapsed: 134.7min\n",
      "[Parallel(n_jobs=-1)]: Done 584 tasks      | elapsed: 146.7min\n",
      "[Parallel(n_jobs=-1)]: Done 621 tasks      | elapsed: 155.3min\n",
      "/home/sowmitra/anaconda3/envs/dfdcpy37env/lib/python3.7/site-packages/joblib/externals/loky/process_executor.py:706: UserWarning: A worker stopped while some jobs were given to the executor. This can be caused by a too short worker timeout or by a memory leak.\n",
      "  \"timeout or by a memory leak.\", UserWarning\n",
      "[Parallel(n_jobs=-1)]: Done 658 tasks      | elapsed: 160.1min\n",
      "[Parallel(n_jobs=-1)]: Done 697 tasks      | elapsed: 163.7min\n",
      "[Parallel(n_jobs=-1)]: Done 736 tasks      | elapsed: 173.4min\n",
      "[Parallel(n_jobs=-1)]: Done 777 tasks      | elapsed: 175.1min\n",
      "[Parallel(n_jobs=-1)]: Done 818 tasks      | elapsed: 186.7min\n",
      "[Parallel(n_jobs=-1)]: Done 861 tasks      | elapsed: 199.7min\n",
      "[Parallel(n_jobs=-1)]: Done 904 tasks      | elapsed: 208.2min\n",
      "[Parallel(n_jobs=-1)]: Done 949 tasks      | elapsed: 213.7min\n",
      "[Parallel(n_jobs=-1)]: Done 994 tasks      | elapsed: 219.3min\n",
      "[Parallel(n_jobs=-1)]: Done 1041 tasks      | elapsed: 228.3min\n",
      "[Parallel(n_jobs=-1)]: Done 1088 tasks      | elapsed: 239.7min\n",
      "[Parallel(n_jobs=-1)]: Done 1137 tasks      | elapsed: 248.2min\n",
      "[Parallel(n_jobs=-1)]: Done 1186 tasks      | elapsed: 256.2min\n",
      "[Parallel(n_jobs=-1)]: Done 1237 tasks      | elapsed: 259.7min\n",
      "[Parallel(n_jobs=-1)]: Done 1288 tasks      | elapsed: 263.6min\n",
      "[Parallel(n_jobs=-1)]: Done 1341 tasks      | elapsed: 276.6min\n",
      "[Parallel(n_jobs=-1)]: Done 1394 tasks      | elapsed: 287.3min\n",
      "[Parallel(n_jobs=-1)]: Done 1449 tasks      | elapsed: 291.9min\n",
      "[Parallel(n_jobs=-1)]: Done 1504 tasks      | elapsed: 296.3min\n",
      "[Parallel(n_jobs=-1)]: Done 1561 tasks      | elapsed: 306.7min\n",
      "[Parallel(n_jobs=-1)]: Done 1618 tasks      | elapsed: 316.2min\n",
      "[Parallel(n_jobs=-1)]: Done 1677 tasks      | elapsed: 322.3min\n",
      "[Parallel(n_jobs=-1)]: Done 1736 tasks      | elapsed: 329.5min\n",
      "[Parallel(n_jobs=-1)]: Done 1797 tasks      | elapsed: 337.4min\n",
      "[Parallel(n_jobs=-1)]: Done 1858 tasks      | elapsed: 349.3min\n",
      "[Parallel(n_jobs=-1)]: Done 1921 tasks      | elapsed: 359.0min\n",
      "[Parallel(n_jobs=-1)]: Done 1984 tasks      | elapsed: 364.1min\n",
      "[Parallel(n_jobs=-1)]: Done 2049 tasks      | elapsed: 375.4min\n",
      "[Parallel(n_jobs=-1)]: Done 2114 tasks      | elapsed: 387.1min\n",
      "[Parallel(n_jobs=-1)]: Done 2181 tasks      | elapsed: 396.6min\n",
      "[Parallel(n_jobs=-1)]: Done 2248 tasks      | elapsed: 400.4min\n",
      "[Parallel(n_jobs=-1)]: Done 2317 tasks      | elapsed: 412.8min\n",
      "[Parallel(n_jobs=-1)]: Done 2386 tasks      | elapsed: 429.2min\n",
      "[Parallel(n_jobs=-1)]: Done 2457 tasks      | elapsed: 433.5min\n",
      "[Parallel(n_jobs=-1)]: Done 2528 tasks      | elapsed: 442.2min\n",
      "[Parallel(n_jobs=-1)]: Done 2601 tasks      | elapsed: 457.6min\n",
      "[Parallel(n_jobs=-1)]: Done 2674 tasks      | elapsed: 468.7min\n",
      "[Parallel(n_jobs=-1)]: Done 2749 tasks      | elapsed: 475.5min\n",
      "[Parallel(n_jobs=-1)]: Done 2824 tasks      | elapsed: 490.6min\n",
      "[Parallel(n_jobs=-1)]: Done 2901 tasks      | elapsed: 506.5min\n",
      "[Parallel(n_jobs=-1)]: Done 2978 tasks      | elapsed: 511.5min\n",
      "[Parallel(n_jobs=-1)]: Done 3057 tasks      | elapsed: 524.0min\n",
      "[Parallel(n_jobs=-1)]: Done 3120 out of 3120 | elapsed: 553.3min finished\n",
      "/home/sowmitra/anaconda3/envs/dfdcpy37env/lib/python3.7/site-packages/sklearn/model_selection/_search.py:823: FutureWarning: The parameter 'iid' is deprecated in 0.22 and will be removed in 0.24.\n",
      "  \"removed in 0.24.\", FutureWarning\n",
      "Optimal hyper-parameters:  {'C': 10000, 'gamma': 0.1, 'kernel': 'rbf'}\n",
      "Accuracy : 0.9236845700776855\n"
     ]
    }
   ],
   "source": [
    "import SVM\n",
    "reload(SVM)\n",
    "\n",
    "hyper_params = [{\n",
    "    'kernel': ['rbf', 'poly', 'sgmoid'], \n",
    "    'gamma': [1.0, 0.1, 0.01, 0.001, 0.0001, 0.00001, 'scale', 'auto'], \n",
    "    'C': [0.001, 0.01, 0.1, 1, 10, 100, 1000, 3000, 5000, 10000, 30000, 50000, 100000]\n",
    "}]\n",
    "\n",
    "opt_params = SVM.optimize_hyperparams(XTrain, YTrain, params=hyper_params)\n",
    "# Optimal hyper-parameters:  {'C': 1000, 'gamma': 0.001, 'kernel': 'rbf'}\n",
    "#Optimal hyper-parameters:  {'C': 10000, 'gamma': 0.1, 'kernel': 'rbf'}"
   ]
  },
  {
   "cell_type": "code",
   "execution_count": 41,
   "metadata": {},
   "outputs": [
    {
     "output_type": "stream",
     "name": "stdout",
     "text": [
      "{'C': 1000, 'gamma': 0.001, 'kernel': 'rbf'}\n",
      "[Parallel(n_jobs=-1)]: Using backend LokyBackend with 32 concurrent workers.\n",
      "[Parallel(n_jobs=-1)]: Done   3 out of  10 | elapsed:   59.3s remaining:  2.3min\n",
      "[Parallel(n_jobs=-1)]: Done   5 out of  10 | elapsed:   59.8s remaining:   59.8s\n",
      "[Parallel(n_jobs=-1)]: Done   7 out of  10 | elapsed:  1.0min remaining:   26.1s\n",
      "[0.91516588 0.93459716 0.93175355 0.92748815 0.92511848 0.88862559\n",
      " 0.92982456 0.96111901 0.95495495 0.78757705]\n",
      "0.9156224396009879\n",
      "0.04668465253233848\n",
      "[Parallel(n_jobs=-1)]: Done  10 out of  10 | elapsed:  1.0min finished\n"
     ]
    }
   ],
   "source": [
    "import SVM\n",
    "reload(SVM)\n",
    "\n",
    "print(opt_params)\n",
    "SVM.classify(XTrain, YTrain, opt_params)"
   ]
  },
  {
   "cell_type": "code",
   "execution_count": 42,
   "metadata": {},
   "outputs": [
    {
     "output_type": "stream",
     "name": "stderr",
     "text": [
      "[Parallel(n_jobs=-1)]: Using backend LokyBackend with 32 concurrent workers.\n",
      "[Parallel(n_jobs=-1)]: Done   3 out of  10 | elapsed:  2.9min remaining:  6.7min\n",
      "[Parallel(n_jobs=-1)]: Done   5 out of  10 | elapsed:  3.2min remaining:  3.2min\n",
      "[Parallel(n_jobs=-1)]: Done   7 out of  10 | elapsed:  3.2min remaining:  1.4min\n",
      "[0.91137441 0.92654028 0.93033175 0.93127962 0.92606635 0.86824645\n",
      " 0.9544808  0.97771456 0.97771456 0.82503556]\n",
      "0.922878433434682\n",
      "0.04455629956450695\n",
      "[Parallel(n_jobs=-1)]: Done  10 out of  10 | elapsed:  3.4min finished\n"
     ]
    }
   ],
   "source": [
    "import SVM\n",
    "reload(SVM)\n",
    "\n",
    "params2 = {\n",
    "    'C' : 10000,\n",
    "    'gamma' : 'scale',\n",
    "    'kernel' : 'rbf'\n",
    "}\n",
    "SVM.classify(XTrain, YTrain, params2)"
   ]
  },
  {
   "cell_type": "code",
   "execution_count": 45,
   "metadata": {},
   "outputs": [
    {
     "output_type": "stream",
     "name": "stderr",
     "text": [
      "[Parallel(n_jobs=-1)]: Using backend LokyBackend with 32 concurrent workers.\n",
      "[Parallel(n_jobs=-1)]: Done   3 out of  10 | elapsed:  1.2min remaining:  2.7min\n",
      "[Parallel(n_jobs=-1)]: Done   5 out of  10 | elapsed:  1.2min remaining:  1.2min\n",
      "[Parallel(n_jobs=-1)]: Done   7 out of  10 | elapsed:  1.3min remaining:   32.4s\n",
      "[0.90995261 0.92606635 0.93080569 0.93080569 0.92559242 0.86919431\n",
      " 0.95590327 0.97913703 0.97866287 0.83072546]\n",
      "0.9236845700776855\n",
      "0.04364117107898635\n",
      "[Parallel(n_jobs=-1)]: Done  10 out of  10 | elapsed:  1.3min finished\n"
     ]
    }
   ],
   "source": [
    "import SVM\n",
    "reload(SVM)\n",
    "\n",
    "params3 = {'C': 10000, 'gamma': 0.1, 'kernel': 'rbf'}\n",
    "SVM.classify(XTrain, YTrain, params3)"
   ]
  },
  {
   "cell_type": "code",
   "execution_count": 46,
   "metadata": {},
   "outputs": [
    {
     "output_type": "stream",
     "name": "stdout",
     "text": [
      "Test Accuracy: 0.9067164179104478\nTrue negatives:  1245 False positives:  108 False negatives:  117 True positives:  942\n"
     ]
    },
    {
     "output_type": "display_data",
     "data": {
      "text/plain": "<Figure size 432x288 with 1 Axes>",
      "image/svg+xml": "<?xml version=\"1.0\" encoding=\"utf-8\" standalone=\"no\"?>\n<!DOCTYPE svg PUBLIC \"-//W3C//DTD SVG 1.1//EN\"\n  \"http://www.w3.org/Graphics/SVG/1.1/DTD/svg11.dtd\">\n<!-- Created with matplotlib (https://matplotlib.org/) -->\n<svg height=\"262.19625pt\" version=\"1.1\" viewBox=\"0 0 379.55625 262.19625\" width=\"379.55625pt\" xmlns=\"http://www.w3.org/2000/svg\" xmlns:xlink=\"http://www.w3.org/1999/xlink\">\n <metadata>\n  <rdf:RDF xmlns:cc=\"http://creativecommons.org/ns#\" xmlns:dc=\"http://purl.org/dc/elements/1.1/\" xmlns:rdf=\"http://www.w3.org/1999/02/22-rdf-syntax-ns#\">\n   <cc:Work>\n    <dc:type rdf:resource=\"http://purl.org/dc/dcmitype/StillImage\"/>\n    <dc:date>2021-03-17T00:22:54.437685</dc:date>\n    <dc:format>image/svg+xml</dc:format>\n    <dc:creator>\n     <cc:Agent>\n      <dc:title>Matplotlib v3.3.3, https://matplotlib.org/</dc:title>\n     </cc:Agent>\n    </dc:creator>\n   </cc:Work>\n  </rdf:RDF>\n </metadata>\n <defs>\n  <style type=\"text/css\">*{stroke-linecap:butt;stroke-linejoin:round;}</style>\n </defs>\n <g id=\"figure_1\">\n  <g id=\"patch_1\">\n   <path d=\"M 0 262.19625 \nL 379.55625 262.19625 \nL 379.55625 0 \nL 0 0 \nz\n\" style=\"fill:none;\"/>\n  </g>\n  <g id=\"axes_1\">\n   <g id=\"patch_2\">\n    <path d=\"M 37.55625 224.64 \nL 372.35625 224.64 \nL 372.35625 7.2 \nL 37.55625 7.2 \nz\n\" style=\"fill:#ffffff;\"/>\n   </g>\n   <g id=\"QuadMesh_1\">\n    <path clip-path=\"url(#pbbda9fde4e)\" d=\"M 37.55625 7.2 \nL 204.95625 7.2 \nL 204.95625 115.92 \nL 37.55625 115.92 \nL 37.55625 7.2 \n\" style=\"fill:#009fda;\"/>\n    <path clip-path=\"url(#pbbda9fde4e)\" d=\"M 204.95625 7.2 \nL 372.35625 7.2 \nL 372.35625 115.92 \nL 204.95625 115.92 \nL 204.95625 7.2 \n\" style=\"fill:#ed7d31;\"/>\n    <path clip-path=\"url(#pbbda9fde4e)\" d=\"M 37.55625 115.92 \nL 204.95625 115.92 \nL 204.95625 224.64 \nL 37.55625 224.64 \nL 37.55625 115.92 \n\" style=\"fill:#ed7d31;\"/>\n    <path clip-path=\"url(#pbbda9fde4e)\" d=\"M 204.95625 115.92 \nL 372.35625 115.92 \nL 372.35625 224.64 \nL 204.95625 224.64 \nL 204.95625 115.92 \n\" style=\"fill:#009fda;\"/>\n   </g>\n   <g id=\"matplotlib.axis_1\">\n    <g id=\"xtick_1\">\n     <g id=\"line2d_1\">\n      <defs>\n       <path d=\"M 0 0 \nL 0 3.5 \n\" id=\"ma6d209f2df\" style=\"stroke:#000000;stroke-width:0.8;\"/>\n      </defs>\n      <g>\n       <use style=\"stroke:#000000;stroke-width:0.8;\" x=\"121.25625\" xlink:href=\"#ma6d209f2df\" y=\"224.64\"/>\n      </g>\n     </g>\n     <g id=\"text_1\">\n      <!-- 0 -->\n      <g transform=\"translate(118.075 239.238437)scale(0.1 -0.1)\">\n       <defs>\n        <path d=\"M 31.78125 66.40625 \nQ 24.171875 66.40625 20.328125 58.90625 \nQ 16.5 51.421875 16.5 36.375 \nQ 16.5 21.390625 20.328125 13.890625 \nQ 24.171875 6.390625 31.78125 6.390625 \nQ 39.453125 6.390625 43.28125 13.890625 \nQ 47.125 21.390625 47.125 36.375 \nQ 47.125 51.421875 43.28125 58.90625 \nQ 39.453125 66.40625 31.78125 66.40625 \nz\nM 31.78125 74.21875 \nQ 44.046875 74.21875 50.515625 64.515625 \nQ 56.984375 54.828125 56.984375 36.375 \nQ 56.984375 17.96875 50.515625 8.265625 \nQ 44.046875 -1.421875 31.78125 -1.421875 \nQ 19.53125 -1.421875 13.0625 8.265625 \nQ 6.59375 17.96875 6.59375 36.375 \nQ 6.59375 54.828125 13.0625 64.515625 \nQ 19.53125 74.21875 31.78125 74.21875 \nz\n\" id=\"DejaVuSans-48\"/>\n       </defs>\n       <use xlink:href=\"#DejaVuSans-48\"/>\n      </g>\n     </g>\n    </g>\n    <g id=\"xtick_2\">\n     <g id=\"line2d_2\">\n      <g>\n       <use style=\"stroke:#000000;stroke-width:0.8;\" x=\"288.65625\" xlink:href=\"#ma6d209f2df\" y=\"224.64\"/>\n      </g>\n     </g>\n     <g id=\"text_2\">\n      <!-- 1 -->\n      <g transform=\"translate(285.475 239.238437)scale(0.1 -0.1)\">\n       <defs>\n        <path d=\"M 12.40625 8.296875 \nL 28.515625 8.296875 \nL 28.515625 63.921875 \nL 10.984375 60.40625 \nL 10.984375 69.390625 \nL 28.421875 72.90625 \nL 38.28125 72.90625 \nL 38.28125 8.296875 \nL 54.390625 8.296875 \nL 54.390625 0 \nL 12.40625 0 \nz\n\" id=\"DejaVuSans-49\"/>\n       </defs>\n       <use xlink:href=\"#DejaVuSans-49\"/>\n      </g>\n     </g>\n    </g>\n    <g id=\"text_3\">\n     <!-- Predicted -->\n     <g transform=\"translate(181.485938 252.916562)scale(0.1 -0.1)\">\n      <defs>\n       <path d=\"M 19.671875 64.796875 \nL 19.671875 37.40625 \nL 32.078125 37.40625 \nQ 38.96875 37.40625 42.71875 40.96875 \nQ 46.484375 44.53125 46.484375 51.125 \nQ 46.484375 57.671875 42.71875 61.234375 \nQ 38.96875 64.796875 32.078125 64.796875 \nz\nM 9.8125 72.90625 \nL 32.078125 72.90625 \nQ 44.34375 72.90625 50.609375 67.359375 \nQ 56.890625 61.8125 56.890625 51.125 \nQ 56.890625 40.328125 50.609375 34.8125 \nQ 44.34375 29.296875 32.078125 29.296875 \nL 19.671875 29.296875 \nL 19.671875 0 \nL 9.8125 0 \nz\n\" id=\"DejaVuSans-80\"/>\n       <path d=\"M 41.109375 46.296875 \nQ 39.59375 47.171875 37.8125 47.578125 \nQ 36.03125 48 33.890625 48 \nQ 26.265625 48 22.1875 43.046875 \nQ 18.109375 38.09375 18.109375 28.8125 \nL 18.109375 0 \nL 9.078125 0 \nL 9.078125 54.6875 \nL 18.109375 54.6875 \nL 18.109375 46.1875 \nQ 20.953125 51.171875 25.484375 53.578125 \nQ 30.03125 56 36.53125 56 \nQ 37.453125 56 38.578125 55.875 \nQ 39.703125 55.765625 41.0625 55.515625 \nz\n\" id=\"DejaVuSans-114\"/>\n       <path d=\"M 56.203125 29.59375 \nL 56.203125 25.203125 \nL 14.890625 25.203125 \nQ 15.484375 15.921875 20.484375 11.0625 \nQ 25.484375 6.203125 34.421875 6.203125 \nQ 39.59375 6.203125 44.453125 7.46875 \nQ 49.3125 8.734375 54.109375 11.28125 \nL 54.109375 2.78125 \nQ 49.265625 0.734375 44.1875 -0.34375 \nQ 39.109375 -1.421875 33.890625 -1.421875 \nQ 20.796875 -1.421875 13.15625 6.1875 \nQ 5.515625 13.8125 5.515625 26.8125 \nQ 5.515625 40.234375 12.765625 48.109375 \nQ 20.015625 56 32.328125 56 \nQ 43.359375 56 49.78125 48.890625 \nQ 56.203125 41.796875 56.203125 29.59375 \nz\nM 47.21875 32.234375 \nQ 47.125 39.59375 43.09375 43.984375 \nQ 39.0625 48.390625 32.421875 48.390625 \nQ 24.90625 48.390625 20.390625 44.140625 \nQ 15.875 39.890625 15.1875 32.171875 \nz\n\" id=\"DejaVuSans-101\"/>\n       <path d=\"M 45.40625 46.390625 \nL 45.40625 75.984375 \nL 54.390625 75.984375 \nL 54.390625 0 \nL 45.40625 0 \nL 45.40625 8.203125 \nQ 42.578125 3.328125 38.25 0.953125 \nQ 33.9375 -1.421875 27.875 -1.421875 \nQ 17.96875 -1.421875 11.734375 6.484375 \nQ 5.515625 14.40625 5.515625 27.296875 \nQ 5.515625 40.1875 11.734375 48.09375 \nQ 17.96875 56 27.875 56 \nQ 33.9375 56 38.25 53.625 \nQ 42.578125 51.265625 45.40625 46.390625 \nz\nM 14.796875 27.296875 \nQ 14.796875 17.390625 18.875 11.75 \nQ 22.953125 6.109375 30.078125 6.109375 \nQ 37.203125 6.109375 41.296875 11.75 \nQ 45.40625 17.390625 45.40625 27.296875 \nQ 45.40625 37.203125 41.296875 42.84375 \nQ 37.203125 48.484375 30.078125 48.484375 \nQ 22.953125 48.484375 18.875 42.84375 \nQ 14.796875 37.203125 14.796875 27.296875 \nz\n\" id=\"DejaVuSans-100\"/>\n       <path d=\"M 9.421875 54.6875 \nL 18.40625 54.6875 \nL 18.40625 0 \nL 9.421875 0 \nz\nM 9.421875 75.984375 \nL 18.40625 75.984375 \nL 18.40625 64.59375 \nL 9.421875 64.59375 \nz\n\" id=\"DejaVuSans-105\"/>\n       <path d=\"M 48.78125 52.59375 \nL 48.78125 44.1875 \nQ 44.96875 46.296875 41.140625 47.34375 \nQ 37.3125 48.390625 33.40625 48.390625 \nQ 24.65625 48.390625 19.8125 42.84375 \nQ 14.984375 37.3125 14.984375 27.296875 \nQ 14.984375 17.28125 19.8125 11.734375 \nQ 24.65625 6.203125 33.40625 6.203125 \nQ 37.3125 6.203125 41.140625 7.25 \nQ 44.96875 8.296875 48.78125 10.40625 \nL 48.78125 2.09375 \nQ 45.015625 0.34375 40.984375 -0.53125 \nQ 36.96875 -1.421875 32.421875 -1.421875 \nQ 20.0625 -1.421875 12.78125 6.34375 \nQ 5.515625 14.109375 5.515625 27.296875 \nQ 5.515625 40.671875 12.859375 48.328125 \nQ 20.21875 56 33.015625 56 \nQ 37.15625 56 41.109375 55.140625 \nQ 45.0625 54.296875 48.78125 52.59375 \nz\n\" id=\"DejaVuSans-99\"/>\n       <path d=\"M 18.3125 70.21875 \nL 18.3125 54.6875 \nL 36.8125 54.6875 \nL 36.8125 47.703125 \nL 18.3125 47.703125 \nL 18.3125 18.015625 \nQ 18.3125 11.328125 20.140625 9.421875 \nQ 21.96875 7.515625 27.59375 7.515625 \nL 36.8125 7.515625 \nL 36.8125 0 \nL 27.59375 0 \nQ 17.1875 0 13.234375 3.875 \nQ 9.28125 7.765625 9.28125 18.015625 \nL 9.28125 47.703125 \nL 2.6875 47.703125 \nL 2.6875 54.6875 \nL 9.28125 54.6875 \nL 9.28125 70.21875 \nz\n\" id=\"DejaVuSans-116\"/>\n      </defs>\n      <use xlink:href=\"#DejaVuSans-80\"/>\n      <use x=\"58.552734\" xlink:href=\"#DejaVuSans-114\"/>\n      <use x=\"97.416016\" xlink:href=\"#DejaVuSans-101\"/>\n      <use x=\"158.939453\" xlink:href=\"#DejaVuSans-100\"/>\n      <use x=\"222.416016\" xlink:href=\"#DejaVuSans-105\"/>\n      <use x=\"250.199219\" xlink:href=\"#DejaVuSans-99\"/>\n      <use x=\"305.179688\" xlink:href=\"#DejaVuSans-116\"/>\n      <use x=\"344.388672\" xlink:href=\"#DejaVuSans-101\"/>\n      <use x=\"405.912109\" xlink:href=\"#DejaVuSans-100\"/>\n     </g>\n    </g>\n   </g>\n   <g id=\"matplotlib.axis_2\">\n    <g id=\"ytick_1\">\n     <g id=\"line2d_3\">\n      <defs>\n       <path d=\"M 0 0 \nL -3.5 0 \n\" id=\"mefc95c6f96\" style=\"stroke:#000000;stroke-width:0.8;\"/>\n      </defs>\n      <g>\n       <use style=\"stroke:#000000;stroke-width:0.8;\" x=\"37.55625\" xlink:href=\"#mefc95c6f96\" y=\"61.56\"/>\n      </g>\n     </g>\n     <g id=\"text_4\">\n      <!-- 0 -->\n      <g transform=\"translate(28.476563 64.123281)rotate(-90)scale(0.1 -0.1)\">\n       <use xlink:href=\"#DejaVuSans-48\"/>\n      </g>\n     </g>\n    </g>\n    <g id=\"ytick_2\">\n     <g id=\"line2d_4\">\n      <g>\n       <use style=\"stroke:#000000;stroke-width:0.8;\" x=\"37.55625\" xlink:href=\"#mefc95c6f96\" y=\"170.28\"/>\n      </g>\n     </g>\n     <g id=\"text_5\">\n      <!-- 1 -->\n      <g transform=\"translate(28.476563 172.843281)rotate(-90)scale(0.1 -0.1)\">\n       <use xlink:href=\"#DejaVuSans-49\"/>\n      </g>\n     </g>\n    </g>\n    <g id=\"text_6\">\n     <!-- Actual -->\n     <g transform=\"translate(14.798438 131.584062)rotate(-90)scale(0.1 -0.1)\">\n      <defs>\n       <path d=\"M 34.1875 63.1875 \nL 20.796875 26.90625 \nL 47.609375 26.90625 \nz\nM 28.609375 72.90625 \nL 39.796875 72.90625 \nL 67.578125 0 \nL 57.328125 0 \nL 50.6875 18.703125 \nL 17.828125 18.703125 \nL 11.1875 0 \nL 0.78125 0 \nz\n\" id=\"DejaVuSans-65\"/>\n       <path d=\"M 8.5 21.578125 \nL 8.5 54.6875 \nL 17.484375 54.6875 \nL 17.484375 21.921875 \nQ 17.484375 14.15625 20.5 10.265625 \nQ 23.53125 6.390625 29.59375 6.390625 \nQ 36.859375 6.390625 41.078125 11.03125 \nQ 45.3125 15.671875 45.3125 23.6875 \nL 45.3125 54.6875 \nL 54.296875 54.6875 \nL 54.296875 0 \nL 45.3125 0 \nL 45.3125 8.40625 \nQ 42.046875 3.421875 37.71875 1 \nQ 33.40625 -1.421875 27.6875 -1.421875 \nQ 18.265625 -1.421875 13.375 4.4375 \nQ 8.5 10.296875 8.5 21.578125 \nz\nM 31.109375 56 \nz\n\" id=\"DejaVuSans-117\"/>\n       <path d=\"M 34.28125 27.484375 \nQ 23.390625 27.484375 19.1875 25 \nQ 14.984375 22.515625 14.984375 16.5 \nQ 14.984375 11.71875 18.140625 8.90625 \nQ 21.296875 6.109375 26.703125 6.109375 \nQ 34.1875 6.109375 38.703125 11.40625 \nQ 43.21875 16.703125 43.21875 25.484375 \nL 43.21875 27.484375 \nz\nM 52.203125 31.203125 \nL 52.203125 0 \nL 43.21875 0 \nL 43.21875 8.296875 \nQ 40.140625 3.328125 35.546875 0.953125 \nQ 30.953125 -1.421875 24.3125 -1.421875 \nQ 15.921875 -1.421875 10.953125 3.296875 \nQ 6 8.015625 6 15.921875 \nQ 6 25.140625 12.171875 29.828125 \nQ 18.359375 34.515625 30.609375 34.515625 \nL 43.21875 34.515625 \nL 43.21875 35.40625 \nQ 43.21875 41.609375 39.140625 45 \nQ 35.0625 48.390625 27.6875 48.390625 \nQ 23 48.390625 18.546875 47.265625 \nQ 14.109375 46.140625 10.015625 43.890625 \nL 10.015625 52.203125 \nQ 14.9375 54.109375 19.578125 55.046875 \nQ 24.21875 56 28.609375 56 \nQ 40.484375 56 46.34375 49.84375 \nQ 52.203125 43.703125 52.203125 31.203125 \nz\n\" id=\"DejaVuSans-97\"/>\n       <path d=\"M 9.421875 75.984375 \nL 18.40625 75.984375 \nL 18.40625 0 \nL 9.421875 0 \nz\n\" id=\"DejaVuSans-108\"/>\n      </defs>\n      <use xlink:href=\"#DejaVuSans-65\"/>\n      <use x=\"66.658203\" xlink:href=\"#DejaVuSans-99\"/>\n      <use x=\"121.638672\" xlink:href=\"#DejaVuSans-116\"/>\n      <use x=\"160.847656\" xlink:href=\"#DejaVuSans-117\"/>\n      <use x=\"224.226562\" xlink:href=\"#DejaVuSans-97\"/>\n      <use x=\"285.505859\" xlink:href=\"#DejaVuSans-108\"/>\n     </g>\n    </g>\n   </g>\n   <g id=\"text_7\">\n    <!-- 1245 -->\n    <g style=\"fill:#ffffff;\" transform=\"translate(108.53125 64.319375)scale(0.1 -0.1)\">\n     <defs>\n      <path d=\"M 19.1875 8.296875 \nL 53.609375 8.296875 \nL 53.609375 0 \nL 7.328125 0 \nL 7.328125 8.296875 \nQ 12.9375 14.109375 22.625 23.890625 \nQ 32.328125 33.6875 34.8125 36.53125 \nQ 39.546875 41.84375 41.421875 45.53125 \nQ 43.3125 49.21875 43.3125 52.78125 \nQ 43.3125 58.59375 39.234375 62.25 \nQ 35.15625 65.921875 28.609375 65.921875 \nQ 23.96875 65.921875 18.8125 64.3125 \nQ 13.671875 62.703125 7.8125 59.421875 \nL 7.8125 69.390625 \nQ 13.765625 71.78125 18.9375 73 \nQ 24.125 74.21875 28.421875 74.21875 \nQ 39.75 74.21875 46.484375 68.546875 \nQ 53.21875 62.890625 53.21875 53.421875 \nQ 53.21875 48.921875 51.53125 44.890625 \nQ 49.859375 40.875 45.40625 35.40625 \nQ 44.1875 33.984375 37.640625 27.21875 \nQ 31.109375 20.453125 19.1875 8.296875 \nz\n\" id=\"DejaVuSans-50\"/>\n      <path d=\"M 37.796875 64.3125 \nL 12.890625 25.390625 \nL 37.796875 25.390625 \nz\nM 35.203125 72.90625 \nL 47.609375 72.90625 \nL 47.609375 25.390625 \nL 58.015625 25.390625 \nL 58.015625 17.1875 \nL 47.609375 17.1875 \nL 47.609375 0 \nL 37.796875 0 \nL 37.796875 17.1875 \nL 4.890625 17.1875 \nL 4.890625 26.703125 \nz\n\" id=\"DejaVuSans-52\"/>\n      <path d=\"M 10.796875 72.90625 \nL 49.515625 72.90625 \nL 49.515625 64.59375 \nL 19.828125 64.59375 \nL 19.828125 46.734375 \nQ 21.96875 47.46875 24.109375 47.828125 \nQ 26.265625 48.1875 28.421875 48.1875 \nQ 40.625 48.1875 47.75 41.5 \nQ 54.890625 34.8125 54.890625 23.390625 \nQ 54.890625 11.625 47.5625 5.09375 \nQ 40.234375 -1.421875 26.90625 -1.421875 \nQ 22.3125 -1.421875 17.546875 -0.640625 \nQ 12.796875 0.140625 7.71875 1.703125 \nL 7.71875 11.625 \nQ 12.109375 9.234375 16.796875 8.0625 \nQ 21.484375 6.890625 26.703125 6.890625 \nQ 35.15625 6.890625 40.078125 11.328125 \nQ 45.015625 15.765625 45.015625 23.390625 \nQ 45.015625 31 40.078125 35.4375 \nQ 35.15625 39.890625 26.703125 39.890625 \nQ 22.75 39.890625 18.8125 39.015625 \nQ 14.890625 38.140625 10.796875 36.28125 \nz\n\" id=\"DejaVuSans-53\"/>\n     </defs>\n     <use xlink:href=\"#DejaVuSans-49\"/>\n     <use x=\"63.623047\" xlink:href=\"#DejaVuSans-50\"/>\n     <use x=\"127.246094\" xlink:href=\"#DejaVuSans-52\"/>\n     <use x=\"190.869141\" xlink:href=\"#DejaVuSans-53\"/>\n    </g>\n   </g>\n   <g id=\"text_8\">\n    <!-- 108 -->\n    <g style=\"fill:#ffffff;\" transform=\"translate(279.1125 64.319375)scale(0.1 -0.1)\">\n     <defs>\n      <path d=\"M 31.78125 34.625 \nQ 24.75 34.625 20.71875 30.859375 \nQ 16.703125 27.09375 16.703125 20.515625 \nQ 16.703125 13.921875 20.71875 10.15625 \nQ 24.75 6.390625 31.78125 6.390625 \nQ 38.8125 6.390625 42.859375 10.171875 \nQ 46.921875 13.96875 46.921875 20.515625 \nQ 46.921875 27.09375 42.890625 30.859375 \nQ 38.875 34.625 31.78125 34.625 \nz\nM 21.921875 38.8125 \nQ 15.578125 40.375 12.03125 44.71875 \nQ 8.5 49.078125 8.5 55.328125 \nQ 8.5 64.0625 14.71875 69.140625 \nQ 20.953125 74.21875 31.78125 74.21875 \nQ 42.671875 74.21875 48.875 69.140625 \nQ 55.078125 64.0625 55.078125 55.328125 \nQ 55.078125 49.078125 51.53125 44.71875 \nQ 48 40.375 41.703125 38.8125 \nQ 48.828125 37.15625 52.796875 32.3125 \nQ 56.78125 27.484375 56.78125 20.515625 \nQ 56.78125 9.90625 50.3125 4.234375 \nQ 43.84375 -1.421875 31.78125 -1.421875 \nQ 19.734375 -1.421875 13.25 4.234375 \nQ 6.78125 9.90625 6.78125 20.515625 \nQ 6.78125 27.484375 10.78125 32.3125 \nQ 14.796875 37.15625 21.921875 38.8125 \nz\nM 18.3125 54.390625 \nQ 18.3125 48.734375 21.84375 45.5625 \nQ 25.390625 42.390625 31.78125 42.390625 \nQ 38.140625 42.390625 41.71875 45.5625 \nQ 45.3125 48.734375 45.3125 54.390625 \nQ 45.3125 60.0625 41.71875 63.234375 \nQ 38.140625 66.40625 31.78125 66.40625 \nQ 25.390625 66.40625 21.84375 63.234375 \nQ 18.3125 60.0625 18.3125 54.390625 \nz\n\" id=\"DejaVuSans-56\"/>\n     </defs>\n     <use xlink:href=\"#DejaVuSans-49\"/>\n     <use x=\"63.623047\" xlink:href=\"#DejaVuSans-48\"/>\n     <use x=\"127.246094\" xlink:href=\"#DejaVuSans-56\"/>\n    </g>\n   </g>\n   <g id=\"text_9\">\n    <!-- 117 -->\n    <g style=\"fill:#ffffff;\" transform=\"translate(111.7125 173.039375)scale(0.1 -0.1)\">\n     <defs>\n      <path d=\"M 8.203125 72.90625 \nL 55.078125 72.90625 \nL 55.078125 68.703125 \nL 28.609375 0 \nL 18.3125 0 \nL 43.21875 64.59375 \nL 8.203125 64.59375 \nz\n\" id=\"DejaVuSans-55\"/>\n     </defs>\n     <use xlink:href=\"#DejaVuSans-49\"/>\n     <use x=\"63.623047\" xlink:href=\"#DejaVuSans-49\"/>\n     <use x=\"127.246094\" xlink:href=\"#DejaVuSans-55\"/>\n    </g>\n   </g>\n   <g id=\"text_10\">\n    <!-- 942 -->\n    <g style=\"fill:#ffffff;\" transform=\"translate(279.1125 173.039375)scale(0.1 -0.1)\">\n     <defs>\n      <path d=\"M 10.984375 1.515625 \nL 10.984375 10.5 \nQ 14.703125 8.734375 18.5 7.8125 \nQ 22.3125 6.890625 25.984375 6.890625 \nQ 35.75 6.890625 40.890625 13.453125 \nQ 46.046875 20.015625 46.78125 33.40625 \nQ 43.953125 29.203125 39.59375 26.953125 \nQ 35.25 24.703125 29.984375 24.703125 \nQ 19.046875 24.703125 12.671875 31.3125 \nQ 6.296875 37.9375 6.296875 49.421875 \nQ 6.296875 60.640625 12.9375 67.421875 \nQ 19.578125 74.21875 30.609375 74.21875 \nQ 43.265625 74.21875 49.921875 64.515625 \nQ 56.59375 54.828125 56.59375 36.375 \nQ 56.59375 19.140625 48.40625 8.859375 \nQ 40.234375 -1.421875 26.421875 -1.421875 \nQ 22.703125 -1.421875 18.890625 -0.6875 \nQ 15.09375 0.046875 10.984375 1.515625 \nz\nM 30.609375 32.421875 \nQ 37.25 32.421875 41.125 36.953125 \nQ 45.015625 41.5 45.015625 49.421875 \nQ 45.015625 57.28125 41.125 61.84375 \nQ 37.25 66.40625 30.609375 66.40625 \nQ 23.96875 66.40625 20.09375 61.84375 \nQ 16.21875 57.28125 16.21875 49.421875 \nQ 16.21875 41.5 20.09375 36.953125 \nQ 23.96875 32.421875 30.609375 32.421875 \nz\n\" id=\"DejaVuSans-57\"/>\n     </defs>\n     <use xlink:href=\"#DejaVuSans-57\"/>\n     <use x=\"63.623047\" xlink:href=\"#DejaVuSans-52\"/>\n     <use x=\"127.246094\" xlink:href=\"#DejaVuSans-50\"/>\n    </g>\n   </g>\n  </g>\n </g>\n <defs>\n  <clipPath id=\"pbbda9fde4e\">\n   <rect height=\"217.44\" width=\"334.8\" x=\"37.55625\" y=\"7.2\"/>\n  </clipPath>\n </defs>\n</svg>\n",
      "image/png": "[encoded data removed]"
     },
     "metadata": {
      "needs_background": "light"
     }
    }
   ],
   "source": [
    "import SVM\n",
    "reload(SVM)\n",
    "\n",
    "SVM.print_confusion_matrix(XTrain, YTrain, XTest, YTest, params3)"
   ]
  }
 ]
}