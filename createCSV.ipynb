{
 "metadata": {
  "language_info": {
   "codemirror_mode": {
    "name": "ipython",
    "version": 3
   },
   "file_extension": ".py",
   "mimetype": "text/x-python",
   "name": "python",
   "nbconvert_exporter": "python",
   "pygments_lexer": "ipython3",
   "version": 3
  },
  "orig_nbformat": 2,
  "kernelspec": {
   "name": "python_defaultSpec_1596770779491",
   "display_name": "Python 3.6.9 64-bit ('dfdc-env': virtualenv)"
  }
 },
 "nbformat": 4,
 "nbformat_minor": 2,
 "cells": [
  {
   "cell_type": "code",
   "execution_count": 1,
   "metadata": {
    "tags": []
   },
   "outputs": [],
   "source": [
    "import os\n",
    "import numpy as numpy\n",
    "import matplotlib.pyplot as plt\n",
    "import cv2\n",
    "import pandas as pd\n",
    "import random\n",
    "from tqdm import tqdm "
   ]
  },
  {
   "cell_type": "code",
   "execution_count": 262,
   "metadata": {},
   "outputs": [
    {
     "output_type": "execute_result",
     "data": {
      "text/plain": "['CASIA_2.0', 'IMD2020', 'imd2020.csv', 'csv', 'datagen.csv']"
     },
     "metadata": {},
     "execution_count": 262
    }
   ],
   "source": [
    "path = '/home/saurav/Sowmen_DL/Image_Manipulation_Dataset'\n",
    "os.listdir(path)\n"
   ]
  },
  {
   "cell_type": "code",
   "execution_count": 304,
   "metadata": {},
   "outputs": [],
   "source": [
    "imdlabel = []"
   ]
  },
  {
   "cell_type": "code",
   "execution_count": 305,
   "metadata": {
    "tags": []
   },
   "outputs": [],
   "source": [
    "imd_link = '/home/saurav/Sowmen_DL/Image_Manipulation_Dataset/IMD2020'\n",
    "pair = []\n",
    "img_l = []\n",
    "mask_l = []\n",
    "for folders in os.listdir(imd_link):\n",
    "  for strings in os.listdir(imd_link + '/' + folders):\n",
    "    #print(strings)\n",
    "    if 'mask' in strings:\n",
    "      #pair.append((folders + '/' + strings[: len(strings) - 9] + '.png', folders + '/' + strings))\n",
    "      img_l.append(folders + '/' + strings[: len(strings) - 9] + '.png')\n",
    "      mask_l.append( folders + '/' + strings)\n",
    "      imdlabel.append(1)\n",
    "    elif \"_orig\" in strings: \n",
    "      img_l.append(folders + '/' + strings)\n",
    "      #print(folders + '/' + strings)\n",
    "      mask_l.append(None)\n",
    "      imdlabel.append(0)"
   ]
  },
  {
   "cell_type": "code",
   "execution_count": 306,
   "metadata": {
    "tags": []
   },
   "outputs": [
    {
     "output_type": "stream",
     "name": "stdout",
     "text": "1361\n"
    }
   ],
   "source": [
    "print(len(imdlabel))"
   ]
  },
  {
   "cell_type": "code",
   "execution_count": 307,
   "metadata": {},
   "outputs": [],
   "source": [
    "df = pandas.DataFrame(data={\"image\": img_l, \"mask\": mask_l, \"label\" : imdlabel})\n",
    "df.to_csv(\"./imd2020.csv\", sep=',',index=False)"
   ]
  },
  {
   "cell_type": "code",
   "execution_count": 124,
   "metadata": {
    "tags": []
   },
   "outputs": [
    {
     "output_type": "stream",
     "name": "stdout",
     "text": "Image link                  Mask link\n0  1c2ojm/c9con3s_0.png  1c2ojm/c9con3s_0_mask.png\n1  1c2ojm/c9clhtf_0.png  1c2ojm/c9clhtf_0_mask.png\n2  1c2ojm/c9coynw_0.png  1c2ojm/c9coynw_0_mask.png\n3  1c2ojm/c9cm824_0.png  1c2ojm/c9cm824_0_mask.png\n4  1c2ojm/c9chqo0_0.png  1c2ojm/c9chqo0_0_mask.png\n"
    }
   ],
   "source": [
    "print(df.head())"
   ]
  },
  {
   "cell_type": "code",
   "execution_count": 128,
   "metadata": {
    "tags": []
   },
   "outputs": [
    {
     "output_type": "stream",
     "name": "stdout",
     "text": "1153 0\n"
    }
   ],
   "source": [
    "clean = 0\n",
    "corrupted = 0\n",
    "for i in range(len(dataframe)):\n",
    "    img = cv2.imread(imd_path + '/' + dataframe.loc[i]['Image link'])\n",
    "    mask = cv2.imread(imd_path + '/' + dataframe.loc[i]['Mask link'])\n",
    "    if(img.shape[2] == 3 and mask.shape[2] == 3):\n",
    "        clean += 1\n",
    "    else:\n",
    "        corrupted += 1\n",
    "\n",
    "print(str(clean) + \" \" + str(corrupted))"
   ]
  },
  {
   "cell_type": "code",
   "execution_count": 265,
   "metadata": {},
   "outputs": [],
   "source": [
    "dataframe = pandas.read_csv(path + '/datagen.csv')"
   ]
  },
  {
   "cell_type": "code",
   "execution_count": 266,
   "metadata": {},
   "outputs": [
    {
     "output_type": "execute_result",
     "data": {
      "text/plain": "   Unnamed: 0  label                                     image  \\\n0           0      1  Tp_S_NNN_S_N_sec00065_sec00065_10383.tif   \n1           1      0                          Au_art_00013.jpg   \n2           2      0                          Au_nat_20082.jpg   \n3           3      1  Tp_D_CRN_S_N_cha00036_art00076_11740.jpg   \n4           4      0                          Au_pla_30191.jpg   \n\n                                          mask  Percentage  \n0  Tp_S_NNN_S_N_sec00065_sec00065_10383_gt.png    1.916504  \n1                                          NaN    0.000000  \n2                                          NaN    0.000000  \n3  Tp_D_CRN_S_N_cha00036_art00076_11740_gt.png    1.494344  \n4                                          NaN    0.000000  ",
      "text/html": "<div>\n<style scoped>\n    .dataframe tbody tr th:only-of-type {\n        vertical-align: middle;\n    }\n\n    .dataframe tbody tr th {\n        vertical-align: top;\n    }\n\n    .dataframe thead th {\n        text-align: right;\n    }\n</style>\n<table border=\"1\" class=\"dataframe\">\n  <thead>\n    <tr style=\"text-align: right;\">\n      <th></th>\n      <th>Unnamed: 0</th>\n      <th>label</th>\n      <th>image</th>\n      <th>mask</th>\n      <th>Percentage</th>\n    </tr>\n  </thead>\n  <tbody>\n    <tr>\n      <th>0</th>\n      <td>0</td>\n      <td>1</td>\n      <td>Tp_S_NNN_S_N_sec00065_sec00065_10383.tif</td>\n      <td>Tp_S_NNN_S_N_sec00065_sec00065_10383_gt.png</td>\n      <td>1.916504</td>\n    </tr>\n    <tr>\n      <th>1</th>\n      <td>1</td>\n      <td>0</td>\n      <td>Au_art_00013.jpg</td>\n      <td>NaN</td>\n      <td>0.000000</td>\n    </tr>\n    <tr>\n      <th>2</th>\n      <td>2</td>\n      <td>0</td>\n      <td>Au_nat_20082.jpg</td>\n      <td>NaN</td>\n      <td>0.000000</td>\n    </tr>\n    <tr>\n      <th>3</th>\n      <td>3</td>\n      <td>1</td>\n      <td>Tp_D_CRN_S_N_cha00036_art00076_11740.jpg</td>\n      <td>Tp_D_CRN_S_N_cha00036_art00076_11740_gt.png</td>\n      <td>1.494344</td>\n    </tr>\n    <tr>\n      <th>4</th>\n      <td>4</td>\n      <td>0</td>\n      <td>Au_pla_30191.jpg</td>\n      <td>NaN</td>\n      <td>0.000000</td>\n    </tr>\n  </tbody>\n</table>\n</div>"
     },
     "metadata": {},
     "execution_count": 266
    }
   ],
   "source": [
    "dataframe.head()"
   ]
  },
  {
   "cell_type": "code",
   "execution_count": 267,
   "metadata": {},
   "outputs": [],
   "source": [
    "tp_link = path + '/CASIA_2.0/Tp'\n",
    "gt_link = path + '/CASIA_2.0/Gt'\n"
   ]
  },
  {
   "cell_type": "code",
   "execution_count": 268,
   "metadata": {
    "tags": []
   },
   "outputs": [
    {
     "output_type": "stream",
     "name": "stdout",
     "text": "5124\n"
    }
   ],
   "source": [
    "fold = os.listdir(tp_link)\n",
    "print(len(fold))"
   ]
  },
  {
   "cell_type": "code",
   "execution_count": 269,
   "metadata": {
    "tags": []
   },
   "outputs": [
    {
     "output_type": "stream",
     "name": "stdout",
     "text": "5123\n"
    }
   ],
   "source": [
    "fold1 = os.listdir(gt_link) #.png --- all of them\n",
    "print(len(fold1))"
   ]
  },
  {
   "cell_type": "code",
   "execution_count": 181,
   "metadata": {
    "tags": []
   },
   "outputs": [
    {
     "output_type": "stream",
     "name": "stdout",
     "text": "Tp_S_NNN_S_B_art00042_art00042_01412.tif\nTp_D_NRN_M_N_sec10112_art00098_10343_gt.png\n"
    }
   ],
   "source": [
    "print(fold[0])\n",
    "print(fold1[0])\n",
    "dict = {}\n"
   ]
  },
  {
   "cell_type": "code",
   "execution_count": 176,
   "metadata": {
    "tags": []
   },
   "outputs": [
    {
     "output_type": "stream",
     "name": "stdout",
     "text": "{'.tif': 1, '.jpg': 1, '.txt': 1}\n"
    }
   ],
   "source": [
    "print(dict)"
   ]
  },
  {
   "cell_type": "code",
   "execution_count": 270,
   "metadata": {
    "tags": []
   },
   "outputs": [],
   "source": [
    "G = []\n",
    "I = []\n",
    "for i in range(len(fold1)):\n",
    "    str = fold1[i][ : len(fold1[i]) - 7]\n",
    "    if str + '.tif' in fold:\n",
    "        I.append(str + '.tif')\n",
    "        G.append(fold1[i])\n",
    "    if str + '.jpg' in fold:\n",
    "        I.append(str + '.jpg')\n",
    "        G.append(fold1[i])"
   ]
  },
  {
   "cell_type": "code",
   "execution_count": 285,
   "metadata": {
    "tags": []
   },
   "outputs": [
    {
     "output_type": "stream",
     "name": "stdout",
     "text": "5120\n5120\n"
    }
   ],
   "source": [
    "print(len(I))\n",
    "print(len(G))"
   ]
  },
  {
   "cell_type": "code",
   "execution_count": 287,
   "metadata": {
    "tags": []
   },
   "outputs": [
    {
     "output_type": "stream",
     "name": "stdout",
     "text": "5102\n17\n"
    }
   ],
   "source": [
    "x = 0\n",
    "y = 0\n",
    "\n",
    "images = []\n",
    "masks = []\n",
    "\n",
    "for i in range(len(I)):\n",
    "    img = cv2.imread(tp_link + '/' + I[i])\n",
    "    mask = cv2.imread(gt_link + '/' + G[i])\n",
    "    if i == 1299:\n",
    "        continue\n",
    "    if img.shape == mask.shape:\n",
    "        dims = img.shape\n",
    "        if dims[1] > 0 and dims[0] > 0 and dims[2] > 0:\n",
    "            images.append('Tp/' + I[i])\n",
    "            masks.append('Gt/' + G[i])\n",
    "        x += 1\n",
    "    else:\n",
    "        y += 1\n",
    "       \n",
    "\n",
    "print(x)\n",
    "print(y)"
   ]
  },
  {
   "cell_type": "code",
   "execution_count": 288,
   "metadata": {
    "tags": []
   },
   "outputs": [
    {
     "output_type": "stream",
     "name": "stdout",
     "text": "5102\n5102\n/home/saurav/Sowmen_DL/Image_Manipulation_Dataset\n"
    }
   ],
   "source": [
    "print(len(images))\n",
    "print(len(masks))\n",
    "print(path)\n",
    "#print(os.listdir(path))"
   ]
  },
  {
   "cell_type": "code",
   "execution_count": 289,
   "metadata": {
    "tags": []
   },
   "outputs": [
    {
     "output_type": "stream",
     "name": "stdout",
     "text": "/home/saurav/Sowmen_DL/Image_Manipulation_Dataset\n"
    },
    {
     "output_type": "execute_result",
     "data": {
      "text/plain": "['CASIA_2.0', 'IMD2020', 'imd2020.csv', 'csv', 'datagen.csv']"
     },
     "metadata": {},
     "execution_count": 289
    }
   ],
   "source": [
    "print(path)\n",
    "os.listdir(path)"
   ]
  },
  {
   "cell_type": "code",
   "execution_count": 279,
   "metadata": {
    "tags": []
   },
   "outputs": [
    {
     "output_type": "execute_result",
     "data": {
      "text/plain": "   Unnamed: 0  label                                     image  \\\n0           0      1  Tp_S_NNN_S_N_sec00065_sec00065_10383.tif   \n1           1      0                          Au_art_00013.jpg   \n2           2      0                          Au_nat_20082.jpg   \n3           3      1  Tp_D_CRN_S_N_cha00036_art00076_11740.jpg   \n4           4      0                          Au_pla_30191.jpg   \n\n                                          mask  Percentage  \n0  Tp_S_NNN_S_N_sec00065_sec00065_10383_gt.png    1.916504  \n1                                          NaN    0.000000  \n2                                          NaN    0.000000  \n3  Tp_D_CRN_S_N_cha00036_art00076_11740_gt.png    1.494344  \n4                                          NaN    0.000000  ",
      "text/html": "<div>\n<style scoped>\n    .dataframe tbody tr th:only-of-type {\n        vertical-align: middle;\n    }\n\n    .dataframe tbody tr th {\n        vertical-align: top;\n    }\n\n    .dataframe thead th {\n        text-align: right;\n    }\n</style>\n<table border=\"1\" class=\"dataframe\">\n  <thead>\n    <tr style=\"text-align: right;\">\n      <th></th>\n      <th>Unnamed: 0</th>\n      <th>label</th>\n      <th>image</th>\n      <th>mask</th>\n      <th>Percentage</th>\n    </tr>\n  </thead>\n  <tbody>\n    <tr>\n      <th>0</th>\n      <td>0</td>\n      <td>1</td>\n      <td>Tp_S_NNN_S_N_sec00065_sec00065_10383.tif</td>\n      <td>Tp_S_NNN_S_N_sec00065_sec00065_10383_gt.png</td>\n      <td>1.916504</td>\n    </tr>\n    <tr>\n      <th>1</th>\n      <td>1</td>\n      <td>0</td>\n      <td>Au_art_00013.jpg</td>\n      <td>NaN</td>\n      <td>0.000000</td>\n    </tr>\n    <tr>\n      <th>2</th>\n      <td>2</td>\n      <td>0</td>\n      <td>Au_nat_20082.jpg</td>\n      <td>NaN</td>\n      <td>0.000000</td>\n    </tr>\n    <tr>\n      <th>3</th>\n      <td>3</td>\n      <td>1</td>\n      <td>Tp_D_CRN_S_N_cha00036_art00076_11740.jpg</td>\n      <td>Tp_D_CRN_S_N_cha00036_art00076_11740_gt.png</td>\n      <td>1.494344</td>\n    </tr>\n    <tr>\n      <th>4</th>\n      <td>4</td>\n      <td>0</td>\n      <td>Au_pla_30191.jpg</td>\n      <td>NaN</td>\n      <td>0.000000</td>\n    </tr>\n  </tbody>\n</table>\n</div>"
     },
     "metadata": {},
     "execution_count": 279
    }
   ],
   "source": [
    "d = pandas.read_csv(path + '/datagen.csv')\n",
    "d.head()"
   ]
  },
  {
   "cell_type": "code",
   "execution_count": 290,
   "metadata": {
    "tags": []
   },
   "outputs": [],
   "source": [
    "\n",
    "label = [1 for i in range(len(masks))]\n"
   ]
  },
  {
   "cell_type": "code",
   "execution_count": 292,
   "metadata": {
    "tags": []
   },
   "outputs": [],
   "source": [
    "for i in range(len(df)):\n",
    "    if df.loc[i]['label'] == 0:\n",
    "        var = None\n",
    "        images.append('Au/' + df.loc[i]['image'])\n",
    "        #print(df.loc[i]['image'])\n",
    "        masks.append(var)\n",
    "        label.append(0)"
   ]
  },
  {
   "cell_type": "code",
   "execution_count": 293,
   "metadata": {
    "tags": []
   },
   "outputs": [
    {
     "output_type": "stream",
     "name": "stdout",
     "text": "12621\n12603\n"
    }
   ],
   "source": [
    "print(len(df))\n",
    "print(len(label))"
   ]
  },
  {
   "cell_type": "markdown",
   "metadata": {
    "tags": []
   },
   "source": [
    "print(len(df))"
   ]
  },
  {
   "cell_type": "code",
   "execution_count": 294,
   "metadata": {},
   "outputs": [],
   "source": [
    "dataframe = pandas.DataFrame(data={\"image\": images, \"mask\": masks, 'label' : label})\n",
    "dataframe.to_csv(\"casia2.csv\",index=False)"
   ]
  },
  {
   "cell_type": "code",
   "execution_count": 295,
   "metadata": {},
   "outputs": [
    {
     "output_type": "execute_result",
     "data": {
      "text/plain": "                     image  mask  label\n12598  Au/Au_sec_30356.jpg  None      0\n12599  Au/Au_ani_30495.jpg  None      0\n12600  Au/Au_sec_30020.jpg  None      0\n12601  Au/Au_ani_30667.jpg  None      0\n12602  Au/Au_arc_30494.jpg  None      0",
      "text/html": "<div>\n<style scoped>\n    .dataframe tbody tr th:only-of-type {\n        vertical-align: middle;\n    }\n\n    .dataframe tbody tr th {\n        vertical-align: top;\n    }\n\n    .dataframe thead th {\n        text-align: right;\n    }\n</style>\n<table border=\"1\" class=\"dataframe\">\n  <thead>\n    <tr style=\"text-align: right;\">\n      <th></th>\n      <th>image</th>\n      <th>mask</th>\n      <th>label</th>\n    </tr>\n  </thead>\n  <tbody>\n    <tr>\n      <th>12598</th>\n      <td>Au/Au_sec_30356.jpg</td>\n      <td>None</td>\n      <td>0</td>\n    </tr>\n    <tr>\n      <th>12599</th>\n      <td>Au/Au_ani_30495.jpg</td>\n      <td>None</td>\n      <td>0</td>\n    </tr>\n    <tr>\n      <th>12600</th>\n      <td>Au/Au_sec_30020.jpg</td>\n      <td>None</td>\n      <td>0</td>\n    </tr>\n    <tr>\n      <th>12601</th>\n      <td>Au/Au_ani_30667.jpg</td>\n      <td>None</td>\n      <td>0</td>\n    </tr>\n    <tr>\n      <th>12602</th>\n      <td>Au/Au_arc_30494.jpg</td>\n      <td>None</td>\n      <td>0</td>\n    </tr>\n  </tbody>\n</table>\n</div>"
     },
     "metadata": {},
     "execution_count": 295
    }
   ],
   "source": [
    "dataframe.tail()"
   ]
  },
  {
   "cell_type": "code",
   "execution_count": 296,
   "metadata": {
    "tags": []
   },
   "outputs": [
    {
     "output_type": "execute_result",
     "data": {
      "text/plain": "                                         image  \\\n0  Tp/Tp_D_NRN_M_N_sec10112_art00098_10343.tif   \n1  Tp/Tp_D_NRN_S_N_sec00023_sec00022_10807.jpg   \n2  Tp/Tp_S_CRN_M_N_art00066_art00066_10473.tif   \n3  Tp/Tp_D_NRD_S_B_sec00010_cha00071_00030.tif   \n4  Tp/Tp_S_CNN_S_N_sec20015_sec20015_01605.tif   \n\n                                             mask  label  \n0  Gt/Tp_D_NRN_M_N_sec10112_art00098_10343_gt.png      1  \n1  Gt/Tp_D_NRN_S_N_sec00023_sec00022_10807_gt.png      1  \n2  Gt/Tp_S_CRN_M_N_art00066_art00066_10473_gt.png      1  \n3  Gt/Tp_D_NRD_S_B_sec00010_cha00071_00030_gt.png      1  \n4  Gt/Tp_S_CNN_S_N_sec20015_sec20015_01605_gt.png      1  ",
      "text/html": "<div>\n<style scoped>\n    .dataframe tbody tr th:only-of-type {\n        vertical-align: middle;\n    }\n\n    .dataframe tbody tr th {\n        vertical-align: top;\n    }\n\n    .dataframe thead th {\n        text-align: right;\n    }\n</style>\n<table border=\"1\" class=\"dataframe\">\n  <thead>\n    <tr style=\"text-align: right;\">\n      <th></th>\n      <th>image</th>\n      <th>mask</th>\n      <th>label</th>\n    </tr>\n  </thead>\n  <tbody>\n    <tr>\n      <th>0</th>\n      <td>Tp/Tp_D_NRN_M_N_sec10112_art00098_10343.tif</td>\n      <td>Gt/Tp_D_NRN_M_N_sec10112_art00098_10343_gt.png</td>\n      <td>1</td>\n    </tr>\n    <tr>\n      <th>1</th>\n      <td>Tp/Tp_D_NRN_S_N_sec00023_sec00022_10807.jpg</td>\n      <td>Gt/Tp_D_NRN_S_N_sec00023_sec00022_10807_gt.png</td>\n      <td>1</td>\n    </tr>\n    <tr>\n      <th>2</th>\n      <td>Tp/Tp_S_CRN_M_N_art00066_art00066_10473.tif</td>\n      <td>Gt/Tp_S_CRN_M_N_art00066_art00066_10473_gt.png</td>\n      <td>1</td>\n    </tr>\n    <tr>\n      <th>3</th>\n      <td>Tp/Tp_D_NRD_S_B_sec00010_cha00071_00030.tif</td>\n      <td>Gt/Tp_D_NRD_S_B_sec00010_cha00071_00030_gt.png</td>\n      <td>1</td>\n    </tr>\n    <tr>\n      <th>4</th>\n      <td>Tp/Tp_S_CNN_S_N_sec20015_sec20015_01605.tif</td>\n      <td>Gt/Tp_S_CNN_S_N_sec20015_sec20015_01605_gt.png</td>\n      <td>1</td>\n    </tr>\n  </tbody>\n</table>\n</div>"
     },
     "metadata": {},
     "execution_count": 296
    }
   ],
   "source": [
    "dataframe.head()"
   ]
  },
  {
   "cell_type": "code",
   "execution_count": 5,
   "metadata": {},
   "outputs": [
    {
     "output_type": "execute_result",
     "data": {
      "text/plain": "                                         image  \\\n0  Tp/Tp_D_NRN_M_N_sec10112_art00098_10343.tif   \n1  Tp/Tp_D_NRN_S_N_sec00023_sec00022_10807.jpg   \n2  Tp/Tp_S_CRN_M_N_art00066_art00066_10473.tif   \n3  Tp/Tp_D_NRD_S_B_sec00010_cha00071_00030.tif   \n4  Tp/Tp_S_CNN_S_N_sec20015_sec20015_01605.tif   \n\n                                             mask  label  \n0  Gt/Tp_D_NRN_M_N_sec10112_art00098_10343_gt.png      1  \n1  Gt/Tp_D_NRN_S_N_sec00023_sec00022_10807_gt.png      1  \n2  Gt/Tp_S_CRN_M_N_art00066_art00066_10473_gt.png      1  \n3  Gt/Tp_D_NRD_S_B_sec00010_cha00071_00030_gt.png      1  \n4  Gt/Tp_S_CNN_S_N_sec20015_sec20015_01605_gt.png      1  ",
      "text/html": "<div>\n<style scoped>\n    .dataframe tbody tr th:only-of-type {\n        vertical-align: middle;\n    }\n\n    .dataframe tbody tr th {\n        vertical-align: top;\n    }\n\n    .dataframe thead th {\n        text-align: right;\n    }\n</style>\n<table border=\"1\" class=\"dataframe\">\n  <thead>\n    <tr style=\"text-align: right;\">\n      <th></th>\n      <th>image</th>\n      <th>mask</th>\n      <th>label</th>\n    </tr>\n  </thead>\n  <tbody>\n    <tr>\n      <th>0</th>\n      <td>Tp/Tp_D_NRN_M_N_sec10112_art00098_10343.tif</td>\n      <td>Gt/Tp_D_NRN_M_N_sec10112_art00098_10343_gt.png</td>\n      <td>1</td>\n    </tr>\n    <tr>\n      <th>1</th>\n      <td>Tp/Tp_D_NRN_S_N_sec00023_sec00022_10807.jpg</td>\n      <td>Gt/Tp_D_NRN_S_N_sec00023_sec00022_10807_gt.png</td>\n      <td>1</td>\n    </tr>\n    <tr>\n      <th>2</th>\n      <td>Tp/Tp_S_CRN_M_N_art00066_art00066_10473.tif</td>\n      <td>Gt/Tp_S_CRN_M_N_art00066_art00066_10473_gt.png</td>\n      <td>1</td>\n    </tr>\n    <tr>\n      <th>3</th>\n      <td>Tp/Tp_D_NRD_S_B_sec00010_cha00071_00030.tif</td>\n      <td>Gt/Tp_D_NRD_S_B_sec00010_cha00071_00030_gt.png</td>\n      <td>1</td>\n    </tr>\n    <tr>\n      <th>4</th>\n      <td>Tp/Tp_S_CNN_S_N_sec20015_sec20015_01605.tif</td>\n      <td>Gt/Tp_S_CNN_S_N_sec20015_sec20015_01605_gt.png</td>\n      <td>1</td>\n    </tr>\n  </tbody>\n</table>\n</div>"
     },
     "metadata": {},
     "execution_count": 5
    }
   ],
   "source": [
    "casia_df = pd.read_csv('casia2.csv')\n",
    "casia_df.head()"
   ]
  },
  {
   "cell_type": "code",
   "execution_count": 27,
   "metadata": {},
   "outputs": [],
   "source": [
    "data = []"
   ]
  },
  {
   "cell_type": "code",
   "execution_count": 28,
   "metadata": {
    "tags": []
   },
   "outputs": [
    {
     "output_type": "stream",
     "name": "stderr",
     "text": "12593it [00:02, 6087.40it/s]\n"
    }
   ],
   "source": [
    "ROOT = 'Image_Manipulation_Dataset/CASIA_2.0/image_patch_128'\n",
    "\n",
    "for idx, row in tqdm(casia_df.iterrows()):\n",
    "    image = row['image'].split('/')[-1].split('.')[0]\n",
    "    \n",
    "    files = [x for x in os.listdir(os.path.join(ROOT,image)) if not x.endswith('.txt')]\n",
    "    \n",
    "    if(row['label'] == 1):\n",
    "        for i in range(0, len(files)//2):\n",
    "            if( os.path.exists(os.path.join(ROOT,image,f'{i}.png')) and\n",
    "                os.path.exists(os.path.join(ROOT,image,f'{i}_gt.png'))\n",
    "            ):\n",
    "                data.append({\n",
    "                    'image' : image,\n",
    "                    'image_patch' : f'{i}.png',\n",
    "                    'mask_patch' : f'{i}_gt.png',\n",
    "                    'label' : 1\n",
    "                })\n",
    "    else:\n",
    "        for i in range(0, len(files)):\n",
    "            if( os.path.exists(os.path.join(ROOT,image,f'{i}.png'))):\n",
    "                data.append({\n",
    "                    'image' : image,\n",
    "                    'image_patch' : f'{i}.png',\n",
    "                    'mask_patch' : '',\n",
    "                    'label' : 0\n",
    "                })"
   ]
  },
  {
   "cell_type": "code",
   "execution_count": 29,
   "metadata": {},
   "outputs": [
    {
     "output_type": "execute_result",
     "data": {
      "text/plain": "                                  image image_patch mask_patch  label\n0  Tp_D_NRN_S_N_sec00023_sec00022_10807       0.png   0_gt.png      1\n1  Tp_D_NRN_S_N_sec00023_sec00022_10807       1.png   1_gt.png      1\n2  Tp_D_NRN_S_N_sec00023_sec00022_10807       2.png   2_gt.png      1\n3  Tp_S_CRN_M_N_art00066_art00066_10473       0.png   0_gt.png      1\n4  Tp_S_CRN_M_N_art00066_art00066_10473       1.png   1_gt.png      1",
      "text/html": "<div>\n<style scoped>\n    .dataframe tbody tr th:only-of-type {\n        vertical-align: middle;\n    }\n\n    .dataframe tbody tr th {\n        vertical-align: top;\n    }\n\n    .dataframe thead th {\n        text-align: right;\n    }\n</style>\n<table border=\"1\" class=\"dataframe\">\n  <thead>\n    <tr style=\"text-align: right;\">\n      <th></th>\n      <th>image</th>\n      <th>image_patch</th>\n      <th>mask_patch</th>\n      <th>label</th>\n    </tr>\n  </thead>\n  <tbody>\n    <tr>\n      <th>0</th>\n      <td>Tp_D_NRN_S_N_sec00023_sec00022_10807</td>\n      <td>0.png</td>\n      <td>0_gt.png</td>\n      <td>1</td>\n    </tr>\n    <tr>\n      <th>1</th>\n      <td>Tp_D_NRN_S_N_sec00023_sec00022_10807</td>\n      <td>1.png</td>\n      <td>1_gt.png</td>\n      <td>1</td>\n    </tr>\n    <tr>\n      <th>2</th>\n      <td>Tp_D_NRN_S_N_sec00023_sec00022_10807</td>\n      <td>2.png</td>\n      <td>2_gt.png</td>\n      <td>1</td>\n    </tr>\n    <tr>\n      <th>3</th>\n      <td>Tp_S_CRN_M_N_art00066_art00066_10473</td>\n      <td>0.png</td>\n      <td>0_gt.png</td>\n      <td>1</td>\n    </tr>\n    <tr>\n      <th>4</th>\n      <td>Tp_S_CRN_M_N_art00066_art00066_10473</td>\n      <td>1.png</td>\n      <td>1_gt.png</td>\n      <td>1</td>\n    </tr>\n  </tbody>\n</table>\n</div>"
     },
     "metadata": {},
     "execution_count": 29
    }
   ],
   "source": [
    "casia_new_df = pd.DataFrame(data)\n",
    "casia_new_df.head()"
   ]
  },
  {
   "cell_type": "code",
   "execution_count": 30,
   "metadata": {},
   "outputs": [],
   "source": [
    "casia_new_df.to_csv('casia_128.csv', index=False)"
   ]
  },
  {
   "cell_type": "code",
   "execution_count": 31,
   "metadata": {},
   "outputs": [
    {
     "output_type": "execute_result",
     "data": {
      "text/plain": "1    1153\n0     208\nName: label, dtype: int64"
     },
     "metadata": {},
     "execution_count": 31
    }
   ],
   "source": [
    "imd_df = pd.read_csv('imd2020.csv')\n",
    "imd_df.label.value_counts()"
   ]
  }
 ]
}