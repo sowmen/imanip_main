{
 "metadata": {
  "language_info": {
   "codemirror_mode": {
    "name": "ipython",
    "version": 3
   },
   "file_extension": ".py",
   "mimetype": "text/x-python",
   "name": "python",
   "nbconvert_exporter": "python",
   "pygments_lexer": "ipython3",
   "version": "3.6.9-final"
  },
  "orig_nbformat": 2,
  "kernelspec": {
   "name": "python_defaultSpec_1599208270725",
   "display_name": "Python 3.6.9 64-bit"
  }
 },
 "nbformat": 4,
 "nbformat_minor": 2,
 "cells": [
  {
   "cell_type": "code",
   "execution_count": 2,
   "metadata": {},
   "outputs": [],
   "source": [
    "import timm\n",
    "from torchsummary import summary"
   ]
  },
  {
   "cell_type": "code",
   "execution_count": 3,
   "metadata": {
    "tags": []
   },
   "outputs": [
    {
     "output_type": "stream",
     "name": "stdout",
     "text": "===============================================================================================\nLayer (type:depth-idx)                        Output Shape              Param #\n===============================================================================================\n├─Conv2dSame: 1-1                             [-1, 48, 112, 112]        1,296\n├─BatchNorm2d: 1-2                            [-1, 48, 112, 112]        96\n├─SwishMe: 1-3                                [-1, 48, 112, 112]        --\n├─Sequential: 1-4                             [-1, 448, 7, 7]           --\n|    └─Sequential: 2-1                        [-1, 24, 112, 112]        --\n|    |    └─DepthwiseSeparableConv: 3-1       [-1, 24, 112, 112]        2,940\n|    |    └─DepthwiseSeparableConv: 3-2       [-1, 24, 112, 112]        1,206\n|    └─Sequential: 2-2                        [-1, 32, 56, 56]          --\n|    |    └─InvertedResidual: 3-3             [-1, 32, 56, 56]          11,878\n|    |    └─InvertedResidual: 3-4             [-1, 32, 56, 56]          18,120\n|    |    └─InvertedResidual: 3-5             [-1, 32, 56, 56]          18,120\n|    |    └─InvertedResidual: 3-6             [-1, 32, 56, 56]          18,120\n|    └─Sequential: 2-3                        [-1, 56, 28, 28]          --\n|    |    └─InvertedResidual: 3-7             [-1, 56, 28, 28]          25,848\n|    |    └─InvertedResidual: 3-8             [-1, 56, 28, 28]          57,246\n|    |    └─InvertedResidual: 3-9             [-1, 56, 28, 28]          57,246\n|    |    └─InvertedResidual: 3-10            [-1, 56, 28, 28]          57,246\n|    └─Sequential: 2-4                        [-1, 112, 14, 14]         --\n|    |    └─InvertedResidual: 3-11            [-1, 112, 14, 14]         70,798\n|    |    └─InvertedResidual: 3-12            [-1, 112, 14, 14]         197,820\n|    |    └─InvertedResidual: 3-13            [-1, 112, 14, 14]         197,820\n|    |    └─InvertedResidual: 3-14            [-1, 112, 14, 14]         197,820\n|    |    └─InvertedResidual: 3-15            [-1, 112, 14, 14]         197,820\n|    |    └─InvertedResidual: 3-16            [-1, 112, 14, 14]         197,820\n|    └─Sequential: 2-5                        [-1, 160, 14, 14]         --\n|    |    └─InvertedResidual: 3-17            [-1, 160, 14, 14]         240,924\n|    |    └─InvertedResidual: 3-18            [-1, 160, 14, 14]         413,160\n|    |    └─InvertedResidual: 3-19            [-1, 160, 14, 14]         413,160\n|    |    └─InvertedResidual: 3-20            [-1, 160, 14, 14]         413,160\n|    |    └─InvertedResidual: 3-21            [-1, 160, 14, 14]         413,160\n|    |    └─InvertedResidual: 3-22            [-1, 160, 14, 14]         413,160\n|    └─Sequential: 2-6                        [-1, 272, 7, 7]           --\n|    |    └─InvertedResidual: 3-23            [-1, 272, 7, 7]           520,904\n|    |    └─InvertedResidual: 3-24            [-1, 272, 7, 7]           1,159,332\n|    |    └─InvertedResidual: 3-25            [-1, 272, 7, 7]           1,159,332\n|    |    └─InvertedResidual: 3-26            [-1, 272, 7, 7]           1,159,332\n|    |    └─InvertedResidual: 3-27            [-1, 272, 7, 7]           1,159,332\n|    |    └─InvertedResidual: 3-28            [-1, 272, 7, 7]           1,159,332\n|    |    └─InvertedResidual: 3-29            [-1, 272, 7, 7]           1,159,332\n|    |    └─InvertedResidual: 3-30            [-1, 272, 7, 7]           1,159,332\n|    └─Sequential: 2-7                        [-1, 448, 7, 7]           --\n|    |    └─InvertedResidual: 3-31            [-1, 448, 7, 7]           1,420,804\n|    |    └─InvertedResidual: 3-32            [-1, 448, 7, 7]           3,049,200\n├─Conv2d: 1-5                                 [-1, 1792, 7, 7]          802,816\n├─BatchNorm2d: 1-6                            [-1, 1792, 7, 7]          3,584\n├─SwishMe: 1-7                                [-1, 1792, 7, 7]          --\n├─SelectAdaptivePool2d: 1-8                   [-1, 1792, 1, 1]          --\n|    └─AdaptiveAvgPool2d: 2-8                 [-1, 1792, 1, 1]          --\n├─Linear: 1-9                                 [-1, 1]                   1,793\n===============================================================================================\nTotal params: 17,550,409\nTrainable params: 17,550,409\nNon-trainable params: 0\nTotal mult-adds (G): 1.55\n===============================================================================================\nInput size (MB): 0.57\nForward/backward pass size (MB): 259.64\nParams size (MB): 66.95\nEstimated Total Size (MB): 327.17\n===============================================================================================\n"
    },
    {
     "output_type": "execute_result",
     "data": {
      "text/plain": "===============================================================================================\nLayer (type:depth-idx)                        Output Shape              Param #\n===============================================================================================\n├─Conv2dSame: 1-1                             [-1, 48, 112, 112]        1,296\n├─BatchNorm2d: 1-2                            [-1, 48, 112, 112]        96\n├─SwishMe: 1-3                                [-1, 48, 112, 112]        --\n├─Sequential: 1-4                             [-1, 448, 7, 7]           --\n|    └─Sequential: 2-1                        [-1, 24, 112, 112]        --\n|    |    └─DepthwiseSeparableConv: 3-1       [-1, 24, 112, 112]        2,940\n|    |    └─DepthwiseSeparableConv: 3-2       [-1, 24, 112, 112]        1,206\n|    └─Sequential: 2-2                        [-1, 32, 56, 56]          --\n|    |    └─InvertedResidual: 3-3             [-1, 32, 56, 56]          11,878\n|    |    └─InvertedResidual: 3-4             [-1, 32, 56, 56]          18,120\n|    |    └─InvertedResidual: 3-5             [-1, 32, 56, 56]          18,120\n|    |    └─InvertedResidual: 3-6             [-1, 32, 56, 56]          18,120\n|    └─Sequential: 2-3                        [-1, 56, 28, 28]          --\n|    |    └─InvertedResidual: 3-7             [-1, 56, 28, 28]          25,848\n|    |    └─InvertedResidual: 3-8             [-1, 56, 28, 28]          57,246\n|    |    └─InvertedResidual: 3-9             [-1, 56, 28, 28]          57,246\n|    |    └─InvertedResidual: 3-10            [-1, 56, 28, 28]          57,246\n|    └─Sequential: 2-4                        [-1, 112, 14, 14]         --\n|    |    └─InvertedResidual: 3-11            [-1, 112, 14, 14]         70,798\n|    |    └─InvertedResidual: 3-12            [-1, 112, 14, 14]         197,820\n|    |    └─InvertedResidual: 3-13            [-1, 112, 14, 14]         197,820\n|    |    └─InvertedResidual: 3-14            [-1, 112, 14, 14]         197,820\n|    |    └─InvertedResidual: 3-15            [-1, 112, 14, 14]         197,820\n|    |    └─InvertedResidual: 3-16            [-1, 112, 14, 14]         197,820\n|    └─Sequential: 2-5                        [-1, 160, 14, 14]         --\n|    |    └─InvertedResidual: 3-17            [-1, 160, 14, 14]         240,924\n|    |    └─InvertedResidual: 3-18            [-1, 160, 14, 14]         413,160\n|    |    └─InvertedResidual: 3-19            [-1, 160, 14, 14]         413,160\n|    |    └─InvertedResidual: 3-20            [-1, 160, 14, 14]         413,160\n|    |    └─InvertedResidual: 3-21            [-1, 160, 14, 14]         413,160\n|    |    └─InvertedResidual: 3-22            [-1, 160, 14, 14]         413,160\n|    └─Sequential: 2-6                        [-1, 272, 7, 7]           --\n|    |    └─InvertedResidual: 3-23            [-1, 272, 7, 7]           520,904\n|    |    └─InvertedResidual: 3-24            [-1, 272, 7, 7]           1,159,332\n|    |    └─InvertedResidual: 3-25            [-1, 272, 7, 7]           1,159,332\n|    |    └─InvertedResidual: 3-26            [-1, 272, 7, 7]           1,159,332\n|    |    └─InvertedResidual: 3-27            [-1, 272, 7, 7]           1,159,332\n|    |    └─InvertedResidual: 3-28            [-1, 272, 7, 7]           1,159,332\n|    |    └─InvertedResidual: 3-29            [-1, 272, 7, 7]           1,159,332\n|    |    └─InvertedResidual: 3-30            [-1, 272, 7, 7]           1,159,332\n|    └─Sequential: 2-7                        [-1, 448, 7, 7]           --\n|    |    └─InvertedResidual: 3-31            [-1, 448, 7, 7]           1,420,804\n|    |    └─InvertedResidual: 3-32            [-1, 448, 7, 7]           3,049,200\n├─Conv2d: 1-5                                 [-1, 1792, 7, 7]          802,816\n├─BatchNorm2d: 1-6                            [-1, 1792, 7, 7]          3,584\n├─SwishMe: 1-7                                [-1, 1792, 7, 7]          --\n├─SelectAdaptivePool2d: 1-8                   [-1, 1792, 1, 1]          --\n|    └─AdaptiveAvgPool2d: 2-8                 [-1, 1792, 1, 1]          --\n├─Linear: 1-9                                 [-1, 1]                   1,793\n===============================================================================================\nTotal params: 17,550,409\nTrainable params: 17,550,409\nNon-trainable params: 0\nTotal mult-adds (G): 1.55\n===============================================================================================\nInput size (MB): 0.57\nForward/backward pass size (MB): 259.64\nParams size (MB): 66.95\nEstimated Total Size (MB): 327.17\n==============================================================================================="
     },
     "metadata": {},
     "execution_count": 3
    }
   ],
   "source": [
    "base_model = timm.create_model(\n",
    "            \"tf_efficientnet_b4_ns\", pretrained=True, num_classes=1\n",
    "        )\n",
    "summary(base_model, (3,224,224), device='cpu')"
   ]
  }
 ]
}