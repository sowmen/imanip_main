{
 "metadata": {
  "language_info": {
   "codemirror_mode": {
    "name": "ipython",
    "version": 3
   },
   "file_extension": ".py",
   "mimetype": "text/x-python",
   "name": "python",
   "nbconvert_exporter": "python",
   "pygments_lexer": "ipython3",
   "version": "3.7.6-final"
  },
  "orig_nbformat": 2,
  "kernelspec": {
   "name": "Python 3.7.6 64-bit ('dfdcpy37env': conda)",
   "display_name": "Python 3.7.6 64-bit ('dfdcpy37env': conda)",
   "metadata": {
    "interpreter": {
     "hash": "ed42f63bef822c8320ac08590f49c46eb48ce4dfa30453265a23ce003f333a3b"
    }
   }
  }
 },
 "nbformat": 4,
 "nbformat_minor": 2,
 "cells": [
  {
   "cell_type": "code",
   "execution_count": 1,
   "metadata": {},
   "outputs": [],
   "source": [
    "import os\n",
    "import numpy as numpy\n",
    "import matplotlib.pyplot as plt\n",
    "import cv2\n",
    "import pandas as pd\n",
    "import random\n",
    "from tqdm import tqdm "
   ]
  },
  {
   "cell_type": "code",
   "execution_count": 2,
   "metadata": {},
   "outputs": [],
   "source": [
    "import skimage\n",
    "from skimage.color import rgb2gray\n",
    "from skimage.color import gray2rgb\n",
    "from skimage import measure\n",
    "from skimage.metrics import structural_similarity as ssim"
   ]
  },
  {
   "cell_type": "code",
   "execution_count": 3,
   "metadata": {},
   "outputs": [],
   "source": [
    "def SSIM(imageA, imageB):\n",
    "  dim = (imageA.shape[0], imageA.shape[1])\n",
    "  A = cv2.resize(imageA, dim, interpolation = cv2.INTER_AREA)\n",
    "  B = cv2.resize(imageB, dim, interpolation = cv2.INTER_AREA)\n",
    "  grayA = cv2.cvtColor(A, cv2.COLOR_BGR2GRAY) \n",
    "  grayB = cv2.cvtColor(B, cv2.COLOR_BGR2GRAY)\n",
    "  ans = ssim(grayA, grayB, full = True)\n",
    "  ret = ans[0] \n",
    "  ret += 1 \n",
    "  ret /= 2 \n",
    "  return ret \n",
    "  "
   ]
  },
  {
   "cell_type": "code",
   "execution_count": 83,
   "metadata": {},
   "outputs": [
    {
     "output_type": "execute_result",
     "data": {
      "text/plain": [
       "                         image_patch                 mask_patch  label  fold  \\\n",
       "0             1c8xyn/1c8xyn_orig.jpg                        NaN      0     0   \n",
       "1               1c8xyn/c9e9r5q_0.jpg  1c8xyn/c9e9r5q_0_mask.jpg      1     0   \n",
       "2  extra_orig/fabola_47344752582.jpg                        NaN      0     0   \n",
       "3               1c2ojm/c9crgzl_0.jpg  1c2ojm/c9crgzl_0_mask.jpg      1     0   \n",
       "4               1a84zh/c8v70y3_0.jpg  1a84zh/c8v70y3_0_mask.jpg      1     0   \n",
       "\n",
       "                                     ela  \n",
       "0             1c8xyn/1c8xyn_orig_ela.jpg  \n",
       "1               1c8xyn/c9e9r5q_0_ela.jpg  \n",
       "2  extra_orig/fabola_47344752582_ela.jpg  \n",
       "3               1c2ojm/c9crgzl_0_ela.jpg  \n",
       "4               1a84zh/c8v70y3_0_ela.jpg  "
      ],
      "text/html": "<div>\n<style scoped>\n    .dataframe tbody tr th:only-of-type {\n        vertical-align: middle;\n    }\n\n    .dataframe tbody tr th {\n        vertical-align: top;\n    }\n\n    .dataframe thead th {\n        text-align: right;\n    }\n</style>\n<table border=\"1\" class=\"dataframe\">\n  <thead>\n    <tr style=\"text-align: right;\">\n      <th></th>\n      <th>image_patch</th>\n      <th>mask_patch</th>\n      <th>label</th>\n      <th>fold</th>\n      <th>ela</th>\n    </tr>\n  </thead>\n  <tbody>\n    <tr>\n      <th>0</th>\n      <td>1c8xyn/1c8xyn_orig.jpg</td>\n      <td>NaN</td>\n      <td>0</td>\n      <td>0</td>\n      <td>1c8xyn/1c8xyn_orig_ela.jpg</td>\n    </tr>\n    <tr>\n      <th>1</th>\n      <td>1c8xyn/c9e9r5q_0.jpg</td>\n      <td>1c8xyn/c9e9r5q_0_mask.jpg</td>\n      <td>1</td>\n      <td>0</td>\n      <td>1c8xyn/c9e9r5q_0_ela.jpg</td>\n    </tr>\n    <tr>\n      <th>2</th>\n      <td>extra_orig/fabola_47344752582.jpg</td>\n      <td>NaN</td>\n      <td>0</td>\n      <td>0</td>\n      <td>extra_orig/fabola_47344752582_ela.jpg</td>\n    </tr>\n    <tr>\n      <th>3</th>\n      <td>1c2ojm/c9crgzl_0.jpg</td>\n      <td>1c2ojm/c9crgzl_0_mask.jpg</td>\n      <td>1</td>\n      <td>0</td>\n      <td>1c2ojm/c9crgzl_0_ela.jpg</td>\n    </tr>\n    <tr>\n      <th>4</th>\n      <td>1a84zh/c8v70y3_0.jpg</td>\n      <td>1a84zh/c8v70y3_0_mask.jpg</td>\n      <td>1</td>\n      <td>0</td>\n      <td>1a84zh/c8v70y3_0_ela.jpg</td>\n    </tr>\n  </tbody>\n</table>\n</div>"
     },
     "metadata": {},
     "execution_count": 83
    }
   ],
   "source": [
    "df = pd.read_csv('imd_FULL.csv')\n",
    "df.head()"
   ]
  },
  {
   "cell_type": "code",
   "execution_count": 5,
   "metadata": {},
   "outputs": [],
   "source": [
    "im = cv2.imread(path + '/' + '1bczrg/1bczrg_orig.jpg')\n",
    "im = cv2.cvtColor(im, cv2.COLOR_BGR2RGB)"
   ]
  },
  {
   "cell_type": "code",
   "execution_count": 6,
   "metadata": {
    "tags": []
   },
   "outputs": [
    {
     "output_type": "stream",
     "name": "stdout",
     "text": [
      "1.0\n"
     ]
    }
   ],
   "source": [
    "print(SSIM(im, im))"
   ]
  },
  {
   "cell_type": "code",
   "execution_count": 84,
   "metadata": {},
   "outputs": [],
   "source": [
    "OUTPUT_DIR = 'Image_Manipulation_Dataset/IMD2020/image_patch_64'\n",
    "DIR = 'Image_Manipulation_Dataset/IMD2020/imd_data'"
   ]
  },
  {
   "cell_type": "code",
   "execution_count": 85,
   "metadata": {},
   "outputs": [],
   "source": [
    "def extract_imd(param, increment):\n",
    "    path = param[0]\n",
    "    img = cv2.imread(os.path.join(DIR,path))\n",
    "\n",
    "    name = path.split('/')[-1][:-4]\n",
    "\n",
    "    patches = []\n",
    "    d = img.shape\n",
    "    for i in range(0, d[0], increment):\n",
    "        for j in range(0, d[1], increment):\n",
    "            x = i + increment\n",
    "            y = j + increment\n",
    "            if x > d[0] or y > d[1]:\n",
    "                break\n",
    "            patches.append(img[i : x, j : y])\n",
    "    random.shuffle(patches)\n",
    "    # print(len(patches))\n",
    "    imd_patch = []\n",
    "    vis = [0 for i in range(len(patches))]\n",
    "    for i in range(len(patches)):\n",
    "        if vis[i]:\n",
    "            continue\n",
    "        vis[i] = 1\n",
    "        #plt.imshow(patches[i])\n",
    "        #plt.show()\n",
    "        imd_patch.append(patches[i])\n",
    "        for j in range(i + 1, len(patches)):\n",
    "            if vis[j]:\n",
    "                continue\n",
    "            if SSIM(patches[i], patches[j]) >= 0.65:\n",
    "                # i guess 87% match onek \n",
    "                #print(SSIM(patches[i], patches[j]))\n",
    "                #print(i, j)\n",
    "                #plt.imshow(patches[j])\n",
    "                #plt.show()\n",
    "                vis[j] = 1\n",
    "    # print(len(imd_patch))\n",
    "    os.makedirs(os.path.join(OUTPUT_DIR, name), exist_ok=True)\n",
    "    for i, x in enumerate(imd_patch):\n",
    "        cv2.imwrite(os.path.join(OUTPUT_DIR, name, str(i)+'.jpg'), x) "
   ]
  },
  {
   "cell_type": "code",
   "execution_count": 18,
   "metadata": {
    "tags": []
   },
   "outputs": [
    {
     "output_type": "stream",
     "name": "stdout",
     "text": [
      "28\n13\n"
     ]
    }
   ],
   "source": [
    "extract_imd('1c8xyn/1c8xyn_orig.jpg', 64)"
   ]
  },
  {
   "cell_type": "code",
   "execution_count": 86,
   "metadata": {},
   "outputs": [
    {
     "output_type": "execute_result",
     "data": {
      "text/plain": [
       "                                            image_patch mask_patch  label  \\\n",
       "0                                1c8xyn/1c8xyn_orig.jpg        NaN      0   \n",
       "2                     extra_orig/fabola_47344752582.jpg        NaN      0   \n",
       "6                extra_orig/42606939@N07_4408765847.jpg        NaN      0   \n",
       "8                   extra_orig/gnomeasia_3366728985.jpg        NaN      0   \n",
       "10                 extra_orig/brewbooks_15158477613.jpg        NaN      0   \n",
       "...                                                 ...        ...    ...   \n",
       "2350              extra_orig/andressolo_26220435839.jpg        NaN      0   \n",
       "2351      extra_orig/images_improbables_15182377436.jpg        NaN      0   \n",
       "2354               extra_orig/mdpettitt_30889731788.jpg        NaN      0   \n",
       "2357  extra_orig/concursofotografiacomites_544586521...        NaN      0   \n",
       "2358                             1b26rs/1b26rs_orig.jpg        NaN      0   \n",
       "\n",
       "      fold                                                ela  \n",
       "0        0                         1c8xyn/1c8xyn_orig_ela.jpg  \n",
       "2        0              extra_orig/fabola_47344752582_ela.jpg  \n",
       "6        0         extra_orig/42606939@N07_4408765847_ela.jpg  \n",
       "8        0            extra_orig/gnomeasia_3366728985_ela.jpg  \n",
       "10       0           extra_orig/brewbooks_15158477613_ela.jpg  \n",
       "...    ...                                                ...  \n",
       "2350     7          extra_orig/andressolo_26220435839_ela.jpg  \n",
       "2351     7  extra_orig/images_improbables_15182377436_ela.jpg  \n",
       "2354     7           extra_orig/mdpettitt_30889731788_ela.jpg  \n",
       "2357     7  extra_orig/concursofotografiacomites_544586521...  \n",
       "2358     7                         1b26rs/1b26rs_orig_ela.jpg  \n",
       "\n",
       "[1206 rows x 5 columns]"
      ],
      "text/html": "<div>\n<style scoped>\n    .dataframe tbody tr th:only-of-type {\n        vertical-align: middle;\n    }\n\n    .dataframe tbody tr th {\n        vertical-align: top;\n    }\n\n    .dataframe thead th {\n        text-align: right;\n    }\n</style>\n<table border=\"1\" class=\"dataframe\">\n  <thead>\n    <tr style=\"text-align: right;\">\n      <th></th>\n      <th>image_patch</th>\n      <th>mask_patch</th>\n      <th>label</th>\n      <th>fold</th>\n      <th>ela</th>\n    </tr>\n  </thead>\n  <tbody>\n    <tr>\n      <th>0</th>\n      <td>1c8xyn/1c8xyn_orig.jpg</td>\n      <td>NaN</td>\n      <td>0</td>\n      <td>0</td>\n      <td>1c8xyn/1c8xyn_orig_ela.jpg</td>\n    </tr>\n    <tr>\n      <th>2</th>\n      <td>extra_orig/fabola_47344752582.jpg</td>\n      <td>NaN</td>\n      <td>0</td>\n      <td>0</td>\n      <td>extra_orig/fabola_47344752582_ela.jpg</td>\n    </tr>\n    <tr>\n      <th>6</th>\n      <td>extra_orig/42606939@N07_4408765847.jpg</td>\n      <td>NaN</td>\n      <td>0</td>\n      <td>0</td>\n      <td>extra_orig/42606939@N07_4408765847_ela.jpg</td>\n    </tr>\n    <tr>\n      <th>8</th>\n      <td>extra_orig/gnomeasia_3366728985.jpg</td>\n      <td>NaN</td>\n      <td>0</td>\n      <td>0</td>\n      <td>extra_orig/gnomeasia_3366728985_ela.jpg</td>\n    </tr>\n    <tr>\n      <th>10</th>\n      <td>extra_orig/brewbooks_15158477613.jpg</td>\n      <td>NaN</td>\n      <td>0</td>\n      <td>0</td>\n      <td>extra_orig/brewbooks_15158477613_ela.jpg</td>\n    </tr>\n    <tr>\n      <th>...</th>\n      <td>...</td>\n      <td>...</td>\n      <td>...</td>\n      <td>...</td>\n      <td>...</td>\n    </tr>\n    <tr>\n      <th>2350</th>\n      <td>extra_orig/andressolo_26220435839.jpg</td>\n      <td>NaN</td>\n      <td>0</td>\n      <td>7</td>\n      <td>extra_orig/andressolo_26220435839_ela.jpg</td>\n    </tr>\n    <tr>\n      <th>2351</th>\n      <td>extra_orig/images_improbables_15182377436.jpg</td>\n      <td>NaN</td>\n      <td>0</td>\n      <td>7</td>\n      <td>extra_orig/images_improbables_15182377436_ela.jpg</td>\n    </tr>\n    <tr>\n      <th>2354</th>\n      <td>extra_orig/mdpettitt_30889731788.jpg</td>\n      <td>NaN</td>\n      <td>0</td>\n      <td>7</td>\n      <td>extra_orig/mdpettitt_30889731788_ela.jpg</td>\n    </tr>\n    <tr>\n      <th>2357</th>\n      <td>extra_orig/concursofotografiacomites_544586521...</td>\n      <td>NaN</td>\n      <td>0</td>\n      <td>7</td>\n      <td>extra_orig/concursofotografiacomites_544586521...</td>\n    </tr>\n    <tr>\n      <th>2358</th>\n      <td>1b26rs/1b26rs_orig.jpg</td>\n      <td>NaN</td>\n      <td>0</td>\n      <td>7</td>\n      <td>1b26rs/1b26rs_orig_ela.jpg</td>\n    </tr>\n  </tbody>\n</table>\n<p>1206 rows × 5 columns</p>\n</div>"
     },
     "metadata": {},
     "execution_count": 86
    }
   ],
   "source": [
    "real = df.loc[df['label'] == 0]\n",
    "real"
   ]
  },
  {
   "cell_type": "code",
   "execution_count": 87,
   "metadata": {},
   "outputs": [
    {
     "output_type": "execute_result",
     "data": {
      "text/plain": [
       "array([['1c8xyn/1c8xyn_orig.jpg', nan, 0, 0,\n",
       "        '1c8xyn/1c8xyn_orig_ela.jpg'],\n",
       "       ['extra_orig/fabola_47344752582.jpg', nan, 0, 0,\n",
       "        'extra_orig/fabola_47344752582_ela.jpg'],\n",
       "       ['extra_orig/42606939@N07_4408765847.jpg', nan, 0, 0,\n",
       "        'extra_orig/42606939@N07_4408765847_ela.jpg'],\n",
       "       ['extra_orig/gnomeasia_3366728985.jpg', nan, 0, 0,\n",
       "        'extra_orig/gnomeasia_3366728985_ela.jpg'],\n",
       "       ['extra_orig/brewbooks_15158477613.jpg', nan, 0, 0,\n",
       "        'extra_orig/brewbooks_15158477613_ela.jpg']], dtype=object)"
      ]
     },
     "metadata": {},
     "execution_count": 87
    }
   ],
   "source": [
    "params = real.values\n",
    "params[:5]"
   ]
  },
  {
   "cell_type": "code",
   "execution_count": 88,
   "metadata": {},
   "outputs": [
    {
     "output_type": "stream",
     "name": "stderr",
     "text": [
      "100%|██████████| 1206/1206 [03:59<00:00,  5.04it/s]\n"
     ]
    }
   ],
   "source": [
    "from functools import partial\n",
    "from glob import glob\n",
    "from multiprocessing.pool import Pool\n",
    "from pathlib import Path\n",
    "\n",
    "with Pool(processes=os.cpu_count()) as p:\n",
    "    with tqdm(total=len(params)) as pbar:\n",
    "        for v in p.imap_unordered(partial(extract_imd, increment=64), params):\n",
    "            pbar.update()"
   ]
  },
  {
   "cell_type": "code",
   "execution_count": 89,
   "metadata": {},
   "outputs": [],
   "source": [
    "real_names = [x[0].split('/')[-1][:-4] for x in params]"
   ]
  },
  {
   "cell_type": "code",
   "execution_count": 99,
   "metadata": {},
   "outputs": [
    {
     "output_type": "stream",
     "name": "stdout",
     "text": [
      "1153\n"
     ]
    },
    {
     "output_type": "execute_result",
     "data": {
      "text/plain": [
       "['c8t9rsw_0', 'c8tf5mq_0', 'c8tt7fg_0', 'c8ttni9_0', 'c8ttxcu_0']"
      ]
     },
     "metadata": {},
     "execution_count": 99
    }
   ],
   "source": [
    "fakes = []\n",
    "for x in files:\n",
    "    if x not in real_names:\n",
    "        fakes.append(x)\n",
    "print(len(fakes))\n",
    "fakes[:5]"
   ]
  },
  {
   "cell_type": "code",
   "execution_count": 98,
   "metadata": {},
   "outputs": [
    {
     "output_type": "stream",
     "name": "stdout",
     "text": [
      "2359\n"
     ]
    },
    {
     "output_type": "execute_result",
     "data": {
      "text/plain": [
       "['c8t9rsw_0', 'c8tf5mq_0', 'c8tt7fg_0', 'c8ttni9_0', 'c8ttxcu_0']"
      ]
     },
     "metadata": {},
     "execution_count": 98
    }
   ],
   "source": [
    "files = os.listdir(OUTPUT_DIR)\n",
    "print(len(files))\n",
    "files[:5]"
   ]
  },
  {
   "cell_type": "code",
   "execution_count": 110,
   "metadata": {},
   "outputs": [],
   "source": [
    "rows = []"
   ]
  },
  {
   "cell_type": "code",
   "execution_count": 111,
   "metadata": {},
   "outputs": [
    {
     "output_type": "stream",
     "name": "stderr",
     "text": [
      "100%|██████████| 1206/1206 [00:00<00:00, 4239.43it/s]\n"
     ]
    }
   ],
   "source": [
    "from PIL import Image\n",
    "for x in tqdm(real_names):\n",
    "    # print(x)\n",
    "    ims = os.listdir(os.path.join(OUTPUT_DIR, x))\n",
    "    for i in ims:\n",
    "        rows.append({\n",
    "            'image':x,\n",
    "            'image_patch':i,\n",
    "            'mask_patch':'',\n",
    "            'label':0\n",
    "        })"
   ]
  },
  {
   "cell_type": "code",
   "execution_count": 101,
   "metadata": {},
   "outputs": [
    {
     "output_type": "stream",
     "name": "stderr",
     "text": [
      "100%|██████████| 1153/1153 [01:18<00:00, 14.68it/s]\n"
     ]
    }
   ],
   "source": [
    "from PIL import Image\n",
    "for x in tqdm(fakes):\n",
    "    # print(x)\n",
    "    ims = [z for z in os.listdir(os.path.join(OUTPUT_DIR, x)) if z.endswith('png')]\n",
    "    # print(len(ims))\n",
    "    for z in ims:\n",
    "        img = Image.open(os.path.join(OUTPUT_DIR, x, z))\n",
    "        img.save(os.path.join(OUTPUT_DIR, x, z[:-4]+'.jpg'))\n",
    "        # cv2.imwrite(os.path.join(OUTPUT_DIR, x, z[:-4]+'.jpg'), img)\n",
    "        os.remove(os.path.join(OUTPUT_DIR, x, z))\n",
    "\n",
    "    for i in range(len(ims)//2):\n",
    "        rows.append({\n",
    "            'image':x,\n",
    "            'image_patch':str(i)+'.jpg',\n",
    "            'mask_patch':str(i)+'_gt.jpg',\n",
    "            'label':1\n",
    "        })"
   ]
  },
  {
   "cell_type": "code",
   "execution_count": 114,
   "metadata": {},
   "outputs": [
    {
     "output_type": "execute_result",
     "data": {
      "text/plain": [
       "           image image_patch mask_patch  label\n",
       "0      c8t9rsw_0       0.jpg   0_gt.jpg      1\n",
       "1      c8tf5mq_0       0.jpg   0_gt.jpg      1\n",
       "2      c8tf5mq_0       1.jpg   1_gt.jpg      1\n",
       "3      c8tf5mq_0       2.jpg   2_gt.jpg      1\n",
       "4      c8tf5mq_0       3.jpg   3_gt.jpg      1\n",
       "...          ...         ...        ...    ...\n",
       "29992  c9dwcgf_0      60.jpg  60_gt.jpg      1\n",
       "29993  c9dwcgf_0      61.jpg  61_gt.jpg      1\n",
       "29994  c9dwcgf_0      62.jpg  62_gt.jpg      1\n",
       "29995  c8swtoq_0       0.jpg   0_gt.jpg      1\n",
       "29996  c8swtoq_0       1.jpg   1_gt.jpg      1\n",
       "\n",
       "[29997 rows x 4 columns]"
      ],
      "text/html": "<div>\n<style scoped>\n    .dataframe tbody tr th:only-of-type {\n        vertical-align: middle;\n    }\n\n    .dataframe tbody tr th {\n        vertical-align: top;\n    }\n\n    .dataframe thead th {\n        text-align: right;\n    }\n</style>\n<table border=\"1\" class=\"dataframe\">\n  <thead>\n    <tr style=\"text-align: right;\">\n      <th></th>\n      <th>image</th>\n      <th>image_patch</th>\n      <th>mask_patch</th>\n      <th>label</th>\n    </tr>\n  </thead>\n  <tbody>\n    <tr>\n      <th>0</th>\n      <td>c8t9rsw_0</td>\n      <td>0.jpg</td>\n      <td>0_gt.jpg</td>\n      <td>1</td>\n    </tr>\n    <tr>\n      <th>1</th>\n      <td>c8tf5mq_0</td>\n      <td>0.jpg</td>\n      <td>0_gt.jpg</td>\n      <td>1</td>\n    </tr>\n    <tr>\n      <th>2</th>\n      <td>c8tf5mq_0</td>\n      <td>1.jpg</td>\n      <td>1_gt.jpg</td>\n      <td>1</td>\n    </tr>\n    <tr>\n      <th>3</th>\n      <td>c8tf5mq_0</td>\n      <td>2.jpg</td>\n      <td>2_gt.jpg</td>\n      <td>1</td>\n    </tr>\n    <tr>\n      <th>4</th>\n      <td>c8tf5mq_0</td>\n      <td>3.jpg</td>\n      <td>3_gt.jpg</td>\n      <td>1</td>\n    </tr>\n    <tr>\n      <th>...</th>\n      <td>...</td>\n      <td>...</td>\n      <td>...</td>\n      <td>...</td>\n    </tr>\n    <tr>\n      <th>29992</th>\n      <td>c9dwcgf_0</td>\n      <td>60.jpg</td>\n      <td>60_gt.jpg</td>\n      <td>1</td>\n    </tr>\n    <tr>\n      <th>29993</th>\n      <td>c9dwcgf_0</td>\n      <td>61.jpg</td>\n      <td>61_gt.jpg</td>\n      <td>1</td>\n    </tr>\n    <tr>\n      <th>29994</th>\n      <td>c9dwcgf_0</td>\n      <td>62.jpg</td>\n      <td>62_gt.jpg</td>\n      <td>1</td>\n    </tr>\n    <tr>\n      <th>29995</th>\n      <td>c8swtoq_0</td>\n      <td>0.jpg</td>\n      <td>0_gt.jpg</td>\n      <td>1</td>\n    </tr>\n    <tr>\n      <th>29996</th>\n      <td>c8swtoq_0</td>\n      <td>1.jpg</td>\n      <td>1_gt.jpg</td>\n      <td>1</td>\n    </tr>\n  </tbody>\n</table>\n<p>29997 rows × 4 columns</p>\n</div>"
     },
     "metadata": {},
     "execution_count": 114
    }
   ],
   "source": [
    "# fake_df = pd.DataFrame(rows)\n",
    "fake_df"
   ]
  },
  {
   "cell_type": "code",
   "execution_count": 113,
   "metadata": {},
   "outputs": [
    {
     "output_type": "execute_result",
     "data": {
      "text/plain": [
       "             image image_patch mask_patch  label\n",
       "0      1c8xyn_orig      27.jpg                 0\n",
       "1      1c8xyn_orig       0.jpg                 0\n",
       "2      1c8xyn_orig       1.jpg                 0\n",
       "3      1c8xyn_orig      10.jpg                 0\n",
       "4      1c8xyn_orig      11.jpg                 0\n",
       "...            ...         ...        ...    ...\n",
       "89367  1b26rs_orig       5.jpg                 0\n",
       "89368  1b26rs_orig       6.jpg                 0\n",
       "89369  1b26rs_orig       7.jpg                 0\n",
       "89370  1b26rs_orig       8.jpg                 0\n",
       "89371  1b26rs_orig       9.jpg                 0\n",
       "\n",
       "[89372 rows x 4 columns]"
      ],
      "text/html": "<div>\n<style scoped>\n    .dataframe tbody tr th:only-of-type {\n        vertical-align: middle;\n    }\n\n    .dataframe tbody tr th {\n        vertical-align: top;\n    }\n\n    .dataframe thead th {\n        text-align: right;\n    }\n</style>\n<table border=\"1\" class=\"dataframe\">\n  <thead>\n    <tr style=\"text-align: right;\">\n      <th></th>\n      <th>image</th>\n      <th>image_patch</th>\n      <th>mask_patch</th>\n      <th>label</th>\n    </tr>\n  </thead>\n  <tbody>\n    <tr>\n      <th>0</th>\n      <td>1c8xyn_orig</td>\n      <td>27.jpg</td>\n      <td></td>\n      <td>0</td>\n    </tr>\n    <tr>\n      <th>1</th>\n      <td>1c8xyn_orig</td>\n      <td>0.jpg</td>\n      <td></td>\n      <td>0</td>\n    </tr>\n    <tr>\n      <th>2</th>\n      <td>1c8xyn_orig</td>\n      <td>1.jpg</td>\n      <td></td>\n      <td>0</td>\n    </tr>\n    <tr>\n      <th>3</th>\n      <td>1c8xyn_orig</td>\n      <td>10.jpg</td>\n      <td></td>\n      <td>0</td>\n    </tr>\n    <tr>\n      <th>4</th>\n      <td>1c8xyn_orig</td>\n      <td>11.jpg</td>\n      <td></td>\n      <td>0</td>\n    </tr>\n    <tr>\n      <th>...</th>\n      <td>...</td>\n      <td>...</td>\n      <td>...</td>\n      <td>...</td>\n    </tr>\n    <tr>\n      <th>89367</th>\n      <td>1b26rs_orig</td>\n      <td>5.jpg</td>\n      <td></td>\n      <td>0</td>\n    </tr>\n    <tr>\n      <th>89368</th>\n      <td>1b26rs_orig</td>\n      <td>6.jpg</td>\n      <td></td>\n      <td>0</td>\n    </tr>\n    <tr>\n      <th>89369</th>\n      <td>1b26rs_orig</td>\n      <td>7.jpg</td>\n      <td></td>\n      <td>0</td>\n    </tr>\n    <tr>\n      <th>89370</th>\n      <td>1b26rs_orig</td>\n      <td>8.jpg</td>\n      <td></td>\n      <td>0</td>\n    </tr>\n    <tr>\n      <th>89371</th>\n      <td>1b26rs_orig</td>\n      <td>9.jpg</td>\n      <td></td>\n      <td>0</td>\n    </tr>\n  </tbody>\n</table>\n<p>89372 rows × 4 columns</p>\n</div>"
     },
     "metadata": {},
     "execution_count": 113
    }
   ],
   "source": [
    "real_df = pd.DataFrame(rows)\n",
    "real_df"
   ]
  },
  {
   "cell_type": "code",
   "execution_count": 2,
   "metadata": {},
   "outputs": [],
   "source": [
    "df = pd.read_csv('cmfd_FULL.csv')"
   ]
  },
  {
   "cell_type": "code",
   "execution_count": 4,
   "metadata": {},
   "outputs": [],
   "source": [
    "def check(param):\n",
    "    if not os.path.exists(os.path.join('Image_Manipulation_Dataset/COCO_CMFD', param[0])):\n",
    "        print(param)\n",
    "    # if param[-1] == 1:\n",
    "    #     if not os.path.exists(os.path.join('Image_Manipulation_Dataset/COCO_CMFD', param[0], param[2])):\n",
    "    #         print(param)"
   ]
  },
  {
   "cell_type": "code",
   "execution_count": 3,
   "metadata": {},
   "outputs": [],
   "source": [
    "# df = pd.read_csv('imd_64.csv')\n",
    "data = df.values"
   ]
  },
  {
   "cell_type": "code",
   "execution_count": 5,
   "metadata": {},
   "outputs": [
    {
     "output_type": "stream",
     "name": "stderr",
     "text": [
      "100%|██████████| 7094/7094 [00:00<00:00, 10789.14it/s]\n"
     ]
    }
   ],
   "source": [
    "for x in tqdm(data):\n",
    "    check(x)"
   ]
  },
  {
   "cell_type": "code",
   "execution_count": 115,
   "metadata": {},
   "outputs": [],
   "source": [
    "df = pd.concat([real_df, fake_df])"
   ]
  },
  {
   "cell_type": "code",
   "execution_count": 116,
   "metadata": {},
   "outputs": [],
   "source": [
    "df.to_csv('imd_64.csv', index=False)"
   ]
  }
 ]
}