{
 "metadata": {
  "language_info": {
   "codemirror_mode": {
    "name": "ipython",
    "version": 3
   },
   "file_extension": ".py",
   "mimetype": "text/x-python",
   "name": "python",
   "nbconvert_exporter": "python",
   "pygments_lexer": "ipython3",
   "version": "3.7.3-final"
  },
  "orig_nbformat": 2,
  "kernelspec": {
   "name": "python3",
   "display_name": "Python 3",
   "language": "python"
  }
 },
 "nbformat": 4,
 "nbformat_minor": 2,
 "cells": [
  {
   "cell_type": "code",
   "execution_count": 1,
   "metadata": {},
   "outputs": [],
   "source": [
    "import pandas as pd\n",
    "import random\n",
    "import sys\n",
    "import os\n",
    "import matplotlib.pyplot as plt\n",
    "import numpy as np\n",
    "import cv2\n",
    "from sklearn import model_selection\n",
    "from importlib import reload\n",
    "from tqdm import tqdm\n",
    "import shutil\n",
    "\n",
    "import PIL\n",
    "from PIL import Image, ImageChops, ImageOps\n",
    "import time\n",
    "import math\n",
    "\n",
    "import albumentations\n",
    "from albumentations import augmentations"
   ]
  },
  {
   "cell_type": "code",
   "execution_count": 6,
   "metadata": {},
   "outputs": [],
   "source": [
    "dirs = os.listdir('Image_Manipulation_Dataset/CASIA_2.0/image_patch_64')\n",
    "incomplete = []\n",
    "for dir in dirs:\n",
    "    if os.path.exists(os.path.join('Image_Manipulation_Dataset/CASIA_2.0/image_patch_64', dir, 'done.txt')):\n",
    "        continue\n",
    "    else:\n",
    "        incomplete.append(dir)"
   ]
  },
  {
   "cell_type": "code",
   "execution_count": 5,
   "metadata": {},
   "outputs": [],
   "source": [
    "import shutil\n",
    "for _ in incomplete:\n",
    "    shutil.rmtree(os.path.join('Image_Manipulation_Dataset/CASIA_2.0/image_patch_64',_))"
   ]
  },
  {
   "cell_type": "code",
   "execution_count": 43,
   "metadata": {},
   "outputs": [],
   "source": [
    "# files = os.listdir('Image_Manipulation_Dataset/IMD2020/imd_data/extra_orig')\n",
    "# real_df = pd.DataFrame(files, columns=['image_patch'])"
   ]
  },
  {
   "cell_type": "code",
   "execution_count": 18,
   "metadata": {},
   "outputs": [
    {
     "output_type": "display_data",
     "data": {
      "text/plain": "HBox(children=(FloatProgress(value=0.0, max=119369.0), HTML(value='')))",
      "application/vnd.jupyter.widget-view+json": {
       "version_major": 2,
       "version_minor": 0,
       "model_id": "ff883fbef71f47dd86ed1d680214900b"
      }
     },
     "metadata": {}
    },
    {
     "output_type": "stream",
     "name": "stdout",
     "text": [
      "\n"
     ]
    }
   ],
   "source": [
    "with tqdm_notebook(total=df.shape[0]) as pbar:\n",
    "    for i, row in df.iterrows():\n",
    "        name = row['image_patch']\n",
    "        # real_df.loc[i, 'image_patch'] = 'extra_orig/'+name\n",
    "        # real_df.loc[i, 'mask_patch'] = ''\n",
    "        # real_df.loc[i, 'label'] = int(0)\n",
    "        # real_df.loc[i, 'fold'] = int(-1)\n",
    "        df.loc[i, 'ela'] = name[:-4]+'_ela.jpg'\n",
    "        pbar.update(1)"
   ]
  },
  {
   "cell_type": "code",
   "execution_count": 25,
   "metadata": {},
   "outputs": [],
   "source": [
    "df = df.sample(frac=1).reset_index(drop=True)\n",
    "df[\"fold\"] = -1  \n",
    "y = df.label.values\n",
    "kf = model_selection.StratifiedKFold(n_splits=10)\n",
    "\n",
    "for f, (t_, v_) in enumerate(kf.split(X=df, y=y)):\n",
    "    df.loc[v_, 'fold'] = f"
   ]
  },
  {
   "cell_type": "code",
   "execution_count": 27,
   "metadata": {},
   "outputs": [],
   "source": [
    "df.to_csv('cmfd_FULL.csv', index=False)"
   ]
  },
  {
   "cell_type": "code",
   "execution_count": 31,
   "metadata": {},
   "outputs": [],
   "source": [
    "DIR = 'Image_Manipulation_Dataset/COCO_CMFD'\n",
    "df = pd.read_csv('cmfd_FULL.csv')"
   ]
  },
  {
   "cell_type": "code",
   "execution_count": 37,
   "metadata": {},
   "outputs": [
    {
     "output_type": "stream",
     "name": "stdout",
     "text": [
      "Image_Manipulation_Dataset/COCO_CMFD/real/000000460347_ela.jpg\n"
     ]
    }
   ],
   "source": [
    "ELA(data[0], DIR)"
   ]
  },
  {
   "cell_type": "code",
   "execution_count": 28,
   "metadata": {},
   "outputs": [
    {
     "output_type": "execute_result",
     "data": {
      "text/plain": [
       "                  image_patch                mask_patch  label  fold  \\\n",
       "0       real/000000460347.jpg                       NaN      0     0   \n",
       "1       real/000000570782.jpg                       NaN      0     0   \n",
       "2       real/000000213255.jpg                       NaN      0     0   \n",
       "3       real/000000002261.jpg                       NaN      0     0   \n",
       "4  fake/000000356248_fake.jpg  mask/000000356248_gt.jpg      1     0   \n",
       "\n",
       "                              ela  \n",
       "0       real/000000460347_ela.jpg  \n",
       "1       real/000000570782_ela.jpg  \n",
       "2       real/000000213255_ela.jpg  \n",
       "3       real/000000002261_ela.jpg  \n",
       "4  fake/000000356248_fake_ela.jpg  "
      ],
      "text/html": "<div>\n<style scoped>\n    .dataframe tbody tr th:only-of-type {\n        vertical-align: middle;\n    }\n\n    .dataframe tbody tr th {\n        vertical-align: top;\n    }\n\n    .dataframe thead th {\n        text-align: right;\n    }\n</style>\n<table border=\"1\" class=\"dataframe\">\n  <thead>\n    <tr style=\"text-align: right;\">\n      <th></th>\n      <th>image_patch</th>\n      <th>mask_patch</th>\n      <th>label</th>\n      <th>fold</th>\n      <th>ela</th>\n    </tr>\n  </thead>\n  <tbody>\n    <tr>\n      <th>0</th>\n      <td>real/000000460347.jpg</td>\n      <td>NaN</td>\n      <td>0</td>\n      <td>0</td>\n      <td>real/000000460347_ela.jpg</td>\n    </tr>\n    <tr>\n      <th>1</th>\n      <td>real/000000570782.jpg</td>\n      <td>NaN</td>\n      <td>0</td>\n      <td>0</td>\n      <td>real/000000570782_ela.jpg</td>\n    </tr>\n    <tr>\n      <th>2</th>\n      <td>real/000000213255.jpg</td>\n      <td>NaN</td>\n      <td>0</td>\n      <td>0</td>\n      <td>real/000000213255_ela.jpg</td>\n    </tr>\n    <tr>\n      <th>3</th>\n      <td>real/000000002261.jpg</td>\n      <td>NaN</td>\n      <td>0</td>\n      <td>0</td>\n      <td>real/000000002261_ela.jpg</td>\n    </tr>\n    <tr>\n      <th>4</th>\n      <td>fake/000000356248_fake.jpg</td>\n      <td>mask/000000356248_gt.jpg</td>\n      <td>1</td>\n      <td>0</td>\n      <td>fake/000000356248_fake_ela.jpg</td>\n    </tr>\n  </tbody>\n</table>\n</div>"
     },
     "metadata": {},
     "execution_count": 28
    }
   ],
   "source": [
    "df.head()"
   ]
  },
  {
   "cell_type": "code",
   "execution_count": 23,
   "metadata": {},
   "outputs": [
    {
     "output_type": "display_data",
     "data": {
      "text/plain": "HBox(children=(FloatProgress(value=0.0, max=1361.0), HTML(value='')))",
      "application/vnd.jupyter.widget-view+json": {
       "version_major": 2,
       "version_minor": 0,
       "model_id": "a2418fa1ed0f4fcfba9a6870a746a0f5"
      }
     },
     "metadata": {}
    },
    {
     "output_type": "stream",
     "name": "stdout",
     "text": [
      "\n"
     ]
    }
   ],
   "source": [
    "with tqdm_notebook(total=df.shape[0]) as pbar:\n",
    "    cnt = 0\n",
    "    for i, row in df.iterrows():\n",
    "        # if row['label'] == 0:\n",
    "        cnt += 1\n",
    "        image_name = row['image']\n",
    "        # image_patch = \n",
    "\n",
    "        image_path = os.path.join(DIR, row['image'])\n",
    "        ela_path = os.path.join(DIR, row['image'][:-4]+'_ela.jpg')\n",
    "        # plt.imshow(image)\n",
    "        # plt.show()\n",
    "        # ela = ELA(image_path)\n",
    "        # ela.save(ela_path)\n",
    "        df.loc[i, 'ela'] = row['image'][:-4]+'_ela.jpg'\n",
    "        # print(ela_path)\n",
    "        # if cnt >= 5:\n",
    "        #     break\n",
    "        pbar.update(1)"
   ]
  },
  {
   "cell_type": "code",
   "execution_count": 34,
   "metadata": {},
   "outputs": [],
   "source": [
    "from functools import partial\n",
    "from glob import glob\n",
    "from multiprocessing.pool import Pool\n",
    "from pathlib import Path\n",
    "\n",
    "data = df.values"
   ]
  },
  {
   "cell_type": "code",
   "execution_count": 40,
   "metadata": {},
   "outputs": [
    {
     "output_type": "stream",
     "name": "stderr",
     "text": [
      "100%|██████████| 7094/7094 [01:55<00:00, 61.33it/s]\n"
     ]
    }
   ],
   "source": [
    "with Pool(processes=os.cpu_count()) as p:\n",
    "    with tqdm(total=len(data)) as pbar:\n",
    "        for v in p.imap_unordered(partial(ELA, ROOT=DIR), data):\n",
    "            pbar.update()"
   ]
  },
  {
   "cell_type": "code",
   "execution_count": 59,
   "metadata": {},
   "outputs": [
    {
     "output_type": "stream",
     "name": "stderr",
     "text": [
      "  3%|▎         | 34/1000 [00:24<10:32,  1.53it/s]['extra_orig/134476822@N04_31849548607.jpg' '' 0.0 -1.0\n",
      " 'extra_orig/134476822@N04_31849548607_ela.jpg']\n",
      "'int' object is not iterable\n",
      " 30%|███       | 300/1000 [03:38<08:07,  1.44it/s]['extra_orig/biscotte_223941196.jpg' '' 0.0 -1.0\n",
      " 'extra_orig/biscotte_223941196_ela.jpg']\n",
      "'int' object is not iterable\n",
      "100%|██████████| 1000/1000 [12:03<00:00,  1.38it/s]\n"
     ]
    }
   ],
   "source": [
    "for x in tqdm(data):\n",
    "    try:\n",
    "        ELA(x, DIR)\n",
    "    except Exception as e:\n",
    "        print(x)\n",
    "        print(e)"
   ]
  },
  {
   "cell_type": "code",
   "execution_count": 27,
   "metadata": {},
   "outputs": [
    {
     "output_type": "display_data",
     "data": {
      "text/plain": "HBox(children=(FloatProgress(value=0.0, max=2359.0), HTML(value='')))",
      "application/vnd.jupyter.widget-view+json": {
       "version_major": 2,
       "version_minor": 0,
       "model_id": "2679199343224bbf9c6738509f248dec"
      }
     },
     "metadata": {}
    },
    {
     "output_type": "stream",
     "name": "stdout",
     "text": [
      "\n"
     ]
    }
   ],
   "source": [
    "with tqdm_notebook(total=df.shape[0]) as pbar:\n",
    "    for i, row in df.iterrows():\n",
    "        path = row['mask_patch']\n",
    "        if not isinstance(path, str) and np.isnan(path):\n",
    "            pass\n",
    "        elif path.endswith('.png'):\n",
    "            img = cv2.imread(os.path.join(DIR, path))\n",
    "            cv2.imwrite(os.path.join(DIR, path[:-4]+'.jpg'), img)\n",
    "            os.remove(os.path.join(DIR, path))\n",
    "            df.loc[i, 'mask_patch'] = path[:-4]+'.jpg'\n",
    "        pbar.update(1)"
   ]
  },
  {
   "cell_type": "code",
   "execution_count": 28,
   "metadata": {},
   "outputs": [],
   "source": [
    "df.to_csv('imd_FULL.csv', index=False)"
   ]
  },
  {
   "cell_type": "code",
   "execution_count": 13,
   "metadata": {},
   "outputs": [],
   "source": [
    "real = os.listdir('Image_Manipulation_Dataset/COCO_CMFD/real')"
   ]
  },
  {
   "cell_type": "code",
   "execution_count": 14,
   "metadata": {},
   "outputs": [
    {
     "output_type": "execute_result",
     "data": {
      "text/plain": [
       "['000000000139.jpg',\n",
       " '000000000632.jpg',\n",
       " '000000000785.jpg',\n",
       " '000000000802.jpg',\n",
       " '000000000885.jpg']"
      ]
     },
     "metadata": {},
     "execution_count": 14
    }
   ],
   "source": [
    "real[:5]"
   ]
  },
  {
   "cell_type": "code",
   "execution_count": 15,
   "metadata": {},
   "outputs": [],
   "source": [
    "rows = []\n",
    "\n",
    "for x in real:\n",
    "    rows.append({\n",
    "        'image_patch':'real/'+x,\n",
    "        'mask_patch':'',\n",
    "        'label':0,\n",
    "        'fold':-1,\n",
    "        'ela':'real/'+x[:-4]+'_ela.jpg'\n",
    "    })"
   ]
  },
  {
   "cell_type": "code",
   "execution_count": 17,
   "metadata": {},
   "outputs": [
    {
     "output_type": "execute_result",
     "data": {
      "text/plain": [
       "                image_patch mask_patch  label  fold                        ela\n",
       "0     real/000000000139.jpg                 0    -1  real/000000000139_ela.jpg\n",
       "1     real/000000000632.jpg                 0    -1  real/000000000632_ela.jpg\n",
       "2     real/000000000785.jpg                 0    -1  real/000000000785_ela.jpg\n",
       "3     real/000000000802.jpg                 0    -1  real/000000000802_ela.jpg\n",
       "4     real/000000000885.jpg                 0    -1  real/000000000885_ela.jpg\n",
       "...                     ...        ...    ...   ...                        ...\n",
       "3542  real/000000581062.jpg                 0    -1  real/000000581062_ela.jpg\n",
       "3543  real/000000581100.jpg                 0    -1  real/000000581100_ela.jpg\n",
       "3544  real/000000581317.jpg                 0    -1  real/000000581317_ela.jpg\n",
       "3545  real/000000581357.jpg                 0    -1  real/000000581357_ela.jpg\n",
       "3546  real/000000581781.jpg                 0    -1  real/000000581781_ela.jpg\n",
       "\n",
       "[3547 rows x 5 columns]"
      ],
      "text/html": "<div>\n<style scoped>\n    .dataframe tbody tr th:only-of-type {\n        vertical-align: middle;\n    }\n\n    .dataframe tbody tr th {\n        vertical-align: top;\n    }\n\n    .dataframe thead th {\n        text-align: right;\n    }\n</style>\n<table border=\"1\" class=\"dataframe\">\n  <thead>\n    <tr style=\"text-align: right;\">\n      <th></th>\n      <th>image_patch</th>\n      <th>mask_patch</th>\n      <th>label</th>\n      <th>fold</th>\n      <th>ela</th>\n    </tr>\n  </thead>\n  <tbody>\n    <tr>\n      <th>0</th>\n      <td>real/000000000139.jpg</td>\n      <td></td>\n      <td>0</td>\n      <td>-1</td>\n      <td>real/000000000139_ela.jpg</td>\n    </tr>\n    <tr>\n      <th>1</th>\n      <td>real/000000000632.jpg</td>\n      <td></td>\n      <td>0</td>\n      <td>-1</td>\n      <td>real/000000000632_ela.jpg</td>\n    </tr>\n    <tr>\n      <th>2</th>\n      <td>real/000000000785.jpg</td>\n      <td></td>\n      <td>0</td>\n      <td>-1</td>\n      <td>real/000000000785_ela.jpg</td>\n    </tr>\n    <tr>\n      <th>3</th>\n      <td>real/000000000802.jpg</td>\n      <td></td>\n      <td>0</td>\n      <td>-1</td>\n      <td>real/000000000802_ela.jpg</td>\n    </tr>\n    <tr>\n      <th>4</th>\n      <td>real/000000000885.jpg</td>\n      <td></td>\n      <td>0</td>\n      <td>-1</td>\n      <td>real/000000000885_ela.jpg</td>\n    </tr>\n    <tr>\n      <th>...</th>\n      <td>...</td>\n      <td>...</td>\n      <td>...</td>\n      <td>...</td>\n      <td>...</td>\n    </tr>\n    <tr>\n      <th>3542</th>\n      <td>real/000000581062.jpg</td>\n      <td></td>\n      <td>0</td>\n      <td>-1</td>\n      <td>real/000000581062_ela.jpg</td>\n    </tr>\n    <tr>\n      <th>3543</th>\n      <td>real/000000581100.jpg</td>\n      <td></td>\n      <td>0</td>\n      <td>-1</td>\n      <td>real/000000581100_ela.jpg</td>\n    </tr>\n    <tr>\n      <th>3544</th>\n      <td>real/000000581317.jpg</td>\n      <td></td>\n      <td>0</td>\n      <td>-1</td>\n      <td>real/000000581317_ela.jpg</td>\n    </tr>\n    <tr>\n      <th>3545</th>\n      <td>real/000000581357.jpg</td>\n      <td></td>\n      <td>0</td>\n      <td>-1</td>\n      <td>real/000000581357_ela.jpg</td>\n    </tr>\n    <tr>\n      <th>3546</th>\n      <td>real/000000581781.jpg</td>\n      <td></td>\n      <td>0</td>\n      <td>-1</td>\n      <td>real/000000581781_ela.jpg</td>\n    </tr>\n  </tbody>\n</table>\n<p>3547 rows × 5 columns</p>\n</div>"
     },
     "metadata": {},
     "execution_count": 17
    }
   ],
   "source": [
    "real_df = pd.DataFrame(rows)\n",
    "real_df"
   ]
  },
  {
   "cell_type": "code",
   "execution_count": 18,
   "metadata": {},
   "outputs": [
    {
     "output_type": "execute_result",
     "data": {
      "text/plain": [
       "['000000000139_fake.jpg',\n",
       " '000000000632_fake.jpg',\n",
       " '000000000785_fake.jpg',\n",
       " '000000000802_fake.jpg',\n",
       " '000000000885_fake.jpg']"
      ]
     },
     "metadata": {},
     "execution_count": 18
    }
   ],
   "source": [
    "fake = os.listdir('Image_Manipulation_Dataset/COCO_CMFD/fake')\n",
    "fake[:5]"
   ]
  },
  {
   "cell_type": "code",
   "execution_count": 19,
   "metadata": {},
   "outputs": [],
   "source": [
    "rows = []\n",
    "\n",
    "for x in fake:\n",
    "    rows.append({\n",
    "        'image_patch':'fake/'+x,\n",
    "        'mask_patch':'mask/'+x.split('_')[0]+'_gt.jpg',\n",
    "        'label':1,\n",
    "        'fold':-1,\n",
    "        'ela':'fake/'+x[:-4]+'_ela.jpg'\n",
    "    })"
   ]
  },
  {
   "cell_type": "code",
   "execution_count": 20,
   "metadata": {},
   "outputs": [
    {
     "output_type": "execute_result",
     "data": {
      "text/plain": [
       "                     image_patch                mask_patch  label  fold  \\\n",
       "0     fake/000000000139_fake.jpg  mask/000000000139_gt.jpg      1    -1   \n",
       "1     fake/000000000632_fake.jpg  mask/000000000632_gt.jpg      1    -1   \n",
       "2     fake/000000000785_fake.jpg  mask/000000000785_gt.jpg      1    -1   \n",
       "3     fake/000000000802_fake.jpg  mask/000000000802_gt.jpg      1    -1   \n",
       "4     fake/000000000885_fake.jpg  mask/000000000885_gt.jpg      1    -1   \n",
       "...                          ...                       ...    ...   ...   \n",
       "3542  fake/000000581062_fake.jpg  mask/000000581062_gt.jpg      1    -1   \n",
       "3543  fake/000000581100_fake.jpg  mask/000000581100_gt.jpg      1    -1   \n",
       "3544  fake/000000581317_fake.jpg  mask/000000581317_gt.jpg      1    -1   \n",
       "3545  fake/000000581357_fake.jpg  mask/000000581357_gt.jpg      1    -1   \n",
       "3546  fake/000000581781_fake.jpg  mask/000000581781_gt.jpg      1    -1   \n",
       "\n",
       "                                 ela  \n",
       "0     fake/000000000139_fake_ela.jpg  \n",
       "1     fake/000000000632_fake_ela.jpg  \n",
       "2     fake/000000000785_fake_ela.jpg  \n",
       "3     fake/000000000802_fake_ela.jpg  \n",
       "4     fake/000000000885_fake_ela.jpg  \n",
       "...                              ...  \n",
       "3542  fake/000000581062_fake_ela.jpg  \n",
       "3543  fake/000000581100_fake_ela.jpg  \n",
       "3544  fake/000000581317_fake_ela.jpg  \n",
       "3545  fake/000000581357_fake_ela.jpg  \n",
       "3546  fake/000000581781_fake_ela.jpg  \n",
       "\n",
       "[3547 rows x 5 columns]"
      ],
      "text/html": "<div>\n<style scoped>\n    .dataframe tbody tr th:only-of-type {\n        vertical-align: middle;\n    }\n\n    .dataframe tbody tr th {\n        vertical-align: top;\n    }\n\n    .dataframe thead th {\n        text-align: right;\n    }\n</style>\n<table border=\"1\" class=\"dataframe\">\n  <thead>\n    <tr style=\"text-align: right;\">\n      <th></th>\n      <th>image_patch</th>\n      <th>mask_patch</th>\n      <th>label</th>\n      <th>fold</th>\n      <th>ela</th>\n    </tr>\n  </thead>\n  <tbody>\n    <tr>\n      <th>0</th>\n      <td>fake/000000000139_fake.jpg</td>\n      <td>mask/000000000139_gt.jpg</td>\n      <td>1</td>\n      <td>-1</td>\n      <td>fake/000000000139_fake_ela.jpg</td>\n    </tr>\n    <tr>\n      <th>1</th>\n      <td>fake/000000000632_fake.jpg</td>\n      <td>mask/000000000632_gt.jpg</td>\n      <td>1</td>\n      <td>-1</td>\n      <td>fake/000000000632_fake_ela.jpg</td>\n    </tr>\n    <tr>\n      <th>2</th>\n      <td>fake/000000000785_fake.jpg</td>\n      <td>mask/000000000785_gt.jpg</td>\n      <td>1</td>\n      <td>-1</td>\n      <td>fake/000000000785_fake_ela.jpg</td>\n    </tr>\n    <tr>\n      <th>3</th>\n      <td>fake/000000000802_fake.jpg</td>\n      <td>mask/000000000802_gt.jpg</td>\n      <td>1</td>\n      <td>-1</td>\n      <td>fake/000000000802_fake_ela.jpg</td>\n    </tr>\n    <tr>\n      <th>4</th>\n      <td>fake/000000000885_fake.jpg</td>\n      <td>mask/000000000885_gt.jpg</td>\n      <td>1</td>\n      <td>-1</td>\n      <td>fake/000000000885_fake_ela.jpg</td>\n    </tr>\n    <tr>\n      <th>...</th>\n      <td>...</td>\n      <td>...</td>\n      <td>...</td>\n      <td>...</td>\n      <td>...</td>\n    </tr>\n    <tr>\n      <th>3542</th>\n      <td>fake/000000581062_fake.jpg</td>\n      <td>mask/000000581062_gt.jpg</td>\n      <td>1</td>\n      <td>-1</td>\n      <td>fake/000000581062_fake_ela.jpg</td>\n    </tr>\n    <tr>\n      <th>3543</th>\n      <td>fake/000000581100_fake.jpg</td>\n      <td>mask/000000581100_gt.jpg</td>\n      <td>1</td>\n      <td>-1</td>\n      <td>fake/000000581100_fake_ela.jpg</td>\n    </tr>\n    <tr>\n      <th>3544</th>\n      <td>fake/000000581317_fake.jpg</td>\n      <td>mask/000000581317_gt.jpg</td>\n      <td>1</td>\n      <td>-1</td>\n      <td>fake/000000581317_fake_ela.jpg</td>\n    </tr>\n    <tr>\n      <th>3545</th>\n      <td>fake/000000581357_fake.jpg</td>\n      <td>mask/000000581357_gt.jpg</td>\n      <td>1</td>\n      <td>-1</td>\n      <td>fake/000000581357_fake_ela.jpg</td>\n    </tr>\n    <tr>\n      <th>3546</th>\n      <td>fake/000000581781_fake.jpg</td>\n      <td>mask/000000581781_gt.jpg</td>\n      <td>1</td>\n      <td>-1</td>\n      <td>fake/000000581781_fake_ela.jpg</td>\n    </tr>\n  </tbody>\n</table>\n<p>3547 rows × 5 columns</p>\n</div>"
     },
     "metadata": {},
     "execution_count": 20
    }
   ],
   "source": [
    "fake_df = pd.DataFrame(rows)\n",
    "fake_df"
   ]
  },
  {
   "cell_type": "code",
   "execution_count": 21,
   "metadata": {},
   "outputs": [
    {
     "output_type": "execute_result",
     "data": {
      "text/plain": [
       "                     image_patch                mask_patch  label  fold  \\\n",
       "0          real/000000000139.jpg                                0    -1   \n",
       "1          real/000000000632.jpg                                0    -1   \n",
       "2          real/000000000785.jpg                                0    -1   \n",
       "3          real/000000000802.jpg                                0    -1   \n",
       "4          real/000000000885.jpg                                0    -1   \n",
       "...                          ...                       ...    ...   ...   \n",
       "3542  fake/000000581062_fake.jpg  mask/000000581062_gt.jpg      1    -1   \n",
       "3543  fake/000000581100_fake.jpg  mask/000000581100_gt.jpg      1    -1   \n",
       "3544  fake/000000581317_fake.jpg  mask/000000581317_gt.jpg      1    -1   \n",
       "3545  fake/000000581357_fake.jpg  mask/000000581357_gt.jpg      1    -1   \n",
       "3546  fake/000000581781_fake.jpg  mask/000000581781_gt.jpg      1    -1   \n",
       "\n",
       "                                 ela  \n",
       "0          real/000000000139_ela.jpg  \n",
       "1          real/000000000632_ela.jpg  \n",
       "2          real/000000000785_ela.jpg  \n",
       "3          real/000000000802_ela.jpg  \n",
       "4          real/000000000885_ela.jpg  \n",
       "...                              ...  \n",
       "3542  fake/000000581062_fake_ela.jpg  \n",
       "3543  fake/000000581100_fake_ela.jpg  \n",
       "3544  fake/000000581317_fake_ela.jpg  \n",
       "3545  fake/000000581357_fake_ela.jpg  \n",
       "3546  fake/000000581781_fake_ela.jpg  \n",
       "\n",
       "[7094 rows x 5 columns]"
      ],
      "text/html": "<div>\n<style scoped>\n    .dataframe tbody tr th:only-of-type {\n        vertical-align: middle;\n    }\n\n    .dataframe tbody tr th {\n        vertical-align: top;\n    }\n\n    .dataframe thead th {\n        text-align: right;\n    }\n</style>\n<table border=\"1\" class=\"dataframe\">\n  <thead>\n    <tr style=\"text-align: right;\">\n      <th></th>\n      <th>image_patch</th>\n      <th>mask_patch</th>\n      <th>label</th>\n      <th>fold</th>\n      <th>ela</th>\n    </tr>\n  </thead>\n  <tbody>\n    <tr>\n      <th>0</th>\n      <td>real/000000000139.jpg</td>\n      <td></td>\n      <td>0</td>\n      <td>-1</td>\n      <td>real/000000000139_ela.jpg</td>\n    </tr>\n    <tr>\n      <th>1</th>\n      <td>real/000000000632.jpg</td>\n      <td></td>\n      <td>0</td>\n      <td>-1</td>\n      <td>real/000000000632_ela.jpg</td>\n    </tr>\n    <tr>\n      <th>2</th>\n      <td>real/000000000785.jpg</td>\n      <td></td>\n      <td>0</td>\n      <td>-1</td>\n      <td>real/000000000785_ela.jpg</td>\n    </tr>\n    <tr>\n      <th>3</th>\n      <td>real/000000000802.jpg</td>\n      <td></td>\n      <td>0</td>\n      <td>-1</td>\n      <td>real/000000000802_ela.jpg</td>\n    </tr>\n    <tr>\n      <th>4</th>\n      <td>real/000000000885.jpg</td>\n      <td></td>\n      <td>0</td>\n      <td>-1</td>\n      <td>real/000000000885_ela.jpg</td>\n    </tr>\n    <tr>\n      <th>...</th>\n      <td>...</td>\n      <td>...</td>\n      <td>...</td>\n      <td>...</td>\n      <td>...</td>\n    </tr>\n    <tr>\n      <th>3542</th>\n      <td>fake/000000581062_fake.jpg</td>\n      <td>mask/000000581062_gt.jpg</td>\n      <td>1</td>\n      <td>-1</td>\n      <td>fake/000000581062_fake_ela.jpg</td>\n    </tr>\n    <tr>\n      <th>3543</th>\n      <td>fake/000000581100_fake.jpg</td>\n      <td>mask/000000581100_gt.jpg</td>\n      <td>1</td>\n      <td>-1</td>\n      <td>fake/000000581100_fake_ela.jpg</td>\n    </tr>\n    <tr>\n      <th>3544</th>\n      <td>fake/000000581317_fake.jpg</td>\n      <td>mask/000000581317_gt.jpg</td>\n      <td>1</td>\n      <td>-1</td>\n      <td>fake/000000581317_fake_ela.jpg</td>\n    </tr>\n    <tr>\n      <th>3545</th>\n      <td>fake/000000581357_fake.jpg</td>\n      <td>mask/000000581357_gt.jpg</td>\n      <td>1</td>\n      <td>-1</td>\n      <td>fake/000000581357_fake_ela.jpg</td>\n    </tr>\n    <tr>\n      <th>3546</th>\n      <td>fake/000000581781_fake.jpg</td>\n      <td>mask/000000581781_gt.jpg</td>\n      <td>1</td>\n      <td>-1</td>\n      <td>fake/000000581781_fake_ela.jpg</td>\n    </tr>\n  </tbody>\n</table>\n<p>7094 rows × 5 columns</p>\n</div>"
     },
     "metadata": {},
     "execution_count": 21
    }
   ],
   "source": [
    "df = pd.concat([real_df, fake_df])\n",
    "df"
   ]
  },
  {
   "cell_type": "code",
   "execution_count": 22,
   "metadata": {},
   "outputs": [],
   "source": [
    "df.to_csv('cmfd_FULL.csv', index=False)"
   ]
  },
  {
   "source": [
    "## COVERAGE"
   ],
   "cell_type": "markdown",
   "metadata": {}
  },
  {
   "cell_type": "code",
   "execution_count": 78,
   "metadata": {},
   "outputs": [],
   "source": [
    "import generate_ela_image\n",
    "reload(generate_ela_image)\n",
    "\n",
    "from generate_ela_image import ELA\n",
    "from PIL import Image"
   ]
  },
  {
   "cell_type": "code",
   "execution_count": 55,
   "metadata": {},
   "outputs": [],
   "source": [
    "COVERAGE_ROOT = \"G:/Image_Manipulation_Dataset/COVERAGE\"\n",
    "\n",
    "# all_images = [x for x in os.listdir(os.path.join(COVERAGE_ROOT, \"image\")) if \"ela\" not in x]\n",
    "# tampered = sorted([x for x in all_images if x.split('.')[0].endswith('t')])\n",
    "# real = sorted([x for x in list(set(all_images) - set(tampered))])"
   ]
  },
  {
   "cell_type": "code",
   "execution_count": 30,
   "metadata": {},
   "outputs": [],
   "source": [
    "for i, x in tqdm(enumerate(real)):\n",
    "    ELA( (\"image/\"+x, \"image/\"+x[:-4]+\"_ela.jpg\"), COVERAGE_ROOT)"
   ]
  },
  {
   "cell_type": "code",
   "execution_count": 21,
   "metadata": {},
   "outputs": [],
   "source": [
    "rows = []\n",
    "for x in tampered:\n",
    "    rows.append({\n",
    "        'image_patch': \"image/\"+x,\n",
    "        'mask_patch':'mask/'+x[:-5]+'forged.jpg',\n",
    "        'label':1,\n",
    "        'fold':-1,\n",
    "        'ela':'image/'+x[:-4]+'_ela.jpg'\n",
    "    })\n",
    "for x in real:\n",
    "    rows.append({\n",
    "        'image_patch': \"image/\"+x,\n",
    "        'mask_patch': None,\n",
    "        'label':0,\n",
    "        'fold':-1,\n",
    "        'ela':'image/'+x[:-4]+'_ela.jpg'\n",
    "    })"
   ]
  },
  {
   "cell_type": "code",
   "execution_count": 29,
   "metadata": {},
   "outputs": [],
   "source": [
    "df = pd.read_csv('coverage_full.csv')\n",
    "df['data_root'] = 'COVERAGE/coverage_full'\n",
    "df.to_csv('coverage_full.csv', index=False)"
   ]
  },
  {
   "cell_type": "code",
   "execution_count": 71,
   "metadata": {},
   "outputs": [],
   "source": [
    "all_images = os.listdir(os.path.join(COVERAGE_ROOT, \"image_patch_64\"))\n",
    "real = [x for x in all_images if 't' not in x]\n",
    "fake = [x for x in all_images if 't' in x]"
   ]
  },
  {
   "cell_type": "code",
   "execution_count": 72,
   "metadata": {},
   "outputs": [],
   "source": [
    "rows = []\n",
    "for d in real:\n",
    "    images = [x for x in os.listdir(os.path.join(COVERAGE_ROOT, \"image_patch_64\", d)) if 'txt' not in x]\n",
    "    for im in images:\n",
    "        rows.append({\n",
    "            'image': d,\n",
    "            'image_patch': im,\n",
    "            'mask_patch': None,\n",
    "            'label':0,\n",
    "            'fold':-1,\n",
    "            'ela':im[:-4]+'_ela.jpg',\n",
    "            'data_root': \"COVERAGE/image_patch_64\"\n",
    "        })\n",
    "for d in fake:\n",
    "    images = [x for x in os.listdir(os.path.join(COVERAGE_ROOT, \"image_patch_64\", d)) if 'txt' not in x and 'gt' not in x]\n",
    "    for im in images:\n",
    "        rows.append({\n",
    "            'image': d,\n",
    "            'image_patch': im,\n",
    "            'mask_patch': im[:-4]+\"_gt.png\",\n",
    "            'label':1,\n",
    "            'fold':-1,\n",
    "            'ela':im[:-4]+'_ela.jpg',\n",
    "            'data_root': \"COVERAGE/image_patch_64\"\n",
    "        })"
   ]
  },
  {
   "cell_type": "code",
   "execution_count": 84,
   "metadata": {},
   "outputs": [],
   "source": [
    "df = pd.read_csv('G:/Image_Manipulation_Dataset/COVERAGE/coverage_128.csv')"
   ]
  },
  {
   "cell_type": "code",
   "execution_count": 85,
   "metadata": {},
   "outputs": [
    {
     "output_type": "stream",
     "name": "stderr",
     "text": [
      "100%|██████████| 1652/1652 [01:38<00:00, 16.80it/s]\n"
     ]
    }
   ],
   "source": [
    "DIR_ROOT = \"G:/Image_Manipulation_Dataset\"\n",
    "rows64 = df.values\n",
    "for row in tqdm(rows64):\n",
    "    image, image_patch, mask_patch, label, fold, ela, data_root = row\n",
    "    impath = os.path.join(image, image_patch)\n",
    "    ela_path = os.path.join(image, ela)\n",
    "    root = os.path.join(DIR_ROOT, data_root)\n",
    "    ELA((impath, ela_path), root)"
   ]
  },
  {
   "source": [
    "## NIST"
   ],
   "cell_type": "markdown",
   "metadata": {}
  },
  {
   "cell_type": "code",
   "execution_count": 2,
   "metadata": {},
   "outputs": [],
   "source": [
    "df_main = pd.read_csv(\"G:/IMANIP Datasets/NC2016_Test0613/reference/splice/NC2016-splice-ref.csv\", delimiter='|')"
   ]
  },
  {
   "cell_type": "code",
   "execution_count": 25,
   "metadata": {},
   "outputs": [
    {
     "output_type": "execute_result",
     "data": {
      "text/plain": [
       "      TaskID  ProbeFileID          ProbeFileName  \\\n",
       "8971  Splice  NC2016_0128  probe/NC2016_0128.jpg   \n",
       "9083  Splice  NC2016_0128  probe/NC2016_0128.jpg   \n",
       "\n",
       "                          ProbeMaskFileName  DonorFileID  \\\n",
       "8971  reference/splice/mask/NC2016_3942.png  NC2016_9281   \n",
       "9083  reference/splice/mask/NC2016_3942.png  NC2016_3836   \n",
       "\n",
       "              DonorFileName                      DonorMaskFileName IsTarget  \\\n",
       "8971  world/NC2016_9281.jpg  reference/splice/mask/NC2016_3942.png        Y   \n",
       "9083  world/NC2016_3836.jpg  reference/splice/mask/NC2016_3942.png        Y   \n",
       "\n",
       "     ProbePostProcessed DonorPostProcessed ManipulationQuality  \\\n",
       "8971               none               none              simple   \n",
       "9083               none            rescale              simple   \n",
       "\n",
       "     IsManipulationTypeRemoval IsManipulationTypeSplice  \\\n",
       "8971                         N                        Y   \n",
       "9083                         N                        Y   \n",
       "\n",
       "     IsManipulationTypeCopyClone  Collection           BaseFileName Lighting  \\\n",
       "8971                           N  Nimble-SCI  world/NC2016_3272.jpg     same   \n",
       "9083                           N  Nimble-SCI  world/NC2016_3272.jpg     same   \n",
       "\n",
       "     IsControl CorrespondingControlFileName SemanticConsistency  \n",
       "8971         N        probe/NC2016_7105.jpg                 NaN  \n",
       "9083         N        probe/NC2016_7105.jpg                 NaN  "
      ],
      "text/html": "<div>\n<style scoped>\n    .dataframe tbody tr th:only-of-type {\n        vertical-align: middle;\n    }\n\n    .dataframe tbody tr th {\n        vertical-align: top;\n    }\n\n    .dataframe thead th {\n        text-align: right;\n    }\n</style>\n<table border=\"1\" class=\"dataframe\">\n  <thead>\n    <tr style=\"text-align: right;\">\n      <th></th>\n      <th>TaskID</th>\n      <th>ProbeFileID</th>\n      <th>ProbeFileName</th>\n      <th>ProbeMaskFileName</th>\n      <th>DonorFileID</th>\n      <th>DonorFileName</th>\n      <th>DonorMaskFileName</th>\n      <th>IsTarget</th>\n      <th>ProbePostProcessed</th>\n      <th>DonorPostProcessed</th>\n      <th>ManipulationQuality</th>\n      <th>IsManipulationTypeRemoval</th>\n      <th>IsManipulationTypeSplice</th>\n      <th>IsManipulationTypeCopyClone</th>\n      <th>Collection</th>\n      <th>BaseFileName</th>\n      <th>Lighting</th>\n      <th>IsControl</th>\n      <th>CorrespondingControlFileName</th>\n      <th>SemanticConsistency</th>\n    </tr>\n  </thead>\n  <tbody>\n    <tr>\n      <th>8971</th>\n      <td>Splice</td>\n      <td>NC2016_0128</td>\n      <td>probe/NC2016_0128.jpg</td>\n      <td>reference/splice/mask/NC2016_3942.png</td>\n      <td>NC2016_9281</td>\n      <td>world/NC2016_9281.jpg</td>\n      <td>reference/splice/mask/NC2016_3942.png</td>\n      <td>Y</td>\n      <td>none</td>\n      <td>none</td>\n      <td>simple</td>\n      <td>N</td>\n      <td>Y</td>\n      <td>N</td>\n      <td>Nimble-SCI</td>\n      <td>world/NC2016_3272.jpg</td>\n      <td>same</td>\n      <td>N</td>\n      <td>probe/NC2016_7105.jpg</td>\n      <td>NaN</td>\n    </tr>\n    <tr>\n      <th>9083</th>\n      <td>Splice</td>\n      <td>NC2016_0128</td>\n      <td>probe/NC2016_0128.jpg</td>\n      <td>reference/splice/mask/NC2016_3942.png</td>\n      <td>NC2016_3836</td>\n      <td>world/NC2016_3836.jpg</td>\n      <td>reference/splice/mask/NC2016_3942.png</td>\n      <td>Y</td>\n      <td>none</td>\n      <td>rescale</td>\n      <td>simple</td>\n      <td>N</td>\n      <td>Y</td>\n      <td>N</td>\n      <td>Nimble-SCI</td>\n      <td>world/NC2016_3272.jpg</td>\n      <td>same</td>\n      <td>N</td>\n      <td>probe/NC2016_7105.jpg</td>\n      <td>NaN</td>\n    </tr>\n  </tbody>\n</table>\n</div>"
     },
     "metadata": {},
     "execution_count": 25
    }
   ],
   "source": [
    "tt = df_main[df_main['ProbeFileName'] == 'probe/NC2016_0128.jpg']\n",
    "tt[tt['ProbeMaskFileName'].notna()]"
   ]
  },
  {
   "cell_type": "code",
   "execution_count": 3,
   "metadata": {},
   "outputs": [
    {
     "output_type": "execute_result",
     "data": {
      "text/plain": [
       "562800"
      ]
     },
     "metadata": {},
     "execution_count": 3
    }
   ],
   "source": [
    "rows = df_main.values\n",
    "len(rows)"
   ]
  },
  {
   "cell_type": "code",
   "execution_count": 27,
   "metadata": {},
   "outputs": [],
   "source": [
    "res = {}\n",
    "for row in rows:\n",
    "    if not isinstance(row[3], str) and np.isnan(row[3]): continue\n",
    "    else:\n",
    "        if row[2] in res:\n",
    "            if row[3] not in res[row[2]]:\n",
    "                res[row[2]].append(row[3])\n",
    "        else: res[row[2]] = [row[3]]"
   ]
  },
  {
   "cell_type": "code",
   "execution_count": 38,
   "metadata": {},
   "outputs": [],
   "source": [
    "IM = \"G:/Image_Manipulation_Dataset/NIST16/nist_full/image\"\n",
    "MASK = \"G:/Image_Manipulation_Dataset/NIST16/nist_full/mask\"\n",
    "new_res = {}\n",
    "for k,v in res.items():\n",
    "    if len(v) == 1:\n",
    "        new_res[k] = v[0]"
   ]
  },
  {
   "cell_type": "code",
   "execution_count": 61,
   "metadata": {},
   "outputs": [],
   "source": [
    "# for k,v in new_res.items():\n",
    "#     shutil.copy(os.path.join(\"G:/IMANIP Datasets/NC2016_Test0613\", v), os.path.join(MASK, \"splice_\"+k.split('/')[-1]))\n",
    "real = [x for x in os.listdir(\"G:/IMANIP Datasets/NC2016_Test0613/world\") if \"original\" not in x]\n",
    "for x in real:\n",
    "    os.rename(os.path.join(\"G:/IMANIP Datasets/NC2016_Test0613/world\", x), os.path.join(\"G:/IMANIP Datasets/NC2016_Test0613/world\", \"original_\"+x))\n",
    "    # shutil.copy(os.path.join(\"G:/IMANIP Datasets/NC2016_Test0613\", v), os.path.join(MASK, \"splice_\"+k.split('/')[-1]))"
   ]
  },
  {
   "cell_type": "code",
   "execution_count": 62,
   "metadata": {},
   "outputs": [],
   "source": [
    "rows = []\n",
    "for k,v in new_res.items():\n",
    "    rows.append({\n",
    "        'image_patch': \"image/\"+k.split('/')[-1],\n",
    "        'mask_patch':'mask/'+\"splice_\"+k.split('/')[-1],\n",
    "        'label':1,\n",
    "        'fold':-1,\n",
    "        'ela':'image/'+k.split('/')[-1][:-4]+'_ela.jpg',\n",
    "        'data_root':\"NIST16/nist_full\"\n",
    "    })\n",
    "real = os.listdir(\"G:/IMANIP Datasets/NC2016_Test0613/world\")\n",
    "for x in real:\n",
    "    rows.append({\n",
    "        'image_patch': \"image/\"+x,\n",
    "        'mask_patch': None,\n",
    "        'label':0,\n",
    "        'fold':-1,\n",
    "        'ela':'image/'+x[:-4]+'_ela.jpg',\n",
    "        'data_root':\"NIST16/nist_full\"\n",
    "    })"
   ]
  },
  {
   "cell_type": "code",
   "execution_count": 63,
   "metadata": {},
   "outputs": [
    {
     "output_type": "execute_result",
     "data": {
      "text/plain": [
       "          data_root                        ela  fold            image_patch  \\\n",
       "0  NIST16/nist_full  image/NC2016_0128_ela.jpg    -1  image/NC2016_0128.jpg   \n",
       "1  NIST16/nist_full  image/NC2016_0130_ela.jpg    -1  image/NC2016_0130.jpg   \n",
       "2  NIST16/nist_full  image/NC2016_0222_ela.jpg    -1  image/NC2016_0222.jpg   \n",
       "3  NIST16/nist_full  image/NC2016_0278_ela.jpg    -1  image/NC2016_0278.jpg   \n",
       "4  NIST16/nist_full  image/NC2016_0342_ela.jpg    -1  image/NC2016_0342.jpg   \n",
       "\n",
       "   label                   mask_patch  \n",
       "0      1  mask/splice_NC2016_0128.jpg  \n",
       "1      1  mask/splice_NC2016_0130.jpg  \n",
       "2      1  mask/splice_NC2016_0222.jpg  \n",
       "3      1  mask/splice_NC2016_0278.jpg  \n",
       "4      1  mask/splice_NC2016_0342.jpg  "
      ],
      "text/html": "<div>\n<style scoped>\n    .dataframe tbody tr th:only-of-type {\n        vertical-align: middle;\n    }\n\n    .dataframe tbody tr th {\n        vertical-align: top;\n    }\n\n    .dataframe thead th {\n        text-align: right;\n    }\n</style>\n<table border=\"1\" class=\"dataframe\">\n  <thead>\n    <tr style=\"text-align: right;\">\n      <th></th>\n      <th>data_root</th>\n      <th>ela</th>\n      <th>fold</th>\n      <th>image_patch</th>\n      <th>label</th>\n      <th>mask_patch</th>\n    </tr>\n  </thead>\n  <tbody>\n    <tr>\n      <th>0</th>\n      <td>NIST16/nist_full</td>\n      <td>image/NC2016_0128_ela.jpg</td>\n      <td>-1</td>\n      <td>image/NC2016_0128.jpg</td>\n      <td>1</td>\n      <td>mask/splice_NC2016_0128.jpg</td>\n    </tr>\n    <tr>\n      <th>1</th>\n      <td>NIST16/nist_full</td>\n      <td>image/NC2016_0130_ela.jpg</td>\n      <td>-1</td>\n      <td>image/NC2016_0130.jpg</td>\n      <td>1</td>\n      <td>mask/splice_NC2016_0130.jpg</td>\n    </tr>\n    <tr>\n      <th>2</th>\n      <td>NIST16/nist_full</td>\n      <td>image/NC2016_0222_ela.jpg</td>\n      <td>-1</td>\n      <td>image/NC2016_0222.jpg</td>\n      <td>1</td>\n      <td>mask/splice_NC2016_0222.jpg</td>\n    </tr>\n    <tr>\n      <th>3</th>\n      <td>NIST16/nist_full</td>\n      <td>image/NC2016_0278_ela.jpg</td>\n      <td>-1</td>\n      <td>image/NC2016_0278.jpg</td>\n      <td>1</td>\n      <td>mask/splice_NC2016_0278.jpg</td>\n    </tr>\n    <tr>\n      <th>4</th>\n      <td>NIST16/nist_full</td>\n      <td>image/NC2016_0342_ela.jpg</td>\n      <td>-1</td>\n      <td>image/NC2016_0342.jpg</td>\n      <td>1</td>\n      <td>mask/splice_NC2016_0342.jpg</td>\n    </tr>\n  </tbody>\n</table>\n</div>"
     },
     "metadata": {},
     "execution_count": 63
    }
   ],
   "source": [
    "nist_full_df = pd.DataFrame(rows)\n",
    "nist_full_df.to_csv('nist16_full.csv', index=False)\n",
    "nist_full_df.head()"
   ]
  },
  {
   "source": [
    "REMOVAL"
   ],
   "cell_type": "markdown",
   "metadata": {}
  },
  {
   "cell_type": "code",
   "execution_count": 2,
   "metadata": {},
   "outputs": [
    {
     "output_type": "stream",
     "name": "stdout",
     "text": [
      "208\n"
     ]
    },
    {
     "output_type": "execute_result",
     "data": {
      "text/plain": [
       "             ProbeFileName                      ProbeMaskFileName\n",
       "916  probe/NC2016_6634.jpg  reference/remove/mask/NC2016_0004.png\n",
       "917  probe/NC2016_1937.jpg  reference/remove/mask/NC2016_0368.png\n",
       "918  probe/NC2016_2618.jpg  reference/remove/mask/NC2016_0462.png\n",
       "919  probe/NC2016_2772.jpg  reference/remove/mask/NC2016_0660.png\n",
       "920  probe/NC2016_1967.jpg  reference/remove/mask/NC2016_0694.png"
      ],
      "text/html": "<div>\n<style scoped>\n    .dataframe tbody tr th:only-of-type {\n        vertical-align: middle;\n    }\n\n    .dataframe tbody tr th {\n        vertical-align: top;\n    }\n\n    .dataframe thead th {\n        text-align: right;\n    }\n</style>\n<table border=\"1\" class=\"dataframe\">\n  <thead>\n    <tr style=\"text-align: right;\">\n      <th></th>\n      <th>ProbeFileName</th>\n      <th>ProbeMaskFileName</th>\n    </tr>\n  </thead>\n  <tbody>\n    <tr>\n      <th>916</th>\n      <td>probe/NC2016_6634.jpg</td>\n      <td>reference/remove/mask/NC2016_0004.png</td>\n    </tr>\n    <tr>\n      <th>917</th>\n      <td>probe/NC2016_1937.jpg</td>\n      <td>reference/remove/mask/NC2016_0368.png</td>\n    </tr>\n    <tr>\n      <th>918</th>\n      <td>probe/NC2016_2618.jpg</td>\n      <td>reference/remove/mask/NC2016_0462.png</td>\n    </tr>\n    <tr>\n      <th>919</th>\n      <td>probe/NC2016_2772.jpg</td>\n      <td>reference/remove/mask/NC2016_0660.png</td>\n    </tr>\n    <tr>\n      <th>920</th>\n      <td>probe/NC2016_1967.jpg</td>\n      <td>reference/remove/mask/NC2016_0694.png</td>\n    </tr>\n  </tbody>\n</table>\n</div>"
     },
     "metadata": {},
     "execution_count": 2
    }
   ],
   "source": [
    "df_main = pd.read_csv(\"G:/IMANIP Datasets/NC2016_Test0613/reference/removal/NC2016-removal-ref.csv\", delimiter='|')\n",
    "df_main = df_main[['ProbeFileName', 'ProbeMaskFileName']]\n",
    "df_main = df_main[df_main['ProbeMaskFileName'].notna()]\n",
    "print(len(df_main))\n",
    "df_main.head()"
   ]
  },
  {
   "cell_type": "code",
   "execution_count": 3,
   "metadata": {},
   "outputs": [],
   "source": [
    "# df_main.groupby(['ProbeMaskFileName']).nunique()"
   ]
  },
  {
   "cell_type": "code",
   "execution_count": 4,
   "metadata": {},
   "outputs": [],
   "source": [
    "rows = df_main.values\n",
    "res = {}\n",
    "for row in rows:\n",
    "    # if not isinstance(row[1], str) and np.isnan(row[1]): continue \n",
    "    res[row[1]] = row[0]"
   ]
  },
  {
   "cell_type": "code",
   "execution_count": 9,
   "metadata": {},
   "outputs": [],
   "source": [
    "probes = os.listdir(\"G:/Image_Manipulation_Dataset/NIST16/nist_full/image\")\n",
    "for k, v in res.items():\n",
    "    # print(v.split('/')[-1])\n",
    "    if v.split('/')[-1] in probes or k.split('/')[-1] in probes:\n",
    "        print(k, v)\n",
    "    # break"
   ]
  },
  {
   "cell_type": "code",
   "execution_count": 10,
   "metadata": {},
   "outputs": [],
   "source": [
    "MASK = \"G:/Image_Manipulation_Dataset/NIST16/nist_full/mask\"\n",
    "rename = []\n",
    "for k,v in res.items():\n",
    "    mask = k\n",
    "    im = v\n",
    "    # print(im, mask)\n",
    "    rename.append((mask.split('/')[-1], \"removal_\"+im.split('/')[-1]))\n",
    "    # shutil.copy(os.path.join(\"G:/IMANIP Datasets/NC2016_Test0613\", mask), os.path.join(MASK, \"manipulation_\"+im.split('/')[-1]))"
   ]
  },
  {
   "cell_type": "code",
   "execution_count": 26,
   "metadata": {},
   "outputs": [
    {
     "output_type": "stream",
     "name": "stderr",
     "text": [
      "100%|██████████| 104/104 [00:04<00:00, 23.84it/s]\n"
     ]
    }
   ],
   "source": [
    "for ori, nee in tqdm(rename):\n",
    "    # print(ori, nee, nee[8:])\n",
    "    # shutil.copy(os.path.join(\"G:/IMANIP Datasets/NC2016_Test0613/reference/removal/mask\", ori), os.path.join(MASK, nee))\n",
    "    shutil.copy(os.path.join(\"G:/IMANIP Datasets/NC2016_Test0613/probe\", nee[8:]), os.path.join('G:/Image_Manipulation_Dataset/NIST16/nist_full/image', nee[8:]))"
   ]
  },
  {
   "cell_type": "code",
   "execution_count": 28,
   "metadata": {},
   "outputs": [],
   "source": [
    "data = []\n",
    "for ori, nee in rename:\n",
    "    data.append({\n",
    "        'image_patch': \"image/\"+nee[8:],\n",
    "        'mask_patch':'mask/'+nee,\n",
    "        'label':1,\n",
    "        'fold':-1,\n",
    "        'ela':'image/'+nee[8:][:-4]+'_ela.jpg',\n",
    "        'data_root':\"NIST16/nist_full\"\n",
    "    })"
   ]
  },
  {
   "cell_type": "code",
   "execution_count": 32,
   "metadata": {},
   "outputs": [
    {
     "output_type": "execute_result",
     "data": {
      "text/plain": [
       "          data_root                        ela  fold            image_patch  \\\n",
       "0  NIST16/nist_full  image/NC2016_8350_ela.jpg    -1  image/NC2016_8350.jpg   \n",
       "1  NIST16/nist_full  image/NC2016_4503_ela.jpg    -1  image/NC2016_4503.jpg   \n",
       "2  NIST16/nist_full  image/NC2016_1213_ela.jpg    -1  image/NC2016_1213.jpg   \n",
       "3  NIST16/nist_full  image/NC2016_1944_ela.jpg    -1  image/NC2016_1944.jpg   \n",
       "4  NIST16/nist_full  image/NC2016_2438_ela.jpg    -1  image/NC2016_2438.jpg   \n",
       "\n",
       "   label                    mask_patch  \n",
       "0      1  mask/removal_NC2016_8350.jpg  \n",
       "1      1  mask/removal_NC2016_4503.jpg  \n",
       "2      1  mask/removal_NC2016_1213.jpg  \n",
       "3      1  mask/removal_NC2016_1944.jpg  \n",
       "4      1  mask/removal_NC2016_2438.jpg  "
      ],
      "text/html": "<div>\n<style scoped>\n    .dataframe tbody tr th:only-of-type {\n        vertical-align: middle;\n    }\n\n    .dataframe tbody tr th {\n        vertical-align: top;\n    }\n\n    .dataframe thead th {\n        text-align: right;\n    }\n</style>\n<table border=\"1\" class=\"dataframe\">\n  <thead>\n    <tr style=\"text-align: right;\">\n      <th></th>\n      <th>data_root</th>\n      <th>ela</th>\n      <th>fold</th>\n      <th>image_patch</th>\n      <th>label</th>\n      <th>mask_patch</th>\n    </tr>\n  </thead>\n  <tbody>\n    <tr>\n      <th>0</th>\n      <td>NIST16/nist_full</td>\n      <td>image/NC2016_8350_ela.jpg</td>\n      <td>-1</td>\n      <td>image/NC2016_8350.jpg</td>\n      <td>1</td>\n      <td>mask/removal_NC2016_8350.jpg</td>\n    </tr>\n    <tr>\n      <th>1</th>\n      <td>NIST16/nist_full</td>\n      <td>image/NC2016_4503_ela.jpg</td>\n      <td>-1</td>\n      <td>image/NC2016_4503.jpg</td>\n      <td>1</td>\n      <td>mask/removal_NC2016_4503.jpg</td>\n    </tr>\n    <tr>\n      <th>2</th>\n      <td>NIST16/nist_full</td>\n      <td>image/NC2016_1213_ela.jpg</td>\n      <td>-1</td>\n      <td>image/NC2016_1213.jpg</td>\n      <td>1</td>\n      <td>mask/removal_NC2016_1213.jpg</td>\n    </tr>\n    <tr>\n      <th>3</th>\n      <td>NIST16/nist_full</td>\n      <td>image/NC2016_1944_ela.jpg</td>\n      <td>-1</td>\n      <td>image/NC2016_1944.jpg</td>\n      <td>1</td>\n      <td>mask/removal_NC2016_1944.jpg</td>\n    </tr>\n    <tr>\n      <th>4</th>\n      <td>NIST16/nist_full</td>\n      <td>image/NC2016_2438_ela.jpg</td>\n      <td>-1</td>\n      <td>image/NC2016_2438.jpg</td>\n      <td>1</td>\n      <td>mask/removal_NC2016_2438.jpg</td>\n    </tr>\n  </tbody>\n</table>\n</div>"
     },
     "metadata": {},
     "execution_count": 32
    }
   ],
   "source": [
    "df = pd.DataFrame(data)\n",
    "# df = df.reindex(columns=['image_patch', 'mask_patch', 'label', 'fold', 'ela', 'data_root'])\n",
    "df.head()"
   ]
  },
  {
   "cell_type": "code",
   "execution_count": 31,
   "metadata": {},
   "outputs": [
    {
     "output_type": "execute_result",
     "data": {
      "text/plain": [
       "          data_root                        ela  fold            image_patch  \\\n",
       "0  NIST16/nist_full  image/NC2016_0128_ela.jpg    -1  image/NC2016_0128.jpg   \n",
       "1  NIST16/nist_full  image/NC2016_0130_ela.jpg    -1  image/NC2016_0130.jpg   \n",
       "2  NIST16/nist_full  image/NC2016_0222_ela.jpg    -1  image/NC2016_0222.jpg   \n",
       "3  NIST16/nist_full  image/NC2016_0278_ela.jpg    -1  image/NC2016_0278.jpg   \n",
       "4  NIST16/nist_full  image/NC2016_0342_ela.jpg    -1  image/NC2016_0342.jpg   \n",
       "\n",
       "   label                   mask_patch  \n",
       "0      1  mask/splice_NC2016_0128.jpg  \n",
       "1      1  mask/splice_NC2016_0130.jpg  \n",
       "2      1  mask/splice_NC2016_0222.jpg  \n",
       "3      1  mask/splice_NC2016_0278.jpg  \n",
       "4      1  mask/splice_NC2016_0342.jpg  "
      ],
      "text/html": "<div>\n<style scoped>\n    .dataframe tbody tr th:only-of-type {\n        vertical-align: middle;\n    }\n\n    .dataframe tbody tr th {\n        vertical-align: top;\n    }\n\n    .dataframe thead th {\n        text-align: right;\n    }\n</style>\n<table border=\"1\" class=\"dataframe\">\n  <thead>\n    <tr style=\"text-align: right;\">\n      <th></th>\n      <th>data_root</th>\n      <th>ela</th>\n      <th>fold</th>\n      <th>image_patch</th>\n      <th>label</th>\n      <th>mask_patch</th>\n    </tr>\n  </thead>\n  <tbody>\n    <tr>\n      <th>0</th>\n      <td>NIST16/nist_full</td>\n      <td>image/NC2016_0128_ela.jpg</td>\n      <td>-1</td>\n      <td>image/NC2016_0128.jpg</td>\n      <td>1</td>\n      <td>mask/splice_NC2016_0128.jpg</td>\n    </tr>\n    <tr>\n      <th>1</th>\n      <td>NIST16/nist_full</td>\n      <td>image/NC2016_0130_ela.jpg</td>\n      <td>-1</td>\n      <td>image/NC2016_0130.jpg</td>\n      <td>1</td>\n      <td>mask/splice_NC2016_0130.jpg</td>\n    </tr>\n    <tr>\n      <th>2</th>\n      <td>NIST16/nist_full</td>\n      <td>image/NC2016_0222_ela.jpg</td>\n      <td>-1</td>\n      <td>image/NC2016_0222.jpg</td>\n      <td>1</td>\n      <td>mask/splice_NC2016_0222.jpg</td>\n    </tr>\n    <tr>\n      <th>3</th>\n      <td>NIST16/nist_full</td>\n      <td>image/NC2016_0278_ela.jpg</td>\n      <td>-1</td>\n      <td>image/NC2016_0278.jpg</td>\n      <td>1</td>\n      <td>mask/splice_NC2016_0278.jpg</td>\n    </tr>\n    <tr>\n      <th>4</th>\n      <td>NIST16/nist_full</td>\n      <td>image/NC2016_0342_ela.jpg</td>\n      <td>-1</td>\n      <td>image/NC2016_0342.jpg</td>\n      <td>1</td>\n      <td>mask/splice_NC2016_0342.jpg</td>\n    </tr>\n  </tbody>\n</table>\n</div>"
     },
     "metadata": {},
     "execution_count": 31
    }
   ],
   "source": [
    "main = pd.read_csv('nist16_full.csv')\n",
    "main.head()"
   ]
  },
  {
   "cell_type": "code",
   "execution_count": 36,
   "metadata": {},
   "outputs": [],
   "source": [
    "main.to_csv('nist16_full.csv', index=False)"
   ]
  },
  {
   "cell_type": "code",
   "execution_count": 60,
   "metadata": {},
   "outputs": [],
   "source": [
    "import patch_extract\n",
    "reload(patch_extract)\n",
    "\n",
    "from patch_extract import extract_tampered\n",
    "from PIL import Image"
   ]
  },
  {
   "cell_type": "code",
   "execution_count": 61,
   "metadata": {},
   "outputs": [
    {
     "output_type": "stream",
     "name": "stdout",
     "text": [
      "Ratio printing: 98.83938869665513\n",
      "Number of patches and masks: 16 16 G:/Image_Manipulation_Dataset/NIST16\\image_patch_128\\NC2016_1987\n",
      "0 49.462890625\n",
      "1 29.6875\n",
      "2 29.6875\n",
      "3 29.6875\n",
      "4 36.279296875\n",
      "5 28.125\n",
      "6 59.375\n",
      "7 28.125\n",
      "8 59.375\n",
      "9 31.494140625\n",
      "10 13.623046875\n",
      "11 61.279296875\n",
      "12 54.6875\n",
      "13 54.6875\n",
      "14 54.6875\n",
      "15 58.935546875\n"
     ]
    }
   ],
   "source": [
    "ROOT_DIR = \"G:/Image_Manipulation_Dataset/NIST16\"\n",
    "EXTENSION = \"/nist16_full\"\n",
    "OUT_DIR = f\"image_patch_128\"\n",
    "\n",
    "extract_tampered(\n",
    "    param={\"img_path\":\"image/NC2016_1987.jpg\", \"mask_path\":\"mask/removal_NC2016_1987.jpg\"},\n",
    "    increment=128,\n",
    "    root_dir=ROOT_DIR,\n",
    "    out_dir=OUT_DIR,\n",
    "    extension=EXTENSION\n",
    ")"
   ]
  },
  {
   "cell_type": "code",
   "execution_count": 58,
   "metadata": {},
   "outputs": [
    {
     "output_type": "error",
     "ename": "TypeError",
     "evalue": "object of type 'NoneType' has no len()",
     "traceback": [
      "\u001b[1;31m---------------------------------------------------------------------------\u001b[0m",
      "\u001b[1;31mTypeError\u001b[0m                                 Traceback (most recent call last)",
      "\u001b[1;32m<ipython-input-58-e79044fe5833>\u001b[0m in \u001b[0;36m<module>\u001b[1;34m\u001b[0m\n\u001b[1;32m----> 1\u001b[1;33m \u001b[0mlen\u001b[0m\u001b[1;33m(\u001b[0m\u001b[0mpatches\u001b[0m\u001b[1;33m)\u001b[0m\u001b[1;33m\u001b[0m\u001b[1;33m\u001b[0m\u001b[0m\n\u001b[0m",
      "\u001b[1;31mTypeError\u001b[0m: object of type 'NoneType' has no len()"
     ]
    }
   ],
   "source": [
    "len(patches)"
   ]
  },
  {
   "cell_type": "code",
   "execution_count": 53,
   "metadata": {},
   "outputs": [],
   "source": [
    "masks = os.listdir('G:/Image_Manipulation_Dataset/NIST16/nist16_full/mask')\n",
    "for m in masks:\n",
    "    mask = cv2.imread(\n",
    "        os.path.join(os.path.join('G:/Image_Manipulation_Dataset/NIST16/nist16_full/mask', m)), cv2.IMREAD_GRAYSCALE\n",
    "    )\n",
    "    mask = 255 - mask\n",
    "    cv2.imwrite(os.path.join('G:/Image_Manipulation_Dataset/NIST16/nist16_full/mask', m), mask)\n",
    "    break"
   ]
  },
  {
   "cell_type": "code",
   "execution_count": 7,
   "metadata": {},
   "outputs": [
    {
     "output_type": "stream",
     "name": "stdout",
     "text": [
      "874 388\n"
     ]
    }
   ],
   "source": [
    "all_images = os.listdir(os.path.join('G:/Image_Manipulation_Dataset/NIST16', \"image_patch_128\"))\n",
    "real = [x for x in all_images if 'original' in x]\n",
    "fake = [x for x in all_images if 'original' not in x]\n",
    "print(len(real), len(fake))"
   ]
  },
  {
   "cell_type": "code",
   "execution_count": 8,
   "metadata": {},
   "outputs": [],
   "source": [
    "rows = []\n",
    "for d in real:\n",
    "    images = [x for x in os.listdir(os.path.join(\"G:/Image_Manipulation_Dataset/NIST16\", \"image_patch_128\", d)) if 'txt' not in x]\n",
    "    for im in images:\n",
    "        rows.append({\n",
    "            'image': d,\n",
    "            'image_patch': im,\n",
    "            'mask_patch': None,\n",
    "            'label':0,\n",
    "            'fold':-1,\n",
    "            'ela':im[:-4]+'_ela.jpg',\n",
    "            'data_root': \"NIST16/image_patch_128\"\n",
    "        })\n",
    "for d in fake:\n",
    "    images = [x for x in os.listdir(os.path.join(\"G:/Image_Manipulation_Dataset/NIST16\", \"image_patch_128\", d)) if 'txt' not in x and 'gt' not in x]\n",
    "    for im in images:\n",
    "        rows.append({\n",
    "            'image': d,\n",
    "            'image_patch': im,\n",
    "            'mask_patch': im[:-4]+\"_gt.png\",\n",
    "            'label':1,\n",
    "            'fold':-1,\n",
    "            'ela':im[:-4]+'_ela.jpg',\n",
    "            'data_root': \"NIST16/image_patch_128\"\n",
    "        })"
   ]
  },
  {
   "cell_type": "code",
   "execution_count": 9,
   "metadata": {},
   "outputs": [],
   "source": [
    "df = pd.DataFrame(rows)\n",
    "df.to_csv('nist16_128.csv',index=False)"
   ]
  },
  {
   "cell_type": "code",
   "execution_count": 4,
   "metadata": {},
   "outputs": [],
   "source": [
    "df = pd.read_csv('dataset_csv/nist16_FULL.csv')"
   ]
  },
  {
   "cell_type": "code",
   "execution_count": 9,
   "metadata": {},
   "outputs": [],
   "source": [
    "import generate_ela_image\n",
    "reload(generate_ela_image)\n",
    "\n",
    "from generate_ela_image import ELA\n",
    "from PIL import Image"
   ]
  },
  {
   "cell_type": "code",
   "execution_count": 10,
   "metadata": {},
   "outputs": [
    {
     "output_type": "stream",
     "name": "stderr",
     "text": [
      "  0%|          | 0/2 [00:00<?, ?it/s]Image_Manipulation_Dataset/NIST16/nist16_full/image/NC2016_8350ela_temp.jpg\n",
      " 50%|█████     | 1/2 [00:12<00:12, 12.86s/it]Image_Manipulation_Dataset/NIST16/nist16_full/image/NC2016_4503ela_temp.jpg\n",
      "100%|██████████| 2/2 [00:20<00:00, 10.21s/it]\n"
     ]
    }
   ],
   "source": [
    "DIR_ROOT = \"Image_Manipulation_Dataset\"\n",
    "rows64 = df.values\n",
    "for row in tqdm(rows64[:2]):\n",
    "    # image, image_patch, mask_patch, label, fold, ela, root_dir = row\n",
    "    # impath = os.path.join(image, image_patch)\n",
    "    # ela_path = os.path.join(image, ela)\n",
    "    image_patch, mask_patch, label, fold, ela, root_dir = row\n",
    "    impath = image_patch\n",
    "    ela_path = ela\n",
    "    root = os.path.join(DIR_ROOT, root_dir)\n",
    "    ELA((impath, ela_path), root)"
   ]
  },
  {
   "source": [
    "## CMFD"
   ],
   "cell_type": "markdown",
   "metadata": {}
  },
  {
   "cell_type": "code",
   "execution_count": 6,
   "metadata": {},
   "outputs": [
    {
     "output_type": "stream",
     "name": "stdout",
     "text": [
      "3547 3547\n"
     ]
    }
   ],
   "source": [
    "all_images = os.listdir(os.path.join('Image_Manipulation_Dataset/COCO_CMFD', \"image_patch_64\"))\n",
    "real = [x for x in all_images if 'fake' not in x]\n",
    "fake = [x for x in all_images if 'fake' in x]\n",
    "print(len(real), len(fake))"
   ]
  },
  {
   "cell_type": "code",
   "execution_count": 7,
   "metadata": {},
   "outputs": [],
   "source": [
    "rows = []\n",
    "for d in real:\n",
    "    images = [x for x in os.listdir(os.path.join(\"Image_Manipulation_Dataset/COCO_CMFD\", \"image_patch_64\", d)) if 'txt' not in x]\n",
    "    for im in images:\n",
    "        rows.append({\n",
    "            'image': d,\n",
    "            'image_patch': im,\n",
    "            'mask_patch': None,\n",
    "            'label':0,\n",
    "            'fold':-1,\n",
    "            'ela':im[:-4]+'_ela.jpg',\n",
    "            'data_root': \"COCO_CMFD/image_patch_64\"\n",
    "        })\n",
    "for d in fake:\n",
    "    images = [x for x in os.listdir(os.path.join(\"Image_Manipulation_Dataset/COCO_CMFD\", \"image_patch_64\", d)) if 'txt' not in x and 'gt' not in x]\n",
    "    for im in images:\n",
    "        rows.append({\n",
    "            'image': d,\n",
    "            'image_patch': im,\n",
    "            'mask_patch': im[:-4]+\"_gt.png\",\n",
    "            'label':1,\n",
    "            'fold':-1,\n",
    "            'ela':im[:-4]+'_ela.jpg',\n",
    "            'data_root': \"COCO_CMFD/image_patch_64\"\n",
    "        })"
   ]
  },
  {
   "cell_type": "code",
   "execution_count": 8,
   "metadata": {},
   "outputs": [],
   "source": [
    "df = pd.DataFrame(rows)\n",
    "df.to_csv('cmfd_64.csv',index=False)"
   ]
  },
  {
   "cell_type": "code",
   "execution_count": 12,
   "metadata": {},
   "outputs": [],
   "source": [
    "import generate_ela_image\n",
    "reload(generate_ela_image)\n",
    "\n",
    "from generate_ela_image import ELA\n",
    "from PIL import Image"
   ]
  },
  {
   "cell_type": "code",
   "execution_count": 9,
   "metadata": {},
   "outputs": [],
   "source": [
    "df = pd.read_csv('cmfd_128.csv')"
   ]
  },
  {
   "cell_type": "code",
   "execution_count": 14,
   "metadata": {},
   "outputs": [
    {
     "output_type": "execute_result",
     "data": {
      "text/plain": [
       "          image image_patch mask_patch  label  fold        ela  \\\n",
       "0  000000000139       0.png        NaN      0    -1  0_ela.jpg   \n",
       "1  000000000139       1.png        NaN      0    -1  1_ela.jpg   \n",
       "2  000000000139       2.png        NaN      0    -1  2_ela.jpg   \n",
       "3  000000000139       3.png        NaN      0    -1  3_ela.jpg   \n",
       "4  000000000139       4.png        NaN      0    -1  4_ela.jpg   \n",
       "\n",
       "                   data_root  \n",
       "0  COCO_CMFD/image_patch_128  \n",
       "1  COCO_CMFD/image_patch_128  \n",
       "2  COCO_CMFD/image_patch_128  \n",
       "3  COCO_CMFD/image_patch_128  \n",
       "4  COCO_CMFD/image_patch_128  "
      ],
      "text/html": "<div>\n<style scoped>\n    .dataframe tbody tr th:only-of-type {\n        vertical-align: middle;\n    }\n\n    .dataframe tbody tr th {\n        vertical-align: top;\n    }\n\n    .dataframe thead th {\n        text-align: right;\n    }\n</style>\n<table border=\"1\" class=\"dataframe\">\n  <thead>\n    <tr style=\"text-align: right;\">\n      <th></th>\n      <th>image</th>\n      <th>image_patch</th>\n      <th>mask_patch</th>\n      <th>label</th>\n      <th>fold</th>\n      <th>ela</th>\n      <th>data_root</th>\n    </tr>\n  </thead>\n  <tbody>\n    <tr>\n      <th>0</th>\n      <td>000000000139</td>\n      <td>0.png</td>\n      <td>NaN</td>\n      <td>0</td>\n      <td>-1</td>\n      <td>0_ela.jpg</td>\n      <td>COCO_CMFD/image_patch_128</td>\n    </tr>\n    <tr>\n      <th>1</th>\n      <td>000000000139</td>\n      <td>1.png</td>\n      <td>NaN</td>\n      <td>0</td>\n      <td>-1</td>\n      <td>1_ela.jpg</td>\n      <td>COCO_CMFD/image_patch_128</td>\n    </tr>\n    <tr>\n      <th>2</th>\n      <td>000000000139</td>\n      <td>2.png</td>\n      <td>NaN</td>\n      <td>0</td>\n      <td>-1</td>\n      <td>2_ela.jpg</td>\n      <td>COCO_CMFD/image_patch_128</td>\n    </tr>\n    <tr>\n      <th>3</th>\n      <td>000000000139</td>\n      <td>3.png</td>\n      <td>NaN</td>\n      <td>0</td>\n      <td>-1</td>\n      <td>3_ela.jpg</td>\n      <td>COCO_CMFD/image_patch_128</td>\n    </tr>\n    <tr>\n      <th>4</th>\n      <td>000000000139</td>\n      <td>4.png</td>\n      <td>NaN</td>\n      <td>0</td>\n      <td>-1</td>\n      <td>4_ela.jpg</td>\n      <td>COCO_CMFD/image_patch_128</td>\n    </tr>\n  </tbody>\n</table>\n</div>"
     },
     "metadata": {},
     "execution_count": 14
    }
   ],
   "source": [
    "df.head()"
   ]
  },
  {
   "cell_type": "code",
   "execution_count": 13,
   "metadata": {},
   "outputs": [
    {
     "output_type": "stream",
     "name": "stderr",
     "text": [
      "  0%|          | 0/2 [00:00<?, ?it/s]\n"
     ]
    },
    {
     "output_type": "error",
     "ename": "TypeError",
     "evalue": "tuple indices must be integers or slices, not str",
     "traceback": [
      "\u001b[0;31m---------------------------------------------------------------------------\u001b[0m",
      "\u001b[0;31mTypeError\u001b[0m                                 Traceback (most recent call last)",
      "\u001b[0;32m<ipython-input-13-71d008b9a250>\u001b[0m in \u001b[0;36m<module>\u001b[0;34m\u001b[0m\n\u001b[1;32m      9\u001b[0m     \u001b[0;31m# ela_path = ela\u001b[0m\u001b[0;34m\u001b[0m\u001b[0;34m\u001b[0m\u001b[0;34m\u001b[0m\u001b[0m\n\u001b[1;32m     10\u001b[0m     \u001b[0mroot\u001b[0m \u001b[0;34m=\u001b[0m \u001b[0mos\u001b[0m\u001b[0;34m.\u001b[0m\u001b[0mpath\u001b[0m\u001b[0;34m.\u001b[0m\u001b[0mjoin\u001b[0m\u001b[0;34m(\u001b[0m\u001b[0mDIR_ROOT\u001b[0m\u001b[0;34m,\u001b[0m \u001b[0mroot_dir\u001b[0m\u001b[0;34m)\u001b[0m\u001b[0;34m\u001b[0m\u001b[0;34m\u001b[0m\u001b[0m\n\u001b[0;32m---> 11\u001b[0;31m     \u001b[0mELA\u001b[0m\u001b[0;34m(\u001b[0m\u001b[0;34m(\u001b[0m\u001b[0mimpath\u001b[0m\u001b[0;34m,\u001b[0m \u001b[0mela_path\u001b[0m\u001b[0;34m)\u001b[0m\u001b[0;34m,\u001b[0m \u001b[0mroot\u001b[0m\u001b[0;34m)\u001b[0m\u001b[0;34m\u001b[0m\u001b[0;34m\u001b[0m\u001b[0m\n\u001b[0m",
      "\u001b[0;32m/media/sowmitra/SSD Disk/image_manipulation/generate_ela_image.py\u001b[0m in \u001b[0;36mELA\u001b[0;34m(param, DIR_ROOT)\u001b[0m\n\u001b[1;32m     12\u001b[0m     \u001b[0;34m\"\"\"Performs Error Level Analysis over a directory of images\"\"\"\u001b[0m\u001b[0;34m\u001b[0m\u001b[0;34m\u001b[0m\u001b[0m\n\u001b[1;32m     13\u001b[0m \u001b[0;34m\u001b[0m\u001b[0m\n\u001b[0;32m---> 14\u001b[0;31m     \u001b[0mimg_path\u001b[0m \u001b[0;34m=\u001b[0m \u001b[0mparam\u001b[0m\u001b[0;34m[\u001b[0m\u001b[0;34m'img_path'\u001b[0m\u001b[0;34m]\u001b[0m\u001b[0;34m\u001b[0m\u001b[0;34m\u001b[0m\u001b[0m\n\u001b[0m\u001b[1;32m     15\u001b[0m     \u001b[0mela_path\u001b[0m \u001b[0;34m=\u001b[0m \u001b[0mparam\u001b[0m\u001b[0;34m[\u001b[0m\u001b[0;34m'ela_path'\u001b[0m\u001b[0;34m]\u001b[0m\u001b[0;34m\u001b[0m\u001b[0;34m\u001b[0m\u001b[0m\n\u001b[1;32m     16\u001b[0m     \u001b[0mroot_dir\u001b[0m \u001b[0;34m=\u001b[0m \u001b[0mparam\u001b[0m\u001b[0;34m[\u001b[0m\u001b[0;34m'root_dir'\u001b[0m\u001b[0;34m]\u001b[0m\u001b[0;34m\u001b[0m\u001b[0;34m\u001b[0m\u001b[0m\n",
      "\u001b[0;31mTypeError\u001b[0m: tuple indices must be integers or slices, not str"
     ]
    }
   ],
   "source": [
    "DIR_ROOT = \"Image_Manipulation_Dataset\"\n",
    "rows64 = df.values\n",
    "for row in tqdm(rows64[:2]):\n",
    "    image, image_patch, mask_patch, label, fold, ela, root_dir = row\n",
    "    impath = os.path.join(image, image_patch)\n",
    "    ela_path = os.path.join(image, ela)\n",
    "    # image_patch, mask_patch, label, fold, ela, root_dir = row\n",
    "    # impath = image_patch\n",
    "    # ela_path = ela\n",
    "    root = os.path.join(DIR_ROOT, root_dir)\n",
    "    ELA((impath, ela_path), root)"
   ]
  },
  {
   "source": [
    "# CSV"
   ],
   "cell_type": "markdown",
   "metadata": {}
  },
  {
   "cell_type": "code",
   "execution_count": 2,
   "metadata": {},
   "outputs": [],
   "source": [
    "CSV_PATH = \"dataset_csv/cmfd_64.csv\""
   ]
  },
  {
   "cell_type": "code",
   "execution_count": 3,
   "metadata": {},
   "outputs": [
    {
     "output_type": "execute_result",
     "data": {
      "text/plain": [
       "          image image_patch mask_patch  label  fold        ela  \\\n",
       "0  000000000139       0.png        NaN      0    -1  0_ela.jpg   \n",
       "1  000000000139       1.png        NaN      0    -1  1_ela.jpg   \n",
       "2  000000000139       2.png        NaN      0    -1  2_ela.jpg   \n",
       "3  000000000139       3.png        NaN      0    -1  3_ela.jpg   \n",
       "4  000000000139       4.png        NaN      0    -1  4_ela.jpg   \n",
       "\n",
       "                  data_root  \n",
       "0  COCO_CMFD/image_patch_64  \n",
       "1  COCO_CMFD/image_patch_64  \n",
       "2  COCO_CMFD/image_patch_64  \n",
       "3  COCO_CMFD/image_patch_64  \n",
       "4  COCO_CMFD/image_patch_64  "
      ],
      "text/html": "<div>\n<style scoped>\n    .dataframe tbody tr th:only-of-type {\n        vertical-align: middle;\n    }\n\n    .dataframe tbody tr th {\n        vertical-align: top;\n    }\n\n    .dataframe thead th {\n        text-align: right;\n    }\n</style>\n<table border=\"1\" class=\"dataframe\">\n  <thead>\n    <tr style=\"text-align: right;\">\n      <th></th>\n      <th>image</th>\n      <th>image_patch</th>\n      <th>mask_patch</th>\n      <th>label</th>\n      <th>fold</th>\n      <th>ela</th>\n      <th>data_root</th>\n    </tr>\n  </thead>\n  <tbody>\n    <tr>\n      <th>0</th>\n      <td>000000000139</td>\n      <td>0.png</td>\n      <td>NaN</td>\n      <td>0</td>\n      <td>-1</td>\n      <td>0_ela.jpg</td>\n      <td>COCO_CMFD/image_patch_64</td>\n    </tr>\n    <tr>\n      <th>1</th>\n      <td>000000000139</td>\n      <td>1.png</td>\n      <td>NaN</td>\n      <td>0</td>\n      <td>-1</td>\n      <td>1_ela.jpg</td>\n      <td>COCO_CMFD/image_patch_64</td>\n    </tr>\n    <tr>\n      <th>2</th>\n      <td>000000000139</td>\n      <td>2.png</td>\n      <td>NaN</td>\n      <td>0</td>\n      <td>-1</td>\n      <td>2_ela.jpg</td>\n      <td>COCO_CMFD/image_patch_64</td>\n    </tr>\n    <tr>\n      <th>3</th>\n      <td>000000000139</td>\n      <td>3.png</td>\n      <td>NaN</td>\n      <td>0</td>\n      <td>-1</td>\n      <td>3_ela.jpg</td>\n      <td>COCO_CMFD/image_patch_64</td>\n    </tr>\n    <tr>\n      <th>4</th>\n      <td>000000000139</td>\n      <td>4.png</td>\n      <td>NaN</td>\n      <td>0</td>\n      <td>-1</td>\n      <td>4_ela.jpg</td>\n      <td>COCO_CMFD/image_patch_64</td>\n    </tr>\n  </tbody>\n</table>\n</div>"
     },
     "metadata": {},
     "execution_count": 3
    }
   ],
   "source": [
    "df = pd.read_csv(CSV_PATH)\n",
    "df.head()"
   ]
  },
  {
   "cell_type": "code",
   "execution_count": 4,
   "metadata": {},
   "outputs": [],
   "source": [
    "# df = df.sample(frac=1)\n",
    "df['fold'] = -1\n",
    "y = df.label.values\n",
    "kf = model_selection.StratifiedKFold(n_splits=10)\n",
    "\n",
    "for f, (t_, v_) in enumerate(kf.split(X=df, y=y)):\n",
    "    df.loc[v_, 'fold'] = f"
   ]
  },
  {
   "cell_type": "code",
   "execution_count": 5,
   "metadata": {},
   "outputs": [
    {
     "output_type": "execute_result",
     "data": {
      "text/plain": [
       "fold  label\n",
       "0     1        13479\n",
       "      0         2750\n",
       "1     1        13479\n",
       "      0         2750\n",
       "2     1        13479\n",
       "      0         2750\n",
       "3     1        13479\n",
       "      0         2750\n",
       "4     1        13480\n",
       "      0         2749\n",
       "5     1        13480\n",
       "      0         2749\n",
       "6     1        13480\n",
       "      0         2749\n",
       "7     1        13479\n",
       "      0         2749\n",
       "8     1        13479\n",
       "      0         2749\n",
       "9     1        13479\n",
       "      0         2749\n",
       "Name: label, dtype: int64"
      ]
     },
     "metadata": {},
     "execution_count": 5
    }
   ],
   "source": [
    "df.groupby('fold').label.value_counts()"
   ]
  },
  {
   "cell_type": "code",
   "execution_count": 6,
   "metadata": {},
   "outputs": [],
   "source": [
    "df.to_csv(CSV_PATH, index=False)"
   ]
  },
  {
   "cell_type": "code",
   "execution_count": 14,
   "metadata": {},
   "outputs": [],
   "source": [
    "casia_64_df = pd.read_csv('dataset_csv/casia_64.csv')\n",
    "imd_64_df = pd.read_csv('dataset_csv/imd_64.csv')\n",
    "cmfd_64_df = pd.read_csv('dataset_csv/cmfd_64.csv')\n",
    "nist_64_df = pd.read_csv('dataset_csv/nist16_64.csv')\n",
    "coverage_64_df = pd.read_csv('dataset_csv/coverage_64.csv')"
   ]
  },
  {
   "cell_type": "code",
   "execution_count": 15,
   "metadata": {},
   "outputs": [],
   "source": [
    "casia_64_df['root_dir'] = 'CASIA_2.0/image_patch_64'\n",
    "imd_64_df['root_dir'] = 'IMD2020/image_patch_64'"
   ]
  },
  {
   "cell_type": "code",
   "execution_count": 16,
   "metadata": {},
   "outputs": [],
   "source": [
    "combo_all_df = pd.concat([casia_64_df, imd_64_df, cmfd_64_df, nist_64_df, coverage_64_df])\n",
    "combo_all_df.to_csv('combo_all_64.csv', index=False)"
   ]
  },
  {
   "cell_type": "code",
   "execution_count": 22,
   "metadata": {},
   "outputs": [
    {
     "output_type": "execute_result",
     "data": {
      "text/plain": [
       "1    6632\n",
       "0    3442\n",
       "Name: label, dtype: int64"
      ]
     },
     "metadata": {},
     "execution_count": 22
    }
   ],
   "source": [
    "nist_64_df.label.value_counts()"
   ]
  },
  {
   "cell_type": "code",
   "execution_count": 17,
   "metadata": {},
   "outputs": [
    {
     "output_type": "stream",
     "name": "stdout",
     "text": [
      "root_dir            fold\nCASIA_2.0           0       1260\n                    1       1260\n                    2       1260\n                    3       1259\n                    4       1259\n                            ... \nNIST16/nist_extend  5        400\n                    6        400\n                    7        400\n                    8        400\n                    9        400\nName: fold, Length: 68, dtype: int64\n"
     ]
    }
   ],
   "source": [
    "combo_all_df = pd.read_csv('combo_all_FULL.csv').sample(frac=1.0, random_state=123)\n",
    "nist_extend_sample = pd.read_csv('nist_extend_sample.csv').sample(frac=1.0, random_state=123)\n",
    "coverage_extend_sample = pd.read_csv('coverage_extend_sample.csv').sample(frac=1.0, random_state=123)\n",
    "\n",
    "df = pd.concat([combo_all_df, nist_extend_sample, coverage_extend_sample])\n",
    "print(df.groupby('root_dir').fold.value_counts())"
   ]
  },
  {
   "cell_type": "code",
   "execution_count": 15,
   "metadata": {},
   "outputs": [
    {
     "output_type": "execute_result",
     "data": {
      "text/plain": [
       "                      image_patch                mask_patch  label  fold  \\\n",
       "10100         Au/Au_art_10008.jpg                       NaN      0     8   \n",
       "19275  fake/000000439180_fake.jpg  mask/000000439180_gt.jpg      1     6   \n",
       "5969          Au/Au_cha_30143.jpg                       NaN      0     4   \n",
       "15998       real/000000554002.jpg                       NaN      0     1   \n",
       "11360         Au/Au_sec_20053.jpg                       NaN      0     9   \n",
       "\n",
       "                                  ela             root_dir  \n",
       "10100         Au/Au_art_10008_ela.jpg            CASIA_2.0  \n",
       "19275  fake/000000439180_fake_ela.jpg  COCO_CMFD/cmfd_full  \n",
       "5969          Au/Au_cha_30143_ela.jpg            CASIA_2.0  \n",
       "15998       real/000000554002_ela.jpg  COCO_CMFD/cmfd_full  \n",
       "11360         Au/Au_sec_20053_ela.jpg            CASIA_2.0  "
      ],
      "text/html": "<div>\n<style scoped>\n    .dataframe tbody tr th:only-of-type {\n        vertical-align: middle;\n    }\n\n    .dataframe tbody tr th {\n        vertical-align: top;\n    }\n\n    .dataframe thead th {\n        text-align: right;\n    }\n</style>\n<table border=\"1\" class=\"dataframe\">\n  <thead>\n    <tr style=\"text-align: right;\">\n      <th></th>\n      <th>image_patch</th>\n      <th>mask_patch</th>\n      <th>label</th>\n      <th>fold</th>\n      <th>ela</th>\n      <th>root_dir</th>\n    </tr>\n  </thead>\n  <tbody>\n    <tr>\n      <th>10100</th>\n      <td>Au/Au_art_10008.jpg</td>\n      <td>NaN</td>\n      <td>0</td>\n      <td>8</td>\n      <td>Au/Au_art_10008_ela.jpg</td>\n      <td>CASIA_2.0</td>\n    </tr>\n    <tr>\n      <th>19275</th>\n      <td>fake/000000439180_fake.jpg</td>\n      <td>mask/000000439180_gt.jpg</td>\n      <td>1</td>\n      <td>6</td>\n      <td>fake/000000439180_fake_ela.jpg</td>\n      <td>COCO_CMFD/cmfd_full</td>\n    </tr>\n    <tr>\n      <th>5969</th>\n      <td>Au/Au_cha_30143.jpg</td>\n      <td>NaN</td>\n      <td>0</td>\n      <td>4</td>\n      <td>Au/Au_cha_30143_ela.jpg</td>\n      <td>CASIA_2.0</td>\n    </tr>\n    <tr>\n      <th>15998</th>\n      <td>real/000000554002.jpg</td>\n      <td>NaN</td>\n      <td>0</td>\n      <td>1</td>\n      <td>real/000000554002_ela.jpg</td>\n      <td>COCO_CMFD/cmfd_full</td>\n    </tr>\n    <tr>\n      <th>11360</th>\n      <td>Au/Au_sec_20053.jpg</td>\n      <td>NaN</td>\n      <td>0</td>\n      <td>9</td>\n      <td>Au/Au_sec_20053_ela.jpg</td>\n      <td>CASIA_2.0</td>\n    </tr>\n  </tbody>\n</table>\n</div>"
     },
     "metadata": {},
     "execution_count": 15
    }
   ],
   "source": [
    "df.head()"
   ]
  },
  {
   "cell_type": "code",
   "execution_count": 26,
   "metadata": {},
   "outputs": [
    {
     "output_type": "execute_result",
     "data": {
      "text/plain": [
       "root_dir                  fold\n",
       "CASIA_2.0/image_patch_64  7       3069\n",
       "                          1       3042\n",
       "                          5       3034\n",
       "                          9       3020\n",
       "                          4       3015\n",
       "                          3       3001\n",
       "                          6       2962\n",
       "                          0       2959\n",
       "                          8       2957\n",
       "                          2       2941\n",
       "COCO_CMFD/image_patch_64  4       2050\n",
       "                          9       2041\n",
       "                          5       2036\n",
       "                          8       2014\n",
       "                          7       1997\n",
       "                          3       1988\n",
       "                          0       1984\n",
       "                          1       1984\n",
       "                          2       1970\n",
       "                          6       1936\n",
       "COVERAGE/image_patch_64   0        230\n",
       "                          1        230\n",
       "                          2        229\n",
       "                          3        229\n",
       "                          4        229\n",
       "                          5        229\n",
       "                          6        229\n",
       "                          7        229\n",
       "                          8        228\n",
       "                          9        228\n",
       "IMD2020/image_patch_64    6       3103\n",
       "                          8       3043\n",
       "                          4       3039\n",
       "                          3       3012\n",
       "                          9       3009\n",
       "                          7       2979\n",
       "                          1       2976\n",
       "                          0       2955\n",
       "                          5       2951\n",
       "                          2       2933\n",
       "NIST16/image_patch_64     0       1009\n",
       "                          1       1009\n",
       "                          2       1007\n",
       "                          3       1007\n",
       "                          4       1007\n",
       "                          5       1007\n",
       "                          6       1007\n",
       "                          7       1007\n",
       "                          8       1007\n",
       "                          9       1007\n",
       "Name: fold, dtype: int64"
      ]
     },
     "metadata": {},
     "execution_count": 26
    }
   ],
   "source": [
    "df_without = combo_all_df[~combo_all_df['root_dir'].str.contains('CMFD|CASIA|IMD')]\n",
    "\n",
    "df_without_cmfd_64 = combo_all_df[~combo_all_df['root_dir'].str.contains('CMFD')]\n",
    "cmfd_64 = combo_all_df[combo_all_df['root_dir'].str.contains('CMFD')]\n",
    "cmfd_64_real_sample = cmfd_64[cmfd_64['label'] == 0].sample(n=10000, random_state=123)\n",
    "cmfd_64_fake_sample = cmfd_64[cmfd_64['label'] == 1].sample(n=10000, random_state=123)\n",
    "\n",
    "df_without_casia_64 = combo_all_df[~combo_all_df['root_dir'].str.contains('CASIA')]\n",
    "casia_64 = combo_all_df[combo_all_df['root_dir'].str.contains('CASIA')]\n",
    "casia_64_real_sample = casia_64[casia_64['label'] == 0].sample(n=15000, random_state=123)\n",
    "casia_64_fake_sample = casia_64[casia_64['label'] == 1].sample(n=15000, random_state=123)\n",
    "\n",
    "df_without_imd_64 = combo_all_df[~combo_all_df['root_dir'].str.contains('IMD')]\n",
    "imd_64 = combo_all_df[combo_all_df['root_dir'].str.contains('IMD')]\n",
    "imd_64_real_sample = imd_64[imd_64['label'] == 0].sample(n=15000, random_state=123)\n",
    "imd_64_fake_sample = imd_64[imd_64['label'] == 1].sample(n=15000, random_state=123)\n",
    "\n",
    "final_df = pd.concat([df_without, cmfd_64_real_sample, cmfd_64_fake_sample, casia_64_real_sample,\\\n",
    "                         casia_64_fake_sample, imd_64_real_sample, imd_64_fake_sample])\n",
    "final_df.groupby('root_dir').fold.value_counts()"
   ]
  },
  {
   "cell_type": "code",
   "execution_count": 27,
   "metadata": {},
   "outputs": [
    {
     "output_type": "execute_result",
     "data": {
      "text/plain": [
       "1    48224\n",
       "0    44140\n",
       "Name: label, dtype: int64"
      ]
     },
     "metadata": {},
     "execution_count": 27
    }
   ],
   "source": [
    "final_df.label.value_counts()"
   ]
  },
  {
   "cell_type": "code",
   "execution_count": 16,
   "metadata": {},
   "outputs": [],
   "source": [
    "df_without_cmfd_128 = combo_all_df[~combo_all_df['root_dir'].str.contains('CMFD')]\n",
    "cmfd_128 = combo_all_df[combo_all_df['root_dir'].str.contains('CMFD')]\n",
    "cmfd_128_real_sample = cmfd_128[cmfd_128['label'] == 0].sample(n=8000, random_state=123)\n",
    "cmfd_128_fake_sample = cmfd_128[cmfd_128['label'] == 1].sample(n=8000, random_state=123)\n",
    "combo_all_df = pd.concat([df_without_cmfd_128, cmfd_128_real_sample, cmfd_128_fake_sample])"
   ]
  },
  {
   "cell_type": "code",
   "execution_count": 17,
   "metadata": {},
   "outputs": [
    {
     "output_type": "execute_result",
     "data": {
      "text/plain": [
       "root_dir                   fold\n",
       "CASIA_2.0/image_patch_128  4       3214\n",
       "                           9       3211\n",
       "                           5       3203\n",
       "                           1       3194\n",
       "                           0       3157\n",
       "                           7       3157\n",
       "                           3       3141\n",
       "                           6       3125\n",
       "                           2       3118\n",
       "                           8       3115\n",
       "COCO_CMFD/image_patch_128  1       1626\n",
       "                           4       1624\n",
       "                           7       1611\n",
       "                           9       1611\n",
       "                           5       1606\n",
       "                           3       1599\n",
       "                           6       1594\n",
       "                           0       1586\n",
       "                           2       1580\n",
       "                           8       1563\n",
       "COVERAGE/image_patch_128   1        113\n",
       "                           9        106\n",
       "                           5        101\n",
       "                           7        101\n",
       "                           0        100\n",
       "                           4        100\n",
       "                           6        100\n",
       "                           8         98\n",
       "                           2         96\n",
       "                           3         83\n",
       "IMD2020/image_patch_128    4       2511\n",
       "                           7       2499\n",
       "                           5       2498\n",
       "                           6       2479\n",
       "                           9       2470\n",
       "                           3       2466\n",
       "                           1       2446\n",
       "                           8       2443\n",
       "                           2       2432\n",
       "                           0       2422\n",
       "NIST16/image_patch_128     0       1261\n",
       "                           5       1241\n",
       "                           3       1234\n",
       "                           9       1233\n",
       "                           4       1222\n",
       "                           2       1212\n",
       "                           8       1211\n",
       "                           1       1199\n",
       "                           7       1193\n",
       "                           6       1188\n",
       "Name: fold, dtype: int64"
      ]
     },
     "metadata": {},
     "execution_count": 17
    }
   ],
   "source": [
    "combo_all_df.groupby('root_dir').fold.value_counts()"
   ]
  },
  {
   "cell_type": "code",
   "execution_count": 18,
   "metadata": {},
   "outputs": [
    {
     "output_type": "execute_result",
     "data": {
      "text/plain": [
       "0    48822\n",
       "1    36671\n",
       "Name: label, dtype: int64"
      ]
     },
     "metadata": {},
     "execution_count": 18
    }
   ],
   "source": [
    "combo_all_df.label.value_counts()"
   ]
  },
  {
   "cell_type": "code",
   "execution_count": null,
   "metadata": {},
   "outputs": [],
   "source": []
  }
 ]
}