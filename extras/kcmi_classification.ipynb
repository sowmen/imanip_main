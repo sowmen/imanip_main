{
 "cells": [
  {
   "cell_type": "markdown",
   "metadata": {},
   "source": [
    "Reproduce KCMI evaluation from ManTraNet"
   ]
  },
  {
   "cell_type": "code",
   "execution_count": 1,
   "metadata": {},
   "outputs": [],
   "source": [
    "import torch\n",
    "from torch import nn\n",
    "from importlib import reload\n",
    "import cv2\n",
    "import numpy as np \n",
    "import matplotlib.pyplot as plt\n",
    "import pandas as pd\n",
    "from tqdm import tqdm\n",
    "from prettytable import PrettyTable\n",
    "\n",
    "from utils import stratified_train_val_test_split, get_ela\n",
    "from sklearn.model_selection import train_test_split\n",
    "\n",
    "import albumentations\n",
    "from albumentations import augmentations\n",
    "import albumentations.pytorch"
   ]
  },
  {
   "cell_type": "code",
   "execution_count": 2,
   "metadata": {},
   "outputs": [
    {
     "name": "stdout",
     "output_type": "stream",
     "text": [
      "--------- Loaded Checkpoint: best_weights/pretrain_[31_03_12_16_32].h5 ----------\n",
      "<All keys matched successfully>\n"
     ]
    }
   ],
   "source": [
    "from segmentation.merged_net import SRM_Classifer\n",
    "\n",
    "device = 'cuda'\n",
    "\n",
    "model = SRM_Classifer(encoder_checkpoint='best_weights/pretrain_[31_03_12_16_32].h5', num_classes=312).to(device)\n",
    "model.eval();"
   ]
  },
  {
   "cell_type": "code",
   "execution_count": 3,
   "metadata": {},
   "outputs": [],
   "source": [
    "df = pd.read_csv('kcmi.csv')\n",
    "\n",
    "df_train, df_test = train_test_split(df, test_size=0.07, shuffle=True, random_state=123)"
   ]
  },
  {
   "cell_type": "code",
   "execution_count": 4,
   "metadata": {},
   "outputs": [
    {
     "name": "stdout",
     "output_type": "stream",
     "text": [
      "(2301, 3)\n",
      "(174, 3)\n"
     ]
    }
   ],
   "source": [
    "print(df_train.shape)\n",
    "# print(df_val.shape)\n",
    "print(df_test.shape)"
   ]
  },
  {
   "cell_type": "code",
   "execution_count": 5,
   "metadata": {},
   "outputs": [],
   "source": [
    "def get_tensor(image, ela_image):\n",
    "\n",
    "    #---------------- Reshape & Normalize -----------------------\n",
    "    image = augmentations.geometric.functional.resize(image, 256, 256, cv2.INTER_AREA)\n",
    "    ela_image = augmentations.geometric.functional.resize(ela_image, 256, 256, cv2.INTER_AREA)\n",
    "\n",
    "    normalize = {\n",
    "        \"mean\": [0.485, 0.456, 0.406],\n",
    "        \"std\": [0.229, 0.224, 0.225],\n",
    "    }\n",
    "\n",
    "    transforms_normalize = albumentations.Compose(\n",
    "        [\n",
    "            albumentations.Normalize(mean=normalize['mean'], std=normalize['std'], always_apply=True, p=1),\n",
    "            albumentations.pytorch.transforms.ToTensorV2()\n",
    "        ],\n",
    "        additional_targets={'ela':'image'}\n",
    "    )\n",
    "\n",
    "    data = transforms_normalize(image=image, ela=ela_image)\n",
    "    image_tensor = data[\"image\"].unsqueeze(0)\n",
    "    ela_tensor = data[\"ela\"].unsqueeze(0)\n",
    "    \n",
    "    return image_tensor, ela_tensor"
   ]
  },
  {
   "cell_type": "code",
   "execution_count": 6,
   "metadata": {},
   "outputs": [],
   "source": [
    "def get_data(df):\n",
    "    X, Y = [], []\n",
    "\n",
    "    for row in tqdm(df.values):\n",
    "        image_path, class_id, label = row\n",
    "\n",
    "        image = cv2.imread(image_path, cv2.IMREAD_COLOR)\n",
    "        image = cv2.cvtColor(image, cv2.COLOR_BGR2RGB)\n",
    "        \n",
    "        x = image.shape[0]//2 - 256\n",
    "        y = image.shape[1]//2 - 256\n",
    "\n",
    "        patch_image = image[x:x+512, y:y+512, :]\n",
    "        patch_ela = get_ela(patch_image, 25)\n",
    "\n",
    "        # plt.figure()\n",
    "        # plt.subplot(121)\n",
    "        # plt.imshow(patch_image)\n",
    "        # plt.subplot(122)\n",
    "        # plt.imshow(patch_ela)\n",
    "        # plt.show()\n",
    "\n",
    "        image_tensor, ela_tensor = get_tensor(patch_image, patch_ela)\n",
    "        \n",
    "        _, (reduced_feat, _, _, _, _) = model(image_tensor.to(device), ela_tensor.to(device))\n",
    "        reduced_feat = reduced_feat.cpu().detach().numpy()\n",
    "        \n",
    "        X.append(reduced_feat)\n",
    "        Y.append(label)\n",
    "\n",
    "    return X, Y"
   ]
  },
  {
   "cell_type": "code",
   "execution_count": 7,
   "metadata": {},
   "outputs": [
    {
     "name": "stderr",
     "output_type": "stream",
     "text": [
      "100%|██████████| 2301/2301 [15:29<00:00,  2.48it/s]\n",
      "100%|██████████| 174/174 [01:08<00:00,  2.53it/s]\n"
     ]
    }
   ],
   "source": [
    "trainX, trainY = get_data(df_train)\n",
    "testX, testY = get_data(df_test)"
   ]
  },
  {
   "cell_type": "code",
   "execution_count": 8,
   "metadata": {},
   "outputs": [
    {
     "name": "stdout",
     "output_type": "stream",
     "text": [
      "(2301, 256) (2301,)\n",
      "(174, 256) (174,)\n"
     ]
    }
   ],
   "source": [
    "X_train = np.array([x.reshape(-1) for x in trainX])\n",
    "y_train = np.array([trainY]).T.ravel()\n",
    "\n",
    "X_test = np.array([x.reshape(-1) for x in testX])\n",
    "y_test = np.array([testY]).T.ravel()\n",
    "\n",
    "print(X_train.shape, y_train.shape)\n",
    "print(X_test.shape, y_test.shape)"
   ]
  },
  {
   "cell_type": "markdown",
   "metadata": {},
   "source": [
    "# KNN"
   ]
  },
  {
   "cell_type": "code",
   "execution_count": 9,
   "metadata": {},
   "outputs": [],
   "source": [
    "from sklearn.neighbors import KNeighborsClassifier\n",
    "\n",
    "knn = KNeighborsClassifier(n_neighbors=7, n_jobs=-1)\n",
    "knn.fit(X_train, y_train)\n",
    "\n",
    "y_pred = knn.predict(X_test)"
   ]
  },
  {
   "cell_type": "code",
   "execution_count": 10,
   "metadata": {},
   "outputs": [
    {
     "name": "stdout",
     "output_type": "stream",
     "text": [
      "Accuracy: 0.2413793103448276\n"
     ]
    }
   ],
   "source": [
    "from sklearn import metrics\n",
    "\n",
    "print(\"Accuracy:\",metrics.accuracy_score(y_test, y_pred))"
   ]
  },
  {
   "cell_type": "markdown",
   "metadata": {},
   "source": [
    "# SVM"
   ]
  },
  {
   "cell_type": "code",
   "execution_count": 13,
   "metadata": {},
   "outputs": [
    {
     "name": "stdout",
     "output_type": "stream",
     "text": [
      "Fitting 10 folds for each of 312 candidates, totalling 3120 fits\n",
      "/home/sowmitra/anaconda3/envs/dfdcpy37env/lib/python3.7/site-packages/sklearn/model_selection/_search.py:921: UserWarning: One or more of the test scores are non-finite: [0.11516657 0.25553924        nan 0.11516657 0.26814417        nan\n",
      " 0.11516657 0.20295502        nan 0.11516657 0.11951252        nan\n",
      " 0.11516657 0.11299266        nan 0.11516657 0.11429701        nan\n",
      " 0.11516657 0.11516657        nan 0.11516657 0.12430077        nan\n",
      " 0.11516657 0.25553924        nan 0.11516657 0.25597403        nan\n",
      " 0.11516657 0.2542349         nan 0.11516657 0.11864672        nan\n",
      " 0.11516657 0.11559947        nan 0.11516657 0.11473179        nan\n",
      " 0.11516657 0.11429701        nan 0.11516657 0.18600791        nan\n",
      " 0.11516657 0.25553924        nan 0.11516657 0.25553924        nan\n",
      " 0.20905327 0.2733371         nan 0.20817241 0.11777527        nan\n",
      " 0.13255035 0.11646716        nan 0.11516657 0.11169019        nan\n",
      " 0.11516657 0.11299454        nan 0.22425748 0.24684924        nan\n",
      " 0.11516657 0.25553924        nan 0.17209674 0.25553924        nan\n",
      " 0.27337286 0.26814417        nan 0.25076416 0.20295502        nan\n",
      " 0.20643892 0.11951252        nan 0.1229889  0.11299266        nan\n",
      " 0.12777527 0.11429701        nan 0.2742349  0.27030868        nan\n",
      " 0.11516657 0.25553924        nan 0.18904574 0.25553924        nan\n",
      " 0.26945229 0.25597403        nan 0.27551478 0.2542349         nan\n",
      " 0.2420798  0.11864672        nan 0.20427066 0.11559947        nan\n",
      " 0.20947864 0.11777339        nan 0.28944476 0.27856766        nan\n",
      " 0.11516657 0.25553924        nan 0.18904574 0.25553924        nan\n",
      " 0.27206286 0.25553924        nan 0.28117824 0.2733371         nan\n",
      " 0.27464897 0.11777527        nan 0.24033126 0.11646716        nan\n",
      " 0.2494617  0.11777339        nan 0.27380011 0.25771316        nan\n",
      " 0.11516657 0.25553924        nan 0.18904574 0.25553924        nan\n",
      " 0.27206286 0.25553924        nan 0.2494617  0.26814417        nan\n",
      " 0.26334651 0.20295502        nan 0.27118201 0.11951252        nan\n",
      " 0.26769998 0.11473367        nan 0.2746678  0.25553924        nan\n",
      " 0.11516657 0.25553924        nan 0.18904574 0.25553924        nan\n",
      " 0.27206286 0.25553924        nan 0.25076416 0.25467344        nan\n",
      " 0.26335968 0.22121024        nan 0.26074346 0.11647092        nan\n",
      " 0.26291925 0.12212498        nan 0.2746678  0.25553924        nan\n",
      " 0.11516657 0.25553924        nan 0.18904574 0.25553924        nan\n",
      " 0.27206286 0.25553924        nan 0.25076416 0.25553924        nan\n",
      " 0.25510446 0.23902692        nan 0.25900998 0.11777527        nan\n",
      " 0.26161302 0.12125541        nan 0.2746678  0.25553924        nan\n",
      " 0.11516657 0.25553924        nan 0.18904574 0.25553924        nan\n",
      " 0.27206286 0.25553924        nan 0.25076416 0.25597403        nan\n",
      " 0.23685112 0.2542349         nan 0.25726896 0.11864672        nan\n",
      " 0.25205534 0.12386787        nan 0.2746678  0.25553924        nan\n",
      " 0.11516657 0.25553924        nan 0.18904574 0.25553924        nan\n",
      " 0.27206286 0.25553924        nan 0.25076416 0.25553924        nan\n",
      " 0.23120271 0.26422925        nan 0.24641069 0.11995295        nan\n",
      " 0.24727649 0.12733296        nan 0.2746678  0.25553924        nan\n",
      " 0.11516657 0.25553924        nan 0.18904574 0.25553924        nan\n",
      " 0.27206286 0.25553924        nan 0.25076416 0.25553924        nan\n",
      " 0.2298946  0.2707397         nan 0.25162055 0.12299642        nan\n",
      " 0.24728026 0.13559194        nan 0.2746678  0.25553924        nan\n",
      " 0.11516657 0.25553924        nan 0.18904574 0.25553924        nan\n",
      " 0.27206286 0.25553924        nan 0.25076416 0.25553924        nan\n",
      " 0.22990024 0.2733371         nan 0.24467721 0.11777527        nan\n",
      " 0.23858837 0.17775833        nan 0.2746678  0.25553924        nan]\n",
      "  category=UserWarning\n",
      "Optimal hyper-parameters:  {'C': 10, 'gamma': 'auto', 'kernel': 'rbf'}\n",
      "Accuracy : 0.2894447581404103\n"
     ]
    }
   ],
   "source": [
    "import SVM\n",
    "reload(SVM)\n",
    "\n",
    "hyper_params = [{\n",
    "    'kernel': ['rbf', 'poly', 'sgmoid'], \n",
    "    'gamma': [1.0, 0.1, 0.01, 0.001, 0.0001, 0.00001, 'scale', 'auto'], \n",
    "    'C': [0.001, 0.01, 0.1, 1, 10, 100, 1000, 3000, 5000, 10000, 30000, 50000, 100000]\n",
    "}]\n",
    "\n",
    "opt_params = SVM.optimize_hyperparams(X_train, y_train, params=hyper_params)"
   ]
  },
  {
   "cell_type": "code",
   "execution_count": 14,
   "metadata": {},
   "outputs": [
    {
     "name": "stdout",
     "output_type": "stream",
     "text": [
      "{'C': 10, 'gamma': 'auto', 'kernel': 'rbf'}\n",
      "[Parallel(n_jobs=-1)]: Using backend LokyBackend with 32 concurrent workers.\n",
      "[Parallel(n_jobs=-1)]: Done   3 out of  10 | elapsed:    1.0s remaining:    2.3s\n",
      "[Parallel(n_jobs=-1)]: Done   5 out of  10 | elapsed:    1.0s remaining:    1.0s\n",
      "[Parallel(n_jobs=-1)]: Done   7 out of  10 | elapsed:    1.1s remaining:    0.5s\n",
      "[Parallel(n_jobs=-1)]: Done  10 out of  10 | elapsed:    1.1s finished\n",
      "[0.27705628 0.29130435 0.26086957 0.29565217 0.33478261 0.28695652\n",
      " 0.2826087  0.23043478 0.2826087  0.35217391]\n",
      "0.2894447581404103\n",
      "0.03253353008771719\n"
     ]
    }
   ],
   "source": [
    "print(opt_params)\n",
    "SVM.classify(X_train, y_train, opt_params)"
   ]
  }
 ],
 "metadata": {
  "kernelspec": {
   "display_name": "Python 3.7.10 64-bit ('dfdcpy37env': conda)",
   "name": "python3710jvsc74a57bd0ed42f63bef822c8320ac08590f49c46eb48ce4dfa30453265a23ce003f333a3b"
  },
  "language_info": {
   "codemirror_mode": {
    "name": "ipython",
    "version": 3
   },
   "file_extension": ".py",
   "mimetype": "text/x-python",
   "name": "python",
   "nbconvert_exporter": "python",
   "pygments_lexer": "ipython3",
   "version": "3.7.10-final"
  },
  "orig_nbformat": 2
 },
 "nbformat": 4,
 "nbformat_minor": 2
}
