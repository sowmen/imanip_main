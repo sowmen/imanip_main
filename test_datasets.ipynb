{
 "metadata": {
  "language_info": {
   "codemirror_mode": {
    "name": "ipython",
    "version": 3
   },
   "file_extension": ".py",
   "mimetype": "text/x-python",
   "name": "python",
   "nbconvert_exporter": "python",
   "pygments_lexer": "ipython3",
   "version": "3.8.8"
  },
  "orig_nbformat": 2,
  "kernelspec": {
   "name": "python388jvsc74a57bd04e346eefb84b85ed2933f0901cea035b09f73c4b23b9936d1570bb3b1ee033d0",
   "display_name": "Python 3.8.8 64-bit ('dl-env': conda)"
  },
  "metadata": {
   "interpreter": {
    "hash": "4e346eefb84b85ed2933f0901cea035b09f73c4b23b9936d1570bb3b1ee033d0"
   }
  }
 },
 "nbformat": 4,
 "nbformat_minor": 2,
 "cells": [
  {
   "cell_type": "code",
   "execution_count": 2,
   "metadata": {},
   "outputs": [],
   "source": [
    "import torch\n",
    "from torch import nn\n",
    "from importlib import reload\n",
    "import cv2\n",
    "import numpy as np \n",
    "import matplotlib.pyplot as plt\n",
    "import pandas as pd\n",
    "from tqdm import tqdm\n",
    "\n",
    "import albumentations\n",
    "from albumentations import augmentations\n",
    "import albumentations.pytorch"
   ]
  },
  {
   "cell_type": "code",
   "execution_count": 3,
   "metadata": {},
   "outputs": [],
   "source": [
    "root_folder = \"I:/image_manipulation/Image_Manipulation_Dataset\"\n",
    "def load_images(row):\n",
    "\n",
    "    image_patch, mask_patch, label, _, ela, root_dir = row\n",
    "\n",
    "    #------------- Load image, Ela, Mask -------------------------\n",
    "    image_path = os.path.join(root_folder, root_dir, image_patch)\n",
    "    ela_path = os.path.join(root_folder, root_dir, ela)\n",
    "\n",
    "    image = cv2.imread(image_path, cv2.IMREAD_COLOR)\n",
    "    ela_image = cv2.imread(ela_path, cv2.IMREAD_COLOR)\n",
    "\n",
    "    image = cv2.cvtColor(image, cv2.COLOR_BGR2RGB)\n",
    "    ela_image = cv2.cvtColor(ela_image, cv2.COLOR_BGR2RGB)\n",
    "\n",
    "    if not isinstance(mask_patch, str) and np.isnan(mask_patch):\n",
    "        mask_image = np.zeros((image.shape[0], image.shape[1])).astype('uint8')\n",
    "    else:\n",
    "        mask_path = os.path.join(root_folder, root_dir, mask_patch)\n",
    "        mask_image = cv2.imread(mask_path, cv2.IMREAD_GRAYSCALE)\n",
    "\n",
    "    if('NIST' in root_dir):\n",
    "        mask_image = 255 - mask_image\n",
    "\n",
    "    image = augmentations.geometric.functional.resize(image, 256, 256, cv2.INTER_AREA)\n",
    "    mask_image = augmentations.geometric.functional.resize(mask_image, 256, 256, cv2.INTER_AREA)\n",
    "    ela_image = augmentations.geometric.functional.resize(ela_image, 256, 256, cv2.INTER_AREA)\n",
    "\n",
    "    return image, ela_image, mask_image, label\n",
    "\n",
    "\n",
    "\n",
    "def get_tensors(image, ela_image, mask_image):\n",
    "\n",
    "    #---------------- Reshape & Normalize -----------------------\n",
    "    # image = augmentations.geometric.functional.resize(image, 256, 256, cv2.INTER_AREA)\n",
    "    # mask_image = augmentations.geometric.functional.resize(mask_image, 256, 256, cv2.INTER_AREA)\n",
    "    # ela_image = augmentations.geometric.functional.resize(ela_image, 256, 256, cv2.INTER_AREA)\n",
    "\n",
    "    normalize = {\n",
    "        \"mean\": [0.4535408213875562, 0.42862278450748387, 0.41780105499276865],\n",
    "        \"std\": [0.2672804038612597, 0.2550410416463668, 0.29475415579144293],\n",
    "    }\n",
    "\n",
    "    transforms_normalize = albumentations.Compose(\n",
    "        [\n",
    "            albumentations.Normalize(mean=normalize['mean'], std=normalize['std'], always_apply=True, p=1),\n",
    "            albumentations.pytorch.transforms.ToTensorV2()\n",
    "        ],\n",
    "        additional_targets={'ela':'image'}\n",
    "    )\n",
    "\n",
    "    data = transforms_normalize(image=image, mask=mask_image, ela=ela_image)\n",
    "    image_tensor = data[\"image\"].unsqueeze(0)\n",
    "    mask_tensor = (data[\"mask\"] / 255.0).unsqueeze(0).unsqueeze(0)\n",
    "    ela_tensor = data[\"ela\"].unsqueeze(0)\n",
    "    \n",
    "    return image_tensor, ela_tensor, mask_tensor\n",
    "    "
   ]
  },
  {
   "cell_type": "code",
   "execution_count": 4,
   "metadata": {},
   "outputs": [],
   "source": [
    "def patch_func(img, ela, mask, patch_size):\n",
    "    d = img.shape\n",
    "    patches = []\n",
    "    coords = []\n",
    "    for i in range(0, d[0], patch_size):\n",
    "        for j in range(0, d[1], patch_size):\n",
    "            x = i + patch_size\n",
    "            y = j + patch_size\n",
    "            if x > d[0] or y > d[1]:\n",
    "                break\n",
    "            temp_img = img[i: x, j: y]\n",
    "            temp_ela = ela[i: x, j: y]\n",
    "            temp_mask = mask[i: x, j: y]\n",
    "            patches.append((temp_img, temp_mask, temp_ela))\n",
    "            coords.append((i, j))\n",
    "    return patches, coords"
   ]
  },
  {
   "cell_type": "code",
   "execution_count": 4,
   "metadata": {},
   "outputs": [
    {
     "output_type": "execute_result",
     "data": {
      "text/plain": [
       "<All keys matched successfully>"
      ]
     },
     "metadata": {},
     "execution_count": 4
    }
   ],
   "source": [
    "# from segmentation.merged_net_old import SRM_Classifer_Old\n",
    "# from segmentation.timm_srm_unetpp import UnetPP\n",
    "# from segmentation.merged_net import SRM_Classifer\n",
    "from segmentation.smp_srm import SMP_SRM_UPP\n",
    "\n",
    "# torch.cuda.set_device(1)\n",
    "device = 'cuda'\n",
    "\n",
    "# encoder = SRM_Classifer()\n",
    "# model_256 = UnetPP(encoder, num_classes=1, layer='end')\n",
    "model_256 = SMP_SRM_UPP()\n",
    "model_256 = nn.DataParallel(model_256).to(device)\n",
    "model_256.load_state_dict(torch.load('weights/(CASIA+customloss+finetune)UnetPP_[08_05_22_42_18].h5'))\n",
    "\n",
    "# model_256 = SRM_Classifer()\n",
    "# model_256 = nn.DataParallel(model_256).to(device)\n",
    "# model_256.load_state_dict(torch.load('weights/(full+128)COMBO_ALL_FULL_[11|04_09|06|44].h5'))\n",
    "\n",
    "model_128 = SMP_SRM_UPP()\n",
    "model_128 = nn.DataParallel(model_128).to(device)\n",
    "model_128.load_state_dict(torch.load('best_weights/COMBO_ALL_128ChangedClass_[09|03_21|11|14].h5'))\n",
    "\n",
    "# model_64 = SRM_Classifer()\n",
    "# model_64 = nn.DataParallel(model_64).to(device)\n",
    "# model_64.load_state_dict(torch.load('best_weights/(Resume 22-35-18) COMBO_ALL_64ChangedClass_[11|03_18|46|12].h5'))"
   ]
  },
  {
   "cell_type": "code",
   "execution_count": 5,
   "metadata": {},
   "outputs": [],
   "source": [
    "def get_feat_preds(row):\n",
    "    model_256.eval()\n",
    "    # localizer_256.eval()\n",
    "    # model_128.eval()\n",
    "    # model_64.eval()\n",
    "    \n",
    "    with torch.no_grad():\n",
    "        image_256, ela_image_256, mask_image_256, label = load_images(row)\n",
    "        # features = []\n",
    "        predictions = []\n",
    "        masks = []\n",
    "\n",
    "        #--------- 256x256 ----------        \n",
    "        image_tensor_256, ela_tensor_256, mask_tensor_256 = get_tensors(image_256, ela_image_256, mask_image_256)\n",
    "        # out_mask_256 = localizer_256(image_tensor_256, ela_tensor_256)\n",
    "        # out_masks.append(torch.sigmoid(out_mask_256).cpu())\n",
    "        # target_masks.append(mask_tensor_256.cpu())\n",
    "        # outputs.clear()\n",
    "        pred_256, labels_256 = model_256(image_tensor_256.to(device), ela_tensor_256.to(device))\n",
    "        # features.append(inter_256.cpu().detach())\n",
    "        predictions.append(torch.sigmoid(pred_256.cpu().detach()))\n",
    "        masks.append(mask_tensor_256)\n",
    "\n",
    "        # #--------- 128x128 ----------\n",
    "        patches_128, _ = patch_func(image_256, ela_image_256, mask_image_256, 128)\n",
    "        for patch in patches_128:\n",
    "            image_128, mask_image_128, ela_image_128 = patch\n",
    "            image_tensor_128, ela_tensor_128, mask_tensor_128 = get_tensors(image_128, ela_image_128, mask_image_128)\n",
    "            \n",
    "            # outputs.clear()\n",
    "            pred_128, labels_128 = model_128(image_tensor_128.to(device), ela_tensor_128.to(device))\n",
    "            features.append(inter_128.cpu().detach())\n",
    "            predictions.append(torch.sigmoid(pred_128.cpu().detach()))\n",
    "        \n",
    "        # #--------- 64x64 ----------\n",
    "        # patches_64, _ = patch_func(image_256, ela_image_256, mask_image_256, 64)\n",
    "        # for patch in patches_64:\n",
    "        #     image_64, mask_image_64, ela_image_64 = patch\n",
    "        #     image_tensor_64, ela_tensor_64, mask_tensor_64 = get_tensors(image_64, ela_image_64, mask_image_64)\n",
    "            \n",
    "        #     # outputs.clear()\n",
    "        #     pred_64, inter_64, _ = model_64(image_tensor_64.to(device), ela_tensor_64.to(device))\n",
    "        #     features.append(inter_64.cpu().detach())\n",
    "        #     predictions.append(torch.sigmoid(pred_64.cpu().detach()))\n",
    "\n",
    "    return predictions, masks"
   ]
  },
  {
   "cell_type": "code",
   "execution_count": 3,
   "metadata": {},
   "outputs": [
    {
     "output_type": "stream",
     "name": "stdout",
     "text": [
      "CASIA: real:0, fakes:511\nIMD: real:0, fakes:0\nCOVERAGE: real:0, fakes:0\nNIST: real:0, fakes:0\n"
     ]
    }
   ],
   "source": [
    "\"CMFD, NIST, COVERAGE, CASIA, IMD\"\n",
    "\n",
    "def get_individual_test_df(dataframe, val):\n",
    "    test_df = dataframe[dataframe['root_dir'].str.contains(val)]\n",
    "    # test_df = dataframe[dataframe['label'] == 1]\n",
    "    test_df = test_df[test_df[\"fold\"].isin([1])]\n",
    "\n",
    "    print(\n",
    "        \"{}: real:{}, fakes:{}\".format(\n",
    "            val, len(test_df[test_df[\"label\"] == 0]), len(test_df[test_df[\"label\"] == 1])\n",
    "        )\n",
    "    )\n",
    "    return test_df.values\n",
    "\n",
    "def get_test_df_segment(dataframe, val):\n",
    "    test_df = dataframe[dataframe['root_dir'].str.contains(val)]\n",
    "    test_df = test_df[test_df[\"fold\"].isin([1])]\n",
    "    test_df = test_df[test_df[\"label\"] == 1]\n",
    "\n",
    "    print(\n",
    "        \"{}: real:{}, fakes:{}\".format(\n",
    "            val, len(test_df[test_df[\"label\"] == 0]), len(test_df[test_df[\"label\"] == 1])\n",
    "        )\n",
    "    )\n",
    "    return test_df.values\n",
    "\n",
    "\n",
    "full_df = pd.read_csv('dataset_csv/casia_FULL.csv')\n",
    "\n",
    "# casia_test = get_individual_test_df(full_df, \"CASIA\")\n",
    "# imd_test = get_individual_test_df(full_df, \"IMD\")\n",
    "# coverage_test = get_individual_test_df(full_df, \"COVERAGE\")\n",
    "# nist_test = get_individual_test_df(full_df, \"NIST\")\n",
    "\n",
    "casia_test = get_test_df_segment(full_df, \"CASIA\")\n",
    "imd_test = get_test_df_segment(full_df, \"IMD\")\n",
    "coverage_test = get_test_df_segment(full_df, \"COVERAGE\")\n",
    "nist_test = get_test_df_segment(full_df, \"NIST\")"
   ]
  },
  {
   "cell_type": "code",
   "execution_count": 6,
   "metadata": {},
   "outputs": [],
   "source": [
    "coverage_full = full_df[full_df['root_dir'].str.contains('COVERAGE')]\n",
    "coverage_full = coverage_full[coverage_full[\"label\"] == 1]\n",
    "\n",
    "nist_full = full_df[full_df['root_dir'].str.contains('NIST')]\n",
    "nist_full = nist_full[nist_full[\"label\"] == 1]"
   ]
  },
  {
   "cell_type": "code",
   "execution_count": 8,
   "metadata": {},
   "outputs": [
    {
     "output_type": "execute_result",
     "data": {
      "text/plain": [
       "1    388\n",
       "Name: label, dtype: int64"
      ]
     },
     "metadata": {},
     "execution_count": 8
    }
   ],
   "source": [
    "nist_full.label.value_counts()"
   ]
  },
  {
   "source": [
    "## SVM Classifier"
   ],
   "cell_type": "markdown",
   "metadata": {}
  },
  {
   "cell_type": "code",
   "execution_count": 8,
   "metadata": {},
   "outputs": [],
   "source": [
    "def feat_pool(feat: torch.tensor, operation: str):\n",
    "    \"\"\"\n",
    "    Fuses the image's patches feature representation\n",
    "    :param feat: The network object\n",
    "    :param operation: Either max or mean for the pooling operation\n",
    "    :returns: The final 256-D feature representation of the entire image\n",
    "    \"\"\"\n",
    "    if operation == \"max\":\n",
    "        return feat.max(axis=0)\n",
    "    elif operation == \"mean\":\n",
    "        return feat.mean(axis=0)\n",
    "    else:\n",
    "        raise Exception(\"The operation can be either mean or max\")"
   ]
  },
  {
   "cell_type": "code",
   "execution_count": 7,
   "metadata": {},
   "outputs": [
    {
     "output_type": "stream",
     "name": "stderr",
     "text": [
      "100%|██████████| 511/511 [05:22<00:00,  1.59it/s]\n"
     ]
    }
   ],
   "source": [
    "testX = []\n",
    "testY = []\n",
    "predY = []\n",
    "\n",
    "for row in tqdm(casia_test):\n",
    "\n",
    "    predictions, masks = get_feat_preds(row)\n",
    "    \n",
    "    # features = torch.vstack(features)\n",
    "    # condensed_feature = feat_pool(features, \"mean\").numpy().reshape(1, -1)\n",
    "\n",
    "    # testX.append(condensed_feature)\n",
    "    testY.append(masks[0].squeeze())\n",
    "    # testY.append(row[2])  \n",
    "    predY.append(predictions[0].squeeze())"
   ]
  },
  {
   "cell_type": "code",
   "execution_count": 16,
   "metadata": {},
   "outputs": [
    {
     "output_type": "stream",
     "name": "stdout",
     "text": [
      "Test Accuracy: 0.8960317460317461\n"
     ]
    }
   ],
   "source": [
    "from sklearn.metrics import accuracy_score\n",
    "print(\"Test Accuracy:\", accuracy_score(np.array(testY), np.array(predY) >= 0.5))"
   ]
  },
  {
   "cell_type": "code",
   "execution_count": 19,
   "metadata": {},
   "outputs": [
    {
     "output_type": "stream",
     "name": "stderr",
     "text": [
      "511it [00:11, 46.39it/s]\n"
     ]
    },
    {
     "output_type": "execute_result",
     "data": {
      "text/plain": [
       "0.8871531641063131"
      ]
     },
     "metadata": {},
     "execution_count": 19
    }
   ],
   "source": [
    "from sklearn.metrics import roc_auc_score\n",
    "from torchmetrics import AUROC\n",
    "auroc = AUROC(pos_label=1)\n",
    "\n",
    "auc, cnt = 0, 0\n",
    "for gt, pr in tqdm(zip(testY, predY)):          \n",
    "    auc += roc_auc_score(gt.ravel() >= 0.5, pr.ravel())\n",
    "    # auc += auroc(pr.ravel(), gt.ravel() >= 0.5)\n",
    "    cnt += 1\n",
    "auc / cnt"
   ]
  },
  {
   "cell_type": "code",
   "execution_count": 8,
   "metadata": {},
   "outputs": [
    {
     "output_type": "stream",
     "name": "stderr",
     "text": [
      "511it [01:42,  4.98it/s]\n"
     ]
    },
    {
     "output_type": "execute_result",
     "data": {
      "text/plain": [
       "0.8149116486326886"
      ]
     },
     "metadata": {},
     "execution_count": 8
    }
   ],
   "source": [
    "from sklearn.metrics import roc_auc_score\n",
    "\n",
    "thrs = [0.0,0.1,0.15,0.2,0.25,0.3,0.35,0.4,0.45,0.5,0.55,0.6,0.65,0.7,0.75,0.8,0.85,0.9,0.95,1.0]\n",
    "\n",
    "sample = []\n",
    "auc, cnt = 0, 0\n",
    "for gt, pr in tqdm(zip(testY, predY)):\n",
    "    best, bt = -1, 0\n",
    "    for thr in thrs:\n",
    "        tmp = roc_auc_score(gt.numpy().ravel() >= 0.5, pr.numpy().ravel() >= thr)          \n",
    "        if tmp > best: \n",
    "            best = tmp\n",
    "            bt = thr\n",
    "    auc += best\n",
    "    cnt += 1\n",
    "    sample.append((pr, gt, bt))\n",
    "auc / cnt"
   ]
  },
  {
   "cell_type": "code",
   "execution_count": 12,
   "metadata": {},
   "outputs": [
    {
     "output_type": "display_data",
     "data": {
      "text/plain": "<Figure size 432x288 with 2 Axes>",
      "image/svg+xml": "<?xml version=\"1.0\" encoding=\"utf-8\" standalone=\"no\"?>\n<!DOCTYPE svg PUBLIC \"-//W3C//DTD SVG 1.1//EN\"\n  \"http://www.w3.org/Graphics/SVG/1.1/DTD/svg11.dtd\">\n<svg height=\"186.761932pt\" version=\"1.1\" viewBox=\"0 0 375.2875 186.761932\" width=\"375.2875pt\" xmlns=\"http://www.w3.org/2000/svg\" xmlns:xlink=\"http://www.w3.org/1999/xlink\">\n <metadata>\n  <rdf:RDF xmlns:cc=\"http://creativecommons.org/ns#\" xmlns:dc=\"http://purl.org/dc/elements/1.1/\" xmlns:rdf=\"http://www.w3.org/1999/02/22-rdf-syntax-ns#\">\n   <cc:Work>\n    <dc:type rdf:resource=\"http://purl.org/dc/dcmitype/StillImage\"/>\n    <dc:date>2021-05-13T05:21:47.230606</dc:date>\n    <dc:format>image/svg+xml</dc:format>\n    <dc:creator>\n     <cc:Agent>\n      <dc:title>Matplotlib v3.4.2, https://matplotlib.org/</dc:title>\n     </cc:Agent>\n    </dc:creator>\n   </cc:Work>\n  </rdf:RDF>\n </metadata>\n <defs>\n  <style type=\"text/css\">*{stroke-linecap:butt;stroke-linejoin:round;}</style>\n </defs>\n <g id=\"figure_1\">\n  <g id=\"patch_1\">\n   <path d=\"M 0 186.761932 \nL 375.2875 186.761932 \nL 375.2875 0 \nL 0 0 \nz\n\" style=\"fill:none;\"/>\n  </g>\n  <g id=\"axes_1\">\n   <g id=\"patch_2\">\n    <path d=\"M 33.2875 162.883807 \nL 185.469318 162.883807 \nL 185.469318 10.701989 \nL 33.2875 10.701989 \nz\n\" style=\"fill:#ffffff;\"/>\n   </g>\n   <g clip-path=\"url(#pc8eb23263e)\">\n    <image height=\"153\" id=\"image15cad86b09\" transform=\"scale(1 -1)translate(0 -153)\" width=\"153\" x=\"33.2875\" xlink:href=\"data:image/png;base64,\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\" y=\"-9.883807\"/>\n   </g>\n   <g id=\"matplotlib.axis_1\">\n    <g id=\"xtick_1\">\n     <g id=\"line2d_1\">\n      <defs>\n       <path d=\"M 0 0 \nL 0 3.5 \n\" id=\"me2fc048ec9\" style=\"stroke:#000000;stroke-width:0.8;\"/>\n      </defs>\n      <g>\n       <use style=\"stroke:#000000;stroke-width:0.8;\" x=\"33.58473\" xlink:href=\"#me2fc048ec9\" y=\"162.883807\"/>\n      </g>\n     </g>\n     <g id=\"text_1\">\n      <!-- 0 -->\n      <g transform=\"translate(30.40348 177.482244)scale(0.1 -0.1)\">\n       <defs>\n        <path d=\"M 2034 4250 \nQ 1547 4250 1301 3770 \nQ 1056 3291 1056 2328 \nQ 1056 1369 1301 889 \nQ 1547 409 2034 409 \nQ 2525 409 2770 889 \nQ 3016 1369 3016 2328 \nQ 3016 3291 2770 3770 \nQ 2525 4250 2034 4250 \nz\nM 2034 4750 \nQ 2819 4750 3233 4129 \nQ 3647 3509 3647 2328 \nQ 3647 1150 3233 529 \nQ 2819 -91 2034 -91 \nQ 1250 -91 836 529 \nQ 422 1150 422 2328 \nQ 422 3509 836 4129 \nQ 1250 4750 2034 4750 \nz\n\" id=\"DejaVuSans-30\" transform=\"scale(0.015625)\"/>\n       </defs>\n       <use xlink:href=\"#DejaVuSans-30\"/>\n      </g>\n     </g>\n    </g>\n    <g id=\"xtick_2\">\n     <g id=\"line2d_2\">\n      <g>\n       <use style=\"stroke:#000000;stroke-width:0.8;\" x=\"93.030753\" xlink:href=\"#me2fc048ec9\" y=\"162.883807\"/>\n      </g>\n     </g>\n     <g id=\"text_2\">\n      <!-- 100 -->\n      <g transform=\"translate(83.487003 177.482244)scale(0.1 -0.1)\">\n       <defs>\n        <path d=\"M 794 531 \nL 1825 531 \nL 1825 4091 \nL 703 3866 \nL 703 4441 \nL 1819 4666 \nL 2450 4666 \nL 2450 531 \nL 3481 531 \nL 3481 0 \nL 794 0 \nL 794 531 \nz\n\" id=\"DejaVuSans-31\" transform=\"scale(0.015625)\"/>\n       </defs>\n       <use xlink:href=\"#DejaVuSans-31\"/>\n       <use x=\"63.623047\" xlink:href=\"#DejaVuSans-30\"/>\n       <use x=\"127.246094\" xlink:href=\"#DejaVuSans-30\"/>\n      </g>\n     </g>\n    </g>\n    <g id=\"xtick_3\">\n     <g id=\"line2d_3\">\n      <g>\n       <use style=\"stroke:#000000;stroke-width:0.8;\" x=\"152.476776\" xlink:href=\"#me2fc048ec9\" y=\"162.883807\"/>\n      </g>\n     </g>\n     <g id=\"text_3\">\n      <!-- 200 -->\n      <g transform=\"translate(142.933026 177.482244)scale(0.1 -0.1)\">\n       <defs>\n        <path d=\"M 1228 531 \nL 3431 531 \nL 3431 0 \nL 469 0 \nL 469 531 \nQ 828 903 1448 1529 \nQ 2069 2156 2228 2338 \nQ 2531 2678 2651 2914 \nQ 2772 3150 2772 3378 \nQ 2772 3750 2511 3984 \nQ 2250 4219 1831 4219 \nQ 1534 4219 1204 4116 \nQ 875 4013 500 3803 \nL 500 4441 \nQ 881 4594 1212 4672 \nQ 1544 4750 1819 4750 \nQ 2544 4750 2975 4387 \nQ 3406 4025 3406 3419 \nQ 3406 3131 3298 2873 \nQ 3191 2616 2906 2266 \nQ 2828 2175 2409 1742 \nQ 1991 1309 1228 531 \nz\n\" id=\"DejaVuSans-32\" transform=\"scale(0.015625)\"/>\n       </defs>\n       <use xlink:href=\"#DejaVuSans-32\"/>\n       <use x=\"63.623047\" xlink:href=\"#DejaVuSans-30\"/>\n       <use x=\"127.246094\" xlink:href=\"#DejaVuSans-30\"/>\n      </g>\n     </g>\n    </g>\n   </g>\n   <g id=\"matplotlib.axis_2\">\n    <g id=\"ytick_1\">\n     <g id=\"line2d_4\">\n      <defs>\n       <path d=\"M 0 0 \nL -3.5 0 \n\" id=\"m7fd86c8407\" style=\"stroke:#000000;stroke-width:0.8;\"/>\n      </defs>\n      <g>\n       <use style=\"stroke:#000000;stroke-width:0.8;\" x=\"33.2875\" xlink:href=\"#m7fd86c8407\" y=\"10.999219\"/>\n      </g>\n     </g>\n     <g id=\"text_4\">\n      <!-- 0 -->\n      <g transform=\"translate(19.925 14.798437)scale(0.1 -0.1)\">\n       <use xlink:href=\"#DejaVuSans-30\"/>\n      </g>\n     </g>\n    </g>\n    <g id=\"ytick_2\">\n     <g id=\"line2d_5\">\n      <g>\n       <use style=\"stroke:#000000;stroke-width:0.8;\" x=\"33.2875\" xlink:href=\"#m7fd86c8407\" y=\"40.72223\"/>\n      </g>\n     </g>\n     <g id=\"text_5\">\n      <!-- 50 -->\n      <g transform=\"translate(13.5625 44.521449)scale(0.1 -0.1)\">\n       <defs>\n        <path d=\"M 691 4666 \nL 3169 4666 \nL 3169 4134 \nL 1269 4134 \nL 1269 2991 \nQ 1406 3038 1543 3061 \nQ 1681 3084 1819 3084 \nQ 2600 3084 3056 2656 \nQ 3513 2228 3513 1497 \nQ 3513 744 3044 326 \nQ 2575 -91 1722 -91 \nQ 1428 -91 1123 -41 \nQ 819 9 494 109 \nL 494 744 \nQ 775 591 1075 516 \nQ 1375 441 1709 441 \nQ 2250 441 2565 725 \nQ 2881 1009 2881 1497 \nQ 2881 1984 2565 2268 \nQ 2250 2553 1709 2553 \nQ 1456 2553 1204 2497 \nQ 953 2441 691 2322 \nL 691 4666 \nz\n\" id=\"DejaVuSans-35\" transform=\"scale(0.015625)\"/>\n       </defs>\n       <use xlink:href=\"#DejaVuSans-35\"/>\n       <use x=\"63.623047\" xlink:href=\"#DejaVuSans-30\"/>\n      </g>\n     </g>\n    </g>\n    <g id=\"ytick_3\">\n     <g id=\"line2d_6\">\n      <g>\n       <use style=\"stroke:#000000;stroke-width:0.8;\" x=\"33.2875\" xlink:href=\"#m7fd86c8407\" y=\"70.445241\"/>\n      </g>\n     </g>\n     <g id=\"text_6\">\n      <!-- 100 -->\n      <g transform=\"translate(7.2 74.24446)scale(0.1 -0.1)\">\n       <use xlink:href=\"#DejaVuSans-31\"/>\n       <use x=\"63.623047\" xlink:href=\"#DejaVuSans-30\"/>\n       <use x=\"127.246094\" xlink:href=\"#DejaVuSans-30\"/>\n      </g>\n     </g>\n    </g>\n    <g id=\"ytick_4\">\n     <g id=\"line2d_7\">\n      <g>\n       <use style=\"stroke:#000000;stroke-width:0.8;\" x=\"33.2875\" xlink:href=\"#m7fd86c8407\" y=\"100.168253\"/>\n      </g>\n     </g>\n     <g id=\"text_7\">\n      <!-- 150 -->\n      <g transform=\"translate(7.2 103.967472)scale(0.1 -0.1)\">\n       <use xlink:href=\"#DejaVuSans-31\"/>\n       <use x=\"63.623047\" xlink:href=\"#DejaVuSans-35\"/>\n       <use x=\"127.246094\" xlink:href=\"#DejaVuSans-30\"/>\n      </g>\n     </g>\n    </g>\n    <g id=\"ytick_5\">\n     <g id=\"line2d_8\">\n      <g>\n       <use style=\"stroke:#000000;stroke-width:0.8;\" x=\"33.2875\" xlink:href=\"#m7fd86c8407\" y=\"129.891264\"/>\n      </g>\n     </g>\n     <g id=\"text_8\">\n      <!-- 200 -->\n      <g transform=\"translate(7.2 133.690483)scale(0.1 -0.1)\">\n       <use xlink:href=\"#DejaVuSans-32\"/>\n       <use x=\"63.623047\" xlink:href=\"#DejaVuSans-30\"/>\n       <use x=\"127.246094\" xlink:href=\"#DejaVuSans-30\"/>\n      </g>\n     </g>\n    </g>\n    <g id=\"ytick_6\">\n     <g id=\"line2d_9\">\n      <g>\n       <use style=\"stroke:#000000;stroke-width:0.8;\" x=\"33.2875\" xlink:href=\"#m7fd86c8407\" y=\"159.614276\"/>\n      </g>\n     </g>\n     <g id=\"text_9\">\n      <!-- 250 -->\n      <g transform=\"translate(7.2 163.413494)scale(0.1 -0.1)\">\n       <use xlink:href=\"#DejaVuSans-32\"/>\n       <use x=\"63.623047\" xlink:href=\"#DejaVuSans-35\"/>\n       <use x=\"127.246094\" xlink:href=\"#DejaVuSans-30\"/>\n      </g>\n     </g>\n    </g>\n   </g>\n   <g id=\"patch_3\">\n    <path d=\"M 33.2875 162.883807 \nL 33.2875 10.701989 \n\" style=\"fill:none;stroke:#000000;stroke-linecap:square;stroke-linejoin:miter;stroke-width:0.8;\"/>\n   </g>\n   <g id=\"patch_4\">\n    <path d=\"M 185.469318 162.883807 \nL 185.469318 10.701989 \n\" style=\"fill:none;stroke:#000000;stroke-linecap:square;stroke-linejoin:miter;stroke-width:0.8;\"/>\n   </g>\n   <g id=\"patch_5\">\n    <path d=\"M 33.2875 162.883807 \nL 185.469318 162.883807 \n\" style=\"fill:none;stroke:#000000;stroke-linecap:square;stroke-linejoin:miter;stroke-width:0.8;\"/>\n   </g>\n   <g id=\"patch_6\">\n    <path d=\"M 33.2875 10.701989 \nL 185.469318 10.701989 \n\" style=\"fill:none;stroke:#000000;stroke-linecap:square;stroke-linejoin:miter;stroke-width:0.8;\"/>\n   </g>\n  </g>\n  <g id=\"axes_2\">\n   <g id=\"patch_7\">\n    <path d=\"M 215.905682 162.883807 \nL 368.0875 162.883807 \nL 368.0875 10.701989 \nL 215.905682 10.701989 \nz\n\" style=\"fill:#ffffff;\"/>\n   </g>\n   <g clip-path=\"url(#p238581d98a)\">\n    <image height=\"153\" id=\"imagea2417f5265\" transform=\"scale(1 -1)translate(0 -153)\" width=\"153\" x=\"215.905682\" xlink:href=\"data:image/png;base64,\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\" y=\"-9.883807\"/>\n   </g>\n   <g id=\"matplotlib.axis_3\">\n    <g id=\"xtick_4\">\n     <g id=\"line2d_10\">\n      <g>\n       <use style=\"stroke:#000000;stroke-width:0.8;\" x=\"216.202912\" xlink:href=\"#me2fc048ec9\" y=\"162.883807\"/>\n      </g>\n     </g>\n     <g id=\"text_10\">\n      <!-- 0 -->\n      <g transform=\"translate(213.021662 177.482244)scale(0.1 -0.1)\">\n       <use xlink:href=\"#DejaVuSans-30\"/>\n      </g>\n     </g>\n    </g>\n    <g id=\"xtick_5\">\n     <g id=\"line2d_11\">\n      <g>\n       <use style=\"stroke:#000000;stroke-width:0.8;\" x=\"275.648935\" xlink:href=\"#me2fc048ec9\" y=\"162.883807\"/>\n      </g>\n     </g>\n     <g id=\"text_11\">\n      <!-- 100 -->\n      <g transform=\"translate(266.105185 177.482244)scale(0.1 -0.1)\">\n       <use xlink:href=\"#DejaVuSans-31\"/>\n       <use x=\"63.623047\" xlink:href=\"#DejaVuSans-30\"/>\n       <use x=\"127.246094\" xlink:href=\"#DejaVuSans-30\"/>\n      </g>\n     </g>\n    </g>\n    <g id=\"xtick_6\">\n     <g id=\"line2d_12\">\n      <g>\n       <use style=\"stroke:#000000;stroke-width:0.8;\" x=\"335.094957\" xlink:href=\"#me2fc048ec9\" y=\"162.883807\"/>\n      </g>\n     </g>\n     <g id=\"text_12\">\n      <!-- 200 -->\n      <g transform=\"translate(325.551207 177.482244)scale(0.1 -0.1)\">\n       <use xlink:href=\"#DejaVuSans-32\"/>\n       <use x=\"63.623047\" xlink:href=\"#DejaVuSans-30\"/>\n       <use x=\"127.246094\" xlink:href=\"#DejaVuSans-30\"/>\n      </g>\n     </g>\n    </g>\n   </g>\n   <g id=\"matplotlib.axis_4\">\n    <g id=\"ytick_7\">\n     <g id=\"line2d_13\">\n      <g>\n       <use style=\"stroke:#000000;stroke-width:0.8;\" x=\"215.905682\" xlink:href=\"#m7fd86c8407\" y=\"10.999219\"/>\n      </g>\n     </g>\n     <g id=\"text_13\">\n      <!-- 0 -->\n      <g transform=\"translate(202.543182 14.798437)scale(0.1 -0.1)\">\n       <use xlink:href=\"#DejaVuSans-30\"/>\n      </g>\n     </g>\n    </g>\n    <g id=\"ytick_8\">\n     <g id=\"line2d_14\">\n      <g>\n       <use style=\"stroke:#000000;stroke-width:0.8;\" x=\"215.905682\" xlink:href=\"#m7fd86c8407\" y=\"40.72223\"/>\n      </g>\n     </g>\n     <g id=\"text_14\">\n      <!-- 50 -->\n      <g transform=\"translate(196.180682 44.521449)scale(0.1 -0.1)\">\n       <use xlink:href=\"#DejaVuSans-35\"/>\n       <use x=\"63.623047\" xlink:href=\"#DejaVuSans-30\"/>\n      </g>\n     </g>\n    </g>\n    <g id=\"ytick_9\">\n     <g id=\"line2d_15\">\n      <g>\n       <use style=\"stroke:#000000;stroke-width:0.8;\" x=\"215.905682\" xlink:href=\"#m7fd86c8407\" y=\"70.445241\"/>\n      </g>\n     </g>\n     <g id=\"text_15\">\n      <!-- 100 -->\n      <g transform=\"translate(189.818182 74.24446)scale(0.1 -0.1)\">\n       <use xlink:href=\"#DejaVuSans-31\"/>\n       <use x=\"63.623047\" xlink:href=\"#DejaVuSans-30\"/>\n       <use x=\"127.246094\" xlink:href=\"#DejaVuSans-30\"/>\n      </g>\n     </g>\n    </g>\n    <g id=\"ytick_10\">\n     <g id=\"line2d_16\">\n      <g>\n       <use style=\"stroke:#000000;stroke-width:0.8;\" x=\"215.905682\" xlink:href=\"#m7fd86c8407\" y=\"100.168253\"/>\n      </g>\n     </g>\n     <g id=\"text_16\">\n      <!-- 150 -->\n      <g transform=\"translate(189.818182 103.967472)scale(0.1 -0.1)\">\n       <use xlink:href=\"#DejaVuSans-31\"/>\n       <use x=\"63.623047\" xlink:href=\"#DejaVuSans-35\"/>\n       <use x=\"127.246094\" xlink:href=\"#DejaVuSans-30\"/>\n      </g>\n     </g>\n    </g>\n    <g id=\"ytick_11\">\n     <g id=\"line2d_17\">\n      <g>\n       <use style=\"stroke:#000000;stroke-width:0.8;\" x=\"215.905682\" xlink:href=\"#m7fd86c8407\" y=\"129.891264\"/>\n      </g>\n     </g>\n     <g id=\"text_17\">\n      <!-- 200 -->\n      <g transform=\"translate(189.818182 133.690483)scale(0.1 -0.1)\">\n       <use xlink:href=\"#DejaVuSans-32\"/>\n       <use x=\"63.623047\" xlink:href=\"#DejaVuSans-30\"/>\n       <use x=\"127.246094\" xlink:href=\"#DejaVuSans-30\"/>\n      </g>\n     </g>\n    </g>\n    <g id=\"ytick_12\">\n     <g id=\"line2d_18\">\n      <g>\n       <use style=\"stroke:#000000;stroke-width:0.8;\" x=\"215.905682\" xlink:href=\"#m7fd86c8407\" y=\"159.614276\"/>\n      </g>\n     </g>\n     <g id=\"text_18\">\n      <!-- 250 -->\n      <g transform=\"translate(189.818182 163.413494)scale(0.1 -0.1)\">\n       <use xlink:href=\"#DejaVuSans-32\"/>\n       <use x=\"63.623047\" xlink:href=\"#DejaVuSans-35\"/>\n       <use x=\"127.246094\" xlink:href=\"#DejaVuSans-30\"/>\n      </g>\n     </g>\n    </g>\n   </g>\n   <g id=\"patch_8\">\n    <path d=\"M 215.905682 162.883807 \nL 215.905682 10.701989 \n\" style=\"fill:none;stroke:#000000;stroke-linecap:square;stroke-linejoin:miter;stroke-width:0.8;\"/>\n   </g>\n   <g id=\"patch_9\">\n    <path d=\"M 368.0875 162.883807 \nL 368.0875 10.701989 \n\" style=\"fill:none;stroke:#000000;stroke-linecap:square;stroke-linejoin:miter;stroke-width:0.8;\"/>\n   </g>\n   <g id=\"patch_10\">\n    <path d=\"M 215.905682 162.883807 \nL 368.0875 162.883807 \n\" style=\"fill:none;stroke:#000000;stroke-linecap:square;stroke-linejoin:miter;stroke-width:0.8;\"/>\n   </g>\n   <g id=\"patch_11\">\n    <path d=\"M 215.905682 10.701989 \nL 368.0875 10.701989 \n\" style=\"fill:none;stroke:#000000;stroke-linecap:square;stroke-linejoin:miter;stroke-width:0.8;\"/>\n   </g>\n  </g>\n </g>\n <defs>\n  <clipPath id=\"pc8eb23263e\">\n   <rect height=\"152.181818\" width=\"152.181818\" x=\"33.2875\" y=\"10.701989\"/>\n  </clipPath>\n  <clipPath id=\"p238581d98a\">\n   <rect height=\"152.181818\" width=\"152.181818\" x=\"215.905682\" y=\"10.701989\"/>\n  </clipPath>\n </defs>\n</svg>\n",
      "image/png": "[encoded data removed]"
     },
     "metadata": {
      "needs_background": "light"
     }
    }
   ],
   "source": [
    "pr, gt, bt = sample[10]\n",
    "plt.subplot(1,2,1)\n",
    "plt.imshow(pr)\n",
    "plt.subplot(1,2,2)\n",
    "plt.imshow(gt)\n",
    "plt.show()"
   ]
  },
  {
   "cell_type": "code",
   "execution_count": 90,
   "metadata": {},
   "outputs": [
    {
     "output_type": "stream",
     "name": "stdout",
     "text": [
      "(220, 256) (220,)\n"
     ]
    }
   ],
   "source": [
    "XTest = np.vstack(testX)\n",
    "YTest = np.array(testY)\n",
    "print(XTest.shape, YTest.shape)"
   ]
  },
  {
   "cell_type": "code",
   "execution_count": 91,
   "metadata": {},
   "outputs": [
    {
     "output_type": "execute_result",
     "data": {
      "text/plain": [
       "0.5272727272727273"
      ]
     },
     "metadata": {},
     "execution_count": 91
    }
   ],
   "source": [
    "import pickle\n",
    "from sklearn.metrics import accuracy_score\n",
    "\n",
    "svm_model = pickle.load(open('svm.sav', 'rb'))\n",
    "# result = svm_model.score(XTest, YTest)\n",
    "y_pred = svm_model.predict(XTest)\n",
    "roc_auc_score(YTest, y_pred)\n",
    "# print(\"Test Accuracy:\", accuracy_score(YTest, y_pred))"
   ]
  },
  {
   "cell_type": "code",
   "execution_count": 75,
   "metadata": {},
   "outputs": [
    {
     "output_type": "execute_result",
     "data": {
      "text/plain": [
       "0.7606973058637084"
      ]
     },
     "metadata": {},
     "execution_count": 75
    }
   ],
   "source": [
    "result"
   ]
  }
 ]
}