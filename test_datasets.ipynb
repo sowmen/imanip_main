{
 "metadata": {
  "language_info": {
   "codemirror_mode": {
    "name": "ipython",
    "version": 3
   },
   "file_extension": ".py",
   "mimetype": "text/x-python",
   "name": "python",
   "nbconvert_exporter": "python",
   "pygments_lexer": "ipython3",
   "version": "3.7.10"
  },
  "orig_nbformat": 2,
  "kernelspec": {
   "name": "python3710jvsc74a57bd0a5454afb7ffb1799ae1d6fe9b1ee82f9b07495275ac0b3d18cfab38f9bedde77",
   "display_name": "Python 3.7.10 64-bit (conda)"
  }
 },
 "nbformat": 4,
 "nbformat_minor": 2,
 "cells": [
  {
   "cell_type": "code",
   "execution_count": 1,
   "metadata": {},
   "outputs": [],
   "source": [
    "import torch\n",
    "from torch import nn\n",
    "from importlib import reload\n",
    "import cv2\n",
    "import numpy as np \n",
    "import matplotlib.pyplot as plt\n",
    "import pandas as pd\n",
    "from tqdm import tqdm\n",
    "\n",
    "import albumentations\n",
    "from albumentations import augmentations\n",
    "import albumentations.pytorch"
   ]
  },
  {
   "cell_type": "code",
   "execution_count": 2,
   "metadata": {},
   "outputs": [],
   "source": [
    "root_folder = \"Image_Manipulation_Dataset\"\n",
    "def load_images(row):\n",
    "\n",
    "    image_patch, mask_patch, label, _, ela, root_dir = row\n",
    "\n",
    "    #------------- Load image, Ela, Mask -------------------------\n",
    "    image_path = os.path.join(root_folder, root_dir, image_patch)\n",
    "    ela_path = os.path.join(root_folder, root_dir, ela)\n",
    "\n",
    "    image = cv2.imread(image_path, cv2.IMREAD_COLOR)\n",
    "    ela_image = cv2.imread(ela_path, cv2.IMREAD_COLOR)\n",
    "\n",
    "    image = cv2.cvtColor(image, cv2.COLOR_BGR2RGB)\n",
    "    ela_image = cv2.cvtColor(ela_image, cv2.COLOR_BGR2RGB)\n",
    "\n",
    "    if not isinstance(mask_patch, str) and np.isnan(mask_patch):\n",
    "        mask_image = np.zeros((image.shape[0], image.shape[1])).astype('uint8')\n",
    "    else:\n",
    "        mask_path = os.path.join(root_folder, root_dir, mask_patch)\n",
    "        mask_image = cv2.imread(mask_path, cv2.IMREAD_GRAYSCALE)\n",
    "\n",
    "    if('NIST' in root_dir):\n",
    "        mask_image = 255 - mask_image\n",
    "\n",
    "    image = augmentations.geometric.functional.resize(image, 256, 256, cv2.INTER_AREA)\n",
    "    mask_image = augmentations.geometric.functional.resize(mask_image, 256, 256, cv2.INTER_AREA)\n",
    "    ela_image = augmentations.geometric.functional.resize(ela_image, 256, 256, cv2.INTER_AREA)\n",
    "\n",
    "    return image, ela_image, mask_image, label\n",
    "\n",
    "\n",
    "\n",
    "def get_tensors(image, ela_image, mask_image):\n",
    "\n",
    "    #---------------- Reshape & Normalize -----------------------\n",
    "    image = augmentations.geometric.functional.resize(image, 256, 256, cv2.INTER_AREA)\n",
    "    mask_image = augmentations.geometric.functional.resize(mask_image, 256, 256, cv2.INTER_AREA)\n",
    "    ela_image = augmentations.geometric.functional.resize(ela_image, 256, 256, cv2.INTER_AREA)\n",
    "\n",
    "    normalize = {\n",
    "        \"mean\": [0.4535408213875562, 0.42862278450748387, 0.41780105499276865],\n",
    "        \"std\": [0.2672804038612597, 0.2550410416463668, 0.29475415579144293],\n",
    "    }\n",
    "\n",
    "    transforms_normalize = albumentations.Compose(\n",
    "        [\n",
    "            albumentations.Normalize(mean=normalize['mean'], std=normalize['std'], always_apply=True, p=1),\n",
    "            albumentations.pytorch.transforms.ToTensorV2()\n",
    "        ],\n",
    "        additional_targets={'ela':'image'}\n",
    "    )\n",
    "\n",
    "    data = transforms_normalize(image=image, mask=mask_image, ela=ela_image)\n",
    "    image_tensor = data[\"image\"].unsqueeze(0)\n",
    "    mask_tensor = (data[\"mask\"] / 255.0).unsqueeze(0).unsqueeze(0)\n",
    "    ela_tensor = data[\"ela\"].unsqueeze(0)\n",
    "    \n",
    "    return image_tensor, ela_tensor, mask_tensor\n",
    "    "
   ]
  },
  {
   "cell_type": "code",
   "execution_count": 4,
   "metadata": {},
   "outputs": [],
   "source": [
    "def patch_func(img, ela, mask, patch_size):\n",
    "    d = img.shape\n",
    "    patches = []\n",
    "    coords = []\n",
    "    for i in range(0, d[0], patch_size):\n",
    "        for j in range(0, d[1], patch_size):\n",
    "            x = i + patch_size\n",
    "            y = j + patch_size\n",
    "            if x > d[0] or y > d[1]:\n",
    "                break\n",
    "            temp_img = img[i: x, j: y]\n",
    "            temp_ela = ela[i: x, j: y]\n",
    "            temp_mask = mask[i: x, j: y]\n",
    "            patches.append((temp_img, temp_mask, temp_ela))\n",
    "            coords.append((i, j))\n",
    "    return patches, coords"
   ]
  },
  {
   "cell_type": "code",
   "execution_count": 3,
   "metadata": {},
   "outputs": [
    {
     "output_type": "stream",
     "name": "stdout",
     "text": [
      "--------- SRM Frozen -----------\n",
      "--------- Loaded Checkpoint: weights/pretrain_[31|03_12|16|32].h5 ----------\n",
      "_IncompatibleKeys(missing_keys=['classifier.weight', 'classifier.bias'], unexpected_keys=[])\n"
     ]
    },
    {
     "output_type": "execute_result",
     "data": {
      "text/plain": [
       "<All keys matched successfully>"
      ]
     },
     "metadata": {},
     "execution_count": 3
    }
   ],
   "source": [
    "# from segmentation.merged_net_old import SRM_Classifer_Old\n",
    "from segmentation.timm_srm_unetpp import UnetPP\n",
    "from segmentation.merged_net import SRM_Classifer\n",
    "\n",
    "# torch.cuda.set_device(1)\n",
    "device = 'cuda'\n",
    "\n",
    "encoder = SRM_Classifer(encoder_checkpoint='weights/pretrain_[31|03_12|16|32].h5', freeze_encoder=True)\n",
    "model_256 = UnetPP(encoder, num_classes=1, layer='end')\n",
    "model_256 = nn.DataParallel(model_256).to(device)\n",
    "model_256.load_state_dict(torch.load('weights/(defacto+pretrain+BCE)UnetPP_[27|04_00|53|58].h5'))\n",
    "\n",
    "# model_256 = SRM_Classifer()\n",
    "# model_256 = nn.DataParallel(model_256).to(device)\n",
    "# model_256.load_state_dict(torch.load('weights/(full+128)COMBO_ALL_FULL_[11|04_09|06|44].h5'))\n",
    "\n",
    "# model_128 = SRM_Classifer()\n",
    "# model_128 = nn.DataParallel(model_128).to(device)\n",
    "# model_128.load_state_dict(torch.load('best_weights/COMBO_ALL_128ChangedClass_[09|03_21|11|14].h5'))\n",
    "\n",
    "# model_64 = SRM_Classifer()\n",
    "# model_64 = nn.DataParallel(model_64).to(device)\n",
    "# model_64.load_state_dict(torch.load('best_weights/(Resume 22-35-18) COMBO_ALL_64ChangedClass_[11|03_18|46|12].h5'))"
   ]
  },
  {
   "cell_type": "code",
   "execution_count": 4,
   "metadata": {},
   "outputs": [],
   "source": [
    "def get_feat_preds(row):\n",
    "    model_256.eval()\n",
    "    # localizer_256.eval()\n",
    "    # model_128.eval()\n",
    "    # model_64.eval()\n",
    "    \n",
    "    with torch.no_grad():\n",
    "        image_256, ela_image_256, mask_image_256, label = load_images(row)\n",
    "        # features = []\n",
    "        predictions = []\n",
    "        masks = []\n",
    "\n",
    "        #--------- 256x256 ----------        \n",
    "        image_tensor_256, ela_tensor_256, mask_tensor_256 = get_tensors(image_256, ela_image_256, mask_image_256)\n",
    "        # out_mask_256 = localizer_256(image_tensor_256, ela_tensor_256)\n",
    "        # out_masks.append(torch.sigmoid(out_mask_256).cpu())\n",
    "        # target_masks.append(mask_tensor_256.cpu())\n",
    "        # outputs.clear()\n",
    "        pred_256 = model_256(image_tensor_256.to(device), ela_tensor_256.to(device))\n",
    "        # features.append(inter_256.cpu().detach())\n",
    "        predictions.append(torch.sigmoid(pred_256.cpu().detach()))\n",
    "        masks.append(mask_tensor_256)\n",
    "\n",
    "        # #--------- 128x128 ----------\n",
    "        # patches_128, _ = patch_func(image_256, ela_image_256, mask_image_256, 128)\n",
    "        # for patch in patches_128:\n",
    "        #     image_128, mask_image_128, ela_image_128 = patch\n",
    "        #     image_tensor_128, ela_tensor_128, mask_tensor_128 = get_tensors(image_128, ela_image_128, mask_image_128)\n",
    "            \n",
    "        #     # outputs.clear()\n",
    "        #     pred_128, inter_128, _ = model_128(image_tensor_128.to(device), ela_tensor_128.to(device))\n",
    "        #     features.append(inter_128.cpu().detach())\n",
    "        #     predictions.append(torch.sigmoid(pred_128.cpu().detach()))\n",
    "        \n",
    "        # #--------- 64x64 ----------\n",
    "        # patches_64, _ = patch_func(image_256, ela_image_256, mask_image_256, 64)\n",
    "        # for patch in patches_64:\n",
    "        #     image_64, mask_image_64, ela_image_64 = patch\n",
    "        #     image_tensor_64, ela_tensor_64, mask_tensor_64 = get_tensors(image_64, ela_image_64, mask_image_64)\n",
    "            \n",
    "        #     # outputs.clear()\n",
    "        #     pred_64, inter_64, _ = model_64(image_tensor_64.to(device), ela_tensor_64.to(device))\n",
    "        #     features.append(inter_64.cpu().detach())\n",
    "        #     predictions.append(torch.sigmoid(pred_64.cpu().detach()))\n",
    "\n",
    "    return predictions, masks"
   ]
  },
  {
   "cell_type": "code",
   "execution_count": 27,
   "metadata": {},
   "outputs": [
    {
     "output_type": "stream",
     "name": "stdout",
     "text": [
      "NIST: real:0, fakes:388\n"
     ]
    }
   ],
   "source": [
    "\"CMFD, NIST, COVERAGE, CASIA, IMD\"\n",
    "\n",
    "def get_individual_test_df(dataframe, val):\n",
    "    test_df = dataframe[dataframe['root_dir'].str.contains(val)]\n",
    "    # test_df = dataframe[dataframe['label'] == 1]\n",
    "    test_df = test_df[test_df[\"fold\"].isin([1])]\n",
    "\n",
    "    print(\n",
    "        \"{}: real:{}, fakes:{}\".format(\n",
    "            val, len(test_df[test_df[\"label\"] == 0]), len(test_df[test_df[\"label\"] == 1])\n",
    "        )\n",
    "    )\n",
    "    return test_df.values\n",
    "\n",
    "def get_test_df_segment(dataframe, val):\n",
    "    test_df = dataframe[dataframe['root_dir'].str.contains(val)]\n",
    "    # test_df = test_df[test_df[\"fold\"].isin([1])]\n",
    "    test_df = test_df[test_df[\"label\"] == 1]\n",
    "\n",
    "    print(\n",
    "        \"{}: real:{}, fakes:{}\".format(\n",
    "            val, len(test_df[test_df[\"label\"] == 0]), len(test_df[test_df[\"label\"] == 1])\n",
    "        )\n",
    "    )\n",
    "    return test_df.values\n",
    "\n",
    "\n",
    "full_df = pd.read_csv('combo_all_FULL.csv')\n",
    "\n",
    "# casia_test = get_individual_test_df(full_df, \"CASIA\")\n",
    "# imd_test = get_individual_test_df(full_df, \"IMD\")\n",
    "# coverage_test = get_individual_test_df(full_df, \"COVERAGE\")\n",
    "# nist_test = get_individual_test_df(full_df, \"NIST\")\n",
    "nist_test = get_test_df_segment(full_df, \"NIST\")"
   ]
  },
  {
   "cell_type": "code",
   "execution_count": 36,
   "metadata": {},
   "outputs": [],
   "source": [
    "coverage_full = full_df[full_df['root_dir'].str.contains('COVERAGE')]\n",
    "# coverage_full = coverage_full[coverage_full[\"label\"] == 1]\n",
    "\n",
    "nist_full = full_df[full_df['root_dir'].str.contains('NIST')]\n",
    "# nist_full = nist_full[nist_full[\"label\"] == 1]"
   ]
  },
  {
   "cell_type": "code",
   "execution_count": 8,
   "metadata": {},
   "outputs": [
    {
     "output_type": "execute_result",
     "data": {
      "text/plain": [
       "0    874\n",
       "1    388\n",
       "Name: label, dtype: int64"
      ]
     },
     "metadata": {},
     "execution_count": 8
    }
   ],
   "source": [
    "nist_full.label.value_counts()"
   ]
  },
  {
   "source": [
    "## SVM Classifier"
   ],
   "cell_type": "markdown",
   "metadata": {}
  },
  {
   "cell_type": "code",
   "execution_count": 8,
   "metadata": {},
   "outputs": [],
   "source": [
    "def feat_pool(feat: torch.tensor, operation: str):\n",
    "    \"\"\"\n",
    "    Fuses the image's patches feature representation\n",
    "    :param feat: The network object\n",
    "    :param operation: Either max or mean for the pooling operation\n",
    "    :returns: The final 256-D feature representation of the entire image\n",
    "    \"\"\"\n",
    "    if operation == \"max\":\n",
    "        return feat.max(axis=0)\n",
    "    elif operation == \"mean\":\n",
    "        return feat.mean(axis=0)\n",
    "    else:\n",
    "        raise Exception(\"The operation can be either mean or max\")"
   ]
  },
  {
   "cell_type": "code",
   "execution_count": 28,
   "metadata": {},
   "outputs": [
    {
     "output_type": "stream",
     "name": "stderr",
     "text": [
      "100%|██████████| 388/388 [02:43<00:00,  2.37it/s]\n"
     ]
    }
   ],
   "source": [
    "testX = []\n",
    "testY = []\n",
    "predY = []\n",
    "\n",
    "for row in tqdm(nist_test):\n",
    "\n",
    "    predictions, masks = get_feat_preds(row)\n",
    "    \n",
    "    # features = torch.vstack(features)\n",
    "    # condensed_feature = feat_pool(features, \"mean\").numpy().reshape(1, -1)\n",
    "\n",
    "    # testX.append(condensed_feature)\n",
    "    testY.append(masks[0].squeeze())\n",
    "    # testY.append(row[2])  \n",
    "    predY.append(predictions[0].squeeze())"
   ]
  },
  {
   "cell_type": "code",
   "execution_count": 16,
   "metadata": {},
   "outputs": [
    {
     "output_type": "stream",
     "name": "stdout",
     "text": [
      "Test Accuracy: 0.8960317460317461\n"
     ]
    }
   ],
   "source": [
    "from sklearn.metrics import accuracy_score\n",
    "print(\"Test Accuracy:\", accuracy_score(np.array(testY), np.array(predY) >= 0.5))"
   ]
  },
  {
   "cell_type": "code",
   "execution_count": 15,
   "metadata": {},
   "outputs": [
    {
     "output_type": "stream",
     "name": "stderr",
     "text": [
      "39it [00:04,  8.55it/s]\n"
     ]
    },
    {
     "output_type": "execute_result",
     "data": {
      "text/plain": [
       "0.6126503604237883"
      ]
     },
     "metadata": {},
     "execution_count": 15
    }
   ],
   "source": [
    "from sklearn.metrics import roc_auc_score\n",
    "\n",
    "thrs = [0.0,0.1,0.15,0.2,0.25,0.3,0.35,0.4,0.45,0.5,0.55,0.6,0.65,0.7,0.75,0.8,0.85,0.9,0.95,1.0]\n",
    "\n",
    "sample = []\n",
    "auc, cnt = 0, 0\n",
    "for gt, pr in tqdm(zip(testY, predY)):\n",
    "    best, bt = -1, 0\n",
    "    for thr in thrs:\n",
    "        tmp = roc_auc_score(gt.numpy().ravel() >= 0.5, pr.numpy().ravel() >= thr)          \n",
    "        if tmp > best: \n",
    "            best = tmp\n",
    "            bt = thr\n",
    "    auc += best\n",
    "    cnt += 1\n",
    "    sample.append((pr, gt, bt))\n",
    "auc / cnt"
   ]
  },
  {
   "cell_type": "code",
   "execution_count": 26,
   "metadata": {},
   "outputs": [
    {
     "output_type": "display_data",
     "data": {
      "text/plain": "<Figure size 432x288 with 2 Axes>",
      "image/svg+xml": "<?xml version=\"1.0\" encoding=\"utf-8\" standalone=\"no\"?>\n<!DOCTYPE svg PUBLIC \"-//W3C//DTD SVG 1.1//EN\"\n  \"http://www.w3.org/Graphics/SVG/1.1/DTD/svg11.dtd\">\n<!-- Created with matplotlib (https://matplotlib.org/) -->\n<svg height=\"186.761932pt\" version=\"1.1\" viewBox=\"0 0 375.2875 186.761932\" width=\"375.2875pt\" xmlns=\"http://www.w3.org/2000/svg\" xmlns:xlink=\"http://www.w3.org/1999/xlink\">\n <metadata>\n  <rdf:RDF xmlns:cc=\"http://creativecommons.org/ns#\" xmlns:dc=\"http://purl.org/dc/elements/1.1/\" xmlns:rdf=\"http://www.w3.org/1999/02/22-rdf-syntax-ns#\">\n   <cc:Work>\n    <dc:type rdf:resource=\"http://purl.org/dc/dcmitype/StillImage\"/>\n    <dc:date>2021-04-29T11:40:43.123941</dc:date>\n    <dc:format>image/svg+xml</dc:format>\n    <dc:creator>\n     <cc:Agent>\n      <dc:title>Matplotlib v3.3.4, https://matplotlib.org/</dc:title>\n     </cc:Agent>\n    </dc:creator>\n   </cc:Work>\n  </rdf:RDF>\n </metadata>\n <defs>\n  <style type=\"text/css\">*{stroke-linecap:butt;stroke-linejoin:round;}</style>\n </defs>\n <g id=\"figure_1\">\n  <g id=\"patch_1\">\n   <path d=\"M 0 186.761932 \nL 375.2875 186.761932 \nL 375.2875 0 \nL 0 0 \nz\n\" style=\"fill:none;\"/>\n  </g>\n  <g id=\"axes_1\">\n   <g id=\"patch_2\">\n    <path d=\"M 33.2875 162.883807 \nL 185.469318 162.883807 \nL 185.469318 10.701989 \nL 33.2875 10.701989 \nz\n\" style=\"fill:#ffffff;\"/>\n   </g>\n   <g clip-path=\"url(#p9ae30e3d06)\">\n    <image height=\"153\" id=\"image2426cf8fd1\" transform=\"scale(1 -1)translate(0 -153)\" width=\"153\" x=\"33.2875\" xlink:href=\"data:image/png;base64,\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\" y=\"-9.883807\"/>\n   </g>\n   <g id=\"matplotlib.axis_1\">\n    <g id=\"xtick_1\">\n     <g id=\"line2d_1\">\n      <defs>\n       <path d=\"M 0 0 \nL 0 3.5 \n\" id=\"m81f6e9d0eb\" style=\"stroke:#000000;stroke-width:0.8;\"/>\n      </defs>\n      <g>\n       <use style=\"stroke:#000000;stroke-width:0.8;\" x=\"33.58473\" xlink:href=\"#m81f6e9d0eb\" y=\"162.883807\"/>\n      </g>\n     </g>\n     <g id=\"text_1\">\n      <!-- 0 -->\n      <g transform=\"translate(30.40348 177.482244)scale(0.1 -0.1)\">\n       <defs>\n        <path d=\"M 31.78125 66.40625 \nQ 24.171875 66.40625 20.328125 58.90625 \nQ 16.5 51.421875 16.5 36.375 \nQ 16.5 21.390625 20.328125 13.890625 \nQ 24.171875 6.390625 31.78125 6.390625 \nQ 39.453125 6.390625 43.28125 13.890625 \nQ 47.125 21.390625 47.125 36.375 \nQ 47.125 51.421875 43.28125 58.90625 \nQ 39.453125 66.40625 31.78125 66.40625 \nz\nM 31.78125 74.21875 \nQ 44.046875 74.21875 50.515625 64.515625 \nQ 56.984375 54.828125 56.984375 36.375 \nQ 56.984375 17.96875 50.515625 8.265625 \nQ 44.046875 -1.421875 31.78125 -1.421875 \nQ 19.53125 -1.421875 13.0625 8.265625 \nQ 6.59375 17.96875 6.59375 36.375 \nQ 6.59375 54.828125 13.0625 64.515625 \nQ 19.53125 74.21875 31.78125 74.21875 \nz\n\" id=\"DejaVuSans-48\"/>\n       </defs>\n       <use xlink:href=\"#DejaVuSans-48\"/>\n      </g>\n     </g>\n    </g>\n    <g id=\"xtick_2\">\n     <g id=\"line2d_2\">\n      <g>\n       <use style=\"stroke:#000000;stroke-width:0.8;\" x=\"93.030753\" xlink:href=\"#m81f6e9d0eb\" y=\"162.883807\"/>\n      </g>\n     </g>\n     <g id=\"text_2\">\n      <!-- 100 -->\n      <g transform=\"translate(83.487003 177.482244)scale(0.1 -0.1)\">\n       <defs>\n        <path d=\"M 12.40625 8.296875 \nL 28.515625 8.296875 \nL 28.515625 63.921875 \nL 10.984375 60.40625 \nL 10.984375 69.390625 \nL 28.421875 72.90625 \nL 38.28125 72.90625 \nL 38.28125 8.296875 \nL 54.390625 8.296875 \nL 54.390625 0 \nL 12.40625 0 \nz\n\" id=\"DejaVuSans-49\"/>\n       </defs>\n       <use xlink:href=\"#DejaVuSans-49\"/>\n       <use x=\"63.623047\" xlink:href=\"#DejaVuSans-48\"/>\n       <use x=\"127.246094\" xlink:href=\"#DejaVuSans-48\"/>\n      </g>\n     </g>\n    </g>\n    <g id=\"xtick_3\">\n     <g id=\"line2d_3\">\n      <g>\n       <use style=\"stroke:#000000;stroke-width:0.8;\" x=\"152.476776\" xlink:href=\"#m81f6e9d0eb\" y=\"162.883807\"/>\n      </g>\n     </g>\n     <g id=\"text_3\">\n      <!-- 200 -->\n      <g transform=\"translate(142.933026 177.482244)scale(0.1 -0.1)\">\n       <defs>\n        <path d=\"M 19.1875 8.296875 \nL 53.609375 8.296875 \nL 53.609375 0 \nL 7.328125 0 \nL 7.328125 8.296875 \nQ 12.9375 14.109375 22.625 23.890625 \nQ 32.328125 33.6875 34.8125 36.53125 \nQ 39.546875 41.84375 41.421875 45.53125 \nQ 43.3125 49.21875 43.3125 52.78125 \nQ 43.3125 58.59375 39.234375 62.25 \nQ 35.15625 65.921875 28.609375 65.921875 \nQ 23.96875 65.921875 18.8125 64.3125 \nQ 13.671875 62.703125 7.8125 59.421875 \nL 7.8125 69.390625 \nQ 13.765625 71.78125 18.9375 73 \nQ 24.125 74.21875 28.421875 74.21875 \nQ 39.75 74.21875 46.484375 68.546875 \nQ 53.21875 62.890625 53.21875 53.421875 \nQ 53.21875 48.921875 51.53125 44.890625 \nQ 49.859375 40.875 45.40625 35.40625 \nQ 44.1875 33.984375 37.640625 27.21875 \nQ 31.109375 20.453125 19.1875 8.296875 \nz\n\" id=\"DejaVuSans-50\"/>\n       </defs>\n       <use xlink:href=\"#DejaVuSans-50\"/>\n       <use x=\"63.623047\" xlink:href=\"#DejaVuSans-48\"/>\n       <use x=\"127.246094\" xlink:href=\"#DejaVuSans-48\"/>\n      </g>\n     </g>\n    </g>\n   </g>\n   <g id=\"matplotlib.axis_2\">\n    <g id=\"ytick_1\">\n     <g id=\"line2d_4\">\n      <defs>\n       <path d=\"M 0 0 \nL -3.5 0 \n\" id=\"mafb1e37910\" style=\"stroke:#000000;stroke-width:0.8;\"/>\n      </defs>\n      <g>\n       <use style=\"stroke:#000000;stroke-width:0.8;\" x=\"33.2875\" xlink:href=\"#mafb1e37910\" y=\"10.999219\"/>\n      </g>\n     </g>\n     <g id=\"text_4\">\n      <!-- 0 -->\n      <g transform=\"translate(19.925 14.798437)scale(0.1 -0.1)\">\n       <use xlink:href=\"#DejaVuSans-48\"/>\n      </g>\n     </g>\n    </g>\n    <g id=\"ytick_2\">\n     <g id=\"line2d_5\">\n      <g>\n       <use style=\"stroke:#000000;stroke-width:0.8;\" x=\"33.2875\" xlink:href=\"#mafb1e37910\" y=\"40.72223\"/>\n      </g>\n     </g>\n     <g id=\"text_5\">\n      <!-- 50 -->\n      <g transform=\"translate(13.5625 44.521449)scale(0.1 -0.1)\">\n       <defs>\n        <path d=\"M 10.796875 72.90625 \nL 49.515625 72.90625 \nL 49.515625 64.59375 \nL 19.828125 64.59375 \nL 19.828125 46.734375 \nQ 21.96875 47.46875 24.109375 47.828125 \nQ 26.265625 48.1875 28.421875 48.1875 \nQ 40.625 48.1875 47.75 41.5 \nQ 54.890625 34.8125 54.890625 23.390625 \nQ 54.890625 11.625 47.5625 5.09375 \nQ 40.234375 -1.421875 26.90625 -1.421875 \nQ 22.3125 -1.421875 17.546875 -0.640625 \nQ 12.796875 0.140625 7.71875 1.703125 \nL 7.71875 11.625 \nQ 12.109375 9.234375 16.796875 8.0625 \nQ 21.484375 6.890625 26.703125 6.890625 \nQ 35.15625 6.890625 40.078125 11.328125 \nQ 45.015625 15.765625 45.015625 23.390625 \nQ 45.015625 31 40.078125 35.4375 \nQ 35.15625 39.890625 26.703125 39.890625 \nQ 22.75 39.890625 18.8125 39.015625 \nQ 14.890625 38.140625 10.796875 36.28125 \nz\n\" id=\"DejaVuSans-53\"/>\n       </defs>\n       <use xlink:href=\"#DejaVuSans-53\"/>\n       <use x=\"63.623047\" xlink:href=\"#DejaVuSans-48\"/>\n      </g>\n     </g>\n    </g>\n    <g id=\"ytick_3\">\n     <g id=\"line2d_6\">\n      <g>\n       <use style=\"stroke:#000000;stroke-width:0.8;\" x=\"33.2875\" xlink:href=\"#mafb1e37910\" y=\"70.445241\"/>\n      </g>\n     </g>\n     <g id=\"text_6\">\n      <!-- 100 -->\n      <g transform=\"translate(7.2 74.24446)scale(0.1 -0.1)\">\n       <use xlink:href=\"#DejaVuSans-49\"/>\n       <use x=\"63.623047\" xlink:href=\"#DejaVuSans-48\"/>\n       <use x=\"127.246094\" xlink:href=\"#DejaVuSans-48\"/>\n      </g>\n     </g>\n    </g>\n    <g id=\"ytick_4\">\n     <g id=\"line2d_7\">\n      <g>\n       <use style=\"stroke:#000000;stroke-width:0.8;\" x=\"33.2875\" xlink:href=\"#mafb1e37910\" y=\"100.168253\"/>\n      </g>\n     </g>\n     <g id=\"text_7\">\n      <!-- 150 -->\n      <g transform=\"translate(7.2 103.967472)scale(0.1 -0.1)\">\n       <use xlink:href=\"#DejaVuSans-49\"/>\n       <use x=\"63.623047\" xlink:href=\"#DejaVuSans-53\"/>\n       <use x=\"127.246094\" xlink:href=\"#DejaVuSans-48\"/>\n      </g>\n     </g>\n    </g>\n    <g id=\"ytick_5\">\n     <g id=\"line2d_8\">\n      <g>\n       <use style=\"stroke:#000000;stroke-width:0.8;\" x=\"33.2875\" xlink:href=\"#mafb1e37910\" y=\"129.891264\"/>\n      </g>\n     </g>\n     <g id=\"text_8\">\n      <!-- 200 -->\n      <g transform=\"translate(7.2 133.690483)scale(0.1 -0.1)\">\n       <use xlink:href=\"#DejaVuSans-50\"/>\n       <use x=\"63.623047\" xlink:href=\"#DejaVuSans-48\"/>\n       <use x=\"127.246094\" xlink:href=\"#DejaVuSans-48\"/>\n      </g>\n     </g>\n    </g>\n    <g id=\"ytick_6\">\n     <g id=\"line2d_9\">\n      <g>\n       <use style=\"stroke:#000000;stroke-width:0.8;\" x=\"33.2875\" xlink:href=\"#mafb1e37910\" y=\"159.614276\"/>\n      </g>\n     </g>\n     <g id=\"text_9\">\n      <!-- 250 -->\n      <g transform=\"translate(7.2 163.413494)scale(0.1 -0.1)\">\n       <use xlink:href=\"#DejaVuSans-50\"/>\n       <use x=\"63.623047\" xlink:href=\"#DejaVuSans-53\"/>\n       <use x=\"127.246094\" xlink:href=\"#DejaVuSans-48\"/>\n      </g>\n     </g>\n    </g>\n   </g>\n   <g id=\"patch_3\">\n    <path d=\"M 33.2875 162.883807 \nL 33.2875 10.701989 \n\" style=\"fill:none;stroke:#000000;stroke-linecap:square;stroke-linejoin:miter;stroke-width:0.8;\"/>\n   </g>\n   <g id=\"patch_4\">\n    <path d=\"M 185.469318 162.883807 \nL 185.469318 10.701989 \n\" style=\"fill:none;stroke:#000000;stroke-linecap:square;stroke-linejoin:miter;stroke-width:0.8;\"/>\n   </g>\n   <g id=\"patch_5\">\n    <path d=\"M 33.2875 162.883807 \nL 185.469318 162.883807 \n\" style=\"fill:none;stroke:#000000;stroke-linecap:square;stroke-linejoin:miter;stroke-width:0.8;\"/>\n   </g>\n   <g id=\"patch_6\">\n    <path d=\"M 33.2875 10.701989 \nL 185.469318 10.701989 \n\" style=\"fill:none;stroke:#000000;stroke-linecap:square;stroke-linejoin:miter;stroke-width:0.8;\"/>\n   </g>\n  </g>\n  <g id=\"axes_2\">\n   <g id=\"patch_7\">\n    <path d=\"M 215.905682 162.883807 \nL 368.0875 162.883807 \nL 368.0875 10.701989 \nL 215.905682 10.701989 \nz\n\" style=\"fill:#ffffff;\"/>\n   </g>\n   <g clip-path=\"url(#p5677050e96)\">\n    <image height=\"153\" id=\"imagefc7e1993d2\" transform=\"scale(1 -1)translate(0 -153)\" width=\"153\" x=\"215.905682\" xlink:href=\"data:image/png;base64,\niVBORw0KGgoAAAANSUhEUgAAAJkAAACZCAYAAAA8XJi6AAACN0lEQVR4nO3cIW5VURhG0XNbEhDXgUVREhxlDh1C04mAQjACRoMmwSAwTANVQw1NE95lAi9B7Zzbl7VG8Imd/Eed5Wq53gaEzmYP4PSJjJzIyImMnMjIiYycyMiJjJzIyImMnMjIiYycyMiJjJzIyImMnMjIiYycyMiJjJzIyImMnMjIiYycyMiJjJzIyImMnMjIiYycyMiJjJzIyImMnMjIiYycyMiJjJzIyImMnMjIiYycyMiJjJzIyImMnMjIiYycyMiJjJzIyImMnMjIPZk94L+WZZyt61iWZfaSo7aHh3G4v589Y9d2H9n5m4tx+3mMty9+zZ5y1Lfvl+PV+x+zZ+za7iM7rM/Gh9dfxs36e/aUo95dvJw9Yfe8yciJjJzIyImMnMjIiYycyMiJjJzIyImMnMjIiYycyMiJjJzIyImMnMjIiYycyMiJjJzIyImMnMjIiYycyMiJjJzIyImM3KOI7LDtc+bf7TB7wqOw+199zm/vxsevN+PT8z+zpxz19Oc6e8LuLVfL9TZ7BKdtn3eIkyIyciIjJzJyIiMnMnIiIycyciIjJzJyIiMnMnIiIycyciIjJzJyIiMnMnIiIycyciIjJzJyIiMnMnIiIycyciIjJzJyIiMnMnIiIycyciIjJzJyIiMnMnIiIycyciIjJzJyIiMnMnIiIycyciIjJzJyIiMnMnIiIycyciIjJzJyIiMnMnIiIycyciIjJzJyIiMnMnIiIycyciIjJzJyIiP3D7SCH1q6ORgRAAAAAElFTkSuQmCC\" y=\"-9.883807\"/>\n   </g>\n   <g id=\"matplotlib.axis_3\">\n    <g id=\"xtick_4\">\n     <g id=\"line2d_10\">\n      <g>\n       <use style=\"stroke:#000000;stroke-width:0.8;\" x=\"216.202912\" xlink:href=\"#m81f6e9d0eb\" y=\"162.883807\"/>\n      </g>\n     </g>\n     <g id=\"text_10\">\n      <!-- 0 -->\n      <g transform=\"translate(213.021662 177.482244)scale(0.1 -0.1)\">\n       <use xlink:href=\"#DejaVuSans-48\"/>\n      </g>\n     </g>\n    </g>\n    <g id=\"xtick_5\">\n     <g id=\"line2d_11\">\n      <g>\n       <use style=\"stroke:#000000;stroke-width:0.8;\" x=\"275.648935\" xlink:href=\"#m81f6e9d0eb\" y=\"162.883807\"/>\n      </g>\n     </g>\n     <g id=\"text_11\">\n      <!-- 100 -->\n      <g transform=\"translate(266.105185 177.482244)scale(0.1 -0.1)\">\n       <use xlink:href=\"#DejaVuSans-49\"/>\n       <use x=\"63.623047\" xlink:href=\"#DejaVuSans-48\"/>\n       <use x=\"127.246094\" xlink:href=\"#DejaVuSans-48\"/>\n      </g>\n     </g>\n    </g>\n    <g id=\"xtick_6\">\n     <g id=\"line2d_12\">\n      <g>\n       <use style=\"stroke:#000000;stroke-width:0.8;\" x=\"335.094957\" xlink:href=\"#m81f6e9d0eb\" y=\"162.883807\"/>\n      </g>\n     </g>\n     <g id=\"text_12\">\n      <!-- 200 -->\n      <g transform=\"translate(325.551207 177.482244)scale(0.1 -0.1)\">\n       <use xlink:href=\"#DejaVuSans-50\"/>\n       <use x=\"63.623047\" xlink:href=\"#DejaVuSans-48\"/>\n       <use x=\"127.246094\" xlink:href=\"#DejaVuSans-48\"/>\n      </g>\n     </g>\n    </g>\n   </g>\n   <g id=\"matplotlib.axis_4\">\n    <g id=\"ytick_7\">\n     <g id=\"line2d_13\">\n      <g>\n       <use style=\"stroke:#000000;stroke-width:0.8;\" x=\"215.905682\" xlink:href=\"#mafb1e37910\" y=\"10.999219\"/>\n      </g>\n     </g>\n     <g id=\"text_13\">\n      <!-- 0 -->\n      <g transform=\"translate(202.543182 14.798437)scale(0.1 -0.1)\">\n       <use xlink:href=\"#DejaVuSans-48\"/>\n      </g>\n     </g>\n    </g>\n    <g id=\"ytick_8\">\n     <g id=\"line2d_14\">\n      <g>\n       <use style=\"stroke:#000000;stroke-width:0.8;\" x=\"215.905682\" xlink:href=\"#mafb1e37910\" y=\"40.72223\"/>\n      </g>\n     </g>\n     <g id=\"text_14\">\n      <!-- 50 -->\n      <g transform=\"translate(196.180682 44.521449)scale(0.1 -0.1)\">\n       <use xlink:href=\"#DejaVuSans-53\"/>\n       <use x=\"63.623047\" xlink:href=\"#DejaVuSans-48\"/>\n      </g>\n     </g>\n    </g>\n    <g id=\"ytick_9\">\n     <g id=\"line2d_15\">\n      <g>\n       <use style=\"stroke:#000000;stroke-width:0.8;\" x=\"215.905682\" xlink:href=\"#mafb1e37910\" y=\"70.445241\"/>\n      </g>\n     </g>\n     <g id=\"text_15\">\n      <!-- 100 -->\n      <g transform=\"translate(189.818182 74.24446)scale(0.1 -0.1)\">\n       <use xlink:href=\"#DejaVuSans-49\"/>\n       <use x=\"63.623047\" xlink:href=\"#DejaVuSans-48\"/>\n       <use x=\"127.246094\" xlink:href=\"#DejaVuSans-48\"/>\n      </g>\n     </g>\n    </g>\n    <g id=\"ytick_10\">\n     <g id=\"line2d_16\">\n      <g>\n       <use style=\"stroke:#000000;stroke-width:0.8;\" x=\"215.905682\" xlink:href=\"#mafb1e37910\" y=\"100.168253\"/>\n      </g>\n     </g>\n     <g id=\"text_16\">\n      <!-- 150 -->\n      <g transform=\"translate(189.818182 103.967472)scale(0.1 -0.1)\">\n       <use xlink:href=\"#DejaVuSans-49\"/>\n       <use x=\"63.623047\" xlink:href=\"#DejaVuSans-53\"/>\n       <use x=\"127.246094\" xlink:href=\"#DejaVuSans-48\"/>\n      </g>\n     </g>\n    </g>\n    <g id=\"ytick_11\">\n     <g id=\"line2d_17\">\n      <g>\n       <use style=\"stroke:#000000;stroke-width:0.8;\" x=\"215.905682\" xlink:href=\"#mafb1e37910\" y=\"129.891264\"/>\n      </g>\n     </g>\n     <g id=\"text_17\">\n      <!-- 200 -->\n      <g transform=\"translate(189.818182 133.690483)scale(0.1 -0.1)\">\n       <use xlink:href=\"#DejaVuSans-50\"/>\n       <use x=\"63.623047\" xlink:href=\"#DejaVuSans-48\"/>\n       <use x=\"127.246094\" xlink:href=\"#DejaVuSans-48\"/>\n      </g>\n     </g>\n    </g>\n    <g id=\"ytick_12\">\n     <g id=\"line2d_18\">\n      <g>\n       <use style=\"stroke:#000000;stroke-width:0.8;\" x=\"215.905682\" xlink:href=\"#mafb1e37910\" y=\"159.614276\"/>\n      </g>\n     </g>\n     <g id=\"text_18\">\n      <!-- 250 -->\n      <g transform=\"translate(189.818182 163.413494)scale(0.1 -0.1)\">\n       <use xlink:href=\"#DejaVuSans-50\"/>\n       <use x=\"63.623047\" xlink:href=\"#DejaVuSans-53\"/>\n       <use x=\"127.246094\" xlink:href=\"#DejaVuSans-48\"/>\n      </g>\n     </g>\n    </g>\n   </g>\n   <g id=\"patch_8\">\n    <path d=\"M 215.905682 162.883807 \nL 215.905682 10.701989 \n\" style=\"fill:none;stroke:#000000;stroke-linecap:square;stroke-linejoin:miter;stroke-width:0.8;\"/>\n   </g>\n   <g id=\"patch_9\">\n    <path d=\"M 368.0875 162.883807 \nL 368.0875 10.701989 \n\" style=\"fill:none;stroke:#000000;stroke-linecap:square;stroke-linejoin:miter;stroke-width:0.8;\"/>\n   </g>\n   <g id=\"patch_10\">\n    <path d=\"M 215.905682 162.883807 \nL 368.0875 162.883807 \n\" style=\"fill:none;stroke:#000000;stroke-linecap:square;stroke-linejoin:miter;stroke-width:0.8;\"/>\n   </g>\n   <g id=\"patch_11\">\n    <path d=\"M 215.905682 10.701989 \nL 368.0875 10.701989 \n\" style=\"fill:none;stroke:#000000;stroke-linecap:square;stroke-linejoin:miter;stroke-width:0.8;\"/>\n   </g>\n  </g>\n </g>\n <defs>\n  <clipPath id=\"p9ae30e3d06\">\n   <rect height=\"152.181818\" width=\"152.181818\" x=\"33.2875\" y=\"10.701989\"/>\n  </clipPath>\n  <clipPath id=\"p5677050e96\">\n   <rect height=\"152.181818\" width=\"152.181818\" x=\"215.905682\" y=\"10.701989\"/>\n  </clipPath>\n </defs>\n</svg>\n",
      "image/png": "[encoded data removed]"
     },
     "metadata": {
      "needs_background": "light"
     }
    }
   ],
   "source": [
    "pr, gt, bt = sample[20]\n",
    "plt.subplot(1,2,1)\n",
    "plt.imshow(pr)\n",
    "plt.subplot(1,2,2)\n",
    "plt.imshow(gt)\n",
    "plt.show()"
   ]
  },
  {
   "cell_type": "code",
   "execution_count": 25,
   "metadata": {},
   "outputs": [
    {
     "output_type": "execute_result",
     "data": {
      "text/plain": [
       "array([0.        , 0.05263158, 0.10526316, 0.15789474, 0.21052632,\n",
       "       0.26315789, 0.31578947, 0.36842105, 0.42105263, 0.47368421,\n",
       "       0.52631579, 0.57894737, 0.63157895, 0.68421053, 0.73684211,\n",
       "       0.78947368, 0.84210526, 0.89473684, 0.94736842, 1.        ])"
      ]
     },
     "metadata": {},
     "execution_count": 25
    }
   ],
   "source": []
  },
  {
   "cell_type": "code",
   "execution_count": 90,
   "metadata": {},
   "outputs": [
    {
     "output_type": "stream",
     "name": "stdout",
     "text": [
      "(220, 256) (220,)\n"
     ]
    }
   ],
   "source": [
    "XTest = np.vstack(testX)\n",
    "YTest = np.array(testY)\n",
    "print(XTest.shape, YTest.shape)"
   ]
  },
  {
   "cell_type": "code",
   "execution_count": 91,
   "metadata": {},
   "outputs": [
    {
     "output_type": "execute_result",
     "data": {
      "text/plain": [
       "0.5272727272727273"
      ]
     },
     "metadata": {},
     "execution_count": 91
    }
   ],
   "source": [
    "import pickle\n",
    "from sklearn.metrics import accuracy_score\n",
    "\n",
    "svm_model = pickle.load(open('svm.sav', 'rb'))\n",
    "# result = svm_model.score(XTest, YTest)\n",
    "y_pred = svm_model.predict(XTest)\n",
    "roc_auc_score(YTest, y_pred)\n",
    "# print(\"Test Accuracy:\", accuracy_score(YTest, y_pred))"
   ]
  },
  {
   "cell_type": "code",
   "execution_count": 75,
   "metadata": {},
   "outputs": [
    {
     "output_type": "execute_result",
     "data": {
      "text/plain": [
       "0.7606973058637084"
      ]
     },
     "metadata": {},
     "execution_count": 75
    }
   ],
   "source": [
    "result"
   ]
  }
 ]
}