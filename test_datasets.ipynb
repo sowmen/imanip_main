{
 "cells": [
  {
   "cell_type": "code",
   "execution_count": 1,
   "metadata": {},
   "outputs": [],
   "source": [
    "%load_ext autoreload\n",
    "%autoreload 2\n",
    "\n",
    "import torch\n",
    "from torch import nn\n",
    "import cv2\n",
    "import numpy as np \n",
    "import matplotlib.pyplot as plt\n",
    "import pandas as pd\n",
    "from tqdm import tqdm\n",
    "\n",
    "import albumentations\n",
    "from albumentations import augmentations\n",
    "import albumentations.pytorch"
   ]
  },
  {
   "cell_type": "code",
   "execution_count": 2,
   "metadata": {},
   "outputs": [],
   "source": [
    "root_folder = \"Image_Manipulation_Dataset\"\n",
    "def load_images(row):\n",
    "\n",
    "    image_patch, mask_patch, label, _, ela, root_dir = row\n",
    "\n",
    "    #------------- Load image, Ela, Mask -------------------------\n",
    "    image_path = os.path.join(root_folder, root_dir, image_patch)\n",
    "    ela_path = os.path.join(root_folder, root_dir, ela)\n",
    "\n",
    "    image = cv2.imread(image_path, cv2.IMREAD_COLOR)\n",
    "    ela_image = cv2.imread(ela_path, cv2.IMREAD_COLOR)\n",
    "\n",
    "    image = cv2.cvtColor(image, cv2.COLOR_BGR2RGB)\n",
    "    ela_image = cv2.cvtColor(ela_image, cv2.COLOR_BGR2RGB)\n",
    "\n",
    "    if not isinstance(mask_patch, str) and np.isnan(mask_patch):\n",
    "        mask_image = np.zeros((image.shape[0], image.shape[1])).astype('uint8')\n",
    "    else:\n",
    "        mask_path = os.path.join(root_folder, root_dir, mask_patch)\n",
    "        mask_image = cv2.imread(mask_path, cv2.IMREAD_GRAYSCALE)\n",
    "\n",
    "    if('NIST' in root_dir):\n",
    "        mask_image = 255 - mask_image\n",
    "\n",
    "    image = augmentations.geometric.functional.resize(image, 256, 256, cv2.INTER_AREA)\n",
    "    mask_image = augmentations.geometric.functional.resize(mask_image, 256, 256, cv2.INTER_AREA)\n",
    "    ela_image = augmentations.geometric.functional.resize(ela_image, 256, 256, cv2.INTER_AREA)\n",
    "\n",
    "    return image, ela_image, mask_image, label\n",
    "\n",
    "\n",
    "\n",
    "def get_tensors(image, ela_image, mask_image):\n",
    "\n",
    "    #---------------- Normalize -----------------------\n",
    "\n",
    "    normalize = {\n",
    "        \"mean\": [0.4535408213875562, 0.42862278450748387, 0.41780105499276865],\n",
    "        \"std\": [0.2672804038612597, 0.2550410416463668, 0.29475415579144293],\n",
    "    }\n",
    "\n",
    "    transforms_normalize = albumentations.Compose(\n",
    "        [\n",
    "            albumentations.Normalize(mean=normalize['mean'], std=normalize['std'], always_apply=True, p=1),\n",
    "            albumentations.pytorch.transforms.ToTensorV2()\n",
    "        ],\n",
    "        additional_targets={'ela':'image'}\n",
    "    )\n",
    "\n",
    "    data = transforms_normalize(image=image, mask=mask_image, ela=ela_image)\n",
    "    image_tensor = data[\"image\"].unsqueeze(0)\n",
    "    mask_tensor = (data[\"mask\"] / 255.0).unsqueeze(0).unsqueeze(0)\n",
    "    ela_tensor = data[\"ela\"].unsqueeze(0)\n",
    "    \n",
    "    return image_tensor, ela_tensor, mask_tensor\n",
    "    "
   ]
  },
  {
   "cell_type": "code",
   "execution_count": 3,
   "metadata": {},
   "outputs": [],
   "source": [
    "# def patch_func(img, ela, mask, patch_size):\n",
    "#     d = img.shape\n",
    "#     patches = []\n",
    "#     coords = []\n",
    "#     for i in range(0, d[0], patch_size):\n",
    "#         for j in range(0, d[1], patch_size):\n",
    "#             x = i + patch_size\n",
    "#             y = j + patch_size\n",
    "#             if x > d[0] or y > d[1]:\n",
    "#                 break\n",
    "#             temp_img = img[i: x, j: y]\n",
    "#             temp_ela = ela[i: x, j: y]\n",
    "#             temp_mask = mask[i: x, j: y]\n",
    "#             patches.append((temp_img, temp_mask, temp_ela))\n",
    "#             coords.append((i, j))\n",
    "#     return patches, coords\n",
    "\n",
    "# patches, coords = patch_func(torch.zeros((256,256,3)), torch.zeros((256,256,3)), torch.zeros((256,256,1)), 128)"
   ]
  },
  {
   "cell_type": "code",
   "execution_count": 3,
   "metadata": {},
   "outputs": [
    {
     "data": {
      "text/plain": [
       "<All keys matched successfully>"
      ]
     },
     "execution_count": 3,
     "metadata": {},
     "output_type": "execute_result"
    }
   ],
   "source": [
    "from models.merged_netv2 import Mani_FeatX\n",
    "from models.unetpp_v2 import MyUnetPP\n",
    "\n",
    "device = 'cuda'\n",
    "\n",
    "encoder = Mani_FeatX(encoder_attention=None)\n",
    "model_256 = MyUnetPP(encoder)\n",
    "\n",
    "model_256 = nn.DataParallel(model_256).to(device)\n",
    "model_256.load_state_dict(torch.load('weights/(ALL_TRAIN_GTX)MyUnetPP-v2-Attn(Enc-None, Dec-GCA+SCSE)_[30|06_16|04|45].h5'))\n",
    "\n",
    "# model_256 = SMP_SRM_UPP(classifier_only=True)\n",
    "# model_256 = nn.DataParallel(model_256).to(device)\n",
    "# model_256.load_state_dict(torch.load('weights/(RL Plateau scheduler)CASIA_FULL_[22|05_16|24|07].h5'), strict=False)\n",
    "\n",
    "# model_256 = SRM_Classifer()\n",
    "# model_256 = nn.DataParallel(model_256).to(device)\n",
    "# model_256.load_state_dict(torch.load('weights/(net-fixed, torchvision)COMBO_ALL_FULL_[25|03_23|58|42].h5'))\n",
    "\n",
    "# model_128 = SMP_SRM_UPP()\n",
    "# model_128 = nn.DataParallel(model_128).to(device)\n",
    "# model_128.load_state_dict(torch.load('best_weights/COMBO_ALL_128ChangedClass_[09|03_21|11|14].h5'))\n",
    "\n",
    "# model_64 = SRM_Classifer()\n",
    "# model_64 = nn.DataParallel(model_64).to(device)\n",
    "# model_64.load_state_dict(torch.load('best_weights/(Resume 22-35-18) COMBO_ALL_64ChangedClass_[11|03_18|46|12].h5'))"
   ]
  },
  {
   "cell_type": "code",
   "execution_count": 4,
   "metadata": {},
   "outputs": [],
   "source": [
    "def get_feat_preds(row, segment=False):\n",
    "    model_256.eval()\n",
    "    # localizer_256.eval()\n",
    "    # model_128.eval()\n",
    "    # model_64.eval()\n",
    "    \n",
    "    with torch.no_grad():\n",
    "        image_256, ela_image_256, mask_image_256, label = load_images(row)\n",
    "        # features = []\n",
    "        mask_predictions = []\n",
    "        mask_gt = []\n",
    "        label_preds = []\n",
    "        label_gt = []\n",
    "\n",
    "        #--------- 256x256 ----------        \n",
    "        image_tensor_256, ela_tensor_256, mask_tensor_256 = get_tensors(image_256, ela_image_256, mask_image_256)\n",
    "        \n",
    "        if segment:\n",
    "            mask_pred_256, label_pred_256 = model_256(image_tensor_256.to(device), ela_tensor_256.to(device))\n",
    "            mask_predictions.append(torch.sigmoid(mask_pred_256.cpu().detach()))\n",
    "            mask_gt.append(mask_tensor_256)\n",
    "            label_preds.append(torch.sigmoid(label_pred_256.cpu().detach()))\n",
    "            label_gt.append(label)\n",
    "        else:\n",
    "            label_pred_256 = model_256(image_tensor_256.to(device), ela_tensor_256.to(device))\n",
    "            label_preds.append(torch.sigmoid(label_pred_256.cpu().detach()))\n",
    "            label_gt.append(label)\n",
    "        # features.append(inter_256.cpu().detach())\n",
    "        \n",
    "        \n",
    "        # #--------- 128x128 ----------\n",
    "        # patches_128, _ = patch_func(image_256, ela_image_256, mask_image_256, 128)\n",
    "        # for patch in patches_128:\n",
    "        #     image_128, mask_image_128, ela_image_128 = patch\n",
    "        #     image_tensor_128, ela_tensor_128, mask_tensor_128 = get_tensors(image_128, ela_image_128, mask_image_128)\n",
    "            \n",
    "        #     # outputs.clear()\n",
    "        #     pred_128, labels_128 = model_128(image_tensor_128.to(device), ela_tensor_128.to(device))\n",
    "        #     features.append(inter_128.cpu().detach())\n",
    "        #     predictions.append(torch.sigmoid(pred_128.cpu().detach()))\n",
    "        \n",
    "        # #--------- 64x64 ----------\n",
    "        # patches_64, _ = patch_func(image_256, ela_image_256, mask_image_256, 64)\n",
    "        # for patch in patches_64:\n",
    "        #     image_64, mask_image_64, ela_image_64 = patch\n",
    "        #     image_tensor_64, ela_tensor_64, mask_tensor_64 = get_tensors(image_64, ela_image_64, mask_image_64)\n",
    "            \n",
    "        #     # outputs.clear()\n",
    "        #     pred_64, inter_64, _ = model_64(image_tensor_64.to(device), ela_tensor_64.to(device))\n",
    "        #     features.append(inter_64.cpu().detach())\n",
    "        #     predictions.append(torch.sigmoid(pred_64.cpu().detach()))\n",
    "    if segment:\n",
    "        return mask_predictions, mask_gt, label_preds, label_gt\n",
    "    else:\n",
    "        return label_preds, label_gt\n",
    "    "
   ]
  },
  {
   "cell_type": "code",
   "execution_count": 13,
   "metadata": {},
   "outputs": [
    {
     "name": "stdout",
     "output_type": "stream",
     "text": [
      "CASIA: real:749, fakes:511\n",
      "IMD: real:0, fakes:0\n",
      "COVERAGE: real:0, fakes:0\n",
      "NIST: real:0, fakes:0\n"
     ]
    }
   ],
   "source": [
    "\"CMFD, NIST, COVERAGE, CASIA, IMD\"\n",
    "\n",
    "def get_individual_test_df(dataframe, val):\n",
    "    test_df = dataframe[dataframe['root_dir'].str.contains(val)]\n",
    "    # test_df = dataframe[dataframe['label'] == 1]\n",
    "    test_df = test_df[test_df[\"fold\"].isin([1])]\n",
    "\n",
    "    print(\n",
    "        \"{}: real:{}, fakes:{}\".format(\n",
    "            val, len(test_df[test_df[\"label\"] == 0]), len(test_df[test_df[\"label\"] == 1])\n",
    "        )\n",
    "    )\n",
    "    return test_df.values\n",
    "\n",
    "def get_test_df_segment(dataframe, val):\n",
    "    test_df = dataframe[dataframe['root_dir'].str.contains(val)]\n",
    "    test_df = test_df[test_df[\"fold\"].isin([1])]\n",
    "    # test_df = test_df[test_df[\"label\"] == 1]\n",
    "\n",
    "    print(\n",
    "        \"{}: real:{}, fakes:{}\".format(\n",
    "            val, len(test_df[test_df[\"label\"] == 0]), len(test_df[test_df[\"label\"] == 1])\n",
    "        )\n",
    "    )\n",
    "    return test_df.values\n",
    "\n",
    "\n",
    "full_df = pd.read_csv('dataset_csv/casia_FULL.csv')\n",
    "\n",
    "# casia_test = get_individual_test_df(full_df, \"CASIA\")\n",
    "# imd_test = get_individual_test_df(full_df, \"IMD\")\n",
    "# coverage_test = get_individual_test_df(full_df, \"COVERAGE\")\n",
    "# nist_test = get_individual_test_df(full_df, \"NIST\")\n",
    "\n",
    "casia_test = get_test_df_segment(full_df, \"CASIA\")\n",
    "imd_test = get_test_df_segment(full_df, \"IMD\")\n",
    "coverage_test = get_test_df_segment(full_df, \"COVERAGE\")\n",
    "nist_test = get_test_df_segment(full_df, \"NIST\")"
   ]
  },
  {
   "cell_type": "code",
   "execution_count": 6,
   "metadata": {},
   "outputs": [],
   "source": [
    "coverage_full = full_df[full_df['root_dir'].str.contains('COVERAGE')]\n",
    "coverage_full = coverage_full[coverage_full[\"label\"] == 1]\n",
    "\n",
    "nist_full = full_df[full_df['root_dir'].str.contains('NIST')]\n",
    "nist_full = nist_full[nist_full[\"label\"] == 1]"
   ]
  },
  {
   "cell_type": "code",
   "execution_count": 12,
   "metadata": {},
   "outputs": [
    {
     "data": {
      "text/plain": [
       "1    388\n",
       "Name: label, dtype: int64"
      ]
     },
     "execution_count": 12,
     "metadata": {},
     "output_type": "execute_result"
    }
   ],
   "source": [
    "coverage_full.label.value_counts()"
   ]
  },
  {
   "cell_type": "markdown",
   "metadata": {},
   "source": [
    "## SVM Classifier"
   ]
  },
  {
   "cell_type": "code",
   "execution_count": 8,
   "metadata": {},
   "outputs": [],
   "source": [
    "def feat_pool(feat: torch.tensor, operation: str):\n",
    "    \"\"\"\n",
    "    Fuses the image's patches feature representation\n",
    "    :param feat: The network object\n",
    "    :param operation: Either max or mean for the pooling operation\n",
    "    :returns: The final 256-D feature representation of the entire image\n",
    "    \"\"\"\n",
    "    if operation == \"max\":\n",
    "        return feat.max(axis=0)\n",
    "    elif operation == \"mean\":\n",
    "        return feat.mean(axis=0)\n",
    "    else:\n",
    "        raise Exception(\"The operation can be either mean or max\")"
   ]
  },
  {
   "cell_type": "code",
   "execution_count": 25,
   "metadata": {},
   "outputs": [
    {
     "name": "stderr",
     "output_type": "stream",
     "text": [
      "  0%|          | 0/80 [00:00<?, ?it/s]\n"
     ]
    },
    {
     "ename": "AttributeError",
     "evalue": "'tuple' object has no attribute 'cpu'",
     "output_type": "error",
     "traceback": [
      "\u001b[0;31m---------------------------------------------------------------------------\u001b[0m",
      "\u001b[0;31mAttributeError\u001b[0m                            Traceback (most recent call last)",
      "\u001b[0;32m<ipython-input-25-20e0e4c74ccc>\u001b[0m in \u001b[0;36m<module>\u001b[0;34m\u001b[0m\n\u001b[1;32m      4\u001b[0m \u001b[0;32mfor\u001b[0m \u001b[0mrow\u001b[0m \u001b[0;32min\u001b[0m \u001b[0mtqdm\u001b[0m\u001b[0;34m(\u001b[0m\u001b[0mnist_test\u001b[0m\u001b[0;34m)\u001b[0m\u001b[0;34m:\u001b[0m\u001b[0;34m\u001b[0m\u001b[0;34m\u001b[0m\u001b[0m\n\u001b[1;32m      5\u001b[0m \u001b[0;34m\u001b[0m\u001b[0m\n\u001b[0;32m----> 6\u001b[0;31m     \u001b[0mlabel_preds\u001b[0m\u001b[0;34m,\u001b[0m \u001b[0mlabel_gt\u001b[0m \u001b[0;34m=\u001b[0m \u001b[0mget_feat_preds\u001b[0m\u001b[0;34m(\u001b[0m\u001b[0mrow\u001b[0m\u001b[0;34m,\u001b[0m \u001b[0msegment\u001b[0m\u001b[0;34m=\u001b[0m\u001b[0;32mFalse\u001b[0m\u001b[0;34m)\u001b[0m\u001b[0;34m\u001b[0m\u001b[0;34m\u001b[0m\u001b[0m\n\u001b[0m\u001b[1;32m      7\u001b[0m \u001b[0;34m\u001b[0m\u001b[0m\n\u001b[1;32m      8\u001b[0m     \u001b[0mpred\u001b[0m\u001b[0;34m.\u001b[0m\u001b[0mappend\u001b[0m\u001b[0;34m(\u001b[0m\u001b[0mlabel_preds\u001b[0m\u001b[0;34m[\u001b[0m\u001b[0;36m0\u001b[0m\u001b[0;34m]\u001b[0m\u001b[0;34m.\u001b[0m\u001b[0msqueeze\u001b[0m\u001b[0;34m(\u001b[0m\u001b[0;34m)\u001b[0m\u001b[0;34m)\u001b[0m\u001b[0;34m\u001b[0m\u001b[0;34m\u001b[0m\u001b[0m\n",
      "\u001b[0;32m<ipython-input-6-ee486666e0ea>\u001b[0m in \u001b[0;36mget_feat_preds\u001b[0;34m(row, segment)\u001b[0m\n\u001b[1;32m     24\u001b[0m         \u001b[0;32melse\u001b[0m\u001b[0;34m:\u001b[0m\u001b[0;34m\u001b[0m\u001b[0;34m\u001b[0m\u001b[0m\n\u001b[1;32m     25\u001b[0m             \u001b[0mlabel_pred_256\u001b[0m \u001b[0;34m=\u001b[0m \u001b[0mmodel_256\u001b[0m\u001b[0;34m(\u001b[0m\u001b[0mimage_tensor_256\u001b[0m\u001b[0;34m.\u001b[0m\u001b[0mto\u001b[0m\u001b[0;34m(\u001b[0m\u001b[0mdevice\u001b[0m\u001b[0;34m)\u001b[0m\u001b[0;34m,\u001b[0m \u001b[0mela_tensor_256\u001b[0m\u001b[0;34m.\u001b[0m\u001b[0mto\u001b[0m\u001b[0;34m(\u001b[0m\u001b[0mdevice\u001b[0m\u001b[0;34m)\u001b[0m\u001b[0;34m)\u001b[0m\u001b[0;34m\u001b[0m\u001b[0;34m\u001b[0m\u001b[0m\n\u001b[0;32m---> 26\u001b[0;31m             \u001b[0mlabel_preds\u001b[0m\u001b[0;34m.\u001b[0m\u001b[0mappend\u001b[0m\u001b[0;34m(\u001b[0m\u001b[0mtorch\u001b[0m\u001b[0;34m.\u001b[0m\u001b[0msigmoid\u001b[0m\u001b[0;34m(\u001b[0m\u001b[0mlabel_pred_256\u001b[0m\u001b[0;34m.\u001b[0m\u001b[0mcpu\u001b[0m\u001b[0;34m(\u001b[0m\u001b[0;34m)\u001b[0m\u001b[0;34m.\u001b[0m\u001b[0mdetach\u001b[0m\u001b[0;34m(\u001b[0m\u001b[0;34m)\u001b[0m\u001b[0;34m)\u001b[0m\u001b[0;34m)\u001b[0m\u001b[0;34m\u001b[0m\u001b[0;34m\u001b[0m\u001b[0m\n\u001b[0m\u001b[1;32m     27\u001b[0m             \u001b[0mlabel_gt\u001b[0m\u001b[0;34m.\u001b[0m\u001b[0mappend\u001b[0m\u001b[0;34m(\u001b[0m\u001b[0mlabel\u001b[0m\u001b[0;34m)\u001b[0m\u001b[0;34m\u001b[0m\u001b[0;34m\u001b[0m\u001b[0m\n\u001b[1;32m     28\u001b[0m         \u001b[0;31m# features.append(inter_256.cpu().detach())\u001b[0m\u001b[0;34m\u001b[0m\u001b[0;34m\u001b[0m\u001b[0;34m\u001b[0m\u001b[0m\n",
      "\u001b[0;31mAttributeError\u001b[0m: 'tuple' object has no attribute 'cpu'"
     ]
    }
   ],
   "source": [
    "label = []\n",
    "pred = []\n",
    "\n",
    "for row in tqdm(nist_test):\n",
    "\n",
    "    label_preds, label_gt = get_feat_preds(row, segment=False)\n",
    "    \n",
    "    pred.append(label_preds[0].squeeze())\n",
    "    label.append(label_gt[0])"
   ]
  },
  {
   "cell_type": "code",
   "execution_count": 14,
   "metadata": {},
   "outputs": [
    {
     "name": "stdout",
     "output_type": "stream",
     "text": [
      "Test Accuracy: 0.9468253968253968\n"
     ]
    }
   ],
   "source": [
    "from sklearn.metrics import accuracy_score\n",
    "print(\"Test Accuracy:\", accuracy_score(np.array(label), np.array(pred) >= 0.5))"
   ]
  },
  {
   "cell_type": "markdown",
   "metadata": {},
   "source": [
    "## Segment predictions"
   ]
  },
  {
   "cell_type": "code",
   "execution_count": 14,
   "metadata": {},
   "outputs": [
    {
     "name": "stderr",
     "output_type": "stream",
     "text": [
      "100%|██████████| 1260/1260 [01:52<00:00, 11.15it/s]\n"
     ]
    }
   ],
   "source": [
    "\n",
    "label = []\n",
    "pred_label = []\n",
    "pred_mask = []\n",
    "gt_mask = []\n",
    "\n",
    "for row in tqdm(casia_test):\n",
    "    mask_predictions, mask_gt, label_preds, label_gt = get_feat_preds(row, segment=True)\n",
    "    \n",
    "    pred_label.append(label_preds[0].squeeze())\n",
    "    label.append(label_gt[0])\n",
    "    pred_mask.append(mask_predictions[0].squeeze())\n",
    "    gt_mask.append(mask_gt[0].squeeze())"
   ]
  },
  {
   "cell_type": "code",
   "execution_count": 15,
   "metadata": {},
   "outputs": [
    {
     "data": {
      "text/plain": [
       "0.8765432098765432"
      ]
     },
     "execution_count": 15,
     "metadata": {},
     "output_type": "execute_result"
    }
   ],
   "source": [
    "from sklearn.metrics import f1_score\n",
    "\n",
    "f1_score(np.array(label) >= 0.5, np.array(pred_label) >= 0.5)"
   ]
  },
  {
   "cell_type": "code",
   "execution_count": 21,
   "metadata": {},
   "outputs": [
    {
     "name": "stderr",
     "output_type": "stream",
     "text": [
      "144it [00:01, 78.64it/s]\n"
     ]
    },
    {
     "data": {
      "text/plain": [
       "0.8130072189392018"
      ]
     },
     "execution_count": 21,
     "metadata": {},
     "output_type": "execute_result"
    }
   ],
   "source": [
    "from sklearn.metrics import roc_auc_score\n",
    "# from torchmetrics import AUROC\n",
    "# auroc = AUROC(pos_label=1)\n",
    "\n",
    "auc, cnt = 0, 0\n",
    "for gt, pr in tqdm(zip(gt_mask, pred_mask)):          \n",
    "    auc += roc_auc_score(gt.ravel() >= 0.5, pr.ravel())\n",
    "    # auc += roc_auc_score(gt >= 0.5, pr)\n",
    "    # auc += auroc(pr.ravel(), gt.ravel() >= 0.5)\n",
    "    cnt += 1\n",
    "auc / cnt"
   ]
  },
  {
   "cell_type": "code",
   "execution_count": 17,
   "metadata": {},
   "outputs": [
    {
     "name": "stderr",
     "output_type": "stream",
     "text": [
      "511it [01:01,  8.27it/s]\n"
     ]
    },
    {
     "data": {
      "text/plain": [
       "0.818058432333071"
      ]
     },
     "execution_count": 17,
     "metadata": {},
     "output_type": "execute_result"
    }
   ],
   "source": [
    "from sklearn.metrics import roc_auc_score\n",
    "\n",
    "thrs = [0.0,0.1,0.15,0.2,0.25,0.3,0.35,0.4,0.45,0.5,0.55,0.6,0.65,0.7,0.75,0.8,0.85,0.9,0.95,1.0]\n",
    "\n",
    "sample = []\n",
    "auc, cnt = 0, 0\n",
    "for gt, pr in tqdm(zip(gt_mask, pred_mask)):\n",
    "    best, bt = -1, 0\n",
    "    for thr in thrs:\n",
    "        tmp = roc_auc_score(gt.numpy().ravel() >= 0.5, pr.numpy().ravel() >= thr)          \n",
    "        if tmp > best: \n",
    "            best = tmp\n",
    "            bt = thr\n",
    "    auc += best\n",
    "    cnt += 1\n",
    "    sample.append((pr, gt, bt))\n",
    "auc / cnt"
   ]
  },
  {
   "cell_type": "code",
   "execution_count": 23,
   "metadata": {},
   "outputs": [
    {
     "data": {
      "image/png": "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",
      "image/svg+xml": "<?xml version=\"1.0\" encoding=\"utf-8\" standalone=\"no\"?>\n<!DOCTYPE svg PUBLIC \"-//W3C//DTD SVG 1.1//EN\"\n  \"http://www.w3.org/Graphics/SVG/1.1/DTD/svg11.dtd\">\n<!-- Created with matplotlib (https://matplotlib.org/) -->\n<svg height=\"186.761932pt\" version=\"1.1\" viewBox=\"0 0 375.2875 186.761932\" width=\"375.2875pt\" xmlns=\"http://www.w3.org/2000/svg\" xmlns:xlink=\"http://www.w3.org/1999/xlink\">\n <metadata>\n  <rdf:RDF xmlns:cc=\"http://creativecommons.org/ns#\" xmlns:dc=\"http://purl.org/dc/elements/1.1/\" xmlns:rdf=\"http://www.w3.org/1999/02/22-rdf-syntax-ns#\">\n   <cc:Work>\n    <dc:type rdf:resource=\"http://purl.org/dc/dcmitype/StillImage\"/>\n    <dc:date>2021-09-03T14:29:08.721423</dc:date>\n    <dc:format>image/svg+xml</dc:format>\n    <dc:creator>\n     <cc:Agent>\n      <dc:title>Matplotlib v3.3.4, https://matplotlib.org/</dc:title>\n     </cc:Agent>\n    </dc:creator>\n   </cc:Work>\n  </rdf:RDF>\n </metadata>\n <defs>\n  <style type=\"text/css\">*{stroke-linecap:butt;stroke-linejoin:round;}</style>\n </defs>\n <g id=\"figure_1\">\n  <g id=\"patch_1\">\n   <path d=\"M 0 186.761932 \nL 375.2875 186.761932 \nL 375.2875 0 \nL 0 0 \nz\n\" style=\"fill:none;\"/>\n  </g>\n  <g id=\"axes_1\">\n   <g id=\"patch_2\">\n    <path d=\"M 33.2875 162.883807 \nL 185.469318 162.883807 \nL 185.469318 10.701989 \nL 33.2875 10.701989 \nz\n\" style=\"fill:#ffffff;\"/>\n   </g>\n   <g clip-path=\"url(#p0f7d288774)\">\n    <image height=\"153\" id=\"imagef83a3e60f6\" transform=\"scale(1 -1)translate(0 -153)\" width=\"153\" x=\"33.2875\" xlink:href=\"data:image/png;base64,\niVBORw0KGgoAAAANSUhEUgAAAJkAAACZCAYAAAA8XJi6AAADtElEQVR4nO3asUojURSH8XPjxEBAsI7BytZ0Vhb6BNZ2gvgItj6EnZWltcHKQgXBRjAICfgAkkBEbWQQZZKzxbJuZpPozsDfYPh+cJt7T2CKj5lJNJiZGyBUmPQFYPoRGeSIDHJEBjkigxyRQY7IIEdkkCMyyBEZ5IgMckQGOSKDHJFBjsggR2SQIzLIERnkiAxyRAY5IoMckUGOyCBHZJAjMsgRGeSIDHJEBjkigxyRQY7IIEdkkCMyyBEZ5IgMckQGOSKDHJFBjsggR2SQIzLIERnkiAxyRAY5IoMckUGOyCBHZJAjMsgRGeSIDHJEBjkigxyRQY7IIEdkkCMyyBEZ5IgMckQGOSKDHJFBjsggR2SQIzLIERnkiAxyRAY5IoMckUGOyCBHZJAjMsgRGeSIDHJEBjkigxyRQY7IIEdkkCMyyBEZ5IgMckQGOSKDHJFBjsggR2SQIzLIERnkiAxyRAY5IoMckUGOyCBHZJAjMsgRGeSIDHJEBjkigxyRQY7IIEdkkCMyyBEZ5IgMckQGOSJDZqVSyarVqs3Pz1sI4ct5IkMmIQTb3t62Vqtl5+fntr6+blEUWaHweUrOYv3vKpVK3mw23d293+97p9PxRqPh19fXvra2Nu5zk79w1s9Z5XLZu92uj3J4eOhRFA19hsclMhv3HraysmKVSmVon8iQibvb29vbyLOlpSVbXV21mZmZ1D6RIZMkSazZbI48KxaLtru7a8vLy6l9IkMmSZLY6enpyLNCoWC1Ws22trasWCz+3f+ui8N0cHd7enoydx86CyFYFEW2ublpc3NzH/tEhszu7u6s3W6PPZ+dnU19OSAyZNZoNOzm5ia1N3hnOzk5sZeXl/Q5i5V1bWxsDP1O1u/3vV6ve7Va/Xd+8hfM+nmrVqt5r9dLRXZ5eemVSmVolsclcun1eqlH5Ovrq+3t7Vmn0xmaJTLkEkJIvdw/PDzY7e3tyFkiQy6D3yDd3er1usVxPHKWyJBLuVz+iCyOY7u6urIkSUbOEhly+/NO1m637eLiYuwckSGXwbtWHMf2+Pg4dpbIkMvgf8K2Wq2Rf2b6mP2OC8L0WVxctBCC3d/f2/7+/pfzE/9hj/Xz1tHRkb+/v/vOzo6HED6d5U6GXBYWFqzb7drx8fGnj0ozs+ibrglT5uzszA4ODuz5+fnL2WC/b2mADI9LyBEZ5IgMckQGOSKDHJFBjsggR2SQIzLIERnkiAxyRAY5IoMckUGOyCBHZJAjMsgRGeSIDHK/AFUMzsGIhc1VAAAAAElFTkSuQmCC\" y=\"-9.883807\"/>\n   </g>\n   <g id=\"matplotlib.axis_1\">\n    <g id=\"xtick_1\">\n     <g id=\"line2d_1\">\n      <defs>\n       <path d=\"M 0 0 \nL 0 3.5 \n\" id=\"m25d6768ff6\" style=\"stroke:#000000;stroke-width:0.8;\"/>\n      </defs>\n      <g>\n       <use style=\"stroke:#000000;stroke-width:0.8;\" x=\"33.58473\" xlink:href=\"#m25d6768ff6\" y=\"162.883807\"/>\n      </g>\n     </g>\n     <g id=\"text_1\">\n      <!-- 0 -->\n      <g transform=\"translate(30.40348 177.482244)scale(0.1 -0.1)\">\n       <defs>\n        <path d=\"M 31.78125 66.40625 \nQ 24.171875 66.40625 20.328125 58.90625 \nQ 16.5 51.421875 16.5 36.375 \nQ 16.5 21.390625 20.328125 13.890625 \nQ 24.171875 6.390625 31.78125 6.390625 \nQ 39.453125 6.390625 43.28125 13.890625 \nQ 47.125 21.390625 47.125 36.375 \nQ 47.125 51.421875 43.28125 58.90625 \nQ 39.453125 66.40625 31.78125 66.40625 \nz\nM 31.78125 74.21875 \nQ 44.046875 74.21875 50.515625 64.515625 \nQ 56.984375 54.828125 56.984375 36.375 \nQ 56.984375 17.96875 50.515625 8.265625 \nQ 44.046875 -1.421875 31.78125 -1.421875 \nQ 19.53125 -1.421875 13.0625 8.265625 \nQ 6.59375 17.96875 6.59375 36.375 \nQ 6.59375 54.828125 13.0625 64.515625 \nQ 19.53125 74.21875 31.78125 74.21875 \nz\n\" id=\"DejaVuSans-48\"/>\n       </defs>\n       <use xlink:href=\"#DejaVuSans-48\"/>\n      </g>\n     </g>\n    </g>\n    <g id=\"xtick_2\">\n     <g id=\"line2d_2\">\n      <g>\n       <use style=\"stroke:#000000;stroke-width:0.8;\" x=\"93.030753\" xlink:href=\"#m25d6768ff6\" y=\"162.883807\"/>\n      </g>\n     </g>\n     <g id=\"text_2\">\n      <!-- 100 -->\n      <g transform=\"translate(83.487003 177.482244)scale(0.1 -0.1)\">\n       <defs>\n        <path d=\"M 12.40625 8.296875 \nL 28.515625 8.296875 \nL 28.515625 63.921875 \nL 10.984375 60.40625 \nL 10.984375 69.390625 \nL 28.421875 72.90625 \nL 38.28125 72.90625 \nL 38.28125 8.296875 \nL 54.390625 8.296875 \nL 54.390625 0 \nL 12.40625 0 \nz\n\" id=\"DejaVuSans-49\"/>\n       </defs>\n       <use xlink:href=\"#DejaVuSans-49\"/>\n       <use x=\"63.623047\" xlink:href=\"#DejaVuSans-48\"/>\n       <use x=\"127.246094\" xlink:href=\"#DejaVuSans-48\"/>\n      </g>\n     </g>\n    </g>\n    <g id=\"xtick_3\">\n     <g id=\"line2d_3\">\n      <g>\n       <use style=\"stroke:#000000;stroke-width:0.8;\" x=\"152.476776\" xlink:href=\"#m25d6768ff6\" y=\"162.883807\"/>\n      </g>\n     </g>\n     <g id=\"text_3\">\n      <!-- 200 -->\n      <g transform=\"translate(142.933026 177.482244)scale(0.1 -0.1)\">\n       <defs>\n        <path d=\"M 19.1875 8.296875 \nL 53.609375 8.296875 \nL 53.609375 0 \nL 7.328125 0 \nL 7.328125 8.296875 \nQ 12.9375 14.109375 22.625 23.890625 \nQ 32.328125 33.6875 34.8125 36.53125 \nQ 39.546875 41.84375 41.421875 45.53125 \nQ 43.3125 49.21875 43.3125 52.78125 \nQ 43.3125 58.59375 39.234375 62.25 \nQ 35.15625 65.921875 28.609375 65.921875 \nQ 23.96875 65.921875 18.8125 64.3125 \nQ 13.671875 62.703125 7.8125 59.421875 \nL 7.8125 69.390625 \nQ 13.765625 71.78125 18.9375 73 \nQ 24.125 74.21875 28.421875 74.21875 \nQ 39.75 74.21875 46.484375 68.546875 \nQ 53.21875 62.890625 53.21875 53.421875 \nQ 53.21875 48.921875 51.53125 44.890625 \nQ 49.859375 40.875 45.40625 35.40625 \nQ 44.1875 33.984375 37.640625 27.21875 \nQ 31.109375 20.453125 19.1875 8.296875 \nz\n\" id=\"DejaVuSans-50\"/>\n       </defs>\n       <use xlink:href=\"#DejaVuSans-50\"/>\n       <use x=\"63.623047\" xlink:href=\"#DejaVuSans-48\"/>\n       <use x=\"127.246094\" xlink:href=\"#DejaVuSans-48\"/>\n      </g>\n     </g>\n    </g>\n   </g>\n   <g id=\"matplotlib.axis_2\">\n    <g id=\"ytick_1\">\n     <g id=\"line2d_4\">\n      <defs>\n       <path d=\"M 0 0 \nL -3.5 0 \n\" id=\"mee9d198711\" style=\"stroke:#000000;stroke-width:0.8;\"/>\n      </defs>\n      <g>\n       <use style=\"stroke:#000000;stroke-width:0.8;\" x=\"33.2875\" xlink:href=\"#mee9d198711\" y=\"10.999219\"/>\n      </g>\n     </g>\n     <g id=\"text_4\">\n      <!-- 0 -->\n      <g transform=\"translate(19.925 14.798437)scale(0.1 -0.1)\">\n       <use xlink:href=\"#DejaVuSans-48\"/>\n      </g>\n     </g>\n    </g>\n    <g id=\"ytick_2\">\n     <g id=\"line2d_5\">\n      <g>\n       <use style=\"stroke:#000000;stroke-width:0.8;\" x=\"33.2875\" xlink:href=\"#mee9d198711\" y=\"40.72223\"/>\n      </g>\n     </g>\n     <g id=\"text_5\">\n      <!-- 50 -->\n      <g transform=\"translate(13.5625 44.521449)scale(0.1 -0.1)\">\n       <defs>\n        <path d=\"M 10.796875 72.90625 \nL 49.515625 72.90625 \nL 49.515625 64.59375 \nL 19.828125 64.59375 \nL 19.828125 46.734375 \nQ 21.96875 47.46875 24.109375 47.828125 \nQ 26.265625 48.1875 28.421875 48.1875 \nQ 40.625 48.1875 47.75 41.5 \nQ 54.890625 34.8125 54.890625 23.390625 \nQ 54.890625 11.625 47.5625 5.09375 \nQ 40.234375 -1.421875 26.90625 -1.421875 \nQ 22.3125 -1.421875 17.546875 -0.640625 \nQ 12.796875 0.140625 7.71875 1.703125 \nL 7.71875 11.625 \nQ 12.109375 9.234375 16.796875 8.0625 \nQ 21.484375 6.890625 26.703125 6.890625 \nQ 35.15625 6.890625 40.078125 11.328125 \nQ 45.015625 15.765625 45.015625 23.390625 \nQ 45.015625 31 40.078125 35.4375 \nQ 35.15625 39.890625 26.703125 39.890625 \nQ 22.75 39.890625 18.8125 39.015625 \nQ 14.890625 38.140625 10.796875 36.28125 \nz\n\" id=\"DejaVuSans-53\"/>\n       </defs>\n       <use xlink:href=\"#DejaVuSans-53\"/>\n       <use x=\"63.623047\" xlink:href=\"#DejaVuSans-48\"/>\n      </g>\n     </g>\n    </g>\n    <g id=\"ytick_3\">\n     <g id=\"line2d_6\">\n      <g>\n       <use style=\"stroke:#000000;stroke-width:0.8;\" x=\"33.2875\" xlink:href=\"#mee9d198711\" y=\"70.445241\"/>\n      </g>\n     </g>\n     <g id=\"text_6\">\n      <!-- 100 -->\n      <g transform=\"translate(7.2 74.24446)scale(0.1 -0.1)\">\n       <use xlink:href=\"#DejaVuSans-49\"/>\n       <use x=\"63.623047\" xlink:href=\"#DejaVuSans-48\"/>\n       <use x=\"127.246094\" xlink:href=\"#DejaVuSans-48\"/>\n      </g>\n     </g>\n    </g>\n    <g id=\"ytick_4\">\n     <g id=\"line2d_7\">\n      <g>\n       <use style=\"stroke:#000000;stroke-width:0.8;\" x=\"33.2875\" xlink:href=\"#mee9d198711\" y=\"100.168253\"/>\n      </g>\n     </g>\n     <g id=\"text_7\">\n      <!-- 150 -->\n      <g transform=\"translate(7.2 103.967472)scale(0.1 -0.1)\">\n       <use xlink:href=\"#DejaVuSans-49\"/>\n       <use x=\"63.623047\" xlink:href=\"#DejaVuSans-53\"/>\n       <use x=\"127.246094\" xlink:href=\"#DejaVuSans-48\"/>\n      </g>\n     </g>\n    </g>\n    <g id=\"ytick_5\">\n     <g id=\"line2d_8\">\n      <g>\n       <use style=\"stroke:#000000;stroke-width:0.8;\" x=\"33.2875\" xlink:href=\"#mee9d198711\" y=\"129.891264\"/>\n      </g>\n     </g>\n     <g id=\"text_8\">\n      <!-- 200 -->\n      <g transform=\"translate(7.2 133.690483)scale(0.1 -0.1)\">\n       <use xlink:href=\"#DejaVuSans-50\"/>\n       <use x=\"63.623047\" xlink:href=\"#DejaVuSans-48\"/>\n       <use x=\"127.246094\" xlink:href=\"#DejaVuSans-48\"/>\n      </g>\n     </g>\n    </g>\n    <g id=\"ytick_6\">\n     <g id=\"line2d_9\">\n      <g>\n       <use style=\"stroke:#000000;stroke-width:0.8;\" x=\"33.2875\" xlink:href=\"#mee9d198711\" y=\"159.614276\"/>\n      </g>\n     </g>\n     <g id=\"text_9\">\n      <!-- 250 -->\n      <g transform=\"translate(7.2 163.413494)scale(0.1 -0.1)\">\n       <use xlink:href=\"#DejaVuSans-50\"/>\n       <use x=\"63.623047\" xlink:href=\"#DejaVuSans-53\"/>\n       <use x=\"127.246094\" xlink:href=\"#DejaVuSans-48\"/>\n      </g>\n     </g>\n    </g>\n   </g>\n   <g id=\"patch_3\">\n    <path d=\"M 33.2875 162.883807 \nL 33.2875 10.701989 \n\" style=\"fill:none;stroke:#000000;stroke-linecap:square;stroke-linejoin:miter;stroke-width:0.8;\"/>\n   </g>\n   <g id=\"patch_4\">\n    <path d=\"M 185.469318 162.883807 \nL 185.469318 10.701989 \n\" style=\"fill:none;stroke:#000000;stroke-linecap:square;stroke-linejoin:miter;stroke-width:0.8;\"/>\n   </g>\n   <g id=\"patch_5\">\n    <path d=\"M 33.2875 162.883807 \nL 185.469318 162.883807 \n\" style=\"fill:none;stroke:#000000;stroke-linecap:square;stroke-linejoin:miter;stroke-width:0.8;\"/>\n   </g>\n   <g id=\"patch_6\">\n    <path d=\"M 33.2875 10.701989 \nL 185.469318 10.701989 \n\" style=\"fill:none;stroke:#000000;stroke-linecap:square;stroke-linejoin:miter;stroke-width:0.8;\"/>\n   </g>\n  </g>\n  <g id=\"axes_2\">\n   <g id=\"patch_7\">\n    <path d=\"M 215.905682 162.883807 \nL 368.0875 162.883807 \nL 368.0875 10.701989 \nL 215.905682 10.701989 \nz\n\" style=\"fill:#ffffff;\"/>\n   </g>\n   <g clip-path=\"url(#p1fc04edf28)\">\n    <image height=\"153\" id=\"image9d6647b6f0\" transform=\"scale(1 -1)translate(0 -153)\" width=\"153\" x=\"215.905682\" xlink:href=\"data:image/png;base64,\niVBORw0KGgoAAAANSUhEUgAAAJkAAACZCAYAAAA8XJi6AAAEGUlEQVR4nO3aMUorWxzH8f9JRCIZQQlCGrGQoFhJdA8WWYCde7DQLVhYuYIggp07sFJsIigGRG20kAgSA4YYjcaZc4vHm6fGqzeB3/Up3w8cmBnPgSm+zJkMOjPzBgglvvoG8PMRGeSIDHJEBjkigxyRQY7IIEdkkCMyyBEZ5IgMckQGOSKDHJFBjsggR2SQIzLIERnkiAxyRAY5IoMckUGOyCBHZJAjMsgRGeSIDHJEBjkigxyRQY7IIEdkkCMyyBEZ5IgMckQGOSKDHJFBjsggR2SQIzLIERnkiAxyRAY5IoMckUGOyCBHZJAjMsgRGeSIDHJEBjkigxyRQY7IIEdkkCMyyBEZ5IgMckQGOSKDHJFBjsggR2SQIzLIERnkiAxyRAY5IoMckUGOyCBHZJAjMsgRGeSIDHJEBjkigxyRQY7IIEdkkCMyyBEZ5IgMckQGOSKDHJFBjsggR2SQIzLIERnkiAxyRAY5IoMckUGOyCBHZJAjMsgRGeSIDHJEBjkigxyRQY7IIEdkkCMyyBEZ5IgMckQGOSJD1xKJhKXTaRsaGvqz+drbwU/jnLNCoWDFYtE2NjYsn89bJpP5dJ1nMP50JJNJv7a25r33/vn52VcqFb+4uPjhGp5k6IpzzkZGRszMLJlM2vDwsB0fH9vY2JjNzc29u4bI0BXnnAVBEJ+Xy2Url8s2Ojpq8/PzlkqlOtYQGbrWbrfj49vbW3t4eLBsNmtBEFhfX1/HfCJDV6Iosqurq/i8v7/fcrmcLS8vWxiG5r0359yrNUSGrryNbHZ21orFouVyOSuVSjYwMGAzMzMdT7Qv/8XC+F5jYWHBt9tt/1IYhr5er/vV1VW/u7vrBwcHX675+ptmfK8xOTnpj46OfBRF/q3Hx0dfrVZ9JpOJ57NdomtnZ2e2tLRk19fXHX+r1Wq2vb1tURTF1zp/CgCf8N7b6empNRoNy2az8fW7uztbWVmxw8NDu7+/j68TGXoShqE1m834PIoi29zctGKxaIlE4tVnDrP/wR7P+H6jUCj4MAzjd7FareYnJibencs7GXqWSPyXT6lUssvLy/fn/a0bws/ydqvc2dmxVqv17lwiQ09e/i9ZvV63Uqn06hflS0SGnoyPj8fHtVrNTk5OfjuXyNCTdDodH1cqlXe/mf2LyNCT/f39eHs8ODiwMAx/O5fvZOhJq9WyZrNp5+fntrW19en8L//mwvhewznn19fXfbVa9dPT09459+F8tkt0LQgCm5qaspubG7u4uDDv/Yfz2S7RtVQqZY1GwyqVij09PX0639k/jzSgK/l83oIgsL29vQ9f+s2IDH8B72SQIzLIERnkiAxyRAY5IoMckUGOyCBHZJAjMsgRGeSIDHJEBjkigxyRQY7IIEdkkCMyyP0Ckg7+wDrlpf8AAAAASUVORK5CYII=\" y=\"-9.883807\"/>\n   </g>\n   <g id=\"matplotlib.axis_3\">\n    <g id=\"xtick_4\">\n     <g id=\"line2d_10\">\n      <g>\n       <use style=\"stroke:#000000;stroke-width:0.8;\" x=\"216.202912\" xlink:href=\"#m25d6768ff6\" y=\"162.883807\"/>\n      </g>\n     </g>\n     <g id=\"text_10\">\n      <!-- 0 -->\n      <g transform=\"translate(213.021662 177.482244)scale(0.1 -0.1)\">\n       <use xlink:href=\"#DejaVuSans-48\"/>\n      </g>\n     </g>\n    </g>\n    <g id=\"xtick_5\">\n     <g id=\"line2d_11\">\n      <g>\n       <use style=\"stroke:#000000;stroke-width:0.8;\" x=\"275.648935\" xlink:href=\"#m25d6768ff6\" y=\"162.883807\"/>\n      </g>\n     </g>\n     <g id=\"text_11\">\n      <!-- 100 -->\n      <g transform=\"translate(266.105185 177.482244)scale(0.1 -0.1)\">\n       <use xlink:href=\"#DejaVuSans-49\"/>\n       <use x=\"63.623047\" xlink:href=\"#DejaVuSans-48\"/>\n       <use x=\"127.246094\" xlink:href=\"#DejaVuSans-48\"/>\n      </g>\n     </g>\n    </g>\n    <g id=\"xtick_6\">\n     <g id=\"line2d_12\">\n      <g>\n       <use style=\"stroke:#000000;stroke-width:0.8;\" x=\"335.094957\" xlink:href=\"#m25d6768ff6\" y=\"162.883807\"/>\n      </g>\n     </g>\n     <g id=\"text_12\">\n      <!-- 200 -->\n      <g transform=\"translate(325.551207 177.482244)scale(0.1 -0.1)\">\n       <use xlink:href=\"#DejaVuSans-50\"/>\n       <use x=\"63.623047\" xlink:href=\"#DejaVuSans-48\"/>\n       <use x=\"127.246094\" xlink:href=\"#DejaVuSans-48\"/>\n      </g>\n     </g>\n    </g>\n   </g>\n   <g id=\"matplotlib.axis_4\">\n    <g id=\"ytick_7\">\n     <g id=\"line2d_13\">\n      <g>\n       <use style=\"stroke:#000000;stroke-width:0.8;\" x=\"215.905682\" xlink:href=\"#mee9d198711\" y=\"10.999219\"/>\n      </g>\n     </g>\n     <g id=\"text_13\">\n      <!-- 0 -->\n      <g transform=\"translate(202.543182 14.798437)scale(0.1 -0.1)\">\n       <use xlink:href=\"#DejaVuSans-48\"/>\n      </g>\n     </g>\n    </g>\n    <g id=\"ytick_8\">\n     <g id=\"line2d_14\">\n      <g>\n       <use style=\"stroke:#000000;stroke-width:0.8;\" x=\"215.905682\" xlink:href=\"#mee9d198711\" y=\"40.72223\"/>\n      </g>\n     </g>\n     <g id=\"text_14\">\n      <!-- 50 -->\n      <g transform=\"translate(196.180682 44.521449)scale(0.1 -0.1)\">\n       <use xlink:href=\"#DejaVuSans-53\"/>\n       <use x=\"63.623047\" xlink:href=\"#DejaVuSans-48\"/>\n      </g>\n     </g>\n    </g>\n    <g id=\"ytick_9\">\n     <g id=\"line2d_15\">\n      <g>\n       <use style=\"stroke:#000000;stroke-width:0.8;\" x=\"215.905682\" xlink:href=\"#mee9d198711\" y=\"70.445241\"/>\n      </g>\n     </g>\n     <g id=\"text_15\">\n      <!-- 100 -->\n      <g transform=\"translate(189.818182 74.24446)scale(0.1 -0.1)\">\n       <use xlink:href=\"#DejaVuSans-49\"/>\n       <use x=\"63.623047\" xlink:href=\"#DejaVuSans-48\"/>\n       <use x=\"127.246094\" xlink:href=\"#DejaVuSans-48\"/>\n      </g>\n     </g>\n    </g>\n    <g id=\"ytick_10\">\n     <g id=\"line2d_16\">\n      <g>\n       <use style=\"stroke:#000000;stroke-width:0.8;\" x=\"215.905682\" xlink:href=\"#mee9d198711\" y=\"100.168253\"/>\n      </g>\n     </g>\n     <g id=\"text_16\">\n      <!-- 150 -->\n      <g transform=\"translate(189.818182 103.967472)scale(0.1 -0.1)\">\n       <use xlink:href=\"#DejaVuSans-49\"/>\n       <use x=\"63.623047\" xlink:href=\"#DejaVuSans-53\"/>\n       <use x=\"127.246094\" xlink:href=\"#DejaVuSans-48\"/>\n      </g>\n     </g>\n    </g>\n    <g id=\"ytick_11\">\n     <g id=\"line2d_17\">\n      <g>\n       <use style=\"stroke:#000000;stroke-width:0.8;\" x=\"215.905682\" xlink:href=\"#mee9d198711\" y=\"129.891264\"/>\n      </g>\n     </g>\n     <g id=\"text_17\">\n      <!-- 200 -->\n      <g transform=\"translate(189.818182 133.690483)scale(0.1 -0.1)\">\n       <use xlink:href=\"#DejaVuSans-50\"/>\n       <use x=\"63.623047\" xlink:href=\"#DejaVuSans-48\"/>\n       <use x=\"127.246094\" xlink:href=\"#DejaVuSans-48\"/>\n      </g>\n     </g>\n    </g>\n    <g id=\"ytick_12\">\n     <g id=\"line2d_18\">\n      <g>\n       <use style=\"stroke:#000000;stroke-width:0.8;\" x=\"215.905682\" xlink:href=\"#mee9d198711\" y=\"159.614276\"/>\n      </g>\n     </g>\n     <g id=\"text_18\">\n      <!-- 250 -->\n      <g transform=\"translate(189.818182 163.413494)scale(0.1 -0.1)\">\n       <use xlink:href=\"#DejaVuSans-50\"/>\n       <use x=\"63.623047\" xlink:href=\"#DejaVuSans-53\"/>\n       <use x=\"127.246094\" xlink:href=\"#DejaVuSans-48\"/>\n      </g>\n     </g>\n    </g>\n   </g>\n   <g id=\"patch_8\">\n    <path d=\"M 215.905682 162.883807 \nL 215.905682 10.701989 \n\" style=\"fill:none;stroke:#000000;stroke-linecap:square;stroke-linejoin:miter;stroke-width:0.8;\"/>\n   </g>\n   <g id=\"patch_9\">\n    <path d=\"M 368.0875 162.883807 \nL 368.0875 10.701989 \n\" style=\"fill:none;stroke:#000000;stroke-linecap:square;stroke-linejoin:miter;stroke-width:0.8;\"/>\n   </g>\n   <g id=\"patch_10\">\n    <path d=\"M 215.905682 162.883807 \nL 368.0875 162.883807 \n\" style=\"fill:none;stroke:#000000;stroke-linecap:square;stroke-linejoin:miter;stroke-width:0.8;\"/>\n   </g>\n   <g id=\"patch_11\">\n    <path d=\"M 215.905682 10.701989 \nL 368.0875 10.701989 \n\" style=\"fill:none;stroke:#000000;stroke-linecap:square;stroke-linejoin:miter;stroke-width:0.8;\"/>\n   </g>\n  </g>\n </g>\n <defs>\n  <clipPath id=\"p0f7d288774\">\n   <rect height=\"152.181818\" width=\"152.181818\" x=\"33.2875\" y=\"10.701989\"/>\n  </clipPath>\n  <clipPath id=\"p1fc04edf28\">\n   <rect height=\"152.181818\" width=\"152.181818\" x=\"215.905682\" y=\"10.701989\"/>\n  </clipPath>\n </defs>\n</svg>\n",
      "text/plain": [
       "<Figure size 432x288 with 2 Axes>"
      ]
     },
     "metadata": {
      "needs_background": "light"
     },
     "output_type": "display_data"
    }
   ],
   "source": [
    "pr, gt, bt = sample[10]\n",
    "plt.subplot(1,2,1)\n",
    "plt.imshow(pr, cmap='gray')\n",
    "plt.subplot(1,2,2)\n",
    "plt.imshow(gt, cmap='gray')\n",
    "plt.show()"
   ]
  },
  {
   "cell_type": "code",
   "execution_count": 90,
   "metadata": {},
   "outputs": [
    {
     "name": "stdout",
     "output_type": "stream",
     "text": [
      "(220, 256) (220,)\n"
     ]
    }
   ],
   "source": [
    "XTest = np.vstack(testX)\n",
    "YTest = np.array(testY)\n",
    "print(XTest.shape, YTest.shape)"
   ]
  }
 ],
 "metadata": {
  "interpreter": {
   "hash": "a5454afb7ffb1799ae1d6fe9b1ee82f9b07495275ac0b3d18cfab38f9bedde77"
  },
  {
   "cell_type": "code",
   "execution_count": 91,
   "metadata": {},
   "outputs": [
    {
     "data": {
      "text/plain": [
       "0.5272727272727273"
      ]
     },
     "execution_count": 91,
     "metadata": {},
     "output_type": "execute_result"
    }
   ],
   "source": [
    "import pickle\n",
    "from sklearn.metrics import accuracy_score\n",
    "\n",
    "svm_model = pickle.load(open('svm.sav', 'rb'))\n",
    "# result = svm_model.score(XTest, YTest)\n",
    "y_pred = svm_model.predict(XTest)\n",
    "roc_auc_score(YTest, y_pred)\n",
    "# print(\"Test Accuracy:\", accuracy_score(YTest, y_pred))"
   ]
  },
  {
   "cell_type": "code",
   "execution_count": 75,
   "metadata": {},
   "outputs": [
    {
     "data": {
      "text/plain": [
       "0.7606973058637084"
      ]
     },
     "execution_count": 75,
     "metadata": {},
     "output_type": "execute_result"
    }
   ],
   "source": [
    "result"
   ]
  }
 ],
 "metadata": {
  "interpreter": {
   "hash": "a5454afb7ffb1799ae1d6fe9b1ee82f9b07495275ac0b3d18cfab38f9bedde77"
  },
  "kernelspec": {
   "display_name": "Python 3.7.10 64-bit (conda)",
   "name": "python3"
  },
  "language_info": {
   "codemirror_mode": {
    "name": "ipython",
    "version": 3
   },
   "file_extension": ".py",
   "mimetype": "text/x-python",
   "name": "python",
   "nbconvert_exporter": "python",
   "pygments_lexer": "ipython3",
   "version": "3.7.10"
  },
  "metadata": {
   "interpreter": {
    "hash": "4e346eefb84b85ed2933f0901cea035b09f73c4b23b9936d1570bb3b1ee033d0"
   }
  },
  "orig_nbformat": 2
 },
 "nbformat": 4,
 "nbformat_minor": 2
}
