{
 "metadata": {
  "language_info": {
   "codemirror_mode": {
    "name": "ipython",
    "version": 3
   },
   "file_extension": ".py",
   "mimetype": "text/x-python",
   "name": "python",
   "nbconvert_exporter": "python",
   "pygments_lexer": "ipython3",
   "version": "3.7.10"
  },
  "orig_nbformat": 2,
  "kernelspec": {
   "name": "python3710jvsc74a57bd0a5454afb7ffb1799ae1d6fe9b1ee82f9b07495275ac0b3d18cfab38f9bedde77",
   "display_name": "Python 3.7.10 64-bit (conda)",
   "language": "python"
  }
 },
 "nbformat": 4,
 "nbformat_minor": 2,
 "cells": [
  {
   "cell_type": "code",
   "execution_count": 1,
   "metadata": {},
   "outputs": [],
   "source": [
    "import torch\n",
    "from torch import nn\n",
    "from importlib import reload\n",
    "import cv2\n",
    "import numpy as np \n",
    "import matplotlib.pyplot as plt\n",
    "import pandas as pd\n",
    "from tqdm import tqdm\n",
    "\n",
    "import albumentations\n",
    "from albumentations import augmentations\n",
    "import albumentations.pytorch"
   ]
  },
  {
   "cell_type": "code",
   "execution_count": 2,
   "metadata": {},
   "outputs": [],
   "source": [
    "root_folder = \"Image_Manipulation_Dataset\"\n",
    "def load_images(row):\n",
    "\n",
    "    image_patch, mask_patch, label, _, ela, root_dir = row\n",
    "\n",
    "    #------------- Load image, Ela, Mask -------------------------\n",
    "    image_path = os.path.join(root_folder, root_dir, image_patch)\n",
    "    ela_path = os.path.join(root_folder, root_dir, ela)\n",
    "\n",
    "    image = cv2.imread(image_path, cv2.IMREAD_COLOR)\n",
    "    ela_image = cv2.imread(ela_path, cv2.IMREAD_COLOR)\n",
    "\n",
    "    image = cv2.cvtColor(image, cv2.COLOR_BGR2RGB)\n",
    "    ela_image = cv2.cvtColor(ela_image, cv2.COLOR_BGR2RGB)\n",
    "\n",
    "    if not isinstance(mask_patch, str) and np.isnan(mask_patch):\n",
    "        mask_image = np.zeros((image.shape[0], image.shape[1])).astype('uint8')\n",
    "    else:\n",
    "        mask_path = os.path.join(root_folder, root_dir, mask_patch)\n",
    "        mask_image = cv2.imread(mask_path, cv2.IMREAD_GRAYSCALE)\n",
    "\n",
    "    if('NIST' in root_dir):\n",
    "        mask_image = 255 - mask_image\n",
    "\n",
    "    image = augmentations.geometric.functional.resize(image, 256, 256, cv2.INTER_AREA)\n",
    "    mask_image = augmentations.geometric.functional.resize(mask_image, 256, 256, cv2.INTER_AREA)\n",
    "    ela_image = augmentations.geometric.functional.resize(ela_image, 256, 256, cv2.INTER_AREA)\n",
    "\n",
    "    return image, ela_image, mask_image, label\n",
    "\n",
    "\n",
    "\n",
    "def get_tensors(image, ela_image, mask_image):\n",
    "\n",
    "    #---------------- Reshape & Normalize -----------------------\n",
    "    image = augmentations.geometric.functional.resize(image, 256, 256, cv2.INTER_AREA)\n",
    "    mask_image = augmentations.geometric.functional.resize(mask_image, 256, 256, cv2.INTER_AREA)\n",
    "    ela_image = augmentations.geometric.functional.resize(ela_image, 256, 256, cv2.INTER_AREA)\n",
    "\n",
    "    normalize = {\n",
    "        \"mean\": [0.4535408213875562, 0.42862278450748387, 0.41780105499276865],\n",
    "        \"std\": [0.2672804038612597, 0.2550410416463668, 0.29475415579144293],\n",
    "    }\n",
    "\n",
    "    transforms_normalize = albumentations.Compose(\n",
    "        [\n",
    "            albumentations.Normalize(mean=normalize['mean'], std=normalize['std'], always_apply=True, p=1),\n",
    "            albumentations.pytorch.transforms.ToTensorV2()\n",
    "        ],\n",
    "        additional_targets={'ela':'image'}\n",
    "    )\n",
    "\n",
    "    data = transforms_normalize(image=image, mask=mask_image, ela=ela_image)\n",
    "    image_tensor = data[\"image\"].unsqueeze(0)\n",
    "    mask_tensor = (data[\"mask\"] / 255.0).unsqueeze(0).unsqueeze(0)\n",
    "    ela_tensor = data[\"ela\"].unsqueeze(0)\n",
    "    \n",
    "    return image_tensor, ela_tensor, mask_tensor\n",
    "    "
   ]
  },
  {
   "cell_type": "code",
   "execution_count": 4,
   "metadata": {},
   "outputs": [],
   "source": [
    "def patch_func(img, ela, mask, patch_size):\n",
    "    d = img.shape\n",
    "    patches = []\n",
    "    coords = []\n",
    "    for i in range(0, d[0], patch_size):\n",
    "        for j in range(0, d[1], patch_size):\n",
    "            x = i + patch_size\n",
    "            y = j + patch_size\n",
    "            if x > d[0] or y > d[1]:\n",
    "                break\n",
    "            temp_img = img[i: x, j: y]\n",
    "            temp_ela = ela[i: x, j: y]\n",
    "            temp_mask = mask[i: x, j: y]\n",
    "            patches.append((temp_img, temp_mask, temp_ela))\n",
    "            coords.append((i, j))\n",
    "    return patches, coords"
   ]
  },
  {
   "cell_type": "code",
   "execution_count": 3,
   "metadata": {},
   "outputs": [
    {
     "output_type": "stream",
     "name": "stdout",
     "text": [
      "--------- SRM Frozen -----------\n",
      "--------- Loaded Checkpoint: weights/pretrain_[31|03_12|16|32].h5 ----------\n",
      "_IncompatibleKeys(missing_keys=['classifier.weight', 'classifier.bias'], unexpected_keys=[])\n"
     ]
    },
    {
     "output_type": "execute_result",
     "data": {
      "text/plain": [
       "<All keys matched successfully>"
      ]
     },
     "metadata": {},
     "execution_count": 3
    }
   ],
   "source": [
    "# from segmentation.merged_net_old import SRM_Classifer_Old\n",
    "from segmentation.timm_srm_unetpp import UnetPP\n",
    "from segmentation.merged_net import SRM_Classifer\n",
    "\n",
    "# torch.cuda.set_device(1)\n",
    "device = 'cuda'\n",
    "\n",
    "encoder = SRM_Classifer(encoder_checkpoint='weights/pretrain_[31|03_12|16|32].h5', freeze_encoder=True)\n",
    "model_256 = UnetPP(encoder, num_classes=1, layer='end')\n",
    "model_256 = nn.DataParallel(model_256).to(device)\n",
    "model_256.load_state_dict(torch.load('weights/(defacto+customloss)UnetPP_[29|04_21|04|41].h5'))\n",
    "\n",
    "# model_256 = SRM_Classifer()\n",
    "# model_256 = nn.DataParallel(model_256).to(device)\n",
    "# model_256.load_state_dict(torch.load('weights/(full+128)COMBO_ALL_FULL_[11|04_09|06|44].h5'))\n",
    "\n",
    "# model_128 = SRM_Classifer()\n",
    "# model_128 = nn.DataParallel(model_128).to(device)\n",
    "# model_128.load_state_dict(torch.load('best_weights/COMBO_ALL_128ChangedClass_[09|03_21|11|14].h5'))\n",
    "\n",
    "# model_64 = SRM_Classifer()\n",
    "# model_64 = nn.DataParallel(model_64).to(device)\n",
    "# model_64.load_state_dict(torch.load('best_weights/(Resume 22-35-18) COMBO_ALL_64ChangedClass_[11|03_18|46|12].h5'))"
   ]
  },
  {
   "cell_type": "code",
   "execution_count": 7,
   "metadata": {},
   "outputs": [],
   "source": [
    "def get_feat_preds(row):\n",
    "    model_256.eval()\n",
    "    # localizer_256.eval()\n",
    "    # model_128.eval()\n",
    "    # model_64.eval()\n",
    "    \n",
    "    with torch.no_grad():\n",
    "        image_256, ela_image_256, mask_image_256, label = load_images(row)\n",
    "        # features = []\n",
    "        predictions = []\n",
    "        masks = []\n",
    "\n",
    "        #--------- 256x256 ----------        \n",
    "        image_tensor_256, ela_tensor_256, mask_tensor_256 = get_tensors(image_256, ela_image_256, mask_image_256)\n",
    "        # out_mask_256 = localizer_256(image_tensor_256, ela_tensor_256)\n",
    "        # out_masks.append(torch.sigmoid(out_mask_256).cpu())\n",
    "        # target_masks.append(mask_tensor_256.cpu())\n",
    "        # outputs.clear()\n",
    "        pred_256, label_tensor = model_256(image_tensor_256.to(device), ela_tensor_256.to(device))\n",
    "        # features.append(inter_256.cpu().detach())\n",
    "        predictions.append(torch.sigmoid(pred_256.cpu().detach()))\n",
    "        masks.append(mask_tensor_256)\n",
    "\n",
    "        # #--------- 128x128 ----------\n",
    "        # patches_128, _ = patch_func(image_256, ela_image_256, mask_image_256, 128)\n",
    "        # for patch in patches_128:\n",
    "        #     image_128, mask_image_128, ela_image_128 = patch\n",
    "        #     image_tensor_128, ela_tensor_128, mask_tensor_128 = get_tensors(image_128, ela_image_128, mask_image_128)\n",
    "            \n",
    "        #     # outputs.clear()\n",
    "        #     pred_128, inter_128, _ = model_128(image_tensor_128.to(device), ela_tensor_128.to(device))\n",
    "        #     features.append(inter_128.cpu().detach())\n",
    "        #     predictions.append(torch.sigmoid(pred_128.cpu().detach()))\n",
    "        \n",
    "        # #--------- 64x64 ----------\n",
    "        # patches_64, _ = patch_func(image_256, ela_image_256, mask_image_256, 64)\n",
    "        # for patch in patches_64:\n",
    "        #     image_64, mask_image_64, ela_image_64 = patch\n",
    "        #     image_tensor_64, ela_tensor_64, mask_tensor_64 = get_tensors(image_64, ela_image_64, mask_image_64)\n",
    "            \n",
    "        #     # outputs.clear()\n",
    "        #     pred_64, inter_64, _ = model_64(image_tensor_64.to(device), ela_tensor_64.to(device))\n",
    "        #     features.append(inter_64.cpu().detach())\n",
    "        #     predictions.append(torch.sigmoid(pred_64.cpu().detach()))\n",
    "\n",
    "    return predictions, masks"
   ]
  },
  {
   "cell_type": "code",
   "execution_count": 5,
   "metadata": {},
   "outputs": [
    {
     "output_type": "stream",
     "name": "stdout",
     "text": [
      "NIST: real:0, fakes:388\n"
     ]
    }
   ],
   "source": [
    "\"CMFD, NIST, COVERAGE, CASIA, IMD\"\n",
    "\n",
    "def get_individual_test_df(dataframe, val):\n",
    "    test_df = dataframe[dataframe['root_dir'].str.contains(val)]\n",
    "    # test_df = dataframe[dataframe['label'] == 1]\n",
    "    test_df = test_df[test_df[\"fold\"].isin([1])]\n",
    "\n",
    "    print(\n",
    "        \"{}: real:{}, fakes:{}\".format(\n",
    "            val, len(test_df[test_df[\"label\"] == 0]), len(test_df[test_df[\"label\"] == 1])\n",
    "        )\n",
    "    )\n",
    "    return test_df.values\n",
    "\n",
    "def get_test_df_segment(dataframe, val):\n",
    "    test_df = dataframe[dataframe['root_dir'].str.contains(val)]\n",
    "    # test_df = test_df[test_df[\"fold\"].isin([1])]\n",
    "    test_df = test_df[test_df[\"label\"] == 1]\n",
    "\n",
    "    print(\n",
    "        \"{}: real:{}, fakes:{}\".format(\n",
    "            val, len(test_df[test_df[\"label\"] == 0]), len(test_df[test_df[\"label\"] == 1])\n",
    "        )\n",
    "    )\n",
    "    return test_df.values\n",
    "\n",
    "\n",
    "full_df = pd.read_csv('combo_all_FULL.csv')\n",
    "\n",
    "# casia_test = get_individual_test_df(full_df, \"CASIA\")\n",
    "# imd_test = get_individual_test_df(full_df, \"IMD\")\n",
    "# coverage_test = get_individual_test_df(full_df, \"COVERAGE\")\n",
    "# nist_test = get_individual_test_df(full_df, \"NIST\")\n",
    "nist_test = get_test_df_segment(full_df, \"NIST\")"
   ]
  },
  {
   "cell_type": "code",
   "execution_count": 24,
   "metadata": {},
   "outputs": [],
   "source": [
    "coverage_full = full_df[full_df['root_dir'].str.contains('COVERAGE')]\n",
    "coverage_full = coverage_full[coverage_full[\"label\"] == 1]\n",
    "\n",
    "nist_full = full_df[full_df['root_dir'].str.contains('NIST')]\n",
    "nist_full = nist_full[nist_full[\"label\"] == 1]"
   ]
  },
  {
   "cell_type": "code",
   "execution_count": 12,
   "metadata": {},
   "outputs": [
    {
     "output_type": "execute_result",
     "data": {
      "text/plain": [
       "1    100\n",
       "Name: label, dtype: int64"
      ]
     },
     "metadata": {},
     "execution_count": 12
    }
   ],
   "source": [
    "coverage_full.label.value_counts()"
   ]
  },
  {
   "source": [
    "## SVM Classifier"
   ],
   "cell_type": "markdown",
   "metadata": {}
  },
  {
   "cell_type": "code",
   "execution_count": 8,
   "metadata": {},
   "outputs": [],
   "source": [
    "def feat_pool(feat: torch.tensor, operation: str):\n",
    "    \"\"\"\n",
    "    Fuses the image's patches feature representation\n",
    "    :param feat: The network object\n",
    "    :param operation: Either max or mean for the pooling operation\n",
    "    :returns: The final 256-D feature representation of the entire image\n",
    "    \"\"\"\n",
    "    if operation == \"max\":\n",
    "        return feat.max(axis=0)\n",
    "    elif operation == \"mean\":\n",
    "        return feat.mean(axis=0)\n",
    "    else:\n",
    "        raise Exception(\"The operation can be either mean or max\")"
   ]
  },
  {
   "cell_type": "code",
   "execution_count": 25,
   "metadata": {},
   "outputs": [
    {
     "output_type": "stream",
     "name": "stderr",
     "text": [
      "100%|██████████| 388/388 [02:44<00:00,  2.36it/s]\n"
     ]
    }
   ],
   "source": [
    "testX = []\n",
    "testY = []\n",
    "predY = []\n",
    "\n",
    "for row in tqdm(nist_test):\n",
    "\n",
    "    predictions, masks = get_feat_preds(row)\n",
    "    \n",
    "    # features = torch.vstack(features)\n",
    "    # condensed_feature = feat_pool(features, \"mean\").numpy().reshape(1, -1)\n",
    "\n",
    "    # testX.append(condensed_feature)\n",
    "    testY.append(masks[0].squeeze())\n",
    "    # testY.append(row[2])  \n",
    "    predY.append(predictions[0].squeeze())"
   ]
  },
  {
   "cell_type": "code",
   "execution_count": 16,
   "metadata": {},
   "outputs": [
    {
     "output_type": "stream",
     "name": "stdout",
     "text": [
      "Test Accuracy: 0.8960317460317461\n"
     ]
    }
   ],
   "source": [
    "from sklearn.metrics import accuracy_score\n",
    "print(\"Test Accuracy:\", accuracy_score(np.array(testY), np.array(predY) >= 0.5))"
   ]
  },
  {
   "cell_type": "code",
   "execution_count": 26,
   "metadata": {},
   "outputs": [
    {
     "output_type": "stream",
     "name": "stderr",
     "text": [
      "388it [00:44,  8.66it/s]\n"
     ]
    },
    {
     "output_type": "execute_result",
     "data": {
      "text/plain": [
       "0.6336554071161458"
      ]
     },
     "metadata": {},
     "execution_count": 26
    }
   ],
   "source": [
    "from sklearn.metrics import roc_auc_score\n",
    "\n",
    "thrs = [0.0,0.1,0.15,0.2,0.25,0.3,0.35,0.4,0.45,0.5,0.55,0.6,0.65,0.7,0.75,0.8,0.85,0.9,0.95,1.0]\n",
    "\n",
    "sample = []\n",
    "auc, cnt = 0, 0\n",
    "for gt, pr in tqdm(zip(testY, predY)):\n",
    "    best, bt = -1, 0\n",
    "    for thr in thrs:\n",
    "        tmp = roc_auc_score(gt.numpy().ravel() >= 0.5, pr.numpy().ravel() >= thr)          \n",
    "        if tmp > best: \n",
    "            best = tmp\n",
    "            bt = thr\n",
    "    auc += best\n",
    "    cnt += 1\n",
    "    sample.append((pr, gt, bt))\n",
    "auc / cnt"
   ]
  },
  {
   "cell_type": "code",
   "execution_count": 40,
   "metadata": {},
   "outputs": [
    {
     "output_type": "display_data",
     "data": {
      "text/plain": "<Figure size 432x288 with 2 Axes>",
      "image/svg+xml": "<?xml version=\"1.0\" encoding=\"utf-8\" standalone=\"no\"?>\n<!DOCTYPE svg PUBLIC \"-//W3C//DTD SVG 1.1//EN\"\n  \"http://www.w3.org/Graphics/SVG/1.1/DTD/svg11.dtd\">\n<!-- Created with matplotlib (https://matplotlib.org/) -->\n<svg height=\"186.761932pt\" version=\"1.1\" viewBox=\"0 0 375.2875 186.761932\" width=\"375.2875pt\" xmlns=\"http://www.w3.org/2000/svg\" xmlns:xlink=\"http://www.w3.org/1999/xlink\">\n <metadata>\n  <rdf:RDF xmlns:cc=\"http://creativecommons.org/ns#\" xmlns:dc=\"http://purl.org/dc/elements/1.1/\" xmlns:rdf=\"http://www.w3.org/1999/02/22-rdf-syntax-ns#\">\n   <cc:Work>\n    <dc:type rdf:resource=\"http://purl.org/dc/dcmitype/StillImage\"/>\n    <dc:date>2021-05-03T04:10:38.138519</dc:date>\n    <dc:format>image/svg+xml</dc:format>\n    <dc:creator>\n     <cc:Agent>\n      <dc:title>Matplotlib v3.3.4, https://matplotlib.org/</dc:title>\n     </cc:Agent>\n    </dc:creator>\n   </cc:Work>\n  </rdf:RDF>\n </metadata>\n <defs>\n  <style type=\"text/css\">*{stroke-linecap:butt;stroke-linejoin:round;}</style>\n </defs>\n <g id=\"figure_1\">\n  <g id=\"patch_1\">\n   <path d=\"M 0 186.761932 \nL 375.2875 186.761932 \nL 375.2875 0 \nL 0 0 \nz\n\" style=\"fill:none;\"/>\n  </g>\n  <g id=\"axes_1\">\n   <g id=\"patch_2\">\n    <path d=\"M 33.2875 162.883807 \nL 185.469318 162.883807 \nL 185.469318 10.701989 \nL 33.2875 10.701989 \nz\n\" style=\"fill:#ffffff;\"/>\n   </g>\n   <g clip-path=\"url(#p67d4eb6428)\">\n    <image height=\"153\" id=\"image2819737af1\" transform=\"scale(1 -1)translate(0 -153)\" width=\"153\" x=\"33.2875\" xlink:href=\"data:image/png;base64,\niVBORw0KGgoAAAANSUhEUgAAAJkAAACZCAYAAAA8XJi6AAAIe0lEQVR4nO3d20sU/x/H8dccnF0Puy5mouCpA9hBO0lFIFgohVAQRJBFV0HQXf0D3Rd0003YP2BCN9JNWrcmRdFFBplLth5CazVRd9U9zOd38S2xfsZXv+3bz+7s6wEDBVHvmZ47O87MzhoAFIgEmboHIO9jZCSOkZE4RkbiGBmJY2QkjpGROEZG4hgZiWNkJI6RkThGRuIYGYljZCSOkZE4RkbiGBmJY2QkjpGROEZG4hgZiWNkJI6RkThGRuIYGYljZCSOkZE4RkbiGBmJY2QkjpGROEZG4hgZiWNkJI6RkThGRuIYGYljZCSOkZE4RkbiGBmJY2QkjpGROEZG4hgZiWNkJI6RkThGRuIYGYljZCSOkZE4RkbiGBmJY2QkjpGROEZG4hgZiWNkJI6RkThGRuIYGYljZCSOkZE4RkbiGBmJY2QkjpGROEZG4hgZiWNkJI6RkThGRuIYGYljZCSOkZE4RkbiGBmJY2QkjpGROEZG4hgZibN1D6CLYRirv1ZKaZzE+/J6T7Y2NJKTl3sywzBg2zYcx0EikUAqlfq/P7Pe3s3v98O2bSilYBgG4vE4TNOEUgqu63KP+Ad5FZlhGLAsCz6fD3V1dWhoaMDIyAjGx8fhOA4AIBgMwrZtzM3NIRaLQSkF27YRDAbR0tKCQCCAZDKJsrIyvHnzBuXl5Zifn0c4HMbc3BzS6fRqcGvjS6fTSKVSeRli3kRmWRYCgQDq6+tRX1+Pjo4ONDc3IxwOY2hoCFVVVUilUtixYweqqqqQTCYxPz8P27ZRXl6OUCiEsrIyWJYF13Vh2zZWVlZWf7+8vIxEIrH675mmuRqY67qIRCJ48OAB+vr68P37d41bYusZADz/0goEAmhqakJbWxtOnjyJqqoq1NTUoKioCKlUCsvLy6t7Mtu2YVkWgF/fMg3D+OtjuImJCdy+fRvd3d1YXl7+q78r1ygvL5WVlerevXtqfHxcxeNxlU6nleu6SoeVlRX1/PlzdeDAAWVZlvZts4WL9gHEFsuy1PXr19XCwoKWqH7nuq6KRqPq1q1bKhQKKcMwtG+jrVg8fQrD5/Ph8OHDKCws1D0KgH/eckOhEK5cuYLOzk5UVFTkxWkUTx/4l5WV4eDBgzDN7HktWZaF5uZmNDQ0oLa2Fnfu3MHi4uK6p1G8Inu2voBdu3ahrq4uK/cWJSUluHDhAlpaWlBdXY3S0tKsejFkkmf3ZIZhoKGhAdu2bdM9yh/V1tbixo0bmJ6exocPH/Dw4UPMzc3pHivjPBuZaZqoqalZPTWRjXw+H9rb2wEA09PTePr0qScj8+b+GUBBQQGampqy8q1yLcdx4DgOqqurcfHiRd3jiPBsZI7jYN++fbrH2DDDMNDR0eHJ4zLvrdEPpmkiEAjoHmNTbNtGQUGB7jEyzrORqRy8EF1QUICioiLdY2ScZyMDgGQyqXuETdm+fTv27t2re4yM83Rkuca2bfh8Pt1jZJynI8u145tUKvXL7UJe4dnIDMPI6nNk63Ech8dkueTnXbC5xDTNnHthbIRnIwOQc+ecXNf15IXy3Ppf2CTXdXWPsCmmaebcC2MjvLdGa+TauTLDMBgZyfL7/QiFQrrHyDhPR5btF8d/Z1kW/H6/7jEyjpFlkVybd6M8G1muHt9sduaf65nNgXr2psV8oX58Uj2b5d5LfYNyYeOvJxdn/jeejQzIvbsw0uk0r13mkqWlJfT09GBmZkb3KBs2MzODjx8/6h4j4zz9LIzCwkIcO3YMV69exdGjR+E4DsrKyuA4DkpLS7PuYDkcDqO9vR2RSET3KBmn/WPs0ott28rn8ym/36+Ki4tVY2OjGh0d1fe8gj+YmZlRp06d0r69Mr791+/OW1Kp1C8Xnj9//ozFxUWNE60vEAigsrJS9xgZ59ljsj8xDAOVlZUoKSnJup/keKuPh8TjcSwtLWXdXRrJZBKxWEz3GBmXd5EppRCNRvHlyxesrKzoHucXiUSCkXmFz+dDUVFR1t056zgOSkpKdI+RcXkXmWmaOH78OHbv3p11xz+8M9YjTNNEKBRafVR6tnBdFxMTExgdHdU9SsblxSmMtdLpNAYHB/H+/Xvs379f63PBUqkUBgcHMTs7i4GBAbx69QpDQ0NaZpGUd5EppTA1NYXe3l7E43GcOHFC2zMzYrEYurq6MDAwgMnJyZy71rpReRcZ8M/erL+/H2NjY0in0zh9+rSWHwIcx8Hy8jJmZmY8eSz2U15GBgDDw8OIRCKYnJxEfX29lmdQRKNRDA8PY3FxMauODyVov7alYzEMQ5mmqfx+v+rs7FSfPn3a8muVvb29KhAIaN8WW7BoH0D74jiOOnPmzJZeNJ+fn1ctLS3a152RbXFo586dU+/evVOJREI8sv7+flVcXKx9vRnZFi+2bavGxkZ19+5dNTU1JRaY67rq5s2befONJIzst8U0TRUMBtX58+fV69evM/Y9TIlEQg0ODqq+vj71+PFjtWfPHu3rysg0L7Ztq0OHDqmuri719u1bFYvF/tMea3Z2VoXDYdXT06OqqqpUMBhUpaWl2tdvKxdP336dCT/v8bp06RKuXbuGI0eOwO/3//Eqgfpxl8fLly8RjUbR3d2NFy9eYGVlxbMnW/8NI9sg0zRRUVGBnTt34uzZs7h8+TJqamp+iU0phUgkgvv37+PJkycwTRNjY2N5992Wv8vbk7Gb5boupqam8PXrV4yMjCASiaCtrQ2tra2rn/GMRqN49OgRnj17hsnJSbium7d7r7W4J/sPTNOE3+9HIBBAa2srFhYWkEgk8O3bN4yMjCCRSCCdTuseM2swsr9kmmbOflp9qzAyEpd3Ny3S1mNkJI6RkThGRuIYGYljZCSOkZE4RkbiGBmJY2QkjpGROEZG4hgZifsf8f6AtCuBVlEAAAAASUVORK5CYII=\" y=\"-9.883807\"/>\n   </g>\n   <g id=\"matplotlib.axis_1\">\n    <g id=\"xtick_1\">\n     <g id=\"line2d_1\">\n      <defs>\n       <path d=\"M 0 0 \nL 0 3.5 \n\" id=\"md45671e951\" style=\"stroke:#000000;stroke-width:0.8;\"/>\n      </defs>\n      <g>\n       <use style=\"stroke:#000000;stroke-width:0.8;\" x=\"33.58473\" xlink:href=\"#md45671e951\" y=\"162.883807\"/>\n      </g>\n     </g>\n     <g id=\"text_1\">\n      <!-- 0 -->\n      <g transform=\"translate(30.40348 177.482244)scale(0.1 -0.1)\">\n       <defs>\n        <path d=\"M 31.78125 66.40625 \nQ 24.171875 66.40625 20.328125 58.90625 \nQ 16.5 51.421875 16.5 36.375 \nQ 16.5 21.390625 20.328125 13.890625 \nQ 24.171875 6.390625 31.78125 6.390625 \nQ 39.453125 6.390625 43.28125 13.890625 \nQ 47.125 21.390625 47.125 36.375 \nQ 47.125 51.421875 43.28125 58.90625 \nQ 39.453125 66.40625 31.78125 66.40625 \nz\nM 31.78125 74.21875 \nQ 44.046875 74.21875 50.515625 64.515625 \nQ 56.984375 54.828125 56.984375 36.375 \nQ 56.984375 17.96875 50.515625 8.265625 \nQ 44.046875 -1.421875 31.78125 -1.421875 \nQ 19.53125 -1.421875 13.0625 8.265625 \nQ 6.59375 17.96875 6.59375 36.375 \nQ 6.59375 54.828125 13.0625 64.515625 \nQ 19.53125 74.21875 31.78125 74.21875 \nz\n\" id=\"DejaVuSans-48\"/>\n       </defs>\n       <use xlink:href=\"#DejaVuSans-48\"/>\n      </g>\n     </g>\n    </g>\n    <g id=\"xtick_2\">\n     <g id=\"line2d_2\">\n      <g>\n       <use style=\"stroke:#000000;stroke-width:0.8;\" x=\"93.030753\" xlink:href=\"#md45671e951\" y=\"162.883807\"/>\n      </g>\n     </g>\n     <g id=\"text_2\">\n      <!-- 100 -->\n      <g transform=\"translate(83.487003 177.482244)scale(0.1 -0.1)\">\n       <defs>\n        <path d=\"M 12.40625 8.296875 \nL 28.515625 8.296875 \nL 28.515625 63.921875 \nL 10.984375 60.40625 \nL 10.984375 69.390625 \nL 28.421875 72.90625 \nL 38.28125 72.90625 \nL 38.28125 8.296875 \nL 54.390625 8.296875 \nL 54.390625 0 \nL 12.40625 0 \nz\n\" id=\"DejaVuSans-49\"/>\n       </defs>\n       <use xlink:href=\"#DejaVuSans-49\"/>\n       <use x=\"63.623047\" xlink:href=\"#DejaVuSans-48\"/>\n       <use x=\"127.246094\" xlink:href=\"#DejaVuSans-48\"/>\n      </g>\n     </g>\n    </g>\n    <g id=\"xtick_3\">\n     <g id=\"line2d_3\">\n      <g>\n       <use style=\"stroke:#000000;stroke-width:0.8;\" x=\"152.476776\" xlink:href=\"#md45671e951\" y=\"162.883807\"/>\n      </g>\n     </g>\n     <g id=\"text_3\">\n      <!-- 200 -->\n      <g transform=\"translate(142.933026 177.482244)scale(0.1 -0.1)\">\n       <defs>\n        <path d=\"M 19.1875 8.296875 \nL 53.609375 8.296875 \nL 53.609375 0 \nL 7.328125 0 \nL 7.328125 8.296875 \nQ 12.9375 14.109375 22.625 23.890625 \nQ 32.328125 33.6875 34.8125 36.53125 \nQ 39.546875 41.84375 41.421875 45.53125 \nQ 43.3125 49.21875 43.3125 52.78125 \nQ 43.3125 58.59375 39.234375 62.25 \nQ 35.15625 65.921875 28.609375 65.921875 \nQ 23.96875 65.921875 18.8125 64.3125 \nQ 13.671875 62.703125 7.8125 59.421875 \nL 7.8125 69.390625 \nQ 13.765625 71.78125 18.9375 73 \nQ 24.125 74.21875 28.421875 74.21875 \nQ 39.75 74.21875 46.484375 68.546875 \nQ 53.21875 62.890625 53.21875 53.421875 \nQ 53.21875 48.921875 51.53125 44.890625 \nQ 49.859375 40.875 45.40625 35.40625 \nQ 44.1875 33.984375 37.640625 27.21875 \nQ 31.109375 20.453125 19.1875 8.296875 \nz\n\" id=\"DejaVuSans-50\"/>\n       </defs>\n       <use xlink:href=\"#DejaVuSans-50\"/>\n       <use x=\"63.623047\" xlink:href=\"#DejaVuSans-48\"/>\n       <use x=\"127.246094\" xlink:href=\"#DejaVuSans-48\"/>\n      </g>\n     </g>\n    </g>\n   </g>\n   <g id=\"matplotlib.axis_2\">\n    <g id=\"ytick_1\">\n     <g id=\"line2d_4\">\n      <defs>\n       <path d=\"M 0 0 \nL -3.5 0 \n\" id=\"mfdc42a3209\" style=\"stroke:#000000;stroke-width:0.8;\"/>\n      </defs>\n      <g>\n       <use style=\"stroke:#000000;stroke-width:0.8;\" x=\"33.2875\" xlink:href=\"#mfdc42a3209\" y=\"10.999219\"/>\n      </g>\n     </g>\n     <g id=\"text_4\">\n      <!-- 0 -->\n      <g transform=\"translate(19.925 14.798437)scale(0.1 -0.1)\">\n       <use xlink:href=\"#DejaVuSans-48\"/>\n      </g>\n     </g>\n    </g>\n    <g id=\"ytick_2\">\n     <g id=\"line2d_5\">\n      <g>\n       <use style=\"stroke:#000000;stroke-width:0.8;\" x=\"33.2875\" xlink:href=\"#mfdc42a3209\" y=\"40.72223\"/>\n      </g>\n     </g>\n     <g id=\"text_5\">\n      <!-- 50 -->\n      <g transform=\"translate(13.5625 44.521449)scale(0.1 -0.1)\">\n       <defs>\n        <path d=\"M 10.796875 72.90625 \nL 49.515625 72.90625 \nL 49.515625 64.59375 \nL 19.828125 64.59375 \nL 19.828125 46.734375 \nQ 21.96875 47.46875 24.109375 47.828125 \nQ 26.265625 48.1875 28.421875 48.1875 \nQ 40.625 48.1875 47.75 41.5 \nQ 54.890625 34.8125 54.890625 23.390625 \nQ 54.890625 11.625 47.5625 5.09375 \nQ 40.234375 -1.421875 26.90625 -1.421875 \nQ 22.3125 -1.421875 17.546875 -0.640625 \nQ 12.796875 0.140625 7.71875 1.703125 \nL 7.71875 11.625 \nQ 12.109375 9.234375 16.796875 8.0625 \nQ 21.484375 6.890625 26.703125 6.890625 \nQ 35.15625 6.890625 40.078125 11.328125 \nQ 45.015625 15.765625 45.015625 23.390625 \nQ 45.015625 31 40.078125 35.4375 \nQ 35.15625 39.890625 26.703125 39.890625 \nQ 22.75 39.890625 18.8125 39.015625 \nQ 14.890625 38.140625 10.796875 36.28125 \nz\n\" id=\"DejaVuSans-53\"/>\n       </defs>\n       <use xlink:href=\"#DejaVuSans-53\"/>\n       <use x=\"63.623047\" xlink:href=\"#DejaVuSans-48\"/>\n      </g>\n     </g>\n    </g>\n    <g id=\"ytick_3\">\n     <g id=\"line2d_6\">\n      <g>\n       <use style=\"stroke:#000000;stroke-width:0.8;\" x=\"33.2875\" xlink:href=\"#mfdc42a3209\" y=\"70.445241\"/>\n      </g>\n     </g>\n     <g id=\"text_6\">\n      <!-- 100 -->\n      <g transform=\"translate(7.2 74.24446)scale(0.1 -0.1)\">\n       <use xlink:href=\"#DejaVuSans-49\"/>\n       <use x=\"63.623047\" xlink:href=\"#DejaVuSans-48\"/>\n       <use x=\"127.246094\" xlink:href=\"#DejaVuSans-48\"/>\n      </g>\n     </g>\n    </g>\n    <g id=\"ytick_4\">\n     <g id=\"line2d_7\">\n      <g>\n       <use style=\"stroke:#000000;stroke-width:0.8;\" x=\"33.2875\" xlink:href=\"#mfdc42a3209\" y=\"100.168253\"/>\n      </g>\n     </g>\n     <g id=\"text_7\">\n      <!-- 150 -->\n      <g transform=\"translate(7.2 103.967472)scale(0.1 -0.1)\">\n       <use xlink:href=\"#DejaVuSans-49\"/>\n       <use x=\"63.623047\" xlink:href=\"#DejaVuSans-53\"/>\n       <use x=\"127.246094\" xlink:href=\"#DejaVuSans-48\"/>\n      </g>\n     </g>\n    </g>\n    <g id=\"ytick_5\">\n     <g id=\"line2d_8\">\n      <g>\n       <use style=\"stroke:#000000;stroke-width:0.8;\" x=\"33.2875\" xlink:href=\"#mfdc42a3209\" y=\"129.891264\"/>\n      </g>\n     </g>\n     <g id=\"text_8\">\n      <!-- 200 -->\n      <g transform=\"translate(7.2 133.690483)scale(0.1 -0.1)\">\n       <use xlink:href=\"#DejaVuSans-50\"/>\n       <use x=\"63.623047\" xlink:href=\"#DejaVuSans-48\"/>\n       <use x=\"127.246094\" xlink:href=\"#DejaVuSans-48\"/>\n      </g>\n     </g>\n    </g>\n    <g id=\"ytick_6\">\n     <g id=\"line2d_9\">\n      <g>\n       <use style=\"stroke:#000000;stroke-width:0.8;\" x=\"33.2875\" xlink:href=\"#mfdc42a3209\" y=\"159.614276\"/>\n      </g>\n     </g>\n     <g id=\"text_9\">\n      <!-- 250 -->\n      <g transform=\"translate(7.2 163.413494)scale(0.1 -0.1)\">\n       <use xlink:href=\"#DejaVuSans-50\"/>\n       <use x=\"63.623047\" xlink:href=\"#DejaVuSans-53\"/>\n       <use x=\"127.246094\" xlink:href=\"#DejaVuSans-48\"/>\n      </g>\n     </g>\n    </g>\n   </g>\n   <g id=\"patch_3\">\n    <path d=\"M 33.2875 162.883807 \nL 33.2875 10.701989 \n\" style=\"fill:none;stroke:#000000;stroke-linecap:square;stroke-linejoin:miter;stroke-width:0.8;\"/>\n   </g>\n   <g id=\"patch_4\">\n    <path d=\"M 185.469318 162.883807 \nL 185.469318 10.701989 \n\" style=\"fill:none;stroke:#000000;stroke-linecap:square;stroke-linejoin:miter;stroke-width:0.8;\"/>\n   </g>\n   <g id=\"patch_5\">\n    <path d=\"M 33.2875 162.883807 \nL 185.469318 162.883807 \n\" style=\"fill:none;stroke:#000000;stroke-linecap:square;stroke-linejoin:miter;stroke-width:0.8;\"/>\n   </g>\n   <g id=\"patch_6\">\n    <path d=\"M 33.2875 10.701989 \nL 185.469318 10.701989 \n\" style=\"fill:none;stroke:#000000;stroke-linecap:square;stroke-linejoin:miter;stroke-width:0.8;\"/>\n   </g>\n  </g>\n  <g id=\"axes_2\">\n   <g id=\"patch_7\">\n    <path d=\"M 215.905682 162.883807 \nL 368.0875 162.883807 \nL 368.0875 10.701989 \nL 215.905682 10.701989 \nz\n\" style=\"fill:#ffffff;\"/>\n   </g>\n   <g clip-path=\"url(#pc24f9a13d1)\">\n    <image height=\"153\" id=\"image55839794a8\" transform=\"scale(1 -1)translate(0 -153)\" width=\"153\" x=\"215.905682\" xlink:href=\"data:image/png;base64,\niVBORw0KGgoAAAANSUhEUgAAAJkAAACZCAYAAAA8XJi6AAAGwklEQVR4nO3dv2sUaxTG8fPOO5vN7o6RNckY1GgqjWiaBcVCUghaaScEwU7/gTSKjQiihWAXVjRoEUlnLyIIIljYaRdkA0oUgyGomzWTndk5t8hNuF68aq5z8s77+nzggFU8u3yZ3Zn9pYiICUCQZ3oBcB8iA3GIDMQhMhCHyEAcIgNxiAzEITIQh8hAHCIDcYgMxCEyEIfIQBwiA3GIDMQhMhCHyEAcIgNxiAzEITIQh8hAHCIDcYgMxCEyEIfIQBwiA3GIDMQhMhCHyEAcIgNxiAzEITIQh8hAHCIDcYgMxCEyEIfIQBwiA3GIDMQhMhCHyEAcIgNxiAzEITIQh8hAHCIDcYgMxCEyEIfIQBwiA3GIDMQhMhCHyEAcIgNxiAzEITIQh8hAHCIDcYgMxCEyEIfIQBwiA3GIDMQhMhCHyEAcIgNxiAzEITIQh8hAHCIDcYgMxCEyEIfIQBwiA3GIDMQhMhCHyEAcIgNxvukFXKWUIs/zSClFnU6HmNn0SsYgsgwFQUDDw8O0f/9+OnDgAB06dIh2795NExMTdPv2bYqiyPSKxjDm96ZQKPDhw4f5wYMH/OHDB07TlP/p8+fPfOnSJQ6CwPiuhsb4AlZPGIZ8+fJl/vjxI/9IFEV879493r59u/GdDYzxBaycQqHAx48f5+fPn3O73f5hYGuSJOEnT57w0aNHv/s3i8Uie55n/LZlPervfzipr6+PwjCkKIqo3W5Tp9OhNE2JmSlJEiJafYKutSalFCmlyPd9UkpRoVCgIAiov7+f+vv7KQxD2rFjB4VhSFu3bqVqtUojIyPU19e34b3evn1Ljx8/pq9fv5LWmqrVKm3bto2Wlpbo4sWL1Gg0sr4rjHI2MqUUXbhwga5du0bLy8v06dMnarVaFMcxJUlCS0tLRETkeR4FQUCe55Hv+1SpVEhrTT09PVQul0kp9c3flDQ7O0vHjh2jN2/eiP4/m835s0utNQVBQEEQmF7lp1qtFi0sLJheI3POXoxlZlpeXja9xoY0m01qtVqm18ics5EREaVpanqFDalWq7Rz507Ta2TO6chss3fvXrp58yYNDAyYXiVTTke2srJi1dFMa02nT5+mO3fu0L59+0yvkxmnI0uSxLrXDLXWdOrUKZqamqJarWZ6nUw4HZnNarUanT17lnzf/gsA9t+CH2Bm645kSZLQ69ev6e7duzQ9Pb1+0dhmTkcWRRElSWLN0WBubo7q9TpNTU3Ru3fvTK+TGTvu/T/EjRs3qF6vU6fTMb1KpvCcLEeiKHIuMCLHI7Pt+VilUjG9gginI1t7TmaL7u5u0yuIcDqylZUVqx5+SqWS6RVEOB2ZbR/gwMMliMORDMThSGahOI6teoG8WCyaXkEEIssRG969+384HZlttmzZYnoFEU5HZtslDFwns5Bt7yfr6uoS/0SUCU5HRmTXS0taayef/DsdWRzHVj1cep5HXV1dptfInNOR2fZw6fs+IgNZWmtEZhvbrpP5vu/kGabTkSVJYlVkxWKRenp6TK+ROafffr24uEiTk5Pr377zX2du5XKZRkZGjJ/ZuXokI8rB91eZnuHhYZ6dnf2l7xiTtLCwwKOjo8bvj6zH6YfLjcjDWajWmgqFguk1MofIcgRnlw5LkiQXnwVAZA5L0zQXkXmeh4dLV+XlMofv+8bPcCUgMlr9wEm73Ta9Bvm+T+Vy2fQamUNktHoky9PRzDWILGcqlYpz7ylDZLR6jSwvR7J/f627CxAZrX7r9NzcnPELssy8/styrjH+skMeZmhoiCcnJ/nLly9GXlJqNBp85coVHhgYMH5fCIzxBXIzpVKJx8bG+OXLl9zpdMTDStOU5+fnuV6v88GDB1lrbfw+QGSbNHv27OFbt25xs9kUC6zVavH9+/f5yJEjTv5oFyL7henu7uaTJ0/ys2fPMj2qLS4ursdVLpeN305EloPZtWsXX79+nefn538rrmazyQ8fPuQTJ05wqVQyfrs2eYwvkPtRSvHo6Cg/evSIkyTZUFxJkvDTp095bGzsT4xrbYwvYM309vby+Pg4NxqNn8YVxzG/ePGCz507x729vayUMr6/wTG+gFWjlOJarcbT09PfPTGI45hnZmZ4fHycBwcHje+bkzG+gJVTLBb5zJkz/OrVK07TlNM05ffv3/PVq1d5aGjoTz9yfTPO/nLvZlBK0eDgIJ0/f57CMKSJiQmamZmhOI5Nr5YriCwDa79jnoc3PuYRIgNxeIEcxCEyEIfIQBwiA3GIDMQhMhCHyEAcIgNxiAzEITIQh8hAHCIDcYgMxCEyEIfIQNxfO8Sqwyds+8gAAAAASUVORK5CYII=\" y=\"-9.883807\"/>\n   </g>\n   <g id=\"matplotlib.axis_3\">\n    <g id=\"xtick_4\">\n     <g id=\"line2d_10\">\n      <g>\n       <use style=\"stroke:#000000;stroke-width:0.8;\" x=\"216.202912\" xlink:href=\"#md45671e951\" y=\"162.883807\"/>\n      </g>\n     </g>\n     <g id=\"text_10\">\n      <!-- 0 -->\n      <g transform=\"translate(213.021662 177.482244)scale(0.1 -0.1)\">\n       <use xlink:href=\"#DejaVuSans-48\"/>\n      </g>\n     </g>\n    </g>\n    <g id=\"xtick_5\">\n     <g id=\"line2d_11\">\n      <g>\n       <use style=\"stroke:#000000;stroke-width:0.8;\" x=\"275.648935\" xlink:href=\"#md45671e951\" y=\"162.883807\"/>\n      </g>\n     </g>\n     <g id=\"text_11\">\n      <!-- 100 -->\n      <g transform=\"translate(266.105185 177.482244)scale(0.1 -0.1)\">\n       <use xlink:href=\"#DejaVuSans-49\"/>\n       <use x=\"63.623047\" xlink:href=\"#DejaVuSans-48\"/>\n       <use x=\"127.246094\" xlink:href=\"#DejaVuSans-48\"/>\n      </g>\n     </g>\n    </g>\n    <g id=\"xtick_6\">\n     <g id=\"line2d_12\">\n      <g>\n       <use style=\"stroke:#000000;stroke-width:0.8;\" x=\"335.094957\" xlink:href=\"#md45671e951\" y=\"162.883807\"/>\n      </g>\n     </g>\n     <g id=\"text_12\">\n      <!-- 200 -->\n      <g transform=\"translate(325.551207 177.482244)scale(0.1 -0.1)\">\n       <use xlink:href=\"#DejaVuSans-50\"/>\n       <use x=\"63.623047\" xlink:href=\"#DejaVuSans-48\"/>\n       <use x=\"127.246094\" xlink:href=\"#DejaVuSans-48\"/>\n      </g>\n     </g>\n    </g>\n   </g>\n   <g id=\"matplotlib.axis_4\">\n    <g id=\"ytick_7\">\n     <g id=\"line2d_13\">\n      <g>\n       <use style=\"stroke:#000000;stroke-width:0.8;\" x=\"215.905682\" xlink:href=\"#mfdc42a3209\" y=\"10.999219\"/>\n      </g>\n     </g>\n     <g id=\"text_13\">\n      <!-- 0 -->\n      <g transform=\"translate(202.543182 14.798437)scale(0.1 -0.1)\">\n       <use xlink:href=\"#DejaVuSans-48\"/>\n      </g>\n     </g>\n    </g>\n    <g id=\"ytick_8\">\n     <g id=\"line2d_14\">\n      <g>\n       <use style=\"stroke:#000000;stroke-width:0.8;\" x=\"215.905682\" xlink:href=\"#mfdc42a3209\" y=\"40.72223\"/>\n      </g>\n     </g>\n     <g id=\"text_14\">\n      <!-- 50 -->\n      <g transform=\"translate(196.180682 44.521449)scale(0.1 -0.1)\">\n       <use xlink:href=\"#DejaVuSans-53\"/>\n       <use x=\"63.623047\" xlink:href=\"#DejaVuSans-48\"/>\n      </g>\n     </g>\n    </g>\n    <g id=\"ytick_9\">\n     <g id=\"line2d_15\">\n      <g>\n       <use style=\"stroke:#000000;stroke-width:0.8;\" x=\"215.905682\" xlink:href=\"#mfdc42a3209\" y=\"70.445241\"/>\n      </g>\n     </g>\n     <g id=\"text_15\">\n      <!-- 100 -->\n      <g transform=\"translate(189.818182 74.24446)scale(0.1 -0.1)\">\n       <use xlink:href=\"#DejaVuSans-49\"/>\n       <use x=\"63.623047\" xlink:href=\"#DejaVuSans-48\"/>\n       <use x=\"127.246094\" xlink:href=\"#DejaVuSans-48\"/>\n      </g>\n     </g>\n    </g>\n    <g id=\"ytick_10\">\n     <g id=\"line2d_16\">\n      <g>\n       <use style=\"stroke:#000000;stroke-width:0.8;\" x=\"215.905682\" xlink:href=\"#mfdc42a3209\" y=\"100.168253\"/>\n      </g>\n     </g>\n     <g id=\"text_16\">\n      <!-- 150 -->\n      <g transform=\"translate(189.818182 103.967472)scale(0.1 -0.1)\">\n       <use xlink:href=\"#DejaVuSans-49\"/>\n       <use x=\"63.623047\" xlink:href=\"#DejaVuSans-53\"/>\n       <use x=\"127.246094\" xlink:href=\"#DejaVuSans-48\"/>\n      </g>\n     </g>\n    </g>\n    <g id=\"ytick_11\">\n     <g id=\"line2d_17\">\n      <g>\n       <use style=\"stroke:#000000;stroke-width:0.8;\" x=\"215.905682\" xlink:href=\"#mfdc42a3209\" y=\"129.891264\"/>\n      </g>\n     </g>\n     <g id=\"text_17\">\n      <!-- 200 -->\n      <g transform=\"translate(189.818182 133.690483)scale(0.1 -0.1)\">\n       <use xlink:href=\"#DejaVuSans-50\"/>\n       <use x=\"63.623047\" xlink:href=\"#DejaVuSans-48\"/>\n       <use x=\"127.246094\" xlink:href=\"#DejaVuSans-48\"/>\n      </g>\n     </g>\n    </g>\n    <g id=\"ytick_12\">\n     <g id=\"line2d_18\">\n      <g>\n       <use style=\"stroke:#000000;stroke-width:0.8;\" x=\"215.905682\" xlink:href=\"#mfdc42a3209\" y=\"159.614276\"/>\n      </g>\n     </g>\n     <g id=\"text_18\">\n      <!-- 250 -->\n      <g transform=\"translate(189.818182 163.413494)scale(0.1 -0.1)\">\n       <use xlink:href=\"#DejaVuSans-50\"/>\n       <use x=\"63.623047\" xlink:href=\"#DejaVuSans-53\"/>\n       <use x=\"127.246094\" xlink:href=\"#DejaVuSans-48\"/>\n      </g>\n     </g>\n    </g>\n   </g>\n   <g id=\"patch_8\">\n    <path d=\"M 215.905682 162.883807 \nL 215.905682 10.701989 \n\" style=\"fill:none;stroke:#000000;stroke-linecap:square;stroke-linejoin:miter;stroke-width:0.8;\"/>\n   </g>\n   <g id=\"patch_9\">\n    <path d=\"M 368.0875 162.883807 \nL 368.0875 10.701989 \n\" style=\"fill:none;stroke:#000000;stroke-linecap:square;stroke-linejoin:miter;stroke-width:0.8;\"/>\n   </g>\n   <g id=\"patch_10\">\n    <path d=\"M 215.905682 162.883807 \nL 368.0875 162.883807 \n\" style=\"fill:none;stroke:#000000;stroke-linecap:square;stroke-linejoin:miter;stroke-width:0.8;\"/>\n   </g>\n   <g id=\"patch_11\">\n    <path d=\"M 215.905682 10.701989 \nL 368.0875 10.701989 \n\" style=\"fill:none;stroke:#000000;stroke-linecap:square;stroke-linejoin:miter;stroke-width:0.8;\"/>\n   </g>\n  </g>\n </g>\n <defs>\n  <clipPath id=\"p67d4eb6428\">\n   <rect height=\"152.181818\" width=\"152.181818\" x=\"33.2875\" y=\"10.701989\"/>\n  </clipPath>\n  <clipPath id=\"pc24f9a13d1\">\n   <rect height=\"152.181818\" width=\"152.181818\" x=\"215.905682\" y=\"10.701989\"/>\n  </clipPath>\n </defs>\n</svg>\n",
      "image/png": "[encoded data removed]"
     },
     "metadata": {
      "needs_background": "light"
     }
    }
   ],
   "source": [
    "pr, gt, bt = sample[55]\n",
    "plt.subplot(1,2,1)\n",
    "plt.imshow(pr, cmap='gray')\n",
    "plt.subplot(1,2,2)\n",
    "plt.imshow(gt, cmap='gray')\n",
    "plt.show()"
   ]
  },
  {
   "cell_type": "code",
   "execution_count": 25,
   "metadata": {},
   "outputs": [
    {
     "output_type": "execute_result",
     "data": {
      "text/plain": [
       "array([0.        , 0.05263158, 0.10526316, 0.15789474, 0.21052632,\n",
       "       0.26315789, 0.31578947, 0.36842105, 0.42105263, 0.47368421,\n",
       "       0.52631579, 0.57894737, 0.63157895, 0.68421053, 0.73684211,\n",
       "       0.78947368, 0.84210526, 0.89473684, 0.94736842, 1.        ])"
      ]
     },
     "metadata": {},
     "execution_count": 25
    }
   ],
   "source": []
  },
  {
   "cell_type": "code",
   "execution_count": 90,
   "metadata": {},
   "outputs": [
    {
     "output_type": "stream",
     "name": "stdout",
     "text": [
      "(220, 256) (220,)\n"
     ]
    }
   ],
   "source": [
    "XTest = np.vstack(testX)\n",
    "YTest = np.array(testY)\n",
    "print(XTest.shape, YTest.shape)"
   ]
  },
  {
   "cell_type": "code",
   "execution_count": 91,
   "metadata": {},
   "outputs": [
    {
     "output_type": "execute_result",
     "data": {
      "text/plain": [
       "0.5272727272727273"
      ]
     },
     "metadata": {},
     "execution_count": 91
    }
   ],
   "source": [
    "import pickle\n",
    "from sklearn.metrics import accuracy_score\n",
    "\n",
    "svm_model = pickle.load(open('svm.sav', 'rb'))\n",
    "# result = svm_model.score(XTest, YTest)\n",
    "y_pred = svm_model.predict(XTest)\n",
    "roc_auc_score(YTest, y_pred)\n",
    "# print(\"Test Accuracy:\", accuracy_score(YTest, y_pred))"
   ]
  },
  {
   "cell_type": "code",
   "execution_count": 75,
   "metadata": {},
   "outputs": [
    {
     "output_type": "execute_result",
     "data": {
      "text/plain": [
       "0.7606973058637084"
      ]
     },
     "metadata": {},
     "execution_count": 75
    }
   ],
   "source": [
    "result"
   ]
  }
 ]
}