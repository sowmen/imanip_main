{
 "metadata": {
  "language_info": {
   "codemirror_mode": {
    "name": "ipython",
    "version": 3
   },
   "file_extension": ".py",
   "mimetype": "text/x-python",
   "name": "python",
   "nbconvert_exporter": "python",
   "pygments_lexer": "ipython3",
   "version": "3.7.6-final"
  },
  "orig_nbformat": 2,
  "kernelspec": {
   "name": "python3",
   "display_name": "Python 3.7.6 64-bit",
   "metadata": {
    "interpreter": {
     "hash": "ed42f63bef822c8320ac08590f49c46eb48ce4dfa30453265a23ce003f333a3b"
    }
   }
  }
 },
 "nbformat": 4,
 "nbformat_minor": 2,
 "cells": [
  {
   "cell_type": "code",
   "execution_count": 1,
   "metadata": {},
   "outputs": [],
   "source": [
    "import torch\n",
    "from torch import nn\n",
    "from importlib import reload\n",
    "import cv2\n",
    "import numpy as np \n",
    "import matplotlib.pyplot as plt\n",
    "import pandas as pd\n",
    "from tqdm import tqdm\n",
    "from prettytable import PrettyTable\n",
    "\n",
    "import albumentations\n",
    "from albumentations import augmentations\n",
    "import albumentations.pytorch"
   ]
  },
  {
   "cell_type": "code",
   "execution_count": 3,
   "metadata": {},
   "outputs": [],
   "source": [
    "full_df = pd.read_csv('combo_all_FULL.csv')"
   ]
  },
  {
   "cell_type": "code",
   "execution_count": 4,
   "metadata": {},
   "outputs": [],
   "source": [
    "root_folder = \"Image_Manipulation_Dataset\"\n",
    "def load_images(row):\n",
    "\n",
    "    image_patch, mask_patch, label, _, ela, root_dir = row\n",
    "\n",
    "    #------------- Load image, Ela, Mask -------------------------\n",
    "    image_path = os.path.join(root_folder, root_dir, image_patch)\n",
    "    ela_path = os.path.join(root_folder, root_dir, ela)\n",
    "\n",
    "    image = cv2.imread(image_path, cv2.IMREAD_COLOR)\n",
    "    ela_image = cv2.imread(ela_path, cv2.IMREAD_COLOR)\n",
    "\n",
    "    image = cv2.cvtColor(image, cv2.COLOR_BGR2RGB)\n",
    "    ela_image = cv2.cvtColor(ela_image, cv2.COLOR_BGR2RGB)\n",
    "\n",
    "    if not isinstance(mask_patch, str) and np.isnan(mask_patch):\n",
    "        mask_image = np.zeros((image.shape[0], image.shape[1])).astype('uint8')\n",
    "    else:\n",
    "        mask_path = os.path.join(root_folder, root_dir, mask_patch)\n",
    "        mask_image = cv2.imread(mask_path, cv2.IMREAD_GRAYSCALE)\n",
    "\n",
    "    if('NIST' in root_dir):\n",
    "        mask_image = 255 - mask_image\n",
    "\n",
    "    image = augmentations.geometric.functional.resize(image, 256, 256, cv2.INTER_AREA)\n",
    "    mask_image = augmentations.geometric.functional.resize(mask_image, 256, 256, cv2.INTER_AREA)\n",
    "    ela_image = augmentations.geometric.functional.resize(ela_image, 256, 256, cv2.INTER_AREA)\n",
    "\n",
    "    return image, ela_image, mask_image, label\n",
    "\n",
    "\n",
    "\n",
    "def get_tensors(image, ela_image, mask_image):\n",
    "\n",
    "    #---------------- Reshape & Normalize -----------------------\n",
    "    image = augmentations.geometric.functional.resize(image, 256, 256, cv2.INTER_AREA)\n",
    "    mask_image = augmentations.geometric.functional.resize(mask_image, 256, 256, cv2.INTER_AREA)\n",
    "    ela_image = augmentations.geometric.functional.resize(ela_image, 256, 256, cv2.INTER_AREA)\n",
    "\n",
    "    normalize = {\n",
    "        \"mean\": [0.4535408213875562, 0.42862278450748387, 0.41780105499276865],\n",
    "        \"std\": [0.2672804038612597, 0.2550410416463668, 0.29475415579144293],\n",
    "    }\n",
    "\n",
    "    transforms_normalize = albumentations.Compose(\n",
    "        [\n",
    "            albumentations.Normalize(mean=normalize['mean'], std=normalize['std'], always_apply=True, p=1),\n",
    "            albumentations.pytorch.transforms.ToTensorV2()\n",
    "        ],\n",
    "        additional_targets={'ela':'image'}\n",
    "    )\n",
    "\n",
    "    data = transforms_normalize(image=image, mask=mask_image, ela=ela_image)\n",
    "    image_tensor = data[\"image\"].unsqueeze(0)\n",
    "    mask_tensor = (data[\"mask\"] / 255.0).unsqueeze(0).unsqueeze(0)\n",
    "    ela_tensor = data[\"ela\"].unsqueeze(0)\n",
    "    \n",
    "    return image_tensor, ela_tensor, mask_tensor\n",
    "    "
   ]
  },
  {
   "cell_type": "code",
   "execution_count": 5,
   "metadata": {},
   "outputs": [],
   "source": [
    "def patch_func(img, ela, mask, patch_size):\n",
    "    d = img.shape\n",
    "    patches = []\n",
    "    coords = []\n",
    "    for i in range(0, d[0], patch_size):\n",
    "        for j in range(0, d[1], patch_size):\n",
    "            x = i + patch_size\n",
    "            y = j + patch_size\n",
    "            if x > d[0] or y > d[1]:\n",
    "                break\n",
    "            temp_img = img[i: x, j: y]\n",
    "            temp_ela = ela[i: x, j: y]\n",
    "            temp_mask = mask[i: x, j: y]\n",
    "            patches.append((temp_img, temp_mask, temp_ela))\n",
    "            coords.append((i, j))\n",
    "    return patches, coords"
   ]
  },
  {
   "cell_type": "code",
   "execution_count": 14,
   "metadata": {},
   "outputs": [
    {
     "output_type": "execute_result",
     "data": {
      "text/plain": [
       "<All keys matched successfully>"
      ]
     },
     "metadata": {},
     "execution_count": 14
    }
   ],
   "source": [
    "from segmentation.merged_net import SRM_Classifer\n",
    "\n",
    "device = 'cuda'\n",
    "\n",
    "model_256 = SRM_Classifer()\n",
    "model_256 = nn.DataParallel(model_256).to(device)\n",
    "model_256.load_state_dict(torch.load('weights/classifier.6.bias_[18|03_13|54|23].h5'))\n",
    "\n",
    "# model_128 = SRM_Classifer()\n",
    "# model_128 = nn.DataParallel(model_128).to(device)\n",
    "# model_128.load_state_dict(torch.load('best_weights/COMBO_ALL_128ChangedClass_[09|03_21|11|14].h5'))\n",
    "\n",
    "# model_64 = SRM_Classifer()\n",
    "# model_64 = nn.DataParallel(model_64).to(device)\n",
    "# model_64.load_state_dict(torch.load('best_weights/(Resume 22-35-18) COMBO_ALL_64ChangedClass_[11|03_18|46|12].h5'))"
   ]
  },
  {
   "cell_type": "code",
   "execution_count": 7,
   "metadata": {},
   "outputs": [],
   "source": [
    "def get_feat_preds(row):\n",
    "    model_256.eval()\n",
    "    # model_128.eval()\n",
    "    # model_64.eval()\n",
    "    \n",
    "    with torch.no_grad():\n",
    "        image_256, ela_image_256, mask_image_256, label = load_images(row)\n",
    "        features = []\n",
    "        predictions = []\n",
    "\n",
    "        #--------- 256x256 ----------        \n",
    "        image_tensor_256, ela_tensor_256, mask_tensor_256 = get_tensors(image_256, ela_image_256, mask_image_256)\n",
    "        # outputs.clear()\n",
    "        pred_256, inter_256, _ = model_256(image_tensor_256.to(device), ela_tensor_256.to(device))\n",
    "        features.append(inter_256.cpu().detach())\n",
    "        predictions.append(torch.sigmoid(pred_256.cpu().detach()))\n",
    "\n",
    "        # #--------- 128x128 ----------\n",
    "        # patches_128, _ = patch_func(image_256, ela_image_256, mask_image_256, 128)\n",
    "        # for patch in patches_128:\n",
    "        #     image_128, mask_image_128, ela_image_128 = patch\n",
    "        #     image_tensor_128, ela_tensor_128, mask_tensor_128 = get_tensors(image_128, ela_image_128, mask_image_128)\n",
    "            \n",
    "        #     # outputs.clear()\n",
    "        #     pred_128, inter_128, _ = model_128(image_tensor_128.to(device), ela_tensor_128.to(device))\n",
    "        #     features.append(inter_128.cpu().detach())\n",
    "        #     predictions.append(torch.sigmoid(pred_128.cpu().detach()))\n",
    "        \n",
    "        # #--------- 64x64 ----------\n",
    "        # patches_64, _ = patch_func(image_256, ela_image_256, mask_image_256, 64)\n",
    "        # for patch in patches_64:\n",
    "        #     image_64, mask_image_64, ela_image_64 = patch\n",
    "        #     image_tensor_64, ela_tensor_64, mask_tensor_64 = get_tensors(image_64, ela_image_64, mask_image_64)\n",
    "            \n",
    "        #     # outputs.clear()\n",
    "        #     pred_64, inter_64, _ = model_64(image_tensor_64.to(device), ela_tensor_64.to(device))\n",
    "        #     features.append(inter_64.cpu().detach())\n",
    "        #     predictions.append(torch.sigmoid(pred_64.cpu().detach()))\n",
    "\n",
    "    return features, predictions"
   ]
  },
  {
   "cell_type": "code",
   "execution_count": 8,
   "metadata": {},
   "outputs": [
    {
     "output_type": "stream",
     "name": "stdout",
     "text": [
      "CASIA: real:749, fakes:511\nIMD: real:151, fakes:144\nCOVERAGE: real:10, fakes:10\nNIST: real:88, fakes:39\n"
     ]
    }
   ],
   "source": [
    "\"CMFD, NIST, COVERAGE, CASIA, IMD\"\n",
    "\n",
    "def get_individual_test_df(dataframe, val):\n",
    "    test_df = dataframe[dataframe['root_dir'].str.contains(val)]\n",
    "    test_df = test_df[test_df[\"fold\"].isin([1])]\n",
    "\n",
    "    print(\n",
    "        \"{}: real:{}, fakes:{}\".format(\n",
    "            val, len(test_df[test_df[\"label\"] == 0]), len(test_df[test_df[\"label\"] == 1])\n",
    "        )\n",
    "    )\n",
    "    return test_df.values\n",
    "    \n",
    "casia_test = get_individual_test_df(full_df, \"CASIA\")\n",
    "imd_test = get_individual_test_df(full_df, \"IMD\")\n",
    "coverage_test = get_individual_test_df(full_df, \"COVERAGE\")\n",
    "nist_test = get_individual_test_df(full_df, \"NIST\")"
   ]
  },
  {
   "cell_type": "code",
   "execution_count": 9,
   "metadata": {},
   "outputs": [],
   "source": [
    "coverage_full = full_df[full_df['root_dir'].str.contains('COVERAGE')]\n",
    "nist_full = full_df[full_df['root_dir'].str.contains('NIST')]"
   ]
  },
  {
   "cell_type": "code",
   "execution_count": 20,
   "metadata": {},
   "outputs": [
    {
     "output_type": "execute_result",
     "data": {
      "text/plain": [
       "0    874\n",
       "1    388\n",
       "Name: label, dtype: int64"
      ]
     },
     "metadata": {},
     "execution_count": 20
    }
   ],
   "source": [
    "nist_full.label.value_counts()"
   ]
  },
  {
   "source": [
    "## SVM Classifier"
   ],
   "cell_type": "markdown",
   "metadata": {}
  },
  {
   "cell_type": "code",
   "execution_count": 8,
   "metadata": {},
   "outputs": [],
   "source": [
    "def feat_pool(feat: torch.tensor, operation: str):\n",
    "    \"\"\"\n",
    "    Fuses the image's patches feature representation\n",
    "    :param feat: The network object\n",
    "    :param operation: Either max or mean for the pooling operation\n",
    "    :returns: The final 256-D feature representation of the entire image\n",
    "    \"\"\"\n",
    "    if operation == \"max\":\n",
    "        return feat.max(axis=0)\n",
    "    elif operation == \"mean\":\n",
    "        return feat.mean(axis=0)\n",
    "    else:\n",
    "        raise Exception(\"The operation can be either mean or max\")"
   ]
  },
  {
   "cell_type": "code",
   "execution_count": 15,
   "metadata": {},
   "outputs": [
    {
     "output_type": "stream",
     "name": "stderr",
     "text": [
      "100%|██████████| 127/127 [00:40<00:00,  3.16it/s]\n"
     ]
    }
   ],
   "source": [
    "testX = []\n",
    "testY = []\n",
    "predY = []\n",
    "\n",
    "for row in tqdm(nist_test):\n",
    "\n",
    "    features, predictions = get_feat_preds(row)\n",
    "    \n",
    "    # features = torch.vstack(features)\n",
    "    # condensed_feature = feat_pool(features, \"mean\").numpy().reshape(1, -1)\n",
    "\n",
    "    # testX.append(condensed_feature)\n",
    "    testY.append(row[2])\n",
    "    predY.append(predictions[0].item())"
   ]
  },
  {
   "cell_type": "code",
   "execution_count": 49,
   "metadata": {},
   "outputs": [
    {
     "output_type": "stream",
     "name": "stdout",
     "text": [
      "1  ~  0.4600890576839447\n1  ~  0.506366491317749\n1  ~  0.4645105004310608\n1  ~  0.5146809220314026\n1  ~  0.5189856290817261\n1  ~  0.5072029232978821\n1  ~  0.5202023386955261\n1  ~  0.46360233426094055\n1  ~  0.5064582228660583\n1  ~  0.5151254534721375\n0  ~  0.5104957818984985\n0  ~  0.48961836099624634\n0  ~  0.4915609657764435\n0  ~  0.4613378643989563\n0  ~  0.5193769931793213\n0  ~  0.518521785736084\n0  ~  0.5019693970680237\n0  ~  0.5205652713775635\n0  ~  0.4898190200328827\n0  ~  0.48724591732025146\n"
     ]
    }
   ],
   "source": [
    "for i in range(len(predY)):\n",
    "    print(testY[i], \" ~ \", predY[i])"
   ]
  },
  {
   "cell_type": "code",
   "execution_count": 17,
   "metadata": {},
   "outputs": [
    {
     "output_type": "stream",
     "name": "stdout",
     "text": [
      "Test Accuracy: 0.6850393700787402\n"
     ]
    }
   ],
   "source": [
    "from sklearn.metrics import accuracy_score\n",
    "print(\"Test Accuracy:\", accuracy_score(np.array(testY), np.array(predY) >= 0.5))"
   ]
  },
  {
   "cell_type": "code",
   "execution_count": 18,
   "metadata": {},
   "outputs": [
    {
     "output_type": "execute_result",
     "data": {
      "text/plain": [
       "0.3977272727272727"
      ]
     },
     "metadata": {},
     "execution_count": 18
    }
   ],
   "source": [
    "from sklearn.metrics import roc_auc_score\n",
    "\n",
    "auc = roc_auc_score(testY, predY)\n",
    "auc"
   ]
  },
  {
   "cell_type": "code",
   "execution_count": 90,
   "metadata": {},
   "outputs": [
    {
     "output_type": "stream",
     "name": "stdout",
     "text": [
      "(220, 256) (220,)\n"
     ]
    }
   ],
   "source": [
    "XTest = np.vstack(testX)\n",
    "YTest = np.array(testY)\n",
    "print(XTest.shape, YTest.shape)"
   ]
  },
  {
   "cell_type": "code",
   "execution_count": 91,
   "metadata": {},
   "outputs": [
    {
     "output_type": "execute_result",
     "data": {
      "text/plain": [
       "0.5272727272727273"
      ]
     },
     "metadata": {},
     "execution_count": 91
    }
   ],
   "source": [
    "import pickle\n",
    "from sklearn.metrics import accuracy_score\n",
    "\n",
    "svm_model = pickle.load(open('svm.sav', 'rb'))\n",
    "# result = svm_model.score(XTest, YTest)\n",
    "y_pred = svm_model.predict(XTest)\n",
    "roc_auc_score(YTest, y_pred)\n",
    "# print(\"Test Accuracy:\", accuracy_score(YTest, y_pred))"
   ]
  },
  {
   "cell_type": "code",
   "execution_count": 75,
   "metadata": {},
   "outputs": [
    {
     "output_type": "execute_result",
     "data": {
      "text/plain": [
       "0.7606973058637084"
      ]
     },
     "metadata": {},
     "execution_count": 75
    }
   ],
   "source": [
    "result"
   ]
  },
  {
   "cell_type": "code",
   "execution_count": 3,
   "metadata": {},
   "outputs": [
    {
     "output_type": "stream",
     "name": "stdout",
     "text": [
      "odict_keys(['module.srm_conv.weight', 'module.bayer_conv.weight', 'module.rgb_conv.weight', 'module.ela_net.0.weight', 'module.ela_net.1.weight', 'module.ela_net.1.bias', 'module.ela_net.1.running_mean', 'module.ela_net.1.running_var', 'module.ela_net.1.num_batches_tracked', 'module.ela_net.3.weight', 'module.ela_net.4.weight', 'module.ela_net.4.bias', 'module.ela_net.4.running_mean', 'module.ela_net.4.running_var', 'module.ela_net.4.num_batches_tracked', 'module.encoder.stem.0.weight', 'module.encoder.stem.1.weight', 'module.encoder.stem.1.bias', 'module.encoder.stem.1.running_mean', 'module.encoder.stem.1.running_var', 'module.encoder.stem.1.num_batches_tracked', 'module.encoder.blocks.3.0.conv_dw.weight', 'module.encoder.blocks.3.0.bn1.weight', 'module.encoder.blocks.3.0.bn1.bias', 'module.encoder.blocks.3.0.bn1.running_mean', 'module.encoder.blocks.3.0.bn1.running_var', 'module.encoder.blocks.3.0.bn1.num_batches_tracked', 'module.encoder.blocks.3.0.se.conv_reduce.weight', 'module.encoder.blocks.3.0.se.conv_reduce.bias', 'module.encoder.blocks.3.0.se.conv_expand.weight', 'module.encoder.blocks.3.0.se.conv_expand.bias', 'module.encoder.blocks.3.0.conv_pw.weight', 'module.encoder.blocks.3.0.bn2.weight', 'module.encoder.blocks.3.0.bn2.bias', 'module.encoder.blocks.3.0.bn2.running_mean', 'module.encoder.blocks.3.0.bn2.running_var', 'module.encoder.blocks.3.0.bn2.num_batches_tracked', 'module.encoder.blocks.3.1.conv_dw.weight', 'module.encoder.blocks.3.1.bn1.weight', 'module.encoder.blocks.3.1.bn1.bias', 'module.encoder.blocks.3.1.bn1.running_mean', 'module.encoder.blocks.3.1.bn1.running_var', 'module.encoder.blocks.3.1.bn1.num_batches_tracked', 'module.encoder.blocks.3.1.se.conv_reduce.weight', 'module.encoder.blocks.3.1.se.conv_reduce.bias', 'module.encoder.blocks.3.1.se.conv_expand.weight', 'module.encoder.blocks.3.1.se.conv_expand.bias', 'module.encoder.blocks.3.1.conv_pw.weight', 'module.encoder.blocks.3.1.bn2.weight', 'module.encoder.blocks.3.1.bn2.bias', 'module.encoder.blocks.3.1.bn2.running_mean', 'module.encoder.blocks.3.1.bn2.running_var', 'module.encoder.blocks.3.1.bn2.num_batches_tracked', 'module.encoder.blocks.4.0.conv_pw.weight', 'module.encoder.blocks.4.0.bn1.weight', 'module.encoder.blocks.4.0.bn1.bias', 'module.encoder.blocks.4.0.bn1.running_mean', 'module.encoder.blocks.4.0.bn1.running_var', 'module.encoder.blocks.4.0.bn1.num_batches_tracked', 'module.encoder.blocks.4.0.conv_dw.weight', 'module.encoder.blocks.4.0.bn2.weight', 'module.encoder.blocks.4.0.bn2.bias', 'module.encoder.blocks.4.0.bn2.running_mean', 'module.encoder.blocks.4.0.bn2.running_var', 'module.encoder.blocks.4.0.bn2.num_batches_tracked', 'module.encoder.blocks.4.0.se.conv_reduce.weight', 'module.encoder.blocks.4.0.se.conv_reduce.bias', 'module.encoder.blocks.4.0.se.conv_expand.weight', 'module.encoder.blocks.4.0.se.conv_expand.bias', 'module.encoder.blocks.4.0.conv_pwl.weight', 'module.encoder.blocks.4.0.bn3.weight', 'module.encoder.blocks.4.0.bn3.bias', 'module.encoder.blocks.4.0.bn3.running_mean', 'module.encoder.blocks.4.0.bn3.running_var', 'module.encoder.blocks.4.0.bn3.num_batches_tracked', 'module.encoder.blocks.4.1.conv_pw.weight', 'module.encoder.blocks.4.1.bn1.weight', 'module.encoder.blocks.4.1.bn1.bias', 'module.encoder.blocks.4.1.bn1.running_mean', 'module.encoder.blocks.4.1.bn1.running_var', 'module.encoder.blocks.4.1.bn1.num_batches_tracked', 'module.encoder.blocks.4.1.conv_dw.weight', 'module.encoder.blocks.4.1.bn2.weight', 'module.encoder.blocks.4.1.bn2.bias', 'module.encoder.blocks.4.1.bn2.running_mean', 'module.encoder.blocks.4.1.bn2.running_var', 'module.encoder.blocks.4.1.bn2.num_batches_tracked', 'module.encoder.blocks.4.1.se.conv_reduce.weight', 'module.encoder.blocks.4.1.se.conv_reduce.bias', 'module.encoder.blocks.4.1.se.conv_expand.weight', 'module.encoder.blocks.4.1.se.conv_expand.bias', 'module.encoder.blocks.4.1.conv_pwl.weight', 'module.encoder.blocks.4.1.bn3.weight', 'module.encoder.blocks.4.1.bn3.bias', 'module.encoder.blocks.4.1.bn3.running_mean', 'module.encoder.blocks.4.1.bn3.running_var', 'module.encoder.blocks.4.1.bn3.num_batches_tracked', 'module.encoder.blocks.4.2.conv_pw.weight', 'module.encoder.blocks.4.2.bn1.weight', 'module.encoder.blocks.4.2.bn1.bias', 'module.encoder.blocks.4.2.bn1.running_mean', 'module.encoder.blocks.4.2.bn1.running_var', 'module.encoder.blocks.4.2.bn1.num_batches_tracked', 'module.encoder.blocks.4.2.conv_dw.weight', 'module.encoder.blocks.4.2.bn2.weight', 'module.encoder.blocks.4.2.bn2.bias', 'module.encoder.blocks.4.2.bn2.running_mean', 'module.encoder.blocks.4.2.bn2.running_var', 'module.encoder.blocks.4.2.bn2.num_batches_tracked', 'module.encoder.blocks.4.2.se.conv_reduce.weight', 'module.encoder.blocks.4.2.se.conv_reduce.bias', 'module.encoder.blocks.4.2.se.conv_expand.weight', 'module.encoder.blocks.4.2.se.conv_expand.bias', 'module.encoder.blocks.4.2.conv_pwl.weight', 'module.encoder.blocks.4.2.bn3.weight', 'module.encoder.blocks.4.2.bn3.bias', 'module.encoder.blocks.4.2.bn3.running_mean', 'module.encoder.blocks.4.2.bn3.running_var', 'module.encoder.blocks.4.2.bn3.num_batches_tracked', 'module.encoder.blocks.4.3.conv_pw.weight', 'module.encoder.blocks.4.3.bn1.weight', 'module.encoder.blocks.4.3.bn1.bias', 'module.encoder.blocks.4.3.bn1.running_mean', 'module.encoder.blocks.4.3.bn1.running_var', 'module.encoder.blocks.4.3.bn1.num_batches_tracked', 'module.encoder.blocks.4.3.conv_dw.weight', 'module.encoder.blocks.4.3.bn2.weight', 'module.encoder.blocks.4.3.bn2.bias', 'module.encoder.blocks.4.3.bn2.running_mean', 'module.encoder.blocks.4.3.bn2.running_var', 'module.encoder.blocks.4.3.bn2.num_batches_tracked', 'module.encoder.blocks.4.3.se.conv_reduce.weight', 'module.encoder.blocks.4.3.se.conv_reduce.bias', 'module.encoder.blocks.4.3.se.conv_expand.weight', 'module.encoder.blocks.4.3.se.conv_expand.bias', 'module.encoder.blocks.4.3.conv_pwl.weight', 'module.encoder.blocks.4.3.bn3.weight', 'module.encoder.blocks.4.3.bn3.bias', 'module.encoder.blocks.4.3.bn3.running_mean', 'module.encoder.blocks.4.3.bn3.running_var', 'module.encoder.blocks.4.3.bn3.num_batches_tracked', 'module.encoder.blocks.5.0.conv_pw.weight', 'module.encoder.blocks.5.0.bn1.weight', 'module.encoder.blocks.5.0.bn1.bias', 'module.encoder.blocks.5.0.bn1.running_mean', 'module.encoder.blocks.5.0.bn1.running_var', 'module.encoder.blocks.5.0.bn1.num_batches_tracked', 'module.encoder.blocks.5.0.conv_dw.weight', 'module.encoder.blocks.5.0.bn2.weight', 'module.encoder.blocks.5.0.bn2.bias', 'module.encoder.blocks.5.0.bn2.running_mean', 'module.encoder.blocks.5.0.bn2.running_var', 'module.encoder.blocks.5.0.bn2.num_batches_tracked', 'module.encoder.blocks.5.0.se.conv_reduce.weight', 'module.encoder.blocks.5.0.se.conv_reduce.bias', 'module.encoder.blocks.5.0.se.conv_expand.weight', 'module.encoder.blocks.5.0.se.conv_expand.bias', 'module.encoder.blocks.5.0.conv_pwl.weight', 'module.encoder.blocks.5.0.bn3.weight', 'module.encoder.blocks.5.0.bn3.bias', 'module.encoder.blocks.5.0.bn3.running_mean', 'module.encoder.blocks.5.0.bn3.running_var', 'module.encoder.blocks.5.0.bn3.num_batches_tracked', 'module.encoder.blocks.5.1.conv_pw.weight', 'module.encoder.blocks.5.1.bn1.weight', 'module.encoder.blocks.5.1.bn1.bias', 'module.encoder.blocks.5.1.bn1.running_mean', 'module.encoder.blocks.5.1.bn1.running_var', 'module.encoder.blocks.5.1.bn1.num_batches_tracked', 'module.encoder.blocks.5.1.conv_dw.weight', 'module.encoder.blocks.5.1.bn2.weight', 'module.encoder.blocks.5.1.bn2.bias', 'module.encoder.blocks.5.1.bn2.running_mean', 'module.encoder.blocks.5.1.bn2.running_var', 'module.encoder.blocks.5.1.bn2.num_batches_tracked', 'module.encoder.blocks.5.1.se.conv_reduce.weight', 'module.encoder.blocks.5.1.se.conv_reduce.bias', 'module.encoder.blocks.5.1.se.conv_expand.weight', 'module.encoder.blocks.5.1.se.conv_expand.bias', 'module.encoder.blocks.5.1.conv_pwl.weight', 'module.encoder.blocks.5.1.bn3.weight', 'module.encoder.blocks.5.1.bn3.bias', 'module.encoder.blocks.5.1.bn3.running_mean', 'module.encoder.blocks.5.1.bn3.running_var', 'module.encoder.blocks.5.1.bn3.num_batches_tracked', 'module.encoder.blocks.5.2.conv_pw.weight', 'module.encoder.blocks.5.2.bn1.weight', 'module.encoder.blocks.5.2.bn1.bias', 'module.encoder.blocks.5.2.bn1.running_mean', 'module.encoder.blocks.5.2.bn1.running_var', 'module.encoder.blocks.5.2.bn1.num_batches_tracked', 'module.encoder.blocks.5.2.conv_dw.weight', 'module.encoder.blocks.5.2.bn2.weight', 'module.encoder.blocks.5.2.bn2.bias', 'module.encoder.blocks.5.2.bn2.running_mean', 'module.encoder.blocks.5.2.bn2.running_var', 'module.encoder.blocks.5.2.bn2.num_batches_tracked', 'module.encoder.blocks.5.2.se.conv_reduce.weight', 'module.encoder.blocks.5.2.se.conv_reduce.bias', 'module.encoder.blocks.5.2.se.conv_expand.weight', 'module.encoder.blocks.5.2.se.conv_expand.bias', 'module.encoder.blocks.5.2.conv_pwl.weight', 'module.encoder.blocks.5.2.bn3.weight', 'module.encoder.blocks.5.2.bn3.bias', 'module.encoder.blocks.5.2.bn3.running_mean', 'module.encoder.blocks.5.2.bn3.running_var', 'module.encoder.blocks.5.2.bn3.num_batches_tracked', 'module.encoder.blocks.5.3.conv_pw.weight', 'module.encoder.blocks.5.3.bn1.weight', 'module.encoder.blocks.5.3.bn1.bias', 'module.encoder.blocks.5.3.bn1.running_mean', 'module.encoder.blocks.5.3.bn1.running_var', 'module.encoder.blocks.5.3.bn1.num_batches_tracked', 'module.encoder.blocks.5.3.conv_dw.weight', 'module.encoder.blocks.5.3.bn2.weight', 'module.encoder.blocks.5.3.bn2.bias', 'module.encoder.blocks.5.3.bn2.running_mean', 'module.encoder.blocks.5.3.bn2.running_var', 'module.encoder.blocks.5.3.bn2.num_batches_tracked', 'module.encoder.blocks.5.3.se.conv_reduce.weight', 'module.encoder.blocks.5.3.se.conv_reduce.bias', 'module.encoder.blocks.5.3.se.conv_expand.weight', 'module.encoder.blocks.5.3.se.conv_expand.bias', 'module.encoder.blocks.5.3.conv_pwl.weight', 'module.encoder.blocks.5.3.bn3.weight', 'module.encoder.blocks.5.3.bn3.bias', 'module.encoder.blocks.5.3.bn3.running_mean', 'module.encoder.blocks.5.3.bn3.running_var', 'module.encoder.blocks.5.3.bn3.num_batches_tracked', 'module.encoder.blocks.6.0.conv_pw.weight', 'module.encoder.blocks.6.0.bn1.weight', 'module.encoder.blocks.6.0.bn1.bias', 'module.encoder.blocks.6.0.bn1.running_mean', 'module.encoder.blocks.6.0.bn1.running_var', 'module.encoder.blocks.6.0.bn1.num_batches_tracked', 'module.encoder.blocks.6.0.conv_dw.weight', 'module.encoder.blocks.6.0.bn2.weight', 'module.encoder.blocks.6.0.bn2.bias', 'module.encoder.blocks.6.0.bn2.running_mean', 'module.encoder.blocks.6.0.bn2.running_var', 'module.encoder.blocks.6.0.bn2.num_batches_tracked', 'module.encoder.blocks.6.0.se.conv_reduce.weight', 'module.encoder.blocks.6.0.se.conv_reduce.bias', 'module.encoder.blocks.6.0.se.conv_expand.weight', 'module.encoder.blocks.6.0.se.conv_expand.bias', 'module.encoder.blocks.6.0.conv_pwl.weight', 'module.encoder.blocks.6.0.bn3.weight', 'module.encoder.blocks.6.0.bn3.bias', 'module.encoder.blocks.6.0.bn3.running_mean', 'module.encoder.blocks.6.0.bn3.running_var', 'module.encoder.blocks.6.0.bn3.num_batches_tracked', 'module.encoder.blocks.6.1.conv_pw.weight', 'module.encoder.blocks.6.1.bn1.weight', 'module.encoder.blocks.6.1.bn1.bias', 'module.encoder.blocks.6.1.bn1.running_mean', 'module.encoder.blocks.6.1.bn1.running_var', 'module.encoder.blocks.6.1.bn1.num_batches_tracked', 'module.encoder.blocks.6.1.conv_dw.weight', 'module.encoder.blocks.6.1.bn2.weight', 'module.encoder.blocks.6.1.bn2.bias', 'module.encoder.blocks.6.1.bn2.running_mean', 'module.encoder.blocks.6.1.bn2.running_var', 'module.encoder.blocks.6.1.bn2.num_batches_tracked', 'module.encoder.blocks.6.1.se.conv_reduce.weight', 'module.encoder.blocks.6.1.se.conv_reduce.bias', 'module.encoder.blocks.6.1.se.conv_expand.weight', 'module.encoder.blocks.6.1.se.conv_expand.bias', 'module.encoder.blocks.6.1.conv_pwl.weight', 'module.encoder.blocks.6.1.bn3.weight', 'module.encoder.blocks.6.1.bn3.bias', 'module.encoder.blocks.6.1.bn3.running_mean', 'module.encoder.blocks.6.1.bn3.running_var', 'module.encoder.blocks.6.1.bn3.num_batches_tracked', 'module.encoder.blocks.6.2.conv_pw.weight', 'module.encoder.blocks.6.2.bn1.weight', 'module.encoder.blocks.6.2.bn1.bias', 'module.encoder.blocks.6.2.bn1.running_mean', 'module.encoder.blocks.6.2.bn1.running_var', 'module.encoder.blocks.6.2.bn1.num_batches_tracked', 'module.encoder.blocks.6.2.conv_dw.weight', 'module.encoder.blocks.6.2.bn2.weight', 'module.encoder.blocks.6.2.bn2.bias', 'module.encoder.blocks.6.2.bn2.running_mean', 'module.encoder.blocks.6.2.bn2.running_var', 'module.encoder.blocks.6.2.bn2.num_batches_tracked', 'module.encoder.blocks.6.2.se.conv_reduce.weight', 'module.encoder.blocks.6.2.se.conv_reduce.bias', 'module.encoder.blocks.6.2.se.conv_expand.weight', 'module.encoder.blocks.6.2.se.conv_expand.bias', 'module.encoder.blocks.6.2.conv_pwl.weight', 'module.encoder.blocks.6.2.bn3.weight', 'module.encoder.blocks.6.2.bn3.bias', 'module.encoder.blocks.6.2.bn3.running_mean', 'module.encoder.blocks.6.2.bn3.running_var', 'module.encoder.blocks.6.2.bn3.num_batches_tracked', 'module.encoder.blocks.6.3.conv_pw.weight', 'module.encoder.blocks.6.3.bn1.weight', 'module.encoder.blocks.6.3.bn1.bias', 'module.encoder.blocks.6.3.bn1.running_mean', 'module.encoder.blocks.6.3.bn1.running_var', 'module.encoder.blocks.6.3.bn1.num_batches_tracked', 'module.encoder.blocks.6.3.conv_dw.weight', 'module.encoder.blocks.6.3.bn2.weight', 'module.encoder.blocks.6.3.bn2.bias', 'module.encoder.blocks.6.3.bn2.running_mean', 'module.encoder.blocks.6.3.bn2.running_var', 'module.encoder.blocks.6.3.bn2.num_batches_tracked', 'module.encoder.blocks.6.3.se.conv_reduce.weight', 'module.encoder.blocks.6.3.se.conv_reduce.bias', 'module.encoder.blocks.6.3.se.conv_expand.weight', 'module.encoder.blocks.6.3.se.conv_expand.bias', 'module.encoder.blocks.6.3.conv_pwl.weight', 'module.encoder.blocks.6.3.bn3.weight', 'module.encoder.blocks.6.3.bn3.bias', 'module.encoder.blocks.6.3.bn3.running_mean', 'module.encoder.blocks.6.3.bn3.running_var', 'module.encoder.blocks.6.3.bn3.num_batches_tracked', 'module.encoder.blocks.6.4.conv_pw.weight', 'module.encoder.blocks.6.4.bn1.weight', 'module.encoder.blocks.6.4.bn1.bias', 'module.encoder.blocks.6.4.bn1.running_mean', 'module.encoder.blocks.6.4.bn1.running_var', 'module.encoder.blocks.6.4.bn1.num_batches_tracked', 'module.encoder.blocks.6.4.conv_dw.weight', 'module.encoder.blocks.6.4.bn2.weight', 'module.encoder.blocks.6.4.bn2.bias', 'module.encoder.blocks.6.4.bn2.running_mean', 'module.encoder.blocks.6.4.bn2.running_var', 'module.encoder.blocks.6.4.bn2.num_batches_tracked', 'module.encoder.blocks.6.4.se.conv_reduce.weight', 'module.encoder.blocks.6.4.se.conv_reduce.bias', 'module.encoder.blocks.6.4.se.conv_expand.weight', 'module.encoder.blocks.6.4.se.conv_expand.bias', 'module.encoder.blocks.6.4.conv_pwl.weight', 'module.encoder.blocks.6.4.bn3.weight', 'module.encoder.blocks.6.4.bn3.bias', 'module.encoder.blocks.6.4.bn3.running_mean', 'module.encoder.blocks.6.4.bn3.running_var', 'module.encoder.blocks.6.4.bn3.num_batches_tracked', 'module.encoder.blocks.6.5.conv_pw.weight', 'module.encoder.blocks.6.5.bn1.weight', 'module.encoder.blocks.6.5.bn1.bias', 'module.encoder.blocks.6.5.bn1.running_mean', 'module.encoder.blocks.6.5.bn1.running_var', 'module.encoder.blocks.6.5.bn1.num_batches_tracked', 'module.encoder.blocks.6.5.conv_dw.weight', 'module.encoder.blocks.6.5.bn2.weight', 'module.encoder.blocks.6.5.bn2.bias', 'module.encoder.blocks.6.5.bn2.running_mean', 'module.encoder.blocks.6.5.bn2.running_var', 'module.encoder.blocks.6.5.bn2.num_batches_tracked', 'module.encoder.blocks.6.5.se.conv_reduce.weight', 'module.encoder.blocks.6.5.se.conv_reduce.bias', 'module.encoder.blocks.6.5.se.conv_expand.weight', 'module.encoder.blocks.6.5.se.conv_expand.bias', 'module.encoder.blocks.6.5.conv_pwl.weight', 'module.encoder.blocks.6.5.bn3.weight', 'module.encoder.blocks.6.5.bn3.bias', 'module.encoder.blocks.6.5.bn3.running_mean', 'module.encoder.blocks.6.5.bn3.running_var', 'module.encoder.blocks.6.5.bn3.num_batches_tracked', 'module.encoder.blocks.7.0.conv_pw.weight', 'module.encoder.blocks.7.0.bn1.weight', 'module.encoder.blocks.7.0.bn1.bias', 'module.encoder.blocks.7.0.bn1.running_mean', 'module.encoder.blocks.7.0.bn1.running_var', 'module.encoder.blocks.7.0.bn1.num_batches_tracked', 'module.encoder.blocks.7.0.conv_dw.weight', 'module.encoder.blocks.7.0.bn2.weight', 'module.encoder.blocks.7.0.bn2.bias', 'module.encoder.blocks.7.0.bn2.running_mean', 'module.encoder.blocks.7.0.bn2.running_var', 'module.encoder.blocks.7.0.bn2.num_batches_tracked', 'module.encoder.blocks.7.0.se.conv_reduce.weight', 'module.encoder.blocks.7.0.se.conv_reduce.bias', 'module.encoder.blocks.7.0.se.conv_expand.weight', 'module.encoder.blocks.7.0.se.conv_expand.bias', 'module.encoder.blocks.7.0.conv_pwl.weight', 'module.encoder.blocks.7.0.bn3.weight', 'module.encoder.blocks.7.0.bn3.bias', 'module.encoder.blocks.7.0.bn3.running_mean', 'module.encoder.blocks.7.0.bn3.running_var', 'module.encoder.blocks.7.0.bn3.num_batches_tracked', 'module.encoder.blocks.7.1.conv_pw.weight', 'module.encoder.blocks.7.1.bn1.weight', 'module.encoder.blocks.7.1.bn1.bias', 'module.encoder.blocks.7.1.bn1.running_mean', 'module.encoder.blocks.7.1.bn1.running_var', 'module.encoder.blocks.7.1.bn1.num_batches_tracked', 'module.encoder.blocks.7.1.conv_dw.weight', 'module.encoder.blocks.7.1.bn2.weight', 'module.encoder.blocks.7.1.bn2.bias', 'module.encoder.blocks.7.1.bn2.running_mean', 'module.encoder.blocks.7.1.bn2.running_var', 'module.encoder.blocks.7.1.bn2.num_batches_tracked', 'module.encoder.blocks.7.1.se.conv_reduce.weight', 'module.encoder.blocks.7.1.se.conv_reduce.bias', 'module.encoder.blocks.7.1.se.conv_expand.weight', 'module.encoder.blocks.7.1.se.conv_expand.bias', 'module.encoder.blocks.7.1.conv_pwl.weight', 'module.encoder.blocks.7.1.bn3.weight', 'module.encoder.blocks.7.1.bn3.bias', 'module.encoder.blocks.7.1.bn3.running_mean', 'module.encoder.blocks.7.1.bn3.running_var', 'module.encoder.blocks.7.1.bn3.num_batches_tracked', 'module.encoder.blocks.7.2.conv_pw.weight', 'module.encoder.blocks.7.2.bn1.weight', 'module.encoder.blocks.7.2.bn1.bias', 'module.encoder.blocks.7.2.bn1.running_mean', 'module.encoder.blocks.7.2.bn1.running_var', 'module.encoder.blocks.7.2.bn1.num_batches_tracked', 'module.encoder.blocks.7.2.conv_dw.weight', 'module.encoder.blocks.7.2.bn2.weight', 'module.encoder.blocks.7.2.bn2.bias', 'module.encoder.blocks.7.2.bn2.running_mean', 'module.encoder.blocks.7.2.bn2.running_var', 'module.encoder.blocks.7.2.bn2.num_batches_tracked', 'module.encoder.blocks.7.2.se.conv_reduce.weight', 'module.encoder.blocks.7.2.se.conv_reduce.bias', 'module.encoder.blocks.7.2.se.conv_expand.weight', 'module.encoder.blocks.7.2.se.conv_expand.bias', 'module.encoder.blocks.7.2.conv_pwl.weight', 'module.encoder.blocks.7.2.bn3.weight', 'module.encoder.blocks.7.2.bn3.bias', 'module.encoder.blocks.7.2.bn3.running_mean', 'module.encoder.blocks.7.2.bn3.running_var', 'module.encoder.blocks.7.2.bn3.num_batches_tracked', 'module.encoder.blocks.7.3.conv_pw.weight', 'module.encoder.blocks.7.3.bn1.weight', 'module.encoder.blocks.7.3.bn1.bias', 'module.encoder.blocks.7.3.bn1.running_mean', 'module.encoder.blocks.7.3.bn1.running_var', 'module.encoder.blocks.7.3.bn1.num_batches_tracked', 'module.encoder.blocks.7.3.conv_dw.weight', 'module.encoder.blocks.7.3.bn2.weight', 'module.encoder.blocks.7.3.bn2.bias', 'module.encoder.blocks.7.3.bn2.running_mean', 'module.encoder.blocks.7.3.bn2.running_var', 'module.encoder.blocks.7.3.bn2.num_batches_tracked', 'module.encoder.blocks.7.3.se.conv_reduce.weight', 'module.encoder.blocks.7.3.se.conv_reduce.bias', 'module.encoder.blocks.7.3.se.conv_expand.weight', 'module.encoder.blocks.7.3.se.conv_expand.bias', 'module.encoder.blocks.7.3.conv_pwl.weight', 'module.encoder.blocks.7.3.bn3.weight', 'module.encoder.blocks.7.3.bn3.bias', 'module.encoder.blocks.7.3.bn3.running_mean', 'module.encoder.blocks.7.3.bn3.running_var', 'module.encoder.blocks.7.3.bn3.num_batches_tracked', 'module.encoder.blocks.7.4.conv_pw.weight', 'module.encoder.blocks.7.4.bn1.weight', 'module.encoder.blocks.7.4.bn1.bias', 'module.encoder.blocks.7.4.bn1.running_mean', 'module.encoder.blocks.7.4.bn1.running_var', 'module.encoder.blocks.7.4.bn1.num_batches_tracked', 'module.encoder.blocks.7.4.conv_dw.weight', 'module.encoder.blocks.7.4.bn2.weight', 'module.encoder.blocks.7.4.bn2.bias', 'module.encoder.blocks.7.4.bn2.running_mean', 'module.encoder.blocks.7.4.bn2.running_var', 'module.encoder.blocks.7.4.bn2.num_batches_tracked', 'module.encoder.blocks.7.4.se.conv_reduce.weight', 'module.encoder.blocks.7.4.se.conv_reduce.bias', 'module.encoder.blocks.7.4.se.conv_expand.weight', 'module.encoder.blocks.7.4.se.conv_expand.bias', 'module.encoder.blocks.7.4.conv_pwl.weight', 'module.encoder.blocks.7.4.bn3.weight', 'module.encoder.blocks.7.4.bn3.bias', 'module.encoder.blocks.7.4.bn3.running_mean', 'module.encoder.blocks.7.4.bn3.running_var', 'module.encoder.blocks.7.4.bn3.num_batches_tracked', 'module.encoder.blocks.7.5.conv_pw.weight', 'module.encoder.blocks.7.5.bn1.weight', 'module.encoder.blocks.7.5.bn1.bias', 'module.encoder.blocks.7.5.bn1.running_mean', 'module.encoder.blocks.7.5.bn1.running_var', 'module.encoder.blocks.7.5.bn1.num_batches_tracked', 'module.encoder.blocks.7.5.conv_dw.weight', 'module.encoder.blocks.7.5.bn2.weight', 'module.encoder.blocks.7.5.bn2.bias', 'module.encoder.blocks.7.5.bn2.running_mean', 'module.encoder.blocks.7.5.bn2.running_var', 'module.encoder.blocks.7.5.bn2.num_batches_tracked', 'module.encoder.blocks.7.5.se.conv_reduce.weight', 'module.encoder.blocks.7.5.se.conv_reduce.bias', 'module.encoder.blocks.7.5.se.conv_expand.weight', 'module.encoder.blocks.7.5.se.conv_expand.bias', 'module.encoder.blocks.7.5.conv_pwl.weight', 'module.encoder.blocks.7.5.bn3.weight', 'module.encoder.blocks.7.5.bn3.bias', 'module.encoder.blocks.7.5.bn3.running_mean', 'module.encoder.blocks.7.5.bn3.running_var', 'module.encoder.blocks.7.5.bn3.num_batches_tracked', 'module.encoder.blocks.8.0.conv_pw.weight', 'module.encoder.blocks.8.0.bn1.weight', 'module.encoder.blocks.8.0.bn1.bias', 'module.encoder.blocks.8.0.bn1.running_mean', 'module.encoder.blocks.8.0.bn1.running_var', 'module.encoder.blocks.8.0.bn1.num_batches_tracked', 'module.encoder.blocks.8.0.conv_dw.weight', 'module.encoder.blocks.8.0.bn2.weight', 'module.encoder.blocks.8.0.bn2.bias', 'module.encoder.blocks.8.0.bn2.running_mean', 'module.encoder.blocks.8.0.bn2.running_var', 'module.encoder.blocks.8.0.bn2.num_batches_tracked', 'module.encoder.blocks.8.0.se.conv_reduce.weight', 'module.encoder.blocks.8.0.se.conv_reduce.bias', 'module.encoder.blocks.8.0.se.conv_expand.weight', 'module.encoder.blocks.8.0.se.conv_expand.bias', 'module.encoder.blocks.8.0.conv_pwl.weight', 'module.encoder.blocks.8.0.bn3.weight', 'module.encoder.blocks.8.0.bn3.bias', 'module.encoder.blocks.8.0.bn3.running_mean', 'module.encoder.blocks.8.0.bn3.running_var', 'module.encoder.blocks.8.0.bn3.num_batches_tracked', 'module.encoder.blocks.8.1.conv_pw.weight', 'module.encoder.blocks.8.1.bn1.weight', 'module.encoder.blocks.8.1.bn1.bias', 'module.encoder.blocks.8.1.bn1.running_mean', 'module.encoder.blocks.8.1.bn1.running_var', 'module.encoder.blocks.8.1.bn1.num_batches_tracked', 'module.encoder.blocks.8.1.conv_dw.weight', 'module.encoder.blocks.8.1.bn2.weight', 'module.encoder.blocks.8.1.bn2.bias', 'module.encoder.blocks.8.1.bn2.running_mean', 'module.encoder.blocks.8.1.bn2.running_var', 'module.encoder.blocks.8.1.bn2.num_batches_tracked', 'module.encoder.blocks.8.1.se.conv_reduce.weight', 'module.encoder.blocks.8.1.se.conv_reduce.bias', 'module.encoder.blocks.8.1.se.conv_expand.weight', 'module.encoder.blocks.8.1.se.conv_expand.bias', 'module.encoder.blocks.8.1.conv_pwl.weight', 'module.encoder.blocks.8.1.bn3.weight', 'module.encoder.blocks.8.1.bn3.bias', 'module.encoder.blocks.8.1.bn3.running_mean', 'module.encoder.blocks.8.1.bn3.running_var', 'module.encoder.blocks.8.1.bn3.num_batches_tracked', 'module.encoder.blocks.8.2.conv_pw.weight', 'module.encoder.blocks.8.2.bn1.weight', 'module.encoder.blocks.8.2.bn1.bias', 'module.encoder.blocks.8.2.bn1.running_mean', 'module.encoder.blocks.8.2.bn1.running_var', 'module.encoder.blocks.8.2.bn1.num_batches_tracked', 'module.encoder.blocks.8.2.conv_dw.weight', 'module.encoder.blocks.8.2.bn2.weight', 'module.encoder.blocks.8.2.bn2.bias', 'module.encoder.blocks.8.2.bn2.running_mean', 'module.encoder.blocks.8.2.bn2.running_var', 'module.encoder.blocks.8.2.bn2.num_batches_tracked', 'module.encoder.blocks.8.2.se.conv_reduce.weight', 'module.encoder.blocks.8.2.se.conv_reduce.bias', 'module.encoder.blocks.8.2.se.conv_expand.weight', 'module.encoder.blocks.8.2.se.conv_expand.bias', 'module.encoder.blocks.8.2.conv_pwl.weight', 'module.encoder.blocks.8.2.bn3.weight', 'module.encoder.blocks.8.2.bn3.bias', 'module.encoder.blocks.8.2.bn3.running_mean', 'module.encoder.blocks.8.2.bn3.running_var', 'module.encoder.blocks.8.2.bn3.num_batches_tracked', 'module.encoder.blocks.8.3.conv_pw.weight', 'module.encoder.blocks.8.3.bn1.weight', 'module.encoder.blocks.8.3.bn1.bias', 'module.encoder.blocks.8.3.bn1.running_mean', 'module.encoder.blocks.8.3.bn1.running_var', 'module.encoder.blocks.8.3.bn1.num_batches_tracked', 'module.encoder.blocks.8.3.conv_dw.weight', 'module.encoder.blocks.8.3.bn2.weight', 'module.encoder.blocks.8.3.bn2.bias', 'module.encoder.blocks.8.3.bn2.running_mean', 'module.encoder.blocks.8.3.bn2.running_var', 'module.encoder.blocks.8.3.bn2.num_batches_tracked', 'module.encoder.blocks.8.3.se.conv_reduce.weight', 'module.encoder.blocks.8.3.se.conv_reduce.bias', 'module.encoder.blocks.8.3.se.conv_expand.weight', 'module.encoder.blocks.8.3.se.conv_expand.bias', 'module.encoder.blocks.8.3.conv_pwl.weight', 'module.encoder.blocks.8.3.bn3.weight', 'module.encoder.blocks.8.3.bn3.bias', 'module.encoder.blocks.8.3.bn3.running_mean', 'module.encoder.blocks.8.3.bn3.running_var', 'module.encoder.blocks.8.3.bn3.num_batches_tracked', 'module.encoder.blocks.8.4.conv_pw.weight', 'module.encoder.blocks.8.4.bn1.weight', 'module.encoder.blocks.8.4.bn1.bias', 'module.encoder.blocks.8.4.bn1.running_mean', 'module.encoder.blocks.8.4.bn1.running_var', 'module.encoder.blocks.8.4.bn1.num_batches_tracked', 'module.encoder.blocks.8.4.conv_dw.weight', 'module.encoder.blocks.8.4.bn2.weight', 'module.encoder.blocks.8.4.bn2.bias', 'module.encoder.blocks.8.4.bn2.running_mean', 'module.encoder.blocks.8.4.bn2.running_var', 'module.encoder.blocks.8.4.bn2.num_batches_tracked', 'module.encoder.blocks.8.4.se.conv_reduce.weight', 'module.encoder.blocks.8.4.se.conv_reduce.bias', 'module.encoder.blocks.8.4.se.conv_expand.weight', 'module.encoder.blocks.8.4.se.conv_expand.bias', 'module.encoder.blocks.8.4.conv_pwl.weight', 'module.encoder.blocks.8.4.bn3.weight', 'module.encoder.blocks.8.4.bn3.bias', 'module.encoder.blocks.8.4.bn3.running_mean', 'module.encoder.blocks.8.4.bn3.running_var', 'module.encoder.blocks.8.4.bn3.num_batches_tracked', 'module.encoder.blocks.8.5.conv_pw.weight', 'module.encoder.blocks.8.5.bn1.weight', 'module.encoder.blocks.8.5.bn1.bias', 'module.encoder.blocks.8.5.bn1.running_mean', 'module.encoder.blocks.8.5.bn1.running_var', 'module.encoder.blocks.8.5.bn1.num_batches_tracked', 'module.encoder.blocks.8.5.conv_dw.weight', 'module.encoder.blocks.8.5.bn2.weight', 'module.encoder.blocks.8.5.bn2.bias', 'module.encoder.blocks.8.5.bn2.running_mean', 'module.encoder.blocks.8.5.bn2.running_var', 'module.encoder.blocks.8.5.bn2.num_batches_tracked', 'module.encoder.blocks.8.5.se.conv_reduce.weight', 'module.encoder.blocks.8.5.se.conv_reduce.bias', 'module.encoder.blocks.8.5.se.conv_expand.weight', 'module.encoder.blocks.8.5.se.conv_expand.bias', 'module.encoder.blocks.8.5.conv_pwl.weight', 'module.encoder.blocks.8.5.bn3.weight', 'module.encoder.blocks.8.5.bn3.bias', 'module.encoder.blocks.8.5.bn3.running_mean', 'module.encoder.blocks.8.5.bn3.running_var', 'module.encoder.blocks.8.5.bn3.num_batches_tracked', 'module.encoder.blocks.8.6.conv_pw.weight', 'module.encoder.blocks.8.6.bn1.weight', 'module.encoder.blocks.8.6.bn1.bias', 'module.encoder.blocks.8.6.bn1.running_mean', 'module.encoder.blocks.8.6.bn1.running_var', 'module.encoder.blocks.8.6.bn1.num_batches_tracked', 'module.encoder.blocks.8.6.conv_dw.weight', 'module.encoder.blocks.8.6.bn2.weight', 'module.encoder.blocks.8.6.bn2.bias', 'module.encoder.blocks.8.6.bn2.running_mean', 'module.encoder.blocks.8.6.bn2.running_var', 'module.encoder.blocks.8.6.bn2.num_batches_tracked', 'module.encoder.blocks.8.6.se.conv_reduce.weight', 'module.encoder.blocks.8.6.se.conv_reduce.bias', 'module.encoder.blocks.8.6.se.conv_expand.weight', 'module.encoder.blocks.8.6.se.conv_expand.bias', 'module.encoder.blocks.8.6.conv_pwl.weight', 'module.encoder.blocks.8.6.bn3.weight', 'module.encoder.blocks.8.6.bn3.bias', 'module.encoder.blocks.8.6.bn3.running_mean', 'module.encoder.blocks.8.6.bn3.running_var', 'module.encoder.blocks.8.6.bn3.num_batches_tracked', 'module.encoder.blocks.8.7.conv_pw.weight', 'module.encoder.blocks.8.7.bn1.weight', 'module.encoder.blocks.8.7.bn1.bias', 'module.encoder.blocks.8.7.bn1.running_mean', 'module.encoder.blocks.8.7.bn1.running_var', 'module.encoder.blocks.8.7.bn1.num_batches_tracked', 'module.encoder.blocks.8.7.conv_dw.weight', 'module.encoder.blocks.8.7.bn2.weight', 'module.encoder.blocks.8.7.bn2.bias', 'module.encoder.blocks.8.7.bn2.running_mean', 'module.encoder.blocks.8.7.bn2.running_var', 'module.encoder.blocks.8.7.bn2.num_batches_tracked', 'module.encoder.blocks.8.7.se.conv_reduce.weight', 'module.encoder.blocks.8.7.se.conv_reduce.bias', 'module.encoder.blocks.8.7.se.conv_expand.weight', 'module.encoder.blocks.8.7.se.conv_expand.bias', 'module.encoder.blocks.8.7.conv_pwl.weight', 'module.encoder.blocks.8.7.bn3.weight', 'module.encoder.blocks.8.7.bn3.bias', 'module.encoder.blocks.8.7.bn3.running_mean', 'module.encoder.blocks.8.7.bn3.running_var', 'module.encoder.blocks.8.7.bn3.num_batches_tracked', 'module.encoder.blocks.9.0.conv_pw.weight', 'module.encoder.blocks.9.0.bn1.weight', 'module.encoder.blocks.9.0.bn1.bias', 'module.encoder.blocks.9.0.bn1.running_mean', 'module.encoder.blocks.9.0.bn1.running_var', 'module.encoder.blocks.9.0.bn1.num_batches_tracked', 'module.encoder.blocks.9.0.conv_dw.weight', 'module.encoder.blocks.9.0.bn2.weight', 'module.encoder.blocks.9.0.bn2.bias', 'module.encoder.blocks.9.0.bn2.running_mean', 'module.encoder.blocks.9.0.bn2.running_var', 'module.encoder.blocks.9.0.bn2.num_batches_tracked', 'module.encoder.blocks.9.0.se.conv_reduce.weight', 'module.encoder.blocks.9.0.se.conv_reduce.bias', 'module.encoder.blocks.9.0.se.conv_expand.weight', 'module.encoder.blocks.9.0.se.conv_expand.bias', 'module.encoder.blocks.9.0.conv_pwl.weight', 'module.encoder.blocks.9.0.bn3.weight', 'module.encoder.blocks.9.0.bn3.bias', 'module.encoder.blocks.9.0.bn3.running_mean', 'module.encoder.blocks.9.0.bn3.running_var', 'module.encoder.blocks.9.0.bn3.num_batches_tracked', 'module.encoder.blocks.9.1.conv_pw.weight', 'module.encoder.blocks.9.1.bn1.weight', 'module.encoder.blocks.9.1.bn1.bias', 'module.encoder.blocks.9.1.bn1.running_mean', 'module.encoder.blocks.9.1.bn1.running_var', 'module.encoder.blocks.9.1.bn1.num_batches_tracked', 'module.encoder.blocks.9.1.conv_dw.weight', 'module.encoder.blocks.9.1.bn2.weight', 'module.encoder.blocks.9.1.bn2.bias', 'module.encoder.blocks.9.1.bn2.running_mean', 'module.encoder.blocks.9.1.bn2.running_var', 'module.encoder.blocks.9.1.bn2.num_batches_tracked', 'module.encoder.blocks.9.1.se.conv_reduce.weight', 'module.encoder.blocks.9.1.se.conv_reduce.bias', 'module.encoder.blocks.9.1.se.conv_expand.weight', 'module.encoder.blocks.9.1.se.conv_expand.bias', 'module.encoder.blocks.9.1.conv_pwl.weight', 'module.encoder.blocks.9.1.bn3.weight', 'module.encoder.blocks.9.1.bn3.bias', 'module.encoder.blocks.9.1.bn3.running_mean', 'module.encoder.blocks.9.1.bn3.running_var', 'module.encoder.blocks.9.1.bn3.num_batches_tracked', 'module.encoder.head.10.weight', 'module.encoder.head.11.weight', 'module.encoder.head.11.bias', 'module.encoder.head.11.running_mean', 'module.encoder.head.11.running_var', 'module.encoder.head.11.num_batches_tracked', 'module.classifier.15.weight', 'module.classifier.15.bias'])\n"
     ]
    }
   ],
   "source": [
    "ckpt = torch.load('best_weights/CASIA_FULL_ELA.h5')\n",
    "print(ckpt.keys())"
   ]
  },
  {
   "cell_type": "code",
   "execution_count": 10,
   "metadata": {},
   "outputs": [
    {
     "output_type": "execute_result",
     "data": {
      "text/plain": [
       "<All keys matched successfully>"
      ]
     },
     "metadata": {},
     "execution_count": 10
    }
   ],
   "source": [
    "import segmentation.merged_net\n",
    "reload(segmentation.merged_net)\n",
    "\n",
    "from segmentation.merged_net import SRM_Classifer\n",
    "\n",
    "encoder = SRM_Classifer()\n",
    "encoder = nn.DataParallel(encoder)\n",
    "encoder.load_state_dict(ckpt)"
   ]
  }
 ]
}