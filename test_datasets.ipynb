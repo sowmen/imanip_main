{
 "metadata": {
  "language_info": {
   "codemirror_mode": {
    "name": "ipython",
    "version": 3
   },
   "file_extension": ".py",
   "mimetype": "text/x-python",
   "name": "python",
   "nbconvert_exporter": "python",
   "pygments_lexer": "ipython3",
   "version": "3.7.6-final"
  },
  "orig_nbformat": 2,
  "kernelspec": {
   "name": "python3",
   "display_name": "Python 3.7.6 64-bit",
   "metadata": {
    "interpreter": {
     "hash": "ed42f63bef822c8320ac08590f49c46eb48ce4dfa30453265a23ce003f333a3b"
    }
   }
  }
 },
 "nbformat": 4,
 "nbformat_minor": 2,
 "cells": [
  {
   "cell_type": "code",
   "execution_count": 1,
   "metadata": {},
   "outputs": [],
   "source": [
    "import torch\n",
    "from torch import nn\n",
    "from importlib import reload\n",
    "import cv2\n",
    "import numpy as np \n",
    "import matplotlib.pyplot as plt\n",
    "import pandas as pd\n",
    "from tqdm import tqdm\n",
    "from prettytable import PrettyTable\n",
    "\n",
    "import albumentations\n",
    "from albumentations import augmentations\n",
    "import albumentations.pytorch"
   ]
  },
  {
   "cell_type": "code",
   "execution_count": 2,
   "metadata": {},
   "outputs": [],
   "source": [
    "full_df = pd.read_csv('combo_all_FULL.csv')"
   ]
  },
  {
   "cell_type": "code",
   "execution_count": 3,
   "metadata": {},
   "outputs": [],
   "source": [
    "root_folder = \"Image_Manipulation_Dataset\"\n",
    "def load_images(row):\n",
    "\n",
    "    image_patch, mask_patch, label, _, ela, root_dir = row\n",
    "\n",
    "    #------------- Load image, Ela, Mask -------------------------\n",
    "    image_path = os.path.join(root_folder, root_dir, image_patch)\n",
    "    ela_path = os.path.join(root_folder, root_dir, ela)\n",
    "\n",
    "    image = cv2.imread(image_path, cv2.IMREAD_COLOR)\n",
    "    ela_image = cv2.imread(ela_path, cv2.IMREAD_COLOR)\n",
    "\n",
    "    image = cv2.cvtColor(image, cv2.COLOR_BGR2RGB)\n",
    "    ela_image = cv2.cvtColor(ela_image, cv2.COLOR_BGR2RGB)\n",
    "\n",
    "    if not isinstance(mask_patch, str) and np.isnan(mask_patch):\n",
    "        mask_image = np.zeros((image.shape[0], image.shape[1])).astype('uint8')\n",
    "    else:\n",
    "        mask_path = os.path.join(root_folder, root_dir, mask_patch)\n",
    "        mask_image = cv2.imread(mask_path, cv2.IMREAD_GRAYSCALE)\n",
    "\n",
    "    if('NIST' in root_dir):\n",
    "        mask_image = 255 - mask_image\n",
    "\n",
    "    image = augmentations.geometric.functional.resize(image, 256, 256, cv2.INTER_AREA)\n",
    "    mask_image = augmentations.geometric.functional.resize(mask_image, 256, 256, cv2.INTER_AREA)\n",
    "    ela_image = augmentations.geometric.functional.resize(ela_image, 256, 256, cv2.INTER_AREA)\n",
    "\n",
    "    return image, ela_image, mask_image, label\n",
    "\n",
    "\n",
    "\n",
    "def get_tensors(image, ela_image, mask_image):\n",
    "\n",
    "    #---------------- Reshape & Normalize -----------------------\n",
    "    image = augmentations.geometric.functional.resize(image, 256, 256, cv2.INTER_AREA)\n",
    "    mask_image = augmentations.geometric.functional.resize(mask_image, 256, 256, cv2.INTER_AREA)\n",
    "    ela_image = augmentations.geometric.functional.resize(ela_image, 256, 256, cv2.INTER_AREA)\n",
    "\n",
    "    normalize = {\n",
    "        \"mean\": [0.4535408213875562, 0.42862278450748387, 0.41780105499276865],\n",
    "        \"std\": [0.2672804038612597, 0.2550410416463668, 0.29475415579144293],\n",
    "    }\n",
    "\n",
    "    transforms_normalize = albumentations.Compose(\n",
    "        [\n",
    "            albumentations.Normalize(mean=normalize['mean'], std=normalize['std'], always_apply=True, p=1),\n",
    "            albumentations.pytorch.transforms.ToTensorV2()\n",
    "        ],\n",
    "        additional_targets={'ela':'image'}\n",
    "    )\n",
    "\n",
    "    data = transforms_normalize(image=image, mask=mask_image, ela=ela_image)\n",
    "    image_tensor = data[\"image\"].unsqueeze(0)\n",
    "    mask_tensor = (data[\"mask\"] / 255.0).unsqueeze(0).unsqueeze(0)\n",
    "    ela_tensor = data[\"ela\"].unsqueeze(0)\n",
    "    \n",
    "    return image_tensor, ela_tensor, mask_tensor\n",
    "    "
   ]
  },
  {
   "cell_type": "code",
   "execution_count": 4,
   "metadata": {},
   "outputs": [],
   "source": [
    "def patch_func(img, ela, mask, patch_size):\n",
    "    d = img.shape\n",
    "    patches = []\n",
    "    coords = []\n",
    "    for i in range(0, d[0], patch_size):\n",
    "        for j in range(0, d[1], patch_size):\n",
    "            x = i + patch_size\n",
    "            y = j + patch_size\n",
    "            if x > d[0] or y > d[1]:\n",
    "                break\n",
    "            temp_img = img[i: x, j: y]\n",
    "            temp_ela = ela[i: x, j: y]\n",
    "            temp_mask = mask[i: x, j: y]\n",
    "            patches.append((temp_img, temp_mask, temp_ela))\n",
    "            coords.append((i, j))\n",
    "    return patches, coords"
   ]
  },
  {
   "cell_type": "code",
   "execution_count": 5,
   "metadata": {},
   "outputs": [
    {
     "output_type": "stream",
     "name": "stdout",
     "text": [
      "--------- Loaded Checkpoint: best_weights/CASIA_FULL_ELA.h5 ----------\n",
      "<All keys matched successfully>\n"
     ]
    },
    {
     "output_type": "execute_result",
     "data": {
      "text/plain": [
       "<All keys matched successfully>"
      ]
     },
     "metadata": {},
     "execution_count": 5
    }
   ],
   "source": [
    "from segmentation.merged_net_old import SRM_Classifer_Old\n",
    "from segmentation.timm_srm_unetpp import UnetPP\n",
    "\n",
    "device = 'cuda'\n",
    "\n",
    "encoder = SRM_Classifer_Old(encoder_checkpoint='best_weights/CASIA_FULL_ELA.h5', freeze_encoder=False)\n",
    "model_256 = UnetPP(encoder, num_classes=1, layer='end')\n",
    "model_256 = nn.DataParallel(model_256)\n",
    "model_256.load_state_dict(torch.load('best_weights/CASIA_FULL_UNETPP_END-END.h5'))\n",
    "\n",
    "# model_256 = SRM_Classifer()\n",
    "# model_256 = nn.DataParallel(model_256).to(device)\n",
    "# model_256.load_state_dict(torch.load('weights/classifier.6.bias_[18|03_13|54|23].h5'))\n",
    "\n",
    "# model_128 = SRM_Classifer()\n",
    "# model_128 = nn.DataParallel(model_128).to(device)\n",
    "# model_128.load_state_dict(torch.load('best_weights/COMBO_ALL_128ChangedClass_[09|03_21|11|14].h5'))\n",
    "\n",
    "# model_64 = SRM_Classifer()\n",
    "# model_64 = nn.DataParallel(model_64).to(device)\n",
    "# model_64.load_state_dict(torch.load('best_weights/(Resume 22-35-18) COMBO_ALL_64ChangedClass_[11|03_18|46|12].h5'))"
   ]
  },
  {
   "cell_type": "code",
   "execution_count": 6,
   "metadata": {},
   "outputs": [],
   "source": [
    "def get_feat_preds(row):\n",
    "    model_256.eval()\n",
    "    # model_128.eval()\n",
    "    # model_64.eval()\n",
    "    \n",
    "    with torch.no_grad():\n",
    "        image_256, ela_image_256, mask_image_256, label = load_images(row)\n",
    "        features = []\n",
    "        predictions = []\n",
    "        masks = []\n",
    "\n",
    "        #--------- 256x256 ----------        \n",
    "        image_tensor_256, ela_tensor_256, mask_tensor_256 = get_tensors(image_256, ela_image_256, mask_image_256)\n",
    "        # outputs.clear()\n",
    "        pred_256 = model_256(image_tensor_256.to(device), ela_tensor_256.to(device))\n",
    "        # features.append(inter_256.cpu().detach())\n",
    "        predictions.append(torch.sigmoid(pred_256.cpu().detach()))\n",
    "        masks.append(mask_tensor_256)\n",
    "\n",
    "        # #--------- 128x128 ----------\n",
    "        # patches_128, _ = patch_func(image_256, ela_image_256, mask_image_256, 128)\n",
    "        # for patch in patches_128:\n",
    "        #     image_128, mask_image_128, ela_image_128 = patch\n",
    "        #     image_tensor_128, ela_tensor_128, mask_tensor_128 = get_tensors(image_128, ela_image_128, mask_image_128)\n",
    "            \n",
    "        #     # outputs.clear()\n",
    "        #     pred_128, inter_128, _ = model_128(image_tensor_128.to(device), ela_tensor_128.to(device))\n",
    "        #     features.append(inter_128.cpu().detach())\n",
    "        #     predictions.append(torch.sigmoid(pred_128.cpu().detach()))\n",
    "        \n",
    "        # #--------- 64x64 ----------\n",
    "        # patches_64, _ = patch_func(image_256, ela_image_256, mask_image_256, 64)\n",
    "        # for patch in patches_64:\n",
    "        #     image_64, mask_image_64, ela_image_64 = patch\n",
    "        #     image_tensor_64, ela_tensor_64, mask_tensor_64 = get_tensors(image_64, ela_image_64, mask_image_64)\n",
    "            \n",
    "        #     # outputs.clear()\n",
    "        #     pred_64, inter_64, _ = model_64(image_tensor_64.to(device), ela_tensor_64.to(device))\n",
    "        #     features.append(inter_64.cpu().detach())\n",
    "        #     predictions.append(torch.sigmoid(pred_64.cpu().detach()))\n",
    "\n",
    "    return predictions, masks"
   ]
  },
  {
   "cell_type": "code",
   "execution_count": 7,
   "metadata": {},
   "outputs": [
    {
     "output_type": "stream",
     "name": "stdout",
     "text": [
      "CASIA: real:0, fakes:1059\n"
     ]
    }
   ],
   "source": [
    "\"CMFD, NIST, COVERAGE, CASIA, IMD\"\n",
    "\n",
    "def get_individual_test_df(dataframe, val):\n",
    "    test_df = dataframe[dataframe['root_dir'].str.contains(val)]\n",
    "    test_df = dataframe[dataframe['label'] == 1]\n",
    "    test_df = test_df[test_df[\"fold\"].isin([1])]\n",
    "\n",
    "    print(\n",
    "        \"{}: real:{}, fakes:{}\".format(\n",
    "            val, len(test_df[test_df[\"label\"] == 0]), len(test_df[test_df[\"label\"] == 1])\n",
    "        )\n",
    "    )\n",
    "    return test_df.values\n",
    "    \n",
    "casia_test = get_individual_test_df(full_df, \"CASIA\")\n",
    "# imd_test = get_individual_test_df(full_df, \"IMD\")\n",
    "# coverage_test = get_individual_test_df(full_df, \"COVERAGE\")\n",
    "# nist_test = get_individual_test_df(full_df, \"NIST\")"
   ]
  },
  {
   "cell_type": "code",
   "execution_count": 9,
   "metadata": {},
   "outputs": [],
   "source": [
    "coverage_full = full_df[full_df['root_dir'].str.contains('COVERAGE')]\n",
    "nist_full = full_df[full_df['root_dir'].str.contains('NIST')]"
   ]
  },
  {
   "cell_type": "code",
   "execution_count": 20,
   "metadata": {},
   "outputs": [
    {
     "output_type": "execute_result",
     "data": {
      "text/plain": [
       "0    874\n",
       "1    388\n",
       "Name: label, dtype: int64"
      ]
     },
     "metadata": {},
     "execution_count": 20
    }
   ],
   "source": [
    "nist_full.label.value_counts()"
   ]
  },
  {
   "source": [
    "## SVM Classifier"
   ],
   "cell_type": "markdown",
   "metadata": {}
  },
  {
   "cell_type": "code",
   "execution_count": 8,
   "metadata": {},
   "outputs": [],
   "source": [
    "def feat_pool(feat: torch.tensor, operation: str):\n",
    "    \"\"\"\n",
    "    Fuses the image's patches feature representation\n",
    "    :param feat: The network object\n",
    "    :param operation: Either max or mean for the pooling operation\n",
    "    :returns: The final 256-D feature representation of the entire image\n",
    "    \"\"\"\n",
    "    if operation == \"max\":\n",
    "        return feat.max(axis=0)\n",
    "    elif operation == \"mean\":\n",
    "        return feat.mean(axis=0)\n",
    "    else:\n",
    "        raise Exception(\"The operation can be either mean or max\")"
   ]
  },
  {
   "cell_type": "code",
   "execution_count": 8,
   "metadata": {},
   "outputs": [
    {
     "output_type": "stream",
     "name": "stderr",
     "text": [
      "100%|██████████| 1059/1059 [01:32<00:00, 11.46it/s]\n"
     ]
    }
   ],
   "source": [
    "testX = []\n",
    "testY = []\n",
    "predY = []\n",
    "\n",
    "for row in tqdm(casia_test):\n",
    "\n",
    "    predictions, masks = get_feat_preds(row)\n",
    "    \n",
    "    # features = torch.vstack(features)\n",
    "    # condensed_feature = feat_pool(features, \"mean\").numpy().reshape(1, -1)\n",
    "\n",
    "    # testX.append(condensed_feature)\n",
    "    testY.append(masks[0].squeeze())  \n",
    "    predY.append(predictions[0].squeeze())"
   ]
  },
  {
   "cell_type": "code",
   "execution_count": 17,
   "metadata": {},
   "outputs": [
    {
     "output_type": "stream",
     "name": "stdout",
     "text": [
      "Test Accuracy: 0.6850393700787402\n"
     ]
    }
   ],
   "source": [
    "from sklearn.metrics import accuracy_score\n",
    "print(\"Test Accuracy:\", accuracy_score(np.array(testY), np.array(predY) >= 0.5))"
   ]
  },
  {
   "cell_type": "code",
   "execution_count": 33,
   "metadata": {},
   "outputs": [
    {
     "output_type": "display_data",
     "data": {
      "text/plain": "<Figure size 432x288 with 1 Axes>",
      "image/svg+xml": "<?xml version=\"1.0\" encoding=\"utf-8\" standalone=\"no\"?>\n<!DOCTYPE svg PUBLIC \"-//W3C//DTD SVG 1.1//EN\"\n  \"http://www.w3.org/Graphics/SVG/1.1/DTD/svg11.dtd\">\n<!-- Created with matplotlib (https://matplotlib.org/) -->\n<svg height=\"251.892656pt\" version=\"1.1\" viewBox=\"0 0 262.799687 251.892656\" width=\"262.799687pt\" xmlns=\"http://www.w3.org/2000/svg\" xmlns:xlink=\"http://www.w3.org/1999/xlink\">\n <metadata>\n  <rdf:RDF xmlns:cc=\"http://creativecommons.org/ns#\" xmlns:dc=\"http://purl.org/dc/elements/1.1/\" xmlns:rdf=\"http://www.w3.org/1999/02/22-rdf-syntax-ns#\">\n   <cc:Work>\n    <dc:type rdf:resource=\"http://purl.org/dc/dcmitype/StillImage\"/>\n    <dc:date>2021-03-20T14:39:25.054420</dc:date>\n    <dc:format>image/svg+xml</dc:format>\n    <dc:creator>\n     <cc:Agent>\n      <dc:title>Matplotlib v3.3.3, https://matplotlib.org/</dc:title>\n     </cc:Agent>\n    </dc:creator>\n   </cc:Work>\n  </rdf:RDF>\n </metadata>\n <defs>\n  <style type=\"text/css\">*{stroke-linecap:butt;stroke-linejoin:round;}</style>\n </defs>\n <g id=\"figure_1\">\n  <g id=\"patch_1\">\n   <path d=\"M 0 251.892656 \nL 262.799687 251.892656 \nL 262.799687 0 \nL 0 0 \nz\n\" style=\"fill:none;\"/>\n  </g>\n  <g id=\"axes_1\">\n   <g id=\"patch_2\">\n    <path d=\"M 33.2875 228.014531 \nL 250.7275 228.014531 \nL 250.7275 10.574531 \nL 33.2875 10.574531 \nz\n\" style=\"fill:#ffffff;\"/>\n   </g>\n   <g clip-path=\"url(#p3cc23ac41b)\">\n    <image height=\"218\" id=\"image046eb87829\" transform=\"scale(1 -1)translate(0 -218)\" width=\"218\" x=\"33.2875\" xlink:href=\"data:image/png;base64,\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\" y=\"-10.014531\"/>\n   </g>\n   <g id=\"matplotlib.axis_1\">\n    <g id=\"xtick_1\">\n     <g id=\"line2d_1\">\n      <defs>\n       <path d=\"M 0 0 \nL 0 3.5 \n\" id=\"mbafb6e3d62\" style=\"stroke:#000000;stroke-width:0.8;\"/>\n      </defs>\n      <g>\n       <use style=\"stroke:#000000;stroke-width:0.8;\" x=\"33.712188\" xlink:href=\"#mbafb6e3d62\" y=\"228.014531\"/>\n      </g>\n     </g>\n     <g id=\"text_1\">\n      <!-- 0 -->\n      <g transform=\"translate(30.530938 242.612969)scale(0.1 -0.1)\">\n       <defs>\n        <path d=\"M 31.78125 66.40625 \nQ 24.171875 66.40625 20.328125 58.90625 \nQ 16.5 51.421875 16.5 36.375 \nQ 16.5 21.390625 20.328125 13.890625 \nQ 24.171875 6.390625 31.78125 6.390625 \nQ 39.453125 6.390625 43.28125 13.890625 \nQ 47.125 21.390625 47.125 36.375 \nQ 47.125 51.421875 43.28125 58.90625 \nQ 39.453125 66.40625 31.78125 66.40625 \nz\nM 31.78125 74.21875 \nQ 44.046875 74.21875 50.515625 64.515625 \nQ 56.984375 54.828125 56.984375 36.375 \nQ 56.984375 17.96875 50.515625 8.265625 \nQ 44.046875 -1.421875 31.78125 -1.421875 \nQ 19.53125 -1.421875 13.0625 8.265625 \nQ 6.59375 17.96875 6.59375 36.375 \nQ 6.59375 54.828125 13.0625 64.515625 \nQ 19.53125 74.21875 31.78125 74.21875 \nz\n\" id=\"DejaVuSans-48\"/>\n       </defs>\n       <use xlink:href=\"#DejaVuSans-48\"/>\n      </g>\n     </g>\n    </g>\n    <g id=\"xtick_2\">\n     <g id=\"line2d_2\">\n      <g>\n       <use style=\"stroke:#000000;stroke-width:0.8;\" x=\"76.180937\" xlink:href=\"#mbafb6e3d62\" y=\"228.014531\"/>\n      </g>\n     </g>\n     <g id=\"text_2\">\n      <!-- 50 -->\n      <g transform=\"translate(69.818438 242.612969)scale(0.1 -0.1)\">\n       <defs>\n        <path d=\"M 10.796875 72.90625 \nL 49.515625 72.90625 \nL 49.515625 64.59375 \nL 19.828125 64.59375 \nL 19.828125 46.734375 \nQ 21.96875 47.46875 24.109375 47.828125 \nQ 26.265625 48.1875 28.421875 48.1875 \nQ 40.625 48.1875 47.75 41.5 \nQ 54.890625 34.8125 54.890625 23.390625 \nQ 54.890625 11.625 47.5625 5.09375 \nQ 40.234375 -1.421875 26.90625 -1.421875 \nQ 22.3125 -1.421875 17.546875 -0.640625 \nQ 12.796875 0.140625 7.71875 1.703125 \nL 7.71875 11.625 \nQ 12.109375 9.234375 16.796875 8.0625 \nQ 21.484375 6.890625 26.703125 6.890625 \nQ 35.15625 6.890625 40.078125 11.328125 \nQ 45.015625 15.765625 45.015625 23.390625 \nQ 45.015625 31 40.078125 35.4375 \nQ 35.15625 39.890625 26.703125 39.890625 \nQ 22.75 39.890625 18.8125 39.015625 \nQ 14.890625 38.140625 10.796875 36.28125 \nz\n\" id=\"DejaVuSans-53\"/>\n       </defs>\n       <use xlink:href=\"#DejaVuSans-53\"/>\n       <use x=\"63.623047\" xlink:href=\"#DejaVuSans-48\"/>\n      </g>\n     </g>\n    </g>\n    <g id=\"xtick_3\">\n     <g id=\"line2d_3\">\n      <g>\n       <use style=\"stroke:#000000;stroke-width:0.8;\" x=\"118.649687\" xlink:href=\"#mbafb6e3d62\" y=\"228.014531\"/>\n      </g>\n     </g>\n     <g id=\"text_3\">\n      <!-- 100 -->\n      <g transform=\"translate(109.105937 242.612969)scale(0.1 -0.1)\">\n       <defs>\n        <path d=\"M 12.40625 8.296875 \nL 28.515625 8.296875 \nL 28.515625 63.921875 \nL 10.984375 60.40625 \nL 10.984375 69.390625 \nL 28.421875 72.90625 \nL 38.28125 72.90625 \nL 38.28125 8.296875 \nL 54.390625 8.296875 \nL 54.390625 0 \nL 12.40625 0 \nz\n\" id=\"DejaVuSans-49\"/>\n       </defs>\n       <use xlink:href=\"#DejaVuSans-49\"/>\n       <use x=\"63.623047\" xlink:href=\"#DejaVuSans-48\"/>\n       <use x=\"127.246094\" xlink:href=\"#DejaVuSans-48\"/>\n      </g>\n     </g>\n    </g>\n    <g id=\"xtick_4\">\n     <g id=\"line2d_4\">\n      <g>\n       <use style=\"stroke:#000000;stroke-width:0.8;\" x=\"161.118437\" xlink:href=\"#mbafb6e3d62\" y=\"228.014531\"/>\n      </g>\n     </g>\n     <g id=\"text_4\">\n      <!-- 150 -->\n      <g transform=\"translate(151.574688 242.612969)scale(0.1 -0.1)\">\n       <use xlink:href=\"#DejaVuSans-49\"/>\n       <use x=\"63.623047\" xlink:href=\"#DejaVuSans-53\"/>\n       <use x=\"127.246094\" xlink:href=\"#DejaVuSans-48\"/>\n      </g>\n     </g>\n    </g>\n    <g id=\"xtick_5\">\n     <g id=\"line2d_5\">\n      <g>\n       <use style=\"stroke:#000000;stroke-width:0.8;\" x=\"203.587187\" xlink:href=\"#mbafb6e3d62\" y=\"228.014531\"/>\n      </g>\n     </g>\n     <g id=\"text_5\">\n      <!-- 200 -->\n      <g transform=\"translate(194.043438 242.612969)scale(0.1 -0.1)\">\n       <defs>\n        <path d=\"M 19.1875 8.296875 \nL 53.609375 8.296875 \nL 53.609375 0 \nL 7.328125 0 \nL 7.328125 8.296875 \nQ 12.9375 14.109375 22.625 23.890625 \nQ 32.328125 33.6875 34.8125 36.53125 \nQ 39.546875 41.84375 41.421875 45.53125 \nQ 43.3125 49.21875 43.3125 52.78125 \nQ 43.3125 58.59375 39.234375 62.25 \nQ 35.15625 65.921875 28.609375 65.921875 \nQ 23.96875 65.921875 18.8125 64.3125 \nQ 13.671875 62.703125 7.8125 59.421875 \nL 7.8125 69.390625 \nQ 13.765625 71.78125 18.9375 73 \nQ 24.125 74.21875 28.421875 74.21875 \nQ 39.75 74.21875 46.484375 68.546875 \nQ 53.21875 62.890625 53.21875 53.421875 \nQ 53.21875 48.921875 51.53125 44.890625 \nQ 49.859375 40.875 45.40625 35.40625 \nQ 44.1875 33.984375 37.640625 27.21875 \nQ 31.109375 20.453125 19.1875 8.296875 \nz\n\" id=\"DejaVuSans-50\"/>\n       </defs>\n       <use xlink:href=\"#DejaVuSans-50\"/>\n       <use x=\"63.623047\" xlink:href=\"#DejaVuSans-48\"/>\n       <use x=\"127.246094\" xlink:href=\"#DejaVuSans-48\"/>\n      </g>\n     </g>\n    </g>\n    <g id=\"xtick_6\">\n     <g id=\"line2d_6\">\n      <g>\n       <use style=\"stroke:#000000;stroke-width:0.8;\" x=\"246.055937\" xlink:href=\"#mbafb6e3d62\" y=\"228.014531\"/>\n      </g>\n     </g>\n     <g id=\"text_6\">\n      <!-- 250 -->\n      <g transform=\"translate(236.512188 242.612969)scale(0.1 -0.1)\">\n       <use xlink:href=\"#DejaVuSans-50\"/>\n       <use x=\"63.623047\" xlink:href=\"#DejaVuSans-53\"/>\n       <use x=\"127.246094\" xlink:href=\"#DejaVuSans-48\"/>\n      </g>\n     </g>\n    </g>\n   </g>\n   <g id=\"matplotlib.axis_2\">\n    <g id=\"ytick_1\">\n     <g id=\"line2d_7\">\n      <defs>\n       <path d=\"M 0 0 \nL -3.5 0 \n\" id=\"mf41f5aef50\" style=\"stroke:#000000;stroke-width:0.8;\"/>\n      </defs>\n      <g>\n       <use style=\"stroke:#000000;stroke-width:0.8;\" x=\"33.2875\" xlink:href=\"#mf41f5aef50\" y=\"10.999219\"/>\n      </g>\n     </g>\n     <g id=\"text_7\">\n      <!-- 0 -->\n      <g transform=\"translate(19.925 14.798438)scale(0.1 -0.1)\">\n       <use xlink:href=\"#DejaVuSans-48\"/>\n      </g>\n     </g>\n    </g>\n    <g id=\"ytick_2\">\n     <g id=\"line2d_8\">\n      <g>\n       <use style=\"stroke:#000000;stroke-width:0.8;\" x=\"33.2875\" xlink:href=\"#mf41f5aef50\" y=\"53.467969\"/>\n      </g>\n     </g>\n     <g id=\"text_8\">\n      <!-- 50 -->\n      <g transform=\"translate(13.5625 57.267188)scale(0.1 -0.1)\">\n       <use xlink:href=\"#DejaVuSans-53\"/>\n       <use x=\"63.623047\" xlink:href=\"#DejaVuSans-48\"/>\n      </g>\n     </g>\n    </g>\n    <g id=\"ytick_3\">\n     <g id=\"line2d_9\">\n      <g>\n       <use style=\"stroke:#000000;stroke-width:0.8;\" x=\"33.2875\" xlink:href=\"#mf41f5aef50\" y=\"95.936719\"/>\n      </g>\n     </g>\n     <g id=\"text_9\">\n      <!-- 100 -->\n      <g transform=\"translate(7.2 99.735938)scale(0.1 -0.1)\">\n       <use xlink:href=\"#DejaVuSans-49\"/>\n       <use x=\"63.623047\" xlink:href=\"#DejaVuSans-48\"/>\n       <use x=\"127.246094\" xlink:href=\"#DejaVuSans-48\"/>\n      </g>\n     </g>\n    </g>\n    <g id=\"ytick_4\">\n     <g id=\"line2d_10\">\n      <g>\n       <use style=\"stroke:#000000;stroke-width:0.8;\" x=\"33.2875\" xlink:href=\"#mf41f5aef50\" y=\"138.405469\"/>\n      </g>\n     </g>\n     <g id=\"text_10\">\n      <!-- 150 -->\n      <g transform=\"translate(7.2 142.204688)scale(0.1 -0.1)\">\n       <use xlink:href=\"#DejaVuSans-49\"/>\n       <use x=\"63.623047\" xlink:href=\"#DejaVuSans-53\"/>\n       <use x=\"127.246094\" xlink:href=\"#DejaVuSans-48\"/>\n      </g>\n     </g>\n    </g>\n    <g id=\"ytick_5\">\n     <g id=\"line2d_11\">\n      <g>\n       <use style=\"stroke:#000000;stroke-width:0.8;\" x=\"33.2875\" xlink:href=\"#mf41f5aef50\" y=\"180.874219\"/>\n      </g>\n     </g>\n     <g id=\"text_11\">\n      <!-- 200 -->\n      <g transform=\"translate(7.2 184.673438)scale(0.1 -0.1)\">\n       <use xlink:href=\"#DejaVuSans-50\"/>\n       <use x=\"63.623047\" xlink:href=\"#DejaVuSans-48\"/>\n       <use x=\"127.246094\" xlink:href=\"#DejaVuSans-48\"/>\n      </g>\n     </g>\n    </g>\n    <g id=\"ytick_6\">\n     <g id=\"line2d_12\">\n      <g>\n       <use style=\"stroke:#000000;stroke-width:0.8;\" x=\"33.2875\" xlink:href=\"#mf41f5aef50\" y=\"223.342969\"/>\n      </g>\n     </g>\n     <g id=\"text_12\">\n      <!-- 250 -->\n      <g transform=\"translate(7.2 227.142188)scale(0.1 -0.1)\">\n       <use xlink:href=\"#DejaVuSans-50\"/>\n       <use x=\"63.623047\" xlink:href=\"#DejaVuSans-53\"/>\n       <use x=\"127.246094\" xlink:href=\"#DejaVuSans-48\"/>\n      </g>\n     </g>\n    </g>\n   </g>\n   <g id=\"patch_3\">\n    <path d=\"M 33.2875 228.014531 \nL 33.2875 10.574531 \n\" style=\"fill:none;stroke:#000000;stroke-linecap:square;stroke-linejoin:miter;stroke-width:0.8;\"/>\n   </g>\n   <g id=\"patch_4\">\n    <path d=\"M 250.7275 228.014531 \nL 250.7275 10.574531 \n\" style=\"fill:none;stroke:#000000;stroke-linecap:square;stroke-linejoin:miter;stroke-width:0.8;\"/>\n   </g>\n   <g id=\"patch_5\">\n    <path d=\"M 33.2875 228.014531 \nL 250.7275 228.014531 \n\" style=\"fill:none;stroke:#000000;stroke-linecap:square;stroke-linejoin:miter;stroke-width:0.8;\"/>\n   </g>\n   <g id=\"patch_6\">\n    <path d=\"M 33.2875 10.574531 \nL 250.7275 10.574531 \n\" style=\"fill:none;stroke:#000000;stroke-linecap:square;stroke-linejoin:miter;stroke-width:0.8;\"/>\n   </g>\n  </g>\n </g>\n <defs>\n  <clipPath id=\"p3cc23ac41b\">\n   <rect height=\"217.44\" width=\"217.44\" x=\"33.2875\" y=\"10.574531\"/>\n  </clipPath>\n </defs>\n</svg>\n",
      "image/png": "[encoded data removed]"
     },
     "metadata": {
      "needs_background": "light"
     }
    },
    {
     "output_type": "display_data",
     "data": {
      "text/plain": "<Figure size 432x288 with 1 Axes>",
      "image/svg+xml": "<?xml version=\"1.0\" encoding=\"utf-8\" standalone=\"no\"?>\n<!DOCTYPE svg PUBLIC \"-//W3C//DTD SVG 1.1//EN\"\n  \"http://www.w3.org/Graphics/SVG/1.1/DTD/svg11.dtd\">\n<!-- Created with matplotlib (https://matplotlib.org/) -->\n<svg height=\"251.892656pt\" version=\"1.1\" viewBox=\"0 0 262.799687 251.892656\" width=\"262.799687pt\" xmlns=\"http://www.w3.org/2000/svg\" xmlns:xlink=\"http://www.w3.org/1999/xlink\">\n <metadata>\n  <rdf:RDF xmlns:cc=\"http://creativecommons.org/ns#\" xmlns:dc=\"http://purl.org/dc/elements/1.1/\" xmlns:rdf=\"http://www.w3.org/1999/02/22-rdf-syntax-ns#\">\n   <cc:Work>\n    <dc:type rdf:resource=\"http://purl.org/dc/dcmitype/StillImage\"/>\n    <dc:date>2021-03-20T14:39:25.225264</dc:date>\n    <dc:format>image/svg+xml</dc:format>\n    <dc:creator>\n     <cc:Agent>\n      <dc:title>Matplotlib v3.3.3, https://matplotlib.org/</dc:title>\n     </cc:Agent>\n    </dc:creator>\n   </cc:Work>\n  </rdf:RDF>\n </metadata>\n <defs>\n  <style type=\"text/css\">*{stroke-linecap:butt;stroke-linejoin:round;}</style>\n </defs>\n <g id=\"figure_1\">\n  <g id=\"patch_1\">\n   <path d=\"M 0 251.892656 \nL 262.799687 251.892656 \nL 262.799687 0 \nL 0 0 \nz\n\" style=\"fill:none;\"/>\n  </g>\n  <g id=\"axes_1\">\n   <g id=\"patch_2\">\n    <path d=\"M 33.2875 228.014531 \nL 250.7275 228.014531 \nL 250.7275 10.574531 \nL 33.2875 10.574531 \nz\n\" style=\"fill:#ffffff;\"/>\n   </g>\n   <g clip-path=\"url(#p7c7c9093d2)\">\n    <image height=\"218\" id=\"image161ccc90b8\" transform=\"scale(1 -1)translate(0 -218)\" width=\"218\" x=\"33.2875\" xlink:href=\"data:image/png;base64,\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\" y=\"-10.014531\"/>\n   </g>\n   <g id=\"matplotlib.axis_1\">\n    <g id=\"xtick_1\">\n     <g id=\"line2d_1\">\n      <defs>\n       <path d=\"M 0 0 \nL 0 3.5 \n\" id=\"maa04965811\" style=\"stroke:#000000;stroke-width:0.8;\"/>\n      </defs>\n      <g>\n       <use style=\"stroke:#000000;stroke-width:0.8;\" x=\"33.712188\" xlink:href=\"#maa04965811\" y=\"228.014531\"/>\n      </g>\n     </g>\n     <g id=\"text_1\">\n      <!-- 0 -->\n      <g transform=\"translate(30.530938 242.612969)scale(0.1 -0.1)\">\n       <defs>\n        <path d=\"M 31.78125 66.40625 \nQ 24.171875 66.40625 20.328125 58.90625 \nQ 16.5 51.421875 16.5 36.375 \nQ 16.5 21.390625 20.328125 13.890625 \nQ 24.171875 6.390625 31.78125 6.390625 \nQ 39.453125 6.390625 43.28125 13.890625 \nQ 47.125 21.390625 47.125 36.375 \nQ 47.125 51.421875 43.28125 58.90625 \nQ 39.453125 66.40625 31.78125 66.40625 \nz\nM 31.78125 74.21875 \nQ 44.046875 74.21875 50.515625 64.515625 \nQ 56.984375 54.828125 56.984375 36.375 \nQ 56.984375 17.96875 50.515625 8.265625 \nQ 44.046875 -1.421875 31.78125 -1.421875 \nQ 19.53125 -1.421875 13.0625 8.265625 \nQ 6.59375 17.96875 6.59375 36.375 \nQ 6.59375 54.828125 13.0625 64.515625 \nQ 19.53125 74.21875 31.78125 74.21875 \nz\n\" id=\"DejaVuSans-48\"/>\n       </defs>\n       <use xlink:href=\"#DejaVuSans-48\"/>\n      </g>\n     </g>\n    </g>\n    <g id=\"xtick_2\">\n     <g id=\"line2d_2\">\n      <g>\n       <use style=\"stroke:#000000;stroke-width:0.8;\" x=\"76.180937\" xlink:href=\"#maa04965811\" y=\"228.014531\"/>\n      </g>\n     </g>\n     <g id=\"text_2\">\n      <!-- 50 -->\n      <g transform=\"translate(69.818438 242.612969)scale(0.1 -0.1)\">\n       <defs>\n        <path d=\"M 10.796875 72.90625 \nL 49.515625 72.90625 \nL 49.515625 64.59375 \nL 19.828125 64.59375 \nL 19.828125 46.734375 \nQ 21.96875 47.46875 24.109375 47.828125 \nQ 26.265625 48.1875 28.421875 48.1875 \nQ 40.625 48.1875 47.75 41.5 \nQ 54.890625 34.8125 54.890625 23.390625 \nQ 54.890625 11.625 47.5625 5.09375 \nQ 40.234375 -1.421875 26.90625 -1.421875 \nQ 22.3125 -1.421875 17.546875 -0.640625 \nQ 12.796875 0.140625 7.71875 1.703125 \nL 7.71875 11.625 \nQ 12.109375 9.234375 16.796875 8.0625 \nQ 21.484375 6.890625 26.703125 6.890625 \nQ 35.15625 6.890625 40.078125 11.328125 \nQ 45.015625 15.765625 45.015625 23.390625 \nQ 45.015625 31 40.078125 35.4375 \nQ 35.15625 39.890625 26.703125 39.890625 \nQ 22.75 39.890625 18.8125 39.015625 \nQ 14.890625 38.140625 10.796875 36.28125 \nz\n\" id=\"DejaVuSans-53\"/>\n       </defs>\n       <use xlink:href=\"#DejaVuSans-53\"/>\n       <use x=\"63.623047\" xlink:href=\"#DejaVuSans-48\"/>\n      </g>\n     </g>\n    </g>\n    <g id=\"xtick_3\">\n     <g id=\"line2d_3\">\n      <g>\n       <use style=\"stroke:#000000;stroke-width:0.8;\" x=\"118.649687\" xlink:href=\"#maa04965811\" y=\"228.014531\"/>\n      </g>\n     </g>\n     <g id=\"text_3\">\n      <!-- 100 -->\n      <g transform=\"translate(109.105937 242.612969)scale(0.1 -0.1)\">\n       <defs>\n        <path d=\"M 12.40625 8.296875 \nL 28.515625 8.296875 \nL 28.515625 63.921875 \nL 10.984375 60.40625 \nL 10.984375 69.390625 \nL 28.421875 72.90625 \nL 38.28125 72.90625 \nL 38.28125 8.296875 \nL 54.390625 8.296875 \nL 54.390625 0 \nL 12.40625 0 \nz\n\" id=\"DejaVuSans-49\"/>\n       </defs>\n       <use xlink:href=\"#DejaVuSans-49\"/>\n       <use x=\"63.623047\" xlink:href=\"#DejaVuSans-48\"/>\n       <use x=\"127.246094\" xlink:href=\"#DejaVuSans-48\"/>\n      </g>\n     </g>\n    </g>\n    <g id=\"xtick_4\">\n     <g id=\"line2d_4\">\n      <g>\n       <use style=\"stroke:#000000;stroke-width:0.8;\" x=\"161.118437\" xlink:href=\"#maa04965811\" y=\"228.014531\"/>\n      </g>\n     </g>\n     <g id=\"text_4\">\n      <!-- 150 -->\n      <g transform=\"translate(151.574688 242.612969)scale(0.1 -0.1)\">\n       <use xlink:href=\"#DejaVuSans-49\"/>\n       <use x=\"63.623047\" xlink:href=\"#DejaVuSans-53\"/>\n       <use x=\"127.246094\" xlink:href=\"#DejaVuSans-48\"/>\n      </g>\n     </g>\n    </g>\n    <g id=\"xtick_5\">\n     <g id=\"line2d_5\">\n      <g>\n       <use style=\"stroke:#000000;stroke-width:0.8;\" x=\"203.587187\" xlink:href=\"#maa04965811\" y=\"228.014531\"/>\n      </g>\n     </g>\n     <g id=\"text_5\">\n      <!-- 200 -->\n      <g transform=\"translate(194.043438 242.612969)scale(0.1 -0.1)\">\n       <defs>\n        <path d=\"M 19.1875 8.296875 \nL 53.609375 8.296875 \nL 53.609375 0 \nL 7.328125 0 \nL 7.328125 8.296875 \nQ 12.9375 14.109375 22.625 23.890625 \nQ 32.328125 33.6875 34.8125 36.53125 \nQ 39.546875 41.84375 41.421875 45.53125 \nQ 43.3125 49.21875 43.3125 52.78125 \nQ 43.3125 58.59375 39.234375 62.25 \nQ 35.15625 65.921875 28.609375 65.921875 \nQ 23.96875 65.921875 18.8125 64.3125 \nQ 13.671875 62.703125 7.8125 59.421875 \nL 7.8125 69.390625 \nQ 13.765625 71.78125 18.9375 73 \nQ 24.125 74.21875 28.421875 74.21875 \nQ 39.75 74.21875 46.484375 68.546875 \nQ 53.21875 62.890625 53.21875 53.421875 \nQ 53.21875 48.921875 51.53125 44.890625 \nQ 49.859375 40.875 45.40625 35.40625 \nQ 44.1875 33.984375 37.640625 27.21875 \nQ 31.109375 20.453125 19.1875 8.296875 \nz\n\" id=\"DejaVuSans-50\"/>\n       </defs>\n       <use xlink:href=\"#DejaVuSans-50\"/>\n       <use x=\"63.623047\" xlink:href=\"#DejaVuSans-48\"/>\n       <use x=\"127.246094\" xlink:href=\"#DejaVuSans-48\"/>\n      </g>\n     </g>\n    </g>\n    <g id=\"xtick_6\">\n     <g id=\"line2d_6\">\n      <g>\n       <use style=\"stroke:#000000;stroke-width:0.8;\" x=\"246.055937\" xlink:href=\"#maa04965811\" y=\"228.014531\"/>\n      </g>\n     </g>\n     <g id=\"text_6\">\n      <!-- 250 -->\n      <g transform=\"translate(236.512188 242.612969)scale(0.1 -0.1)\">\n       <use xlink:href=\"#DejaVuSans-50\"/>\n       <use x=\"63.623047\" xlink:href=\"#DejaVuSans-53\"/>\n       <use x=\"127.246094\" xlink:href=\"#DejaVuSans-48\"/>\n      </g>\n     </g>\n    </g>\n   </g>\n   <g id=\"matplotlib.axis_2\">\n    <g id=\"ytick_1\">\n     <g id=\"line2d_7\">\n      <defs>\n       <path d=\"M 0 0 \nL -3.5 0 \n\" id=\"m64f2344b95\" style=\"stroke:#000000;stroke-width:0.8;\"/>\n      </defs>\n      <g>\n       <use style=\"stroke:#000000;stroke-width:0.8;\" x=\"33.2875\" xlink:href=\"#m64f2344b95\" y=\"10.999219\"/>\n      </g>\n     </g>\n     <g id=\"text_7\">\n      <!-- 0 -->\n      <g transform=\"translate(19.925 14.798438)scale(0.1 -0.1)\">\n       <use xlink:href=\"#DejaVuSans-48\"/>\n      </g>\n     </g>\n    </g>\n    <g id=\"ytick_2\">\n     <g id=\"line2d_8\">\n      <g>\n       <use style=\"stroke:#000000;stroke-width:0.8;\" x=\"33.2875\" xlink:href=\"#m64f2344b95\" y=\"53.467969\"/>\n      </g>\n     </g>\n     <g id=\"text_8\">\n      <!-- 50 -->\n      <g transform=\"translate(13.5625 57.267188)scale(0.1 -0.1)\">\n       <use xlink:href=\"#DejaVuSans-53\"/>\n       <use x=\"63.623047\" xlink:href=\"#DejaVuSans-48\"/>\n      </g>\n     </g>\n    </g>\n    <g id=\"ytick_3\">\n     <g id=\"line2d_9\">\n      <g>\n       <use style=\"stroke:#000000;stroke-width:0.8;\" x=\"33.2875\" xlink:href=\"#m64f2344b95\" y=\"95.936719\"/>\n      </g>\n     </g>\n     <g id=\"text_9\">\n      <!-- 100 -->\n      <g transform=\"translate(7.2 99.735938)scale(0.1 -0.1)\">\n       <use xlink:href=\"#DejaVuSans-49\"/>\n       <use x=\"63.623047\" xlink:href=\"#DejaVuSans-48\"/>\n       <use x=\"127.246094\" xlink:href=\"#DejaVuSans-48\"/>\n      </g>\n     </g>\n    </g>\n    <g id=\"ytick_4\">\n     <g id=\"line2d_10\">\n      <g>\n       <use style=\"stroke:#000000;stroke-width:0.8;\" x=\"33.2875\" xlink:href=\"#m64f2344b95\" y=\"138.405469\"/>\n      </g>\n     </g>\n     <g id=\"text_10\">\n      <!-- 150 -->\n      <g transform=\"translate(7.2 142.204688)scale(0.1 -0.1)\">\n       <use xlink:href=\"#DejaVuSans-49\"/>\n       <use x=\"63.623047\" xlink:href=\"#DejaVuSans-53\"/>\n       <use x=\"127.246094\" xlink:href=\"#DejaVuSans-48\"/>\n      </g>\n     </g>\n    </g>\n    <g id=\"ytick_5\">\n     <g id=\"line2d_11\">\n      <g>\n       <use style=\"stroke:#000000;stroke-width:0.8;\" x=\"33.2875\" xlink:href=\"#m64f2344b95\" y=\"180.874219\"/>\n      </g>\n     </g>\n     <g id=\"text_11\">\n      <!-- 200 -->\n      <g transform=\"translate(7.2 184.673438)scale(0.1 -0.1)\">\n       <use xlink:href=\"#DejaVuSans-50\"/>\n       <use x=\"63.623047\" xlink:href=\"#DejaVuSans-48\"/>\n       <use x=\"127.246094\" xlink:href=\"#DejaVuSans-48\"/>\n      </g>\n     </g>\n    </g>\n    <g id=\"ytick_6\">\n     <g id=\"line2d_12\">\n      <g>\n       <use style=\"stroke:#000000;stroke-width:0.8;\" x=\"33.2875\" xlink:href=\"#m64f2344b95\" y=\"223.342969\"/>\n      </g>\n     </g>\n     <g id=\"text_12\">\n      <!-- 250 -->\n      <g transform=\"translate(7.2 227.142188)scale(0.1 -0.1)\">\n       <use xlink:href=\"#DejaVuSans-50\"/>\n       <use x=\"63.623047\" xlink:href=\"#DejaVuSans-53\"/>\n       <use x=\"127.246094\" xlink:href=\"#DejaVuSans-48\"/>\n      </g>\n     </g>\n    </g>\n   </g>\n   <g id=\"patch_3\">\n    <path d=\"M 33.2875 228.014531 \nL 33.2875 10.574531 \n\" style=\"fill:none;stroke:#000000;stroke-linecap:square;stroke-linejoin:miter;stroke-width:0.8;\"/>\n   </g>\n   <g id=\"patch_4\">\n    <path d=\"M 250.7275 228.014531 \nL 250.7275 10.574531 \n\" style=\"fill:none;stroke:#000000;stroke-linecap:square;stroke-linejoin:miter;stroke-width:0.8;\"/>\n   </g>\n   <g id=\"patch_5\">\n    <path d=\"M 33.2875 228.014531 \nL 250.7275 228.014531 \n\" style=\"fill:none;stroke:#000000;stroke-linecap:square;stroke-linejoin:miter;stroke-width:0.8;\"/>\n   </g>\n   <g id=\"patch_6\">\n    <path d=\"M 33.2875 10.574531 \nL 250.7275 10.574531 \n\" style=\"fill:none;stroke:#000000;stroke-linecap:square;stroke-linejoin:miter;stroke-width:0.8;\"/>\n   </g>\n  </g>\n </g>\n <defs>\n  <clipPath id=\"p7c7c9093d2\">\n   <rect height=\"217.44\" width=\"217.44\" x=\"33.2875\" y=\"10.574531\"/>\n  </clipPath>\n </defs>\n</svg>\n",
      "image/png": "[encoded data removed]"
     },
     "metadata": {
      "needs_background": "light"
     }
    }
   ],
   "source": [
    "plt.figure()\n",
    "plt.imshow(predY[2] >= 0.5)\n",
    "plt.show()\n",
    "plt.figure()\n",
    "plt.imshow(testY[2])\n",
    "plt.show()"
   ]
  },
  {
   "cell_type": "code",
   "execution_count": 30,
   "metadata": {},
   "outputs": [
    {
     "output_type": "execute_result",
     "data": {
      "text/plain": [
       "0.5781546208439655"
      ]
     },
     "metadata": {},
     "execution_count": 30
    }
   ],
   "source": [
    "from sklearn.metrics import roc_auc_score\n",
    "\n",
    "auc = 0\n",
    "for gt, pr in zip(testY, predY):\n",
    "    auc += roc_auc_score(gt.numpy().ravel() >= 0.5, pr.numpy().ravel() >= 0.5)\n",
    "auc / len(testY)"
   ]
  },
  {
   "cell_type": "code",
   "execution_count": 90,
   "metadata": {},
   "outputs": [
    {
     "output_type": "stream",
     "name": "stdout",
     "text": [
      "(220, 256) (220,)\n"
     ]
    }
   ],
   "source": [
    "XTest = np.vstack(testX)\n",
    "YTest = np.array(testY)\n",
    "print(XTest.shape, YTest.shape)"
   ]
  },
  {
   "cell_type": "code",
   "execution_count": 91,
   "metadata": {},
   "outputs": [
    {
     "output_type": "execute_result",
     "data": {
      "text/plain": [
       "0.5272727272727273"
      ]
     },
     "metadata": {},
     "execution_count": 91
    }
   ],
   "source": [
    "import pickle\n",
    "from sklearn.metrics import accuracy_score\n",
    "\n",
    "svm_model = pickle.load(open('svm.sav', 'rb'))\n",
    "# result = svm_model.score(XTest, YTest)\n",
    "y_pred = svm_model.predict(XTest)\n",
    "roc_auc_score(YTest, y_pred)\n",
    "# print(\"Test Accuracy:\", accuracy_score(YTest, y_pred))"
   ]
  },
  {
   "cell_type": "code",
   "execution_count": 75,
   "metadata": {},
   "outputs": [
    {
     "output_type": "execute_result",
     "data": {
      "text/plain": [
       "0.7606973058637084"
      ]
     },
     "metadata": {},
     "execution_count": 75
    }
   ],
   "source": [
    "result"
   ]
  }
 ]
}